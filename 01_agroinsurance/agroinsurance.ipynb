{
  "nbformat": 4,
  "nbformat_minor": 0,
  "metadata": {
    "accelerator": "GPU",
    "colab": {
      "name": "01_agroinsurance",
      "provenance": [],
      "collapsed_sections": [],
      "mount_file_id": "14xa1iwpK0jUvZoq8NWr9707CUh3JLwSp",
      "authorship_tag": "ABX9TyMg6pNs/0ooQUtokJVS3USG",
      "include_colab_link": true
    },
    "kernelspec": {
      "display_name": "Python 3",
      "name": "python3"
    },
    "language_info": {
      "name": "python"
    },
    "widgets": {
      "application/vnd.jupyter.widget-state+json": {
        "1b96e2831ffe499bad60dddf5177b13a": {
          "model_module": "catboost-widget",
          "model_name": "CatboostWidgetModel",
          "model_module_version": "^1.0.0",
          "state": {
            "_view_name": "CatboostWidgetView",
            "_dom_classes": [],
            "_model_name": "CatboostWidgetModel",
            "data": {
              "catboost_info": {
                "content": {
                  "data": {
                    "meta": {
                      "name": "experiment",
                      "parameters": "",
                      "test_metrics": [],
                      "learn_sets": [
                        "learn"
                      ],
                      "launch_mode": "Train",
                      "learn_metrics": [
                        {
                          "best_value": "Min",
                          "name": "Logloss"
                        }
                      ],
                      "iteration_count": 100,
                      "test_sets": []
                    },
                    "iterations": [
                      {
                        "passed_time": 0.03578471655,
                        "iteration": 0,
                        "remaining_time": 3.542686938,
                        "learn": [
                          0.6112045325
                        ]
                      },
                      {
                        "passed_time": 0.07068797064,
                        "iteration": 1,
                        "remaining_time": 3.463710561,
                        "learn": [
                          0.5494044675
                        ]
                      },
                      {
                        "passed_time": 0.1045016283,
                        "iteration": 2,
                        "remaining_time": 3.37888598,
                        "learn": [
                          0.4980610225
                        ]
                      },
                      {
                        "passed_time": 0.138788078,
                        "iteration": 3,
                        "remaining_time": 3.330913871,
                        "learn": [
                          0.4510858823
                        ]
                      },
                      {
                        "passed_time": 0.1736806792,
                        "iteration": 4,
                        "remaining_time": 3.299932906,
                        "learn": [
                          0.4107547973
                        ]
                      },
                      {
                        "passed_time": 0.2143399077,
                        "iteration": 5,
                        "remaining_time": 3.357991887,
                        "learn": [
                          0.3757421449
                        ]
                      },
                      {
                        "passed_time": 0.2487994347,
                        "iteration": 6,
                        "remaining_time": 3.305478204,
                        "learn": [
                          0.3468686822
                        ]
                      },
                      {
                        "passed_time": 0.2871948845,
                        "iteration": 7,
                        "remaining_time": 3.302741172,
                        "learn": [
                          0.3191908689
                        ]
                      },
                      {
                        "passed_time": 0.3235512481,
                        "iteration": 8,
                        "remaining_time": 3.27146262,
                        "learn": [
                          0.2979527365
                        ]
                      },
                      {
                        "passed_time": 0.359844596,
                        "iteration": 9,
                        "remaining_time": 3.238601364,
                        "learn": [
                          0.2774287963
                        ]
                      },
                      {
                        "passed_time": 0.4026705446,
                        "iteration": 10,
                        "remaining_time": 3.25797077,
                        "learn": [
                          0.2594830782
                        ]
                      },
                      {
                        "passed_time": 0.4368033944,
                        "iteration": 11,
                        "remaining_time": 3.203224892,
                        "learn": [
                          0.2431711109
                        ]
                      },
                      {
                        "passed_time": 0.4700636011,
                        "iteration": 12,
                        "remaining_time": 3.145810254,
                        "learn": [
                          0.227447514
                        ]
                      },
                      {
                        "passed_time": 0.5038767479,
                        "iteration": 13,
                        "remaining_time": 3.09524288,
                        "learn": [
                          0.21504526
                        ]
                      },
                      {
                        "passed_time": 0.5378682632,
                        "iteration": 14,
                        "remaining_time": 3.047920158,
                        "learn": [
                          0.2041069781
                        ]
                      },
                      {
                        "passed_time": 0.5717615844,
                        "iteration": 15,
                        "remaining_time": 3.001748318,
                        "learn": [
                          0.1936028864
                        ]
                      },
                      {
                        "passed_time": 0.6065085852,
                        "iteration": 16,
                        "remaining_time": 2.961188975,
                        "learn": [
                          0.1845171528
                        ]
                      },
                      {
                        "passed_time": 0.6435078195,
                        "iteration": 17,
                        "remaining_time": 2.931535622,
                        "learn": [
                          0.177505499
                        ]
                      },
                      {
                        "passed_time": 0.6772432614,
                        "iteration": 18,
                        "remaining_time": 2.887194956,
                        "learn": [
                          0.1698316819
                        ]
                      },
                      {
                        "passed_time": 0.7118494424,
                        "iteration": 19,
                        "remaining_time": 2.84739777,
                        "learn": [
                          0.1640290134
                        ]
                      },
                      {
                        "passed_time": 0.745320004,
                        "iteration": 20,
                        "remaining_time": 2.803822872,
                        "learn": [
                          0.1577566372
                        ]
                      },
                      {
                        "passed_time": 0.7805219763,
                        "iteration": 21,
                        "remaining_time": 2.767305189,
                        "learn": [
                          0.1521035005
                        ]
                      },
                      {
                        "passed_time": 0.81384792,
                        "iteration": 22,
                        "remaining_time": 2.724621297,
                        "learn": [
                          0.1467527368
                        ]
                      },
                      {
                        "passed_time": 0.848015036,
                        "iteration": 23,
                        "remaining_time": 2.685380947,
                        "learn": [
                          0.1422930414
                        ]
                      },
                      {
                        "passed_time": 0.8826392976,
                        "iteration": 24,
                        "remaining_time": 2.647917893,
                        "learn": [
                          0.1377474438
                        ]
                      },
                      {
                        "passed_time": 0.917145585,
                        "iteration": 25,
                        "remaining_time": 2.610337434,
                        "learn": [
                          0.1338633074
                        ]
                      },
                      {
                        "passed_time": 0.9513326828,
                        "iteration": 26,
                        "remaining_time": 2.572121698,
                        "learn": [
                          0.1292016254
                        ]
                      },
                      {
                        "passed_time": 0.9904559938,
                        "iteration": 27,
                        "remaining_time": 2.546886841,
                        "learn": [
                          0.125790778
                        ]
                      },
                      {
                        "passed_time": 1.03130551,
                        "iteration": 28,
                        "remaining_time": 2.524920387,
                        "learn": [
                          0.1228104274
                        ]
                      },
                      {
                        "passed_time": 1.06527446,
                        "iteration": 29,
                        "remaining_time": 2.485640407,
                        "learn": [
                          0.1197902964
                        ]
                      },
                      {
                        "passed_time": 1.099243526,
                        "iteration": 30,
                        "remaining_time": 2.446703333,
                        "learn": [
                          0.1164811084
                        ]
                      },
                      {
                        "passed_time": 1.135031918,
                        "iteration": 31,
                        "remaining_time": 2.411942825,
                        "learn": [
                          0.113277124
                        ]
                      },
                      {
                        "passed_time": 1.169128166,
                        "iteration": 32,
                        "remaining_time": 2.373684459,
                        "learn": [
                          0.1106576437
                        ]
                      },
                      {
                        "passed_time": 1.20282603,
                        "iteration": 33,
                        "remaining_time": 2.334897587,
                        "learn": [
                          0.1078467242
                        ]
                      },
                      {
                        "passed_time": 1.236495578,
                        "iteration": 34,
                        "remaining_time": 2.29634893,
                        "learn": [
                          0.1052361392
                        ]
                      },
                      {
                        "passed_time": 1.27120694,
                        "iteration": 35,
                        "remaining_time": 2.259923449,
                        "learn": [
                          0.1032017337
                        ]
                      },
                      {
                        "passed_time": 1.304503753,
                        "iteration": 36,
                        "remaining_time": 2.221182066,
                        "learn": [
                          0.1006877029
                        ]
                      },
                      {
                        "passed_time": 1.338456176,
                        "iteration": 37,
                        "remaining_time": 2.183796919,
                        "learn": [
                          0.09888726481
                        ]
                      },
                      {
                        "passed_time": 1.376741862,
                        "iteration": 38,
                        "remaining_time": 2.153365476,
                        "learn": [
                          0.09672459704
                        ]
                      },
                      {
                        "passed_time": 1.417296958,
                        "iteration": 39,
                        "remaining_time": 2.125945437,
                        "learn": [
                          0.09513899577
                        ]
                      },
                      {
                        "passed_time": 1.452706389,
                        "iteration": 40,
                        "remaining_time": 2.090479925,
                        "learn": [
                          0.0931684286
                        ]
                      },
                      {
                        "passed_time": 1.487767158,
                        "iteration": 41,
                        "remaining_time": 2.0545356,
                        "learn": [
                          0.09125714336
                        ]
                      },
                      {
                        "passed_time": 1.522323552,
                        "iteration": 42,
                        "remaining_time": 2.017963778,
                        "learn": [
                          0.08997927496
                        ]
                      },
                      {
                        "passed_time": 1.556242057,
                        "iteration": 43,
                        "remaining_time": 1.980671709,
                        "learn": [
                          0.08815596944
                        ]
                      },
                      {
                        "passed_time": 1.588765966,
                        "iteration": 44,
                        "remaining_time": 1.941825069,
                        "learn": [
                          0.08710658267
                        ]
                      },
                      {
                        "passed_time": 1.623451002,
                        "iteration": 45,
                        "remaining_time": 1.905790307,
                        "learn": [
                          0.08584995351
                        ]
                      },
                      {
                        "passed_time": 1.65616914,
                        "iteration": 46,
                        "remaining_time": 1.867594988,
                        "learn": [
                          0.084723195
                        ]
                      },
                      {
                        "passed_time": 1.689676822,
                        "iteration": 47,
                        "remaining_time": 1.830483223,
                        "learn": [
                          0.08336252959
                        ]
                      },
                      {
                        "passed_time": 1.722981283,
                        "iteration": 48,
                        "remaining_time": 1.79330705,
                        "learn": [
                          0.08237362518
                        ]
                      },
                      {
                        "passed_time": 1.756499063,
                        "iteration": 49,
                        "remaining_time": 1.756499063,
                        "learn": [
                          0.08150960147
                        ]
                      },
                      {
                        "passed_time": 1.789902471,
                        "iteration": 50,
                        "remaining_time": 1.719710217,
                        "learn": [
                          0.08038547953
                        ]
                      },
                      {
                        "passed_time": 1.82428555,
                        "iteration": 51,
                        "remaining_time": 1.683955892,
                        "learn": [
                          0.07929676709
                        ]
                      },
                      {
                        "passed_time": 1.861121774,
                        "iteration": 52,
                        "remaining_time": 1.650428743,
                        "learn": [
                          0.07858977046
                        ]
                      },
                      {
                        "passed_time": 1.895474422,
                        "iteration": 53,
                        "remaining_time": 1.614663396,
                        "learn": [
                          0.07763394774
                        ]
                      },
                      {
                        "passed_time": 1.929414337,
                        "iteration": 54,
                        "remaining_time": 1.57861173,
                        "learn": [
                          0.07665999946
                        ]
                      },
                      {
                        "passed_time": 1.963151773,
                        "iteration": 55,
                        "remaining_time": 1.542476393,
                        "learn": [
                          0.07577749866
                        ]
                      },
                      {
                        "passed_time": 2.012255012,
                        "iteration": 56,
                        "remaining_time": 1.518016939,
                        "learn": [
                          0.07482075565
                        ]
                      },
                      {
                        "passed_time": 2.046812161,
                        "iteration": 57,
                        "remaining_time": 1.482174323,
                        "learn": [
                          0.07386593715
                        ]
                      },
                      {
                        "passed_time": 2.080652147,
                        "iteration": 58,
                        "remaining_time": 1.445876916,
                        "learn": [
                          0.07278286395
                        ]
                      },
                      {
                        "passed_time": 2.113870744,
                        "iteration": 59,
                        "remaining_time": 1.409247163,
                        "learn": [
                          0.07204629966
                        ]
                      },
                      {
                        "passed_time": 2.147670872,
                        "iteration": 60,
                        "remaining_time": 1.37310105,
                        "learn": [
                          0.07125316543
                        ]
                      },
                      {
                        "passed_time": 2.181675104,
                        "iteration": 61,
                        "remaining_time": 1.337155709,
                        "learn": [
                          0.07062571817
                        ]
                      },
                      {
                        "passed_time": 2.215717337,
                        "iteration": 62,
                        "remaining_time": 1.301294309,
                        "learn": [
                          0.07011986225
                        ]
                      },
                      {
                        "passed_time": 2.254071748,
                        "iteration": 63,
                        "remaining_time": 1.267915358,
                        "learn": [
                          0.06939530466
                        ]
                      },
                      {
                        "passed_time": 2.288790188,
                        "iteration": 64,
                        "remaining_time": 1.232425486,
                        "learn": [
                          0.06840170389
                        ]
                      },
                      {
                        "passed_time": 2.323802692,
                        "iteration": 65,
                        "remaining_time": 1.197110478,
                        "learn": [
                          0.06763429571
                        ]
                      },
                      {
                        "passed_time": 2.359528753,
                        "iteration": 66,
                        "remaining_time": 1.162155953,
                        "learn": [
                          0.0665600883
                        ]
                      },
                      {
                        "passed_time": 2.397921889,
                        "iteration": 67,
                        "remaining_time": 1.12843383,
                        "learn": [
                          0.06595284848
                        ]
                      },
                      {
                        "passed_time": 2.440006276,
                        "iteration": 68,
                        "remaining_time": 1.096234704,
                        "learn": [
                          0.06541340481
                        ]
                      },
                      {
                        "passed_time": 2.474266715,
                        "iteration": 69,
                        "remaining_time": 1.060400021,
                        "learn": [
                          0.06469508318
                        ]
                      },
                      {
                        "passed_time": 2.508585158,
                        "iteration": 70,
                        "remaining_time": 1.024633374,
                        "learn": [
                          0.06371130821
                        ]
                      },
                      {
                        "passed_time": 2.543252656,
                        "iteration": 71,
                        "remaining_time": 0.9890426996,
                        "learn": [
                          0.06329048669
                        ]
                      },
                      {
                        "passed_time": 2.57698022,
                        "iteration": 72,
                        "remaining_time": 0.9531296703,
                        "learn": [
                          0.06258455748
                        ]
                      },
                      {
                        "passed_time": 2.611017429,
                        "iteration": 73,
                        "remaining_time": 0.917384502,
                        "learn": [
                          0.0620290178
                        ]
                      },
                      {
                        "passed_time": 2.645295081,
                        "iteration": 74,
                        "remaining_time": 0.881765027,
                        "learn": [
                          0.06150719
                        ]
                      },
                      {
                        "passed_time": 2.680311084,
                        "iteration": 75,
                        "remaining_time": 0.8464140265,
                        "learn": [
                          0.06096961499
                        ]
                      },
                      {
                        "passed_time": 2.715560073,
                        "iteration": 76,
                        "remaining_time": 0.8111413205,
                        "learn": [
                          0.06024420979
                        ]
                      },
                      {
                        "passed_time": 2.749231442,
                        "iteration": 77,
                        "remaining_time": 0.7754242528,
                        "learn": [
                          0.05940555175
                        ]
                      },
                      {
                        "passed_time": 2.782775565,
                        "iteration": 78,
                        "remaining_time": 0.7397251501,
                        "learn": [
                          0.05860100192
                        ]
                      },
                      {
                        "passed_time": 2.816948016,
                        "iteration": 79,
                        "remaining_time": 0.7042370041,
                        "learn": [
                          0.05828259326
                        ]
                      },
                      {
                        "passed_time": 2.851224015,
                        "iteration": 80,
                        "remaining_time": 0.6688056332,
                        "learn": [
                          0.05795844417
                        ]
                      },
                      {
                        "passed_time": 2.89137277,
                        "iteration": 81,
                        "remaining_time": 0.6346915836,
                        "learn": [
                          0.05735872072
                        ]
                      },
                      {
                        "passed_time": 2.925267679,
                        "iteration": 82,
                        "remaining_time": 0.5991512114,
                        "learn": [
                          0.05660858624
                        ]
                      },
                      {
                        "passed_time": 2.958941547,
                        "iteration": 83,
                        "remaining_time": 0.5636079138,
                        "learn": [
                          0.05612081982
                        ]
                      },
                      {
                        "passed_time": 2.996928087,
                        "iteration": 84,
                        "remaining_time": 0.5288696624,
                        "learn": [
                          0.05585456866
                        ]
                      },
                      {
                        "passed_time": 3.037333967,
                        "iteration": 85,
                        "remaining_time": 0.4944497155,
                        "learn": [
                          0.05567025936
                        ]
                      },
                      {
                        "passed_time": 3.073890983,
                        "iteration": 86,
                        "remaining_time": 0.4593170435,
                        "learn": [
                          0.0551907944
                        ]
                      },
                      {
                        "passed_time": 3.108562822,
                        "iteration": 87,
                        "remaining_time": 0.4238949303,
                        "learn": [
                          0.05472606215
                        ]
                      },
                      {
                        "passed_time": 3.142716023,
                        "iteration": 88,
                        "remaining_time": 0.3884255758,
                        "learn": [
                          0.05437647401
                        ]
                      },
                      {
                        "passed_time": 3.177002016,
                        "iteration": 89,
                        "remaining_time": 0.353000224,
                        "learn": [
                          0.05410060855
                        ]
                      },
                      {
                        "passed_time": 3.210865317,
                        "iteration": 90,
                        "remaining_time": 0.3175581083,
                        "learn": [
                          0.0537930017
                        ]
                      },
                      {
                        "passed_time": 3.24473399,
                        "iteration": 91,
                        "remaining_time": 0.2821507817,
                        "learn": [
                          0.05291592094
                        ]
                      },
                      {
                        "passed_time": 3.27802199,
                        "iteration": 92,
                        "remaining_time": 0.246732838,
                        "learn": [
                          0.05230866501
                        ]
                      },
                      {
                        "passed_time": 3.310700416,
                        "iteration": 93,
                        "remaining_time": 0.2113213031,
                        "learn": [
                          0.05152116042
                        ]
                      },
                      {
                        "passed_time": 3.345461513,
                        "iteration": 94,
                        "remaining_time": 0.1760769218,
                        "learn": [
                          0.0512615372
                        ]
                      },
                      {
                        "passed_time": 3.37929285,
                        "iteration": 95,
                        "remaining_time": 0.1408038688,
                        "learn": [
                          0.05080864957
                        ]
                      },
                      {
                        "passed_time": 3.415412083,
                        "iteration": 96,
                        "remaining_time": 0.1056313015,
                        "learn": [
                          0.0502917149
                        ]
                      },
                      {
                        "passed_time": 3.45490672,
                        "iteration": 97,
                        "remaining_time": 0.07050830042,
                        "learn": [
                          0.04963185437
                        ]
                      },
                      {
                        "passed_time": 3.490950433,
                        "iteration": 98,
                        "remaining_time": 0.03526212559,
                        "learn": [
                          0.04910466702
                        ]
                      },
                      {
                        "passed_time": 3.526480736,
                        "iteration": 99,
                        "remaining_time": 0,
                        "learn": [
                          0.04858921733
                        ]
                      }
                    ]
                  },
                  "total_iterations": 100,
                  "passed_iterations": 99
                },
                "path": "catboost_info",
                "name": "catboost_info"
              }
            },
            "_view_module": "catboost-widget",
            "_model_module_version": "^1.0.0",
            "_view_count": null,
            "_view_module_version": "^1.0.0",
            "layout": "IPY_MODEL_4260ff1acc284b268eef63ced2d14a87",
            "_model_module": "catboost-widget"
          }
        }
      }
    }
  },
  "cells": [
    {
      "cell_type": "markdown",
      "metadata": {
        "id": "view-in-github",
        "colab_type": "text"
      },
      "source": [
        "<a href=\"https://colab.research.google.com/github/MarkVoitov/artificial_intelligence_course/blob/main/agroinsurance.ipynb\" target=\"_parent\"><img src=\"https://colab.research.google.com/assets/colab-badge.svg\" alt=\"Open In Colab\"/></a>"
      ]
    },
    {
      "cell_type": "markdown",
      "metadata": {
        "id": "djnd1idfGb-C"
      },
      "source": [
        "**Описание предметной области**\n",
        "\n",
        "Для анализа используются данные с комических фотоспутников Sentinel - 2A, 2B. Эти спутники Европейского космического агентства Sentinel оснащены оптико-электронным мультиспектральным сенсором для съемок с разрешением от 10 до 60 м в видимой, ближней инфракрасной (VNIR) и коротковолновой инфракрасной (SWIR) зонах спектра, включающих в себя 13 спектральных каналов. Значения этих каналов являются входящими данными для последующего анализа.\n",
        "\n",
        "Одним из основных инструментов для оценки состояния и роста растений, включая сельскохозяйственные, являются различные вегетационные индексы. Самый популярный – индекс NDVI. NDVI (Normalized difference vegetation index, Нормализованный вегетационный индекс) — это показатель здоровья растения, который вычисляется по тому, как растение отражает и поглощает разные световые волны.\n",
        "\n",
        "Расчет NDVI базируется на двух наиболее стабильных участках спектральной кривой отражения сосудистых растений. В красной области спектра (0,6-0,7 мкм) лежит максимум поглощения солнечной радиации хлорофиллом высших сосудистых растений, а в инфракрасной области (0,7-1,0 мкм) находится область максимального отражения клеточных структур листа. То есть высокая фотосинтетическая активность (связанная, как правило, с густой растительностью) ведет к меньшему отражению в красной области спектра и большему в инфракрасной. Отношение этих показателей друг к другу позволяет четко отделять и анализировать растительные от прочих природных объектов. Для спутников Sentinel-2 индекс NDVI рассчитывается на основе значений спектральных каналов B8A и B04 по формуле: (B8A-B04)/(B8A+B04). Согласно этой формуле, плотность растительности в определенной точке изображения равна разнице интенсивностей отраженного света в красном и инфракрасном диапазоне, деленной на сумму их интенсивностей. NDVI принимает значение от -1 до 1. Для здоровых растений индекс, как правило, принимает значение от 0,2 до 0,9.\n",
        "\n",
        "При отрицательных и близких к нулю значениях индекса можно смело предположить, что перед нами не растение. Если на снимке присутствует облачность, индекс стремится к 0, поэтому очень важно использовать для анализа спутниковые данные, очищенные от облачности. В рамках кейса посмотрите, как изменяется NDVI по времени, обратите внимание на зависимость сезонов и значений индекса до фильтрации облачности и после."
      ]
    },
    {
      "cell_type": "markdown",
      "metadata": {
        "id": "SXn0vFGhKzQQ"
      },
      "source": [
        "**Структура данных**\n",
        "\n",
        "Файл nti_case_clouds.csv – исходные данные:\n",
        "\n",
        "• subpoint_id – координаты точки;\n",
        "\n",
        "• date – дата получения значений каналов;\n",
        "\n",
        "• is_cloud_free – булевые значения облачности;\n",
        "\n",
        "• B1-B12 – спектральные значения каналов;\n",
        "\n",
        "• NDVI – вегетационный индекс."
      ]
    },
    {
      "cell_type": "markdown",
      "metadata": {
        "id": "w4wr9h6AMO4w"
      },
      "source": [
        "***1. Подготовка данных***"
      ]
    },
    {
      "cell_type": "markdown",
      "metadata": {
        "id": "hwes6HoiNckX"
      },
      "source": [
        "*a. Откройте данные и изучите их.*"
      ]
    },
    {
      "cell_type": "code",
      "metadata": {
        "colab": {
          "base_uri": "https://localhost:8080/"
        },
        "id": "VgKronhAufUp",
        "outputId": "8fb556cc-857f-4693-9ba6-7d2d07c8ba49"
      },
      "source": [
        "!pip install catboost"
      ],
      "execution_count": 1,
      "outputs": [
        {
          "output_type": "stream",
          "text": [
            "Collecting catboost\n",
            "  Downloading catboost-0.26.1-cp37-none-manylinux1_x86_64.whl (67.4 MB)\n",
            "\u001b[K     |████████████████████████████████| 67.4 MB 29 kB/s \n",
            "\u001b[?25hRequirement already satisfied: plotly in /usr/local/lib/python3.7/dist-packages (from catboost) (4.4.1)\n",
            "Requirement already satisfied: six in /usr/local/lib/python3.7/dist-packages (from catboost) (1.15.0)\n",
            "Requirement already satisfied: numpy>=1.16.0 in /usr/local/lib/python3.7/dist-packages (from catboost) (1.19.5)\n",
            "Requirement already satisfied: graphviz in /usr/local/lib/python3.7/dist-packages (from catboost) (0.10.1)\n",
            "Requirement already satisfied: scipy in /usr/local/lib/python3.7/dist-packages (from catboost) (1.4.1)\n",
            "Requirement already satisfied: pandas>=0.24.0 in /usr/local/lib/python3.7/dist-packages (from catboost) (1.1.5)\n",
            "Requirement already satisfied: matplotlib in /usr/local/lib/python3.7/dist-packages (from catboost) (3.2.2)\n",
            "Requirement already satisfied: pytz>=2017.2 in /usr/local/lib/python3.7/dist-packages (from pandas>=0.24.0->catboost) (2018.9)\n",
            "Requirement already satisfied: python-dateutil>=2.7.3 in /usr/local/lib/python3.7/dist-packages (from pandas>=0.24.0->catboost) (2.8.2)\n",
            "Requirement already satisfied: pyparsing!=2.0.4,!=2.1.2,!=2.1.6,>=2.0.1 in /usr/local/lib/python3.7/dist-packages (from matplotlib->catboost) (2.4.7)\n",
            "Requirement already satisfied: kiwisolver>=1.0.1 in /usr/local/lib/python3.7/dist-packages (from matplotlib->catboost) (1.3.1)\n",
            "Requirement already satisfied: cycler>=0.10 in /usr/local/lib/python3.7/dist-packages (from matplotlib->catboost) (0.10.0)\n",
            "Requirement already satisfied: retrying>=1.3.3 in /usr/local/lib/python3.7/dist-packages (from plotly->catboost) (1.3.3)\n",
            "Installing collected packages: catboost\n",
            "Successfully installed catboost-0.26.1\n"
          ],
          "name": "stdout"
        }
      ]
    },
    {
      "cell_type": "code",
      "metadata": {
        "id": "BiwJhbEONv-H"
      },
      "source": [
        "# импорты\n",
        "import matplotlib.pyplot as plt\n",
        "import numpy as np\n",
        "import pandas as pd\n",
        "import seaborn as sns\n",
        "\n",
        "import warnings\n",
        "warnings.filterwarnings('ignore')\n",
        "\n",
        "from datetime import datetime\n",
        "from sklearn.metrics import mean_absolute_error, f1_score, classification_report, plot_confusion_matrix\n",
        "from sklearn.model_selection import train_test_split, GridSearchCV\n",
        "\n",
        "from catboost import CatBoostClassifier\n",
        "from sklearn.ensemble import RandomForestClassifier\n",
        "from sklearn.linear_model import LogisticRegression\n",
        "from sklearn.naive_bayes import GaussianNB\n",
        "from sklearn.neighbors import KNeighborsClassifier\n",
        "from sklearn.svm import SVC\n",
        "from sklearn.tree import DecisionTreeClassifier\n",
        "from xgboost import XGBClassifier"
      ],
      "execution_count": 2,
      "outputs": []
    },
    {
      "cell_type": "code",
      "metadata": {
        "colab": {
          "base_uri": "https://localhost:8080/",
          "height": 204
        },
        "id": "JM6SeyXQEdgY",
        "outputId": "7223815c-80a3-4214-d0f4-dacea220ee91"
      },
      "source": [
        "# чтение данных\n",
        "data = pd.read_csv('/content/drive/MyDrive/Colab_notebooks/artificial_intelligence_course/01_agroinsurance/nti_case_clouds.csv')\n",
        "data.head()"
      ],
      "execution_count": 3,
      "outputs": [
        {
          "output_type": "execute_result",
          "data": {
            "text/html": [
              "<div>\n",
              "<style scoped>\n",
              "    .dataframe tbody tr th:only-of-type {\n",
              "        vertical-align: middle;\n",
              "    }\n",
              "\n",
              "    .dataframe tbody tr th {\n",
              "        vertical-align: top;\n",
              "    }\n",
              "\n",
              "    .dataframe thead th {\n",
              "        text-align: right;\n",
              "    }\n",
              "</style>\n",
              "<table border=\"1\" class=\"dataframe\">\n",
              "  <thead>\n",
              "    <tr style=\"text-align: right;\">\n",
              "      <th></th>\n",
              "      <th>subpoint_id</th>\n",
              "      <th>date</th>\n",
              "      <th>is_cloud_free</th>\n",
              "      <th>B01</th>\n",
              "      <th>B02</th>\n",
              "      <th>B03</th>\n",
              "      <th>B04</th>\n",
              "      <th>B05</th>\n",
              "      <th>B06</th>\n",
              "      <th>B07</th>\n",
              "      <th>B08</th>\n",
              "      <th>B8A</th>\n",
              "      <th>B09</th>\n",
              "      <th>B10</th>\n",
              "      <th>B11</th>\n",
              "      <th>B12</th>\n",
              "      <th>NDVI</th>\n",
              "    </tr>\n",
              "  </thead>\n",
              "  <tbody>\n",
              "    <tr>\n",
              "      <th>0</th>\n",
              "      <td>SF1P1-1</td>\n",
              "      <td>2019-03-11</td>\n",
              "      <td>False</td>\n",
              "      <td>0.5138</td>\n",
              "      <td>0.4963</td>\n",
              "      <td>0.4455</td>\n",
              "      <td>0.4924</td>\n",
              "      <td>0.4932</td>\n",
              "      <td>0.5166</td>\n",
              "      <td>0.5393</td>\n",
              "      <td>0.5107</td>\n",
              "      <td>0.5479</td>\n",
              "      <td>0.2708</td>\n",
              "      <td>0.0092</td>\n",
              "      <td>0.3891</td>\n",
              "      <td>0.3258</td>\n",
              "      <td>0.053350</td>\n",
              "    </tr>\n",
              "    <tr>\n",
              "      <th>1</th>\n",
              "      <td>SF1P1-1</td>\n",
              "      <td>2019-02-27</td>\n",
              "      <td>False</td>\n",
              "      <td>0.4489</td>\n",
              "      <td>0.4213</td>\n",
              "      <td>0.3800</td>\n",
              "      <td>0.3995</td>\n",
              "      <td>0.4100</td>\n",
              "      <td>0.4299</td>\n",
              "      <td>0.4341</td>\n",
              "      <td>0.4245</td>\n",
              "      <td>0.4440</td>\n",
              "      <td>0.3081</td>\n",
              "      <td>0.1443</td>\n",
              "      <td>0.2508</td>\n",
              "      <td>0.2551</td>\n",
              "      <td>0.052756</td>\n",
              "    </tr>\n",
              "    <tr>\n",
              "      <th>2</th>\n",
              "      <td>SF1P1-1</td>\n",
              "      <td>2019-02-14</td>\n",
              "      <td>False</td>\n",
              "      <td>0.5557</td>\n",
              "      <td>0.5389</td>\n",
              "      <td>0.4700</td>\n",
              "      <td>0.5047</td>\n",
              "      <td>0.5160</td>\n",
              "      <td>0.5273</td>\n",
              "      <td>0.5406</td>\n",
              "      <td>0.5256</td>\n",
              "      <td>0.5408</td>\n",
              "      <td>0.2433</td>\n",
              "      <td>0.0041</td>\n",
              "      <td>0.4014</td>\n",
              "      <td>0.3189</td>\n",
              "      <td>0.034529</td>\n",
              "    </tr>\n",
              "    <tr>\n",
              "      <th>3</th>\n",
              "      <td>SF1P1-1</td>\n",
              "      <td>2019-02-02</td>\n",
              "      <td>False</td>\n",
              "      <td>0.6908</td>\n",
              "      <td>0.6897</td>\n",
              "      <td>0.6244</td>\n",
              "      <td>0.7206</td>\n",
              "      <td>0.7285</td>\n",
              "      <td>0.7430</td>\n",
              "      <td>0.7597</td>\n",
              "      <td>0.7388</td>\n",
              "      <td>0.7718</td>\n",
              "      <td>0.2515</td>\n",
              "      <td>0.0033</td>\n",
              "      <td>0.5589</td>\n",
              "      <td>0.3885</td>\n",
              "      <td>0.034307</td>\n",
              "    </tr>\n",
              "    <tr>\n",
              "      <th>4</th>\n",
              "      <td>SF1P1-1</td>\n",
              "      <td>2019-01-20</td>\n",
              "      <td>False</td>\n",
              "      <td>0.4461</td>\n",
              "      <td>0.4143</td>\n",
              "      <td>0.3245</td>\n",
              "      <td>0.3428</td>\n",
              "      <td>0.3553</td>\n",
              "      <td>0.3788</td>\n",
              "      <td>0.3903</td>\n",
              "      <td>0.3674</td>\n",
              "      <td>0.3918</td>\n",
              "      <td>0.1909</td>\n",
              "      <td>0.0239</td>\n",
              "      <td>0.2154</td>\n",
              "      <td>0.1887</td>\n",
              "      <td>0.066703</td>\n",
              "    </tr>\n",
              "  </tbody>\n",
              "</table>\n",
              "</div>"
            ],
            "text/plain": [
              "  subpoint_id        date  is_cloud_free  ...     B11     B12      NDVI\n",
              "0     SF1P1-1  2019-03-11          False  ...  0.3891  0.3258  0.053350\n",
              "1     SF1P1-1  2019-02-27          False  ...  0.2508  0.2551  0.052756\n",
              "2     SF1P1-1  2019-02-14          False  ...  0.4014  0.3189  0.034529\n",
              "3     SF1P1-1  2019-02-02          False  ...  0.5589  0.3885  0.034307\n",
              "4     SF1P1-1  2019-01-20          False  ...  0.2154  0.1887  0.066703\n",
              "\n",
              "[5 rows x 17 columns]"
            ]
          },
          "metadata": {},
          "execution_count": 3
        }
      ]
    },
    {
      "cell_type": "code",
      "metadata": {
        "colab": {
          "base_uri": "https://localhost:8080/"
        },
        "id": "SYe1WE2eFPH5",
        "outputId": "945ed10d-77a4-439e-bd23-13600b95f2fc"
      },
      "source": [
        "# размерность датасета (n_samples, n_features)\n",
        "data.shape"
      ],
      "execution_count": 4,
      "outputs": [
        {
          "output_type": "execute_result",
          "data": {
            "text/plain": [
              "(2100, 17)"
            ]
          },
          "metadata": {},
          "execution_count": 4
        }
      ]
    },
    {
      "cell_type": "code",
      "metadata": {
        "colab": {
          "base_uri": "https://localhost:8080/"
        },
        "id": "hG7W5HmHFcld",
        "outputId": "022aa58a-bdb7-4759-acfa-28e3989c9ebb"
      },
      "source": [
        "# общая информация о наполнении датасета\n",
        "data.info()"
      ],
      "execution_count": 5,
      "outputs": [
        {
          "output_type": "stream",
          "text": [
            "<class 'pandas.core.frame.DataFrame'>\n",
            "RangeIndex: 2100 entries, 0 to 2099\n",
            "Data columns (total 17 columns):\n",
            " #   Column         Non-Null Count  Dtype  \n",
            "---  ------         --------------  -----  \n",
            " 0   subpoint_id    2100 non-null   object \n",
            " 1   date           2100 non-null   object \n",
            " 2   is_cloud_free  2100 non-null   bool   \n",
            " 3   B01            2100 non-null   float64\n",
            " 4   B02            2100 non-null   float64\n",
            " 5   B03            2100 non-null   float64\n",
            " 6   B04            2100 non-null   float64\n",
            " 7   B05            2100 non-null   float64\n",
            " 8   B06            2100 non-null   float64\n",
            " 9   B07            2100 non-null   float64\n",
            " 10  B08            2100 non-null   float64\n",
            " 11  B8A            2100 non-null   float64\n",
            " 12  B09            2100 non-null   float64\n",
            " 13  B10            2100 non-null   float64\n",
            " 14  B11            2100 non-null   float64\n",
            " 15  B12            2100 non-null   float64\n",
            " 16  NDVI           2100 non-null   float64\n",
            "dtypes: bool(1), float64(14), object(2)\n",
            "memory usage: 264.7+ KB\n"
          ],
          "name": "stdout"
        }
      ]
    },
    {
      "cell_type": "code",
      "metadata": {
        "colab": {
          "base_uri": "https://localhost:8080/",
          "height": 297
        },
        "id": "QGP0TfbyI7Af",
        "outputId": "90e7986b-fa3b-4017-afcb-ff0b7d4b5c6f"
      },
      "source": [
        "# описательная статистика количественных признаков (13 спектральных каналов и индекс NDVI)\n",
        "data.describe()"
      ],
      "execution_count": 6,
      "outputs": [
        {
          "output_type": "execute_result",
          "data": {
            "text/html": [
              "<div>\n",
              "<style scoped>\n",
              "    .dataframe tbody tr th:only-of-type {\n",
              "        vertical-align: middle;\n",
              "    }\n",
              "\n",
              "    .dataframe tbody tr th {\n",
              "        vertical-align: top;\n",
              "    }\n",
              "\n",
              "    .dataframe thead th {\n",
              "        text-align: right;\n",
              "    }\n",
              "</style>\n",
              "<table border=\"1\" class=\"dataframe\">\n",
              "  <thead>\n",
              "    <tr style=\"text-align: right;\">\n",
              "      <th></th>\n",
              "      <th>B01</th>\n",
              "      <th>B02</th>\n",
              "      <th>B03</th>\n",
              "      <th>B04</th>\n",
              "      <th>B05</th>\n",
              "      <th>B06</th>\n",
              "      <th>B07</th>\n",
              "      <th>B08</th>\n",
              "      <th>B8A</th>\n",
              "      <th>B09</th>\n",
              "      <th>B10</th>\n",
              "      <th>B11</th>\n",
              "      <th>B12</th>\n",
              "      <th>NDVI</th>\n",
              "    </tr>\n",
              "  </thead>\n",
              "  <tbody>\n",
              "    <tr>\n",
              "      <th>count</th>\n",
              "      <td>2100.000000</td>\n",
              "      <td>2100.000000</td>\n",
              "      <td>2100.000000</td>\n",
              "      <td>2100.000000</td>\n",
              "      <td>2100.000000</td>\n",
              "      <td>2100.000000</td>\n",
              "      <td>2100.000000</td>\n",
              "      <td>2100.000000</td>\n",
              "      <td>2100.000000</td>\n",
              "      <td>2100.000000</td>\n",
              "      <td>2100.000000</td>\n",
              "      <td>2100.000000</td>\n",
              "      <td>2100.000000</td>\n",
              "      <td>2100.000000</td>\n",
              "    </tr>\n",
              "    <tr>\n",
              "      <th>mean</th>\n",
              "      <td>0.447812</td>\n",
              "      <td>0.425303</td>\n",
              "      <td>0.383486</td>\n",
              "      <td>0.406532</td>\n",
              "      <td>0.423668</td>\n",
              "      <td>0.462974</td>\n",
              "      <td>0.485719</td>\n",
              "      <td>0.468045</td>\n",
              "      <td>0.499315</td>\n",
              "      <td>0.222634</td>\n",
              "      <td>0.027609</td>\n",
              "      <td>0.283055</td>\n",
              "      <td>0.223174</td>\n",
              "      <td>0.170749</td>\n",
              "    </tr>\n",
              "    <tr>\n",
              "      <th>std</th>\n",
              "      <td>0.244932</td>\n",
              "      <td>0.251303</td>\n",
              "      <td>0.231734</td>\n",
              "      <td>0.261119</td>\n",
              "      <td>0.255174</td>\n",
              "      <td>0.234796</td>\n",
              "      <td>0.232699</td>\n",
              "      <td>0.223713</td>\n",
              "      <td>0.229056</td>\n",
              "      <td>0.140130</td>\n",
              "      <td>0.041263</td>\n",
              "      <td>0.143085</td>\n",
              "      <td>0.119401</td>\n",
              "      <td>0.211491</td>\n",
              "    </tr>\n",
              "    <tr>\n",
              "      <th>min</th>\n",
              "      <td>0.100500</td>\n",
              "      <td>0.072100</td>\n",
              "      <td>0.060200</td>\n",
              "      <td>0.032900</td>\n",
              "      <td>0.039500</td>\n",
              "      <td>0.037200</td>\n",
              "      <td>0.035800</td>\n",
              "      <td>0.035800</td>\n",
              "      <td>0.032400</td>\n",
              "      <td>0.014800</td>\n",
              "      <td>0.000700</td>\n",
              "      <td>0.011600</td>\n",
              "      <td>0.007000</td>\n",
              "      <td>-0.208975</td>\n",
              "    </tr>\n",
              "    <tr>\n",
              "      <th>25%</th>\n",
              "      <td>0.172075</td>\n",
              "      <td>0.143450</td>\n",
              "      <td>0.131775</td>\n",
              "      <td>0.134925</td>\n",
              "      <td>0.156775</td>\n",
              "      <td>0.249500</td>\n",
              "      <td>0.283000</td>\n",
              "      <td>0.274950</td>\n",
              "      <td>0.304675</td>\n",
              "      <td>0.101400</td>\n",
              "      <td>0.002700</td>\n",
              "      <td>0.181975</td>\n",
              "      <td>0.133050</td>\n",
              "      <td>0.032348</td>\n",
              "    </tr>\n",
              "    <tr>\n",
              "      <th>50%</th>\n",
              "      <td>0.492200</td>\n",
              "      <td>0.470000</td>\n",
              "      <td>0.415550</td>\n",
              "      <td>0.432250</td>\n",
              "      <td>0.436600</td>\n",
              "      <td>0.468800</td>\n",
              "      <td>0.489700</td>\n",
              "      <td>0.466000</td>\n",
              "      <td>0.499350</td>\n",
              "      <td>0.199100</td>\n",
              "      <td>0.008800</td>\n",
              "      <td>0.253100</td>\n",
              "      <td>0.210300</td>\n",
              "      <td>0.061664</td>\n",
              "    </tr>\n",
              "    <tr>\n",
              "      <th>75%</th>\n",
              "      <td>0.657825</td>\n",
              "      <td>0.643800</td>\n",
              "      <td>0.575900</td>\n",
              "      <td>0.632800</td>\n",
              "      <td>0.648075</td>\n",
              "      <td>0.664100</td>\n",
              "      <td>0.681325</td>\n",
              "      <td>0.656000</td>\n",
              "      <td>0.691100</td>\n",
              "      <td>0.317725</td>\n",
              "      <td>0.034600</td>\n",
              "      <td>0.367450</td>\n",
              "      <td>0.294850</td>\n",
              "      <td>0.250435</td>\n",
              "    </tr>\n",
              "    <tr>\n",
              "      <th>max</th>\n",
              "      <td>1.047200</td>\n",
              "      <td>1.047600</td>\n",
              "      <td>1.031300</td>\n",
              "      <td>1.168900</td>\n",
              "      <td>1.146400</td>\n",
              "      <td>1.164600</td>\n",
              "      <td>1.189600</td>\n",
              "      <td>1.178800</td>\n",
              "      <td>1.213900</td>\n",
              "      <td>0.779100</td>\n",
              "      <td>0.343500</td>\n",
              "      <td>0.970400</td>\n",
              "      <td>0.851500</td>\n",
              "      <td>0.865218</td>\n",
              "    </tr>\n",
              "  </tbody>\n",
              "</table>\n",
              "</div>"
            ],
            "text/plain": [
              "               B01          B02  ...          B12         NDVI\n",
              "count  2100.000000  2100.000000  ...  2100.000000  2100.000000\n",
              "mean      0.447812     0.425303  ...     0.223174     0.170749\n",
              "std       0.244932     0.251303  ...     0.119401     0.211491\n",
              "min       0.100500     0.072100  ...     0.007000    -0.208975\n",
              "25%       0.172075     0.143450  ...     0.133050     0.032348\n",
              "50%       0.492200     0.470000  ...     0.210300     0.061664\n",
              "75%       0.657825     0.643800  ...     0.294850     0.250435\n",
              "max       1.047200     1.047600  ...     0.851500     0.865218\n",
              "\n",
              "[8 rows x 14 columns]"
            ]
          },
          "metadata": {},
          "execution_count": 6
        }
      ]
    },
    {
      "cell_type": "code",
      "metadata": {
        "colab": {
          "base_uri": "https://localhost:8080/"
        },
        "id": "N4EeX8yYJzKU",
        "outputId": "5352e95b-c50a-4c58-cd12-19fcaaeeb93b"
      },
      "source": [
        "# возможно, столбец 'is_cloud_free' с булевым типом данных в дальнейшем будет являться таргетом (меткой класса), можно сразу посмотреть распределение значений признака\n",
        "data['is_cloud_free'].value_counts()"
      ],
      "execution_count": 7,
      "outputs": [
        {
          "output_type": "execute_result",
          "data": {
            "text/plain": [
              "False    1621\n",
              "True      479\n",
              "Name: is_cloud_free, dtype: int64"
            ]
          },
          "metadata": {},
          "execution_count": 7
        }
      ]
    },
    {
      "cell_type": "markdown",
      "metadata": {
        "id": "K9YaNbf_Hl6s"
      },
      "source": [
        "Около 22% снимков - безоблачные."
      ]
    },
    {
      "cell_type": "markdown",
      "metadata": {
        "id": "6wLwopD3Nfom"
      },
      "source": [
        "*b. Посмотрите на названия столбцов и приведите их к нижнему регистру.*"
      ]
    },
    {
      "cell_type": "code",
      "metadata": {
        "colab": {
          "base_uri": "https://localhost:8080/"
        },
        "id": "6N95FfmsNwe1",
        "outputId": "c8251f25-f137-474c-f9c4-d02daf131c26"
      },
      "source": [
        "data.columns"
      ],
      "execution_count": 8,
      "outputs": [
        {
          "output_type": "execute_result",
          "data": {
            "text/plain": [
              "Index(['subpoint_id', 'date', 'is_cloud_free', 'B01', 'B02', 'B03', 'B04',\n",
              "       'B05', 'B06', 'B07', 'B08', 'B8A', 'B09', 'B10', 'B11', 'B12', 'NDVI'],\n",
              "      dtype='object')"
            ]
          },
          "metadata": {},
          "execution_count": 8
        }
      ]
    },
    {
      "cell_type": "code",
      "metadata": {
        "colab": {
          "base_uri": "https://localhost:8080/"
        },
        "id": "uoFkrFpiMTrU",
        "outputId": "05e92b89-6dfd-4df8-e41a-6dc847813176"
      },
      "source": [
        "data.columns = data.columns.str.lower()\n",
        "data.columns"
      ],
      "execution_count": 9,
      "outputs": [
        {
          "output_type": "execute_result",
          "data": {
            "text/plain": [
              "Index(['subpoint_id', 'date', 'is_cloud_free', 'b01', 'b02', 'b03', 'b04',\n",
              "       'b05', 'b06', 'b07', 'b08', 'b8a', 'b09', 'b10', 'b11', 'b12', 'ndvi'],\n",
              "      dtype='object')"
            ]
          },
          "metadata": {},
          "execution_count": 9
        }
      ]
    },
    {
      "cell_type": "markdown",
      "metadata": {
        "id": "5noOOfBmNfrw"
      },
      "source": [
        "*c. Проведите предобработку данных.*"
      ]
    },
    {
      "cell_type": "markdown",
      "metadata": {
        "id": "qjlOlmwdQjMk"
      },
      "source": [
        "С типами данных всё в порядке: айди записи и дата в строковом формате, остальные значения кроме метки класса - в формате float64. Поэтому типы данных не меняем. Замена значения столбца с облачностью - в следующем задании d."
      ]
    },
    {
      "cell_type": "code",
      "metadata": {
        "colab": {
          "base_uri": "https://localhost:8080/"
        },
        "id": "wNjINqmwNw8G",
        "outputId": "677e0324-8bd9-4b0a-ddfd-2b20aa3b9c4a"
      },
      "source": [
        "# посмотрим количество пропусков в столбцах\n",
        "data.isna().sum()"
      ],
      "execution_count": 10,
      "outputs": [
        {
          "output_type": "execute_result",
          "data": {
            "text/plain": [
              "subpoint_id      0\n",
              "date             0\n",
              "is_cloud_free    0\n",
              "b01              0\n",
              "b02              0\n",
              "b03              0\n",
              "b04              0\n",
              "b05              0\n",
              "b06              0\n",
              "b07              0\n",
              "b08              0\n",
              "b8a              0\n",
              "b09              0\n",
              "b10              0\n",
              "b11              0\n",
              "b12              0\n",
              "ndvi             0\n",
              "dtype: int64"
            ]
          },
          "metadata": {},
          "execution_count": 10
        }
      ]
    },
    {
      "cell_type": "code",
      "metadata": {
        "colab": {
          "base_uri": "https://localhost:8080/"
        },
        "id": "fe-uwCaHRbjM",
        "outputId": "03ead45a-459d-4cdf-adf9-fc6632435977"
      },
      "source": [
        "# проверим наличие дубликатов\n",
        "data.duplicated().sum()"
      ],
      "execution_count": 11,
      "outputs": [
        {
          "output_type": "execute_result",
          "data": {
            "text/plain": [
              "55"
            ]
          },
          "metadata": {},
          "execution_count": 11
        }
      ]
    },
    {
      "cell_type": "markdown",
      "metadata": {
        "id": "TwmULPeWnlYo"
      },
      "source": [
        "Изначально здесь  в качестве предобработки данных я удалял дубликаты:\n",
        "data = data.drop_duplicates().reset_index(drop=True),\n",
        "но в дальнейшем из-за несбалансированности классов был применён метод upsampling, выполняющий, по сути, обратную удалению дубликатов операцию - для баланса классов были добавлены копии строк меньшего класса. Поэтому, возвращаясь сюда, логичнее от drop_duplicates() тоже отказаться."
      ]
    },
    {
      "cell_type": "markdown",
      "metadata": {
        "id": "nC_kRAKHNfvI"
      },
      "source": [
        "*d. Замените булевые значения столбца с облачностью на «int» (True – 1/False – 0)*."
      ]
    },
    {
      "cell_type": "code",
      "metadata": {
        "id": "U5B4TvHsNxge"
      },
      "source": [
        "data['is_cloud_free'] = data['is_cloud_free'].replace({True: 1, False:0})"
      ],
      "execution_count": 12,
      "outputs": []
    },
    {
      "cell_type": "markdown",
      "metadata": {
        "id": "J6zWuyZCNfyF"
      },
      "source": [
        "*e. Проверьте, что индекс NDVI получен верный. Рассчитайте значение индекса NDVI по формуле (b8a-b04)/(b8a+b04) и сравните с искомым (найдите МАЕ между вашими расчетами и значениями индекса).*"
      ]
    },
    {
      "cell_type": "code",
      "metadata": {
        "colab": {
          "base_uri": "https://localhost:8080/",
          "height": 204
        },
        "id": "53r1BBPSNzfu",
        "outputId": "740565a0-7ee6-49d2-b863-5c991bbc838b"
      },
      "source": [
        "# добавим столбец ndvi_calculated с расчётным значением индекса\n",
        "data['ndvi_calculated'] = (data['b8a'] - data['b04']) / (data['b8a'] + data['b04'])\n",
        "\n",
        "# добавим ещё один столбец со значениями mean_absolute_error между искомыми и расчётными значениями индекса\n",
        "data['ndvi_mae'] = mean_absolute_error(data['ndvi'], data['ndvi_calculated'])\n",
        "\n",
        "data.head()"
      ],
      "execution_count": 13,
      "outputs": [
        {
          "output_type": "execute_result",
          "data": {
            "text/html": [
              "<div>\n",
              "<style scoped>\n",
              "    .dataframe tbody tr th:only-of-type {\n",
              "        vertical-align: middle;\n",
              "    }\n",
              "\n",
              "    .dataframe tbody tr th {\n",
              "        vertical-align: top;\n",
              "    }\n",
              "\n",
              "    .dataframe thead th {\n",
              "        text-align: right;\n",
              "    }\n",
              "</style>\n",
              "<table border=\"1\" class=\"dataframe\">\n",
              "  <thead>\n",
              "    <tr style=\"text-align: right;\">\n",
              "      <th></th>\n",
              "      <th>subpoint_id</th>\n",
              "      <th>date</th>\n",
              "      <th>is_cloud_free</th>\n",
              "      <th>b01</th>\n",
              "      <th>b02</th>\n",
              "      <th>b03</th>\n",
              "      <th>b04</th>\n",
              "      <th>b05</th>\n",
              "      <th>b06</th>\n",
              "      <th>b07</th>\n",
              "      <th>b08</th>\n",
              "      <th>b8a</th>\n",
              "      <th>b09</th>\n",
              "      <th>b10</th>\n",
              "      <th>b11</th>\n",
              "      <th>b12</th>\n",
              "      <th>ndvi</th>\n",
              "      <th>ndvi_calculated</th>\n",
              "      <th>ndvi_mae</th>\n",
              "    </tr>\n",
              "  </thead>\n",
              "  <tbody>\n",
              "    <tr>\n",
              "      <th>0</th>\n",
              "      <td>SF1P1-1</td>\n",
              "      <td>2019-03-11</td>\n",
              "      <td>0</td>\n",
              "      <td>0.5138</td>\n",
              "      <td>0.4963</td>\n",
              "      <td>0.4455</td>\n",
              "      <td>0.4924</td>\n",
              "      <td>0.4932</td>\n",
              "      <td>0.5166</td>\n",
              "      <td>0.5393</td>\n",
              "      <td>0.5107</td>\n",
              "      <td>0.5479</td>\n",
              "      <td>0.2708</td>\n",
              "      <td>0.0092</td>\n",
              "      <td>0.3891</td>\n",
              "      <td>0.3258</td>\n",
              "      <td>0.053350</td>\n",
              "      <td>0.053350</td>\n",
              "      <td>2.555470e-09</td>\n",
              "    </tr>\n",
              "    <tr>\n",
              "      <th>1</th>\n",
              "      <td>SF1P1-1</td>\n",
              "      <td>2019-02-27</td>\n",
              "      <td>0</td>\n",
              "      <td>0.4489</td>\n",
              "      <td>0.4213</td>\n",
              "      <td>0.3800</td>\n",
              "      <td>0.3995</td>\n",
              "      <td>0.4100</td>\n",
              "      <td>0.4299</td>\n",
              "      <td>0.4341</td>\n",
              "      <td>0.4245</td>\n",
              "      <td>0.4440</td>\n",
              "      <td>0.3081</td>\n",
              "      <td>0.1443</td>\n",
              "      <td>0.2508</td>\n",
              "      <td>0.2551</td>\n",
              "      <td>0.052756</td>\n",
              "      <td>0.052756</td>\n",
              "      <td>2.555470e-09</td>\n",
              "    </tr>\n",
              "    <tr>\n",
              "      <th>2</th>\n",
              "      <td>SF1P1-1</td>\n",
              "      <td>2019-02-14</td>\n",
              "      <td>0</td>\n",
              "      <td>0.5557</td>\n",
              "      <td>0.5389</td>\n",
              "      <td>0.4700</td>\n",
              "      <td>0.5047</td>\n",
              "      <td>0.5160</td>\n",
              "      <td>0.5273</td>\n",
              "      <td>0.5406</td>\n",
              "      <td>0.5256</td>\n",
              "      <td>0.5408</td>\n",
              "      <td>0.2433</td>\n",
              "      <td>0.0041</td>\n",
              "      <td>0.4014</td>\n",
              "      <td>0.3189</td>\n",
              "      <td>0.034529</td>\n",
              "      <td>0.034529</td>\n",
              "      <td>2.555470e-09</td>\n",
              "    </tr>\n",
              "    <tr>\n",
              "      <th>3</th>\n",
              "      <td>SF1P1-1</td>\n",
              "      <td>2019-02-02</td>\n",
              "      <td>0</td>\n",
              "      <td>0.6908</td>\n",
              "      <td>0.6897</td>\n",
              "      <td>0.6244</td>\n",
              "      <td>0.7206</td>\n",
              "      <td>0.7285</td>\n",
              "      <td>0.7430</td>\n",
              "      <td>0.7597</td>\n",
              "      <td>0.7388</td>\n",
              "      <td>0.7718</td>\n",
              "      <td>0.2515</td>\n",
              "      <td>0.0033</td>\n",
              "      <td>0.5589</td>\n",
              "      <td>0.3885</td>\n",
              "      <td>0.034307</td>\n",
              "      <td>0.034307</td>\n",
              "      <td>2.555470e-09</td>\n",
              "    </tr>\n",
              "    <tr>\n",
              "      <th>4</th>\n",
              "      <td>SF1P1-1</td>\n",
              "      <td>2019-01-20</td>\n",
              "      <td>0</td>\n",
              "      <td>0.4461</td>\n",
              "      <td>0.4143</td>\n",
              "      <td>0.3245</td>\n",
              "      <td>0.3428</td>\n",
              "      <td>0.3553</td>\n",
              "      <td>0.3788</td>\n",
              "      <td>0.3903</td>\n",
              "      <td>0.3674</td>\n",
              "      <td>0.3918</td>\n",
              "      <td>0.1909</td>\n",
              "      <td>0.0239</td>\n",
              "      <td>0.2154</td>\n",
              "      <td>0.1887</td>\n",
              "      <td>0.066703</td>\n",
              "      <td>0.066703</td>\n",
              "      <td>2.555470e-09</td>\n",
              "    </tr>\n",
              "  </tbody>\n",
              "</table>\n",
              "</div>"
            ],
            "text/plain": [
              "  subpoint_id        date  ...  ndvi_calculated      ndvi_mae\n",
              "0     SF1P1-1  2019-03-11  ...         0.053350  2.555470e-09\n",
              "1     SF1P1-1  2019-02-27  ...         0.052756  2.555470e-09\n",
              "2     SF1P1-1  2019-02-14  ...         0.034529  2.555470e-09\n",
              "3     SF1P1-1  2019-02-02  ...         0.034307  2.555470e-09\n",
              "4     SF1P1-1  2019-01-20  ...         0.066703  2.555470e-09\n",
              "\n",
              "[5 rows x 19 columns]"
            ]
          },
          "metadata": {},
          "execution_count": 13
        }
      ]
    },
    {
      "cell_type": "code",
      "metadata": {
        "colab": {
          "base_uri": "https://localhost:8080/"
        },
        "id": "LeJOhzLnvw6f",
        "outputId": "33c0f7d1-dc1e-4198-bf27-0e919dca3ace"
      },
      "source": [
        "print('Уникальные значения MAE для NDVI:', data['ndvi_mae'].unique())"
      ],
      "execution_count": 14,
      "outputs": [
        {
          "output_type": "stream",
          "text": [
            "Уникальные значения MAE для NDVI: [2.5554701e-09]\n"
          ],
          "name": "stdout"
        }
      ]
    },
    {
      "cell_type": "markdown",
      "metadata": {
        "id": "Mb05x6tPu31R"
      },
      "source": [
        "Средняя абсолютная ошибка для всех записей составила 2.55480362e-09. Очень малое значение, отличное от нуля, хотя это и не ноль."
      ]
    },
    {
      "cell_type": "markdown",
      "metadata": {
        "id": "Axy94qmow8GE"
      },
      "source": [
        "***2. Анализ данных***"
      ]
    },
    {
      "cell_type": "markdown",
      "metadata": {
        "id": "rQqg4CPIyzS2"
      },
      "source": [
        "*a. Посмотрите, как изменяется индекс NDVI для точки Sr_205_1 по времени.*"
      ]
    },
    {
      "cell_type": "code",
      "metadata": {
        "colab": {
          "base_uri": "https://localhost:8080/",
          "height": 419
        },
        "id": "Qgz1LAZjvF51",
        "outputId": "9be47fb9-da08-48c9-c121-49c7919acea9"
      },
      "source": [
        "# для анализа данных по точке Sr_205_1 отфильтруем в новую таблицу записи с искомым subpoint_id,\n",
        "# уберём лишние столбцы со спектральными каналами,\n",
        "# для удобства построения графиков приведём дату к формату datetime64\n",
        "data_sr_205_1 = data[data['subpoint_id'] == 'Sr_205_1'][['date', 'ndvi', 'is_cloud_free']].sort_values(by=['date']).reset_index(drop=True)\n",
        "data_sr_205_1['date']= pd.to_datetime(data_sr_205_1['date'], format='%Y.%m.%d')\n",
        "data_sr_205_1"
      ],
      "execution_count": 15,
      "outputs": [
        {
          "output_type": "execute_result",
          "data": {
            "text/html": [
              "<div>\n",
              "<style scoped>\n",
              "    .dataframe tbody tr th:only-of-type {\n",
              "        vertical-align: middle;\n",
              "    }\n",
              "\n",
              "    .dataframe tbody tr th {\n",
              "        vertical-align: top;\n",
              "    }\n",
              "\n",
              "    .dataframe thead th {\n",
              "        text-align: right;\n",
              "    }\n",
              "</style>\n",
              "<table border=\"1\" class=\"dataframe\">\n",
              "  <thead>\n",
              "    <tr style=\"text-align: right;\">\n",
              "      <th></th>\n",
              "      <th>date</th>\n",
              "      <th>ndvi</th>\n",
              "      <th>is_cloud_free</th>\n",
              "    </tr>\n",
              "  </thead>\n",
              "  <tbody>\n",
              "    <tr>\n",
              "      <th>0</th>\n",
              "      <td>2019-01-02</td>\n",
              "      <td>0.045670</td>\n",
              "      <td>0</td>\n",
              "    </tr>\n",
              "    <tr>\n",
              "      <th>1</th>\n",
              "      <td>2019-01-02</td>\n",
              "      <td>0.045670</td>\n",
              "      <td>0</td>\n",
              "    </tr>\n",
              "    <tr>\n",
              "      <th>2</th>\n",
              "      <td>2019-01-07</td>\n",
              "      <td>0.023028</td>\n",
              "      <td>0</td>\n",
              "    </tr>\n",
              "    <tr>\n",
              "      <th>3</th>\n",
              "      <td>2019-01-10</td>\n",
              "      <td>0.059419</td>\n",
              "      <td>0</td>\n",
              "    </tr>\n",
              "    <tr>\n",
              "      <th>4</th>\n",
              "      <td>2019-01-12</td>\n",
              "      <td>0.033520</td>\n",
              "      <td>0</td>\n",
              "    </tr>\n",
              "    <tr>\n",
              "      <th>...</th>\n",
              "      <td>...</td>\n",
              "      <td>...</td>\n",
              "      <td>...</td>\n",
              "    </tr>\n",
              "    <tr>\n",
              "      <th>201</th>\n",
              "      <td>2019-12-21</td>\n",
              "      <td>0.082549</td>\n",
              "      <td>0</td>\n",
              "    </tr>\n",
              "    <tr>\n",
              "      <th>202</th>\n",
              "      <td>2019-12-23</td>\n",
              "      <td>-0.019091</td>\n",
              "      <td>0</td>\n",
              "    </tr>\n",
              "    <tr>\n",
              "      <th>203</th>\n",
              "      <td>2019-12-23</td>\n",
              "      <td>-0.019088</td>\n",
              "      <td>0</td>\n",
              "    </tr>\n",
              "    <tr>\n",
              "      <th>204</th>\n",
              "      <td>2019-12-26</td>\n",
              "      <td>0.061361</td>\n",
              "      <td>0</td>\n",
              "    </tr>\n",
              "    <tr>\n",
              "      <th>205</th>\n",
              "      <td>2019-12-28</td>\n",
              "      <td>0.053907</td>\n",
              "      <td>0</td>\n",
              "    </tr>\n",
              "  </tbody>\n",
              "</table>\n",
              "<p>206 rows × 3 columns</p>\n",
              "</div>"
            ],
            "text/plain": [
              "          date      ndvi  is_cloud_free\n",
              "0   2019-01-02  0.045670              0\n",
              "1   2019-01-02  0.045670              0\n",
              "2   2019-01-07  0.023028              0\n",
              "3   2019-01-10  0.059419              0\n",
              "4   2019-01-12  0.033520              0\n",
              "..         ...       ...            ...\n",
              "201 2019-12-21  0.082549              0\n",
              "202 2019-12-23 -0.019091              0\n",
              "203 2019-12-23 -0.019088              0\n",
              "204 2019-12-26  0.061361              0\n",
              "205 2019-12-28  0.053907              0\n",
              "\n",
              "[206 rows x 3 columns]"
            ]
          },
          "metadata": {},
          "execution_count": 15
        }
      ]
    },
    {
      "cell_type": "markdown",
      "metadata": {
        "id": "pBs4vhHhF0vG"
      },
      "source": [
        "Видим, что для точки Sr_205_1 значения индекса NDVI распределены в течение 2019г."
      ]
    },
    {
      "cell_type": "code",
      "metadata": {
        "colab": {
          "base_uri": "https://localhost:8080/",
          "height": 621
        },
        "id": "TvjkcO5R5eAl",
        "outputId": "d42bca19-25c6-422e-8690-13245b5f086f"
      },
      "source": [
        "plt.figure(figsize=(15, 10))\n",
        "sns.lineplot(data=data_sr_205_1, x='date', y='ndvi')\n",
        "plt.ylabel('NDVI')\n",
        "plt.title('Изменение индекса NDVI для точки Sr_205_1 за 2019г.')\n",
        "plt.show()"
      ],
      "execution_count": 16,
      "outputs": [
        {
          "output_type": "display_data",
          "data": {
            "image/png": "[encoded data removed]",
            "text/plain": [
              "<Figure size 1080x720 with 1 Axes>"
            ]
          },
          "metadata": {
            "needs_background": "light"
          }
        }
      ]
    },
    {
      "cell_type": "markdown",
      "metadata": {
        "id": "PkxNiLcZG4Xa"
      },
      "source": [
        "На графике видно, что значения индекса могут довольно сильно изменяться в течение одного месяца."
      ]
    },
    {
      "cell_type": "markdown",
      "metadata": {
        "id": "k72KRZHAy0RT"
      },
      "source": [
        "*b. Постройте графики NDVI для точки Sr_205_ отдельно для безоблачных снимков и всех снимков (поле is_cloud_free).*\n",
        "\n",
        "Обратите внимание на поведение индекса. Сделайте вывод."
      ]
    },
    {
      "cell_type": "markdown",
      "metadata": {
        "id": "tPqXfrymG9fW"
      },
      "source": [
        "График NDVI для точки Sr_205_1 для всех снимков уже отображён выше.\n",
        "\n",
        "Посмотрим распределение значений по столбцу is_cloud_free.\n"
      ]
    },
    {
      "cell_type": "code",
      "metadata": {
        "colab": {
          "base_uri": "https://localhost:8080/",
          "height": 280
        },
        "id": "qJN9OmsXJJEX",
        "outputId": "4c291d3c-ec56-4724-e19f-3bd5f5dff08b"
      },
      "source": [
        "sns.countplot(data_sr_205_1['is_cloud_free'])\n",
        "plt.show()"
      ],
      "execution_count": 17,
      "outputs": [
        {
          "output_type": "display_data",
          "data": {
            "image/png": "[encoded data removed]",
            "text/plain": [
              "<Figure size 432x288 with 1 Axes>"
            ]
          },
          "metadata": {
            "needs_background": "light"
          }
        }
      ]
    },
    {
      "cell_type": "code",
      "metadata": {
        "colab": {
          "base_uri": "https://localhost:8080/"
        },
        "id": "MQcTzjmsJllX",
        "outputId": "246fc0d8-ccb1-4c17-c423-be274ea5a1e5"
      },
      "source": [
        "data_sr_205_1['is_cloud_free'].value_counts()"
      ],
      "execution_count": 18,
      "outputs": [
        {
          "output_type": "execute_result",
          "data": {
            "text/plain": [
              "0    157\n",
              "1     49\n",
              "Name: is_cloud_free, dtype: int64"
            ]
          },
          "metadata": {},
          "execution_count": 18
        }
      ]
    },
    {
      "cell_type": "markdown",
      "metadata": {
        "id": "CYsYh_ILJKum"
      },
      "source": [
        "Почти 24% снимков для точки Sr_205_1 - безоблачные.\n",
        "\n",
        "Построим аналогичный график только для безоблачных снимков."
      ]
    },
    {
      "cell_type": "code",
      "metadata": {
        "colab": {
          "base_uri": "https://localhost:8080/",
          "height": 622
        },
        "id": "JTkJRjfky1G7",
        "outputId": "9cd3b357-a07c-459a-efad-d8741d6b3f4d"
      },
      "source": [
        "plt.figure(figsize=(15, 10))\n",
        "sns.lineplot(data=data_sr_205_1[data_sr_205_1['is_cloud_free'] == 1], x='date', y='ndvi')\n",
        "plt.ylabel('NDVI')\n",
        "plt.title('Изменение индекса NDVI для точки Sr_205_1 за 2019г. для безоблачных снимков')\n",
        "plt.show()"
      ],
      "execution_count": 19,
      "outputs": [
        {
          "output_type": "display_data",
          "data": {
            "image/png": "[encoded data removed]",
            "text/plain": [
              "<Figure size 1080x720 with 1 Axes>"
            ]
          },
          "metadata": {
            "needs_background": "light"
          }
        }
      ]
    },
    {
      "cell_type": "markdown",
      "metadata": {
        "id": "8NmIYGQ5IPY_"
      },
      "source": [
        "Как мы помним из описания предметной области, для здоровых растений индекс NDVI, как правило, принимает значение от 0,2 до 0,9. В тоже время при отрицательных и близких к нулю значениях индекса рекомендовано предполагать, что перед нами не растение. При наличии облачности на снимке индекс стремится к нулю.\n",
        "\n",
        "Таким образом, мы видим, что на общем графике для всех снимков такой разброс значений обусловлен облачностью. В тоже время значения индекса для всех снимков лежат около нуля в начале и в конце года - как мы помним, в холодное время года с конца осени по начало весны в европейской части Земли небо, как правило, больше затянуто облаками, что обеспечивает преимущественно околонулевые значения индекса в начале и в конце графика. Данный вывод корректен при допущении, что спутники Европейского космического агентства делают снимки на территории Европы."
      ]
    },
    {
      "cell_type": "markdown",
      "metadata": {
        "id": "IyakZs-pM13E"
      },
      "source": [
        "***3. Постройте модель определения облачности***"
      ]
    },
    {
      "cell_type": "markdown",
      "metadata": {
        "id": "8DMUxjOEM19U"
      },
      "source": [
        "*a. Удалите столбцы перед обучение модели ('subpoint_id', 'date', рассчитанный NDVI)*"
      ]
    },
    {
      "cell_type": "code",
      "metadata": {
        "colab": {
          "base_uri": "https://localhost:8080/",
          "height": 204
        },
        "id": "0KFPA2vZsasR",
        "outputId": "dbae9d5c-a189-45a9-8b5f-ee05e6bd66ea"
      },
      "source": [
        "data = data.drop(['subpoint_id', 'date', 'ndvi_calculated',\t'ndvi_mae'], axis=1)\n",
        "data.head()"
      ],
      "execution_count": 20,
      "outputs": [
        {
          "output_type": "execute_result",
          "data": {
            "text/html": [
              "<div>\n",
              "<style scoped>\n",
              "    .dataframe tbody tr th:only-of-type {\n",
              "        vertical-align: middle;\n",
              "    }\n",
              "\n",
              "    .dataframe tbody tr th {\n",
              "        vertical-align: top;\n",
              "    }\n",
              "\n",
              "    .dataframe thead th {\n",
              "        text-align: right;\n",
              "    }\n",
              "</style>\n",
              "<table border=\"1\" class=\"dataframe\">\n",
              "  <thead>\n",
              "    <tr style=\"text-align: right;\">\n",
              "      <th></th>\n",
              "      <th>is_cloud_free</th>\n",
              "      <th>b01</th>\n",
              "      <th>b02</th>\n",
              "      <th>b03</th>\n",
              "      <th>b04</th>\n",
              "      <th>b05</th>\n",
              "      <th>b06</th>\n",
              "      <th>b07</th>\n",
              "      <th>b08</th>\n",
              "      <th>b8a</th>\n",
              "      <th>b09</th>\n",
              "      <th>b10</th>\n",
              "      <th>b11</th>\n",
              "      <th>b12</th>\n",
              "      <th>ndvi</th>\n",
              "    </tr>\n",
              "  </thead>\n",
              "  <tbody>\n",
              "    <tr>\n",
              "      <th>0</th>\n",
              "      <td>0</td>\n",
              "      <td>0.5138</td>\n",
              "      <td>0.4963</td>\n",
              "      <td>0.4455</td>\n",
              "      <td>0.4924</td>\n",
              "      <td>0.4932</td>\n",
              "      <td>0.5166</td>\n",
              "      <td>0.5393</td>\n",
              "      <td>0.5107</td>\n",
              "      <td>0.5479</td>\n",
              "      <td>0.2708</td>\n",
              "      <td>0.0092</td>\n",
              "      <td>0.3891</td>\n",
              "      <td>0.3258</td>\n",
              "      <td>0.053350</td>\n",
              "    </tr>\n",
              "    <tr>\n",
              "      <th>1</th>\n",
              "      <td>0</td>\n",
              "      <td>0.4489</td>\n",
              "      <td>0.4213</td>\n",
              "      <td>0.3800</td>\n",
              "      <td>0.3995</td>\n",
              "      <td>0.4100</td>\n",
              "      <td>0.4299</td>\n",
              "      <td>0.4341</td>\n",
              "      <td>0.4245</td>\n",
              "      <td>0.4440</td>\n",
              "      <td>0.3081</td>\n",
              "      <td>0.1443</td>\n",
              "      <td>0.2508</td>\n",
              "      <td>0.2551</td>\n",
              "      <td>0.052756</td>\n",
              "    </tr>\n",
              "    <tr>\n",
              "      <th>2</th>\n",
              "      <td>0</td>\n",
              "      <td>0.5557</td>\n",
              "      <td>0.5389</td>\n",
              "      <td>0.4700</td>\n",
              "      <td>0.5047</td>\n",
              "      <td>0.5160</td>\n",
              "      <td>0.5273</td>\n",
              "      <td>0.5406</td>\n",
              "      <td>0.5256</td>\n",
              "      <td>0.5408</td>\n",
              "      <td>0.2433</td>\n",
              "      <td>0.0041</td>\n",
              "      <td>0.4014</td>\n",
              "      <td>0.3189</td>\n",
              "      <td>0.034529</td>\n",
              "    </tr>\n",
              "    <tr>\n",
              "      <th>3</th>\n",
              "      <td>0</td>\n",
              "      <td>0.6908</td>\n",
              "      <td>0.6897</td>\n",
              "      <td>0.6244</td>\n",
              "      <td>0.7206</td>\n",
              "      <td>0.7285</td>\n",
              "      <td>0.7430</td>\n",
              "      <td>0.7597</td>\n",
              "      <td>0.7388</td>\n",
              "      <td>0.7718</td>\n",
              "      <td>0.2515</td>\n",
              "      <td>0.0033</td>\n",
              "      <td>0.5589</td>\n",
              "      <td>0.3885</td>\n",
              "      <td>0.034307</td>\n",
              "    </tr>\n",
              "    <tr>\n",
              "      <th>4</th>\n",
              "      <td>0</td>\n",
              "      <td>0.4461</td>\n",
              "      <td>0.4143</td>\n",
              "      <td>0.3245</td>\n",
              "      <td>0.3428</td>\n",
              "      <td>0.3553</td>\n",
              "      <td>0.3788</td>\n",
              "      <td>0.3903</td>\n",
              "      <td>0.3674</td>\n",
              "      <td>0.3918</td>\n",
              "      <td>0.1909</td>\n",
              "      <td>0.0239</td>\n",
              "      <td>0.2154</td>\n",
              "      <td>0.1887</td>\n",
              "      <td>0.066703</td>\n",
              "    </tr>\n",
              "  </tbody>\n",
              "</table>\n",
              "</div>"
            ],
            "text/plain": [
              "   is_cloud_free     b01     b02     b03  ...     b10     b11     b12      ndvi\n",
              "0              0  0.5138  0.4963  0.4455  ...  0.0092  0.3891  0.3258  0.053350\n",
              "1              0  0.4489  0.4213  0.3800  ...  0.1443  0.2508  0.2551  0.052756\n",
              "2              0  0.5557  0.5389  0.4700  ...  0.0041  0.4014  0.3189  0.034529\n",
              "3              0  0.6908  0.6897  0.6244  ...  0.0033  0.5589  0.3885  0.034307\n",
              "4              0  0.4461  0.4143  0.3245  ...  0.0239  0.2154  0.1887  0.066703\n",
              "\n",
              "[5 rows x 15 columns]"
            ]
          },
          "metadata": {},
          "execution_count": 20
        }
      ]
    },
    {
      "cell_type": "markdown",
      "metadata": {
        "id": "rKvFmRGDNLAT"
      },
      "source": [
        "*b. Разбейте выборку на 2 – train, valid в соотношении 75/25.*"
      ]
    },
    {
      "cell_type": "code",
      "metadata": {
        "id": "FsB67HHjsgSv"
      },
      "source": [
        "X_train, x_valid, y_train, y_valid = train_test_split(data.iloc[:, 1:], data['is_cloud_free'], train_size=0.75, stratify=data['is_cloud_free'])"
      ],
      "execution_count": 21,
      "outputs": []
    },
    {
      "cell_type": "markdown",
      "metadata": {
        "id": "b4ryZyPcNLEY"
      },
      "source": [
        "*c. Посмотрите, сбалансированы ли данные на всей выборке; в случае дисбаланса используйте технику upsample для создания сбалансированной выборки, далее используйте её в качестве обучающей.*"
      ]
    },
    {
      "cell_type": "markdown",
      "metadata": {
        "id": "UAtkML59SJ2r"
      },
      "source": [
        "Ранее уже было отмечено, что количество безоблачных снимков намного меньше, т.е. данные не сбалансированы, смещение в сторону снимков с облаками (data['is_cloud_free'] == 1)"
      ]
    },
    {
      "cell_type": "code",
      "metadata": {
        "colab": {
          "base_uri": "https://localhost:8080/"
        },
        "id": "vd6tTBq7spoR",
        "outputId": "9031f9fb-0a97-4c64-a8a8-d5c2fbbe49d0"
      },
      "source": [
        "# ещё раз посмотрим распределение меток классов в таблицe data\n",
        "data['is_cloud_free'].value_counts()"
      ],
      "execution_count": 22,
      "outputs": [
        {
          "output_type": "execute_result",
          "data": {
            "text/plain": [
              "0    1621\n",
              "1     479\n",
              "Name: is_cloud_free, dtype: int64"
            ]
          },
          "metadata": {},
          "execution_count": 22
        }
      ]
    },
    {
      "cell_type": "code",
      "metadata": {
        "colab": {
          "base_uri": "https://localhost:8080/"
        },
        "id": "z-6Ni1aTWs1h",
        "outputId": "8474079a-171b-4258-d102-2739199834a7"
      },
      "source": [
        "# посмотрим соотношение - во сколько раз нулей больше, чем единиц\n",
        "is_cloud_free_values_ratio = round(len(data[data['is_cloud_free'] == 0]) / len(data[data['is_cloud_free'] == 1]), 1)\n",
        "is_cloud_free_values_ratio"
      ],
      "execution_count": 23,
      "outputs": [
        {
          "output_type": "execute_result",
          "data": {
            "text/plain": [
              "3.4"
            ]
          },
          "metadata": {},
          "execution_count": 23
        }
      ]
    },
    {
      "cell_type": "markdown",
      "metadata": {
        "id": "tbYGU_4ef66d"
      },
      "source": [
        "Поскольку классы в выборке не сбалансированы, использованное выше разбиение датасета на части для обучения и валидации не совсем корректно.\n",
        "\n",
        "Используем upsampling. Для этого нужно добавить в датасет записей со значением data['is_cloud_free'] == 1 в количестве is_cloud_free_values_ratio == 3.4 раз."
      ]
    },
    {
      "cell_type": "code",
      "metadata": {
        "id": "nhDu0jAgfTIA"
      },
      "source": [
        "data_is_cloud_free = data[data['is_cloud_free'] == 1]\n",
        "data_is_cloud_free = data_is_cloud_free.loc[data_is_cloud_free.index.repeat(is_cloud_free_values_ratio)]\n",
        "data = pd.concat([data[data['is_cloud_free']==0], data_is_cloud_free]).reset_index(drop=True)"
      ],
      "execution_count": 24,
      "outputs": []
    },
    {
      "cell_type": "code",
      "metadata": {
        "colab": {
          "base_uri": "https://localhost:8080/"
        },
        "id": "GlnWIUwQnkPM",
        "outputId": "eec81237-23f0-4a58-dc2f-12e872e6dee2"
      },
      "source": [
        "# снова посмотрим распределение меток классов в таблицe data\n",
        "data['is_cloud_free'].value_counts()"
      ],
      "execution_count": 25,
      "outputs": [
        {
          "output_type": "execute_result",
          "data": {
            "text/plain": [
              "0    1621\n",
              "1    1437\n",
              "Name: is_cloud_free, dtype: int64"
            ]
          },
          "metadata": {},
          "execution_count": 25
        }
      ]
    },
    {
      "cell_type": "markdown",
      "metadata": {
        "id": "2ebATRfYoFjc"
      },
      "source": [
        "Распределение отличается, т.к. ранее значение is_cloud_free_values_ratio было округлено. В целом, теперь, после применения техники upsample, выборку можно считать сбалансированной."
      ]
    },
    {
      "cell_type": "code",
      "metadata": {
        "id": "B7LatRRMof_l"
      },
      "source": [
        "# повторим разбиение на обучающую и валидационную выборки\n",
        "X_train, x_valid, y_train, y_valid = train_test_split(data.iloc[:, 1:], data['is_cloud_free'], train_size=0.75, stratify=data['is_cloud_free'])"
      ],
      "execution_count": 26,
      "outputs": []
    },
    {
      "cell_type": "markdown",
      "metadata": {
        "id": "rbPwxbKBNLHs"
      },
      "source": [
        "*d. Обучите различные модели на обучающей сбалансированной выборке и найдите F1_score для валидационной выборки.*"
      ]
    },
    {
      "cell_type": "markdown",
      "metadata": {
        "id": "bfQ7f8rIqFLD"
      },
      "source": [
        "Попробуем применить основные классические алгоритмы машинного обучения с гиперпараметрами по умолчанию."
      ]
    },
    {
      "cell_type": "markdown",
      "metadata": {
        "id": "lc_BwLdUrGM4"
      },
      "source": [
        "**1) K-Nearest Neighbors (KNN)**"
      ]
    },
    {
      "cell_type": "code",
      "metadata": {
        "colab": {
          "base_uri": "https://localhost:8080/"
        },
        "id": "Dz6U7BfesuGO",
        "outputId": "bc1739c3-0d7c-4d7d-969b-d60a2e951419"
      },
      "source": [
        "model_knn = KNeighborsClassifier()\n",
        "model_knn.fit(X_train, y_train)\n",
        "predicted_knn = model_knn.predict(x_valid)\n",
        "f1_score(y_valid, predicted_knn)"
      ],
      "execution_count": 27,
      "outputs": [
        {
          "output_type": "execute_result",
          "data": {
            "text/plain": [
              "0.935483870967742"
            ]
          },
          "metadata": {},
          "execution_count": 27
        }
      ]
    },
    {
      "cell_type": "markdown",
      "metadata": {
        "id": "N1Z36ksutSpb"
      },
      "source": [
        "**2) Logistic regression**"
      ]
    },
    {
      "cell_type": "code",
      "metadata": {
        "colab": {
          "base_uri": "https://localhost:8080/"
        },
        "id": "p45z8t-ktTNv",
        "outputId": "5838bb79-583b-4145-ff45-ed17224b50be"
      },
      "source": [
        "model_log_reg = LogisticRegression()\n",
        "model_log_reg.fit(X_train, y_train)\n",
        "predicted_log_reg = model_log_reg.predict(x_valid)\n",
        "f1_score(y_valid, predicted_log_reg)"
      ],
      "execution_count": 28,
      "outputs": [
        {
          "output_type": "execute_result",
          "data": {
            "text/plain": [
              "0.8526315789473684"
            ]
          },
          "metadata": {},
          "execution_count": 28
        }
      ]
    },
    {
      "cell_type": "markdown",
      "metadata": {
        "id": "rlBUCF5WjoqR"
      },
      "source": [
        "**3) Naive Bayes**"
      ]
    },
    {
      "cell_type": "code",
      "metadata": {
        "colab": {
          "base_uri": "https://localhost:8080/"
        },
        "id": "TRk8Pm9_jpQP",
        "outputId": "6e4c9b99-7892-4f8f-9489-0292c7ea4a8b"
      },
      "source": [
        "model_nb = GaussianNB()\n",
        "model_nb.fit(X_train, y_train)\n",
        "predicted_nb = model_nb.predict(x_valid)\n",
        "f1_score(y_valid, predicted_nb)"
      ],
      "execution_count": 29,
      "outputs": [
        {
          "output_type": "execute_result",
          "data": {
            "text/plain": [
              "0.8437917222963953"
            ]
          },
          "metadata": {},
          "execution_count": 29
        }
      ]
    },
    {
      "cell_type": "markdown",
      "metadata": {
        "id": "8KMek8S-k2Wb"
      },
      "source": [
        "**4) Decision Tree**"
      ]
    },
    {
      "cell_type": "code",
      "metadata": {
        "colab": {
          "base_uri": "https://localhost:8080/"
        },
        "id": "B0vjSS7Pk28a",
        "outputId": "a9ebc2ae-bdf2-49d3-c963-0bb25ed960e0"
      },
      "source": [
        "model_dt = DecisionTreeClassifier()\n",
        "model_dt.fit(X_train, y_train)\n",
        "predicted_dt = model_dt.predict(x_valid)\n",
        "f1_score(y_valid, predicted_dt)"
      ],
      "execution_count": 30,
      "outputs": [
        {
          "output_type": "execute_result",
          "data": {
            "text/plain": [
              "0.9876203576341127"
            ]
          },
          "metadata": {},
          "execution_count": 30
        }
      ]
    },
    {
      "cell_type": "markdown",
      "metadata": {
        "id": "4KU7qgpmlTDT"
      },
      "source": [
        "**5) Support Vector Machines (SVM)**"
      ]
    },
    {
      "cell_type": "code",
      "metadata": {
        "colab": {
          "base_uri": "https://localhost:8080/"
        },
        "id": "ZKvCCYzFlTlX",
        "outputId": "6e3302de-8179-4abf-a856-35755be06702"
      },
      "source": [
        "model_svm = SVC()\n",
        "model_svm.fit(X_train, y_train)\n",
        "predicted_svm = model_svm.predict(x_valid)\n",
        "f1_score(y_valid, predicted_svm)"
      ],
      "execution_count": 31,
      "outputs": [
        {
          "output_type": "execute_result",
          "data": {
            "text/plain": [
              "0.9161118508655125"
            ]
          },
          "metadata": {},
          "execution_count": 31
        }
      ]
    },
    {
      "cell_type": "markdown",
      "metadata": {
        "id": "SRB2nQ4Ulx3L"
      },
      "source": [
        "**6) Random Forest**"
      ]
    },
    {
      "cell_type": "code",
      "metadata": {
        "colab": {
          "base_uri": "https://localhost:8080/"
        },
        "id": "2VLAdbUnlyYz",
        "outputId": "adc5a043-3609-47d2-8f5e-3021f4f3f2ff"
      },
      "source": [
        "model_rf = RandomForestClassifier()\n",
        "model_rf.fit(X_train, y_train)\n",
        "predicted_rf = model_rf.predict(x_valid)\n",
        "f1_score(y_valid, predicted_rf)"
      ],
      "execution_count": 32,
      "outputs": [
        {
          "output_type": "execute_result",
          "data": {
            "text/plain": [
              "0.9930843706777317"
            ]
          },
          "metadata": {},
          "execution_count": 32
        }
      ]
    },
    {
      "cell_type": "markdown",
      "metadata": {
        "id": "rJ7ZEu2inKfr"
      },
      "source": [
        "**7) XGBoost**"
      ]
    },
    {
      "cell_type": "code",
      "metadata": {
        "colab": {
          "base_uri": "https://localhost:8080/"
        },
        "id": "KzQDKnprnLD0",
        "outputId": "3512539c-194b-4540-82fa-42e71700e0ab"
      },
      "source": [
        "model_xgb = XGBClassifier()\n",
        "model_xgb.fit(X_train, y_train)\n",
        "predicted_xgb = model_xgb.predict(x_valid)\n",
        "f1_score(y_valid, predicted_xgb)"
      ],
      "execution_count": 33,
      "outputs": [
        {
          "output_type": "execute_result",
          "data": {
            "text/plain": [
              "0.9779614325068869"
            ]
          },
          "metadata": {},
          "execution_count": 33
        }
      ]
    },
    {
      "cell_type": "markdown",
      "metadata": {
        "id": "qtNu1wsyqOdE"
      },
      "source": [
        "**8) CatBoost**"
      ]
    },
    {
      "cell_type": "code",
      "metadata": {
        "colab": {
          "base_uri": "https://localhost:8080/"
        },
        "id": "E7rb8BBPqO16",
        "outputId": "1e97027f-5654-4614-94b4-155492f94b6a"
      },
      "source": [
        "model_cat = CatBoostClassifier()\n",
        "model_cat.fit(X_train, y_train, verbose=200)\n",
        "predicted_cat = model_cat.predict(x_valid)\n",
        "f1_score(y_valid, predicted_cat)"
      ],
      "execution_count": 34,
      "outputs": [
        {
          "output_type": "stream",
          "text": [
            "Learning rate set to 0.014683\n",
            "0:\tlearn: 0.6662547\ttotal: 54.7ms\tremaining: 54.6s\n",
            "200:\tlearn: 0.0824873\ttotal: 1.04s\tremaining: 4.13s\n",
            "400:\tlearn: 0.0489085\ttotal: 2.02s\tremaining: 3.02s\n",
            "600:\tlearn: 0.0326153\ttotal: 3s\tremaining: 1.99s\n",
            "800:\tlearn: 0.0225984\ttotal: 3.96s\tremaining: 984ms\n",
            "999:\tlearn: 0.0167841\ttotal: 4.92s\tremaining: 0us\n"
          ],
          "name": "stdout"
        },
        {
          "output_type": "execute_result",
          "data": {
            "text/plain": [
              "0.9944598337950139"
            ]
          },
          "metadata": {},
          "execution_count": 34
        }
      ]
    },
    {
      "cell_type": "markdown",
      "metadata": {
        "id": "M0OLHEHeq3-q"
      },
      "source": [
        "Очевидно, что наилучшие результаты без углубления в подбор гиперпараметров показывают так называемые \"деревянные\" алгоритмы, т.е. модели, в основе которых лежат деревья решений.\n",
        "Далее попробуем улучшить результат, работая с четырьмя моделями с наивысшим значением метрики F1 score:\n",
        "- XGBoost (F1 score = 0.9779);\n",
        "- Decision Tree (F1 score = 0.9876);\n",
        "- Random Forest (F1 score = 0.9930);\n",
        "- CatBoost (F1 score = 0.9944)."
      ]
    },
    {
      "cell_type": "markdown",
      "metadata": {
        "id": "JR-ab65iszOe"
      },
      "source": [
        "*e. Выберите лучшую модель и гиперпараметры, проверьте ваш результат.*"
      ]
    },
    {
      "cell_type": "markdown",
      "metadata": {
        "id": "Grh_1rVgubQQ"
      },
      "source": [
        "Для подбора гиперпараметров воспользуемся GridSearchCV."
      ]
    },
    {
      "cell_type": "markdown",
      "metadata": {
        "id": "sI5q0Dhlvn9g"
      },
      "source": [
        "**1) XGBoost**"
      ]
    },
    {
      "cell_type": "code",
      "metadata": {
        "colab": {
          "base_uri": "https://localhost:8080/"
        },
        "id": "Moc3N0O5s1rm",
        "outputId": "8b2dc023-0672-476d-ad62-f697be938f45"
      },
      "source": [
        "# задаём словарь из возможных значений гиперпараметров и запускаем поиск лучших значений\n",
        "params_grid_xgb = {'max_depth': np.arange(6),\n",
        "                   'n_estimators': [100, 200],\n",
        "                   'min_child_weight': [1, 5, 10],\n",
        "                   'gamma': [0.5, 1, 1.5, 2, 5]}\n",
        "\n",
        "grid_xgb = GridSearchCV(XGBClassifier(), params_grid_xgb)\n",
        "grid_xgb.fit(X_train, y_train)"
      ],
      "execution_count": 35,
      "outputs": [
        {
          "output_type": "execute_result",
          "data": {
            "text/plain": [
              "GridSearchCV(cv=None, error_score=nan,\n",
              "             estimator=XGBClassifier(base_score=0.5, booster='gbtree',\n",
              "                                     colsample_bylevel=1, colsample_bynode=1,\n",
              "                                     colsample_bytree=1, gamma=0,\n",
              "                                     learning_rate=0.1, max_delta_step=0,\n",
              "                                     max_depth=3, min_child_weight=1,\n",
              "                                     missing=None, n_estimators=100, n_jobs=1,\n",
              "                                     nthread=None, objective='binary:logistic',\n",
              "                                     random_state=0, reg_alpha=0, reg_lambda=1,\n",
              "                                     scale_pos_weight=1, seed=None, silent=None,\n",
              "                                     subsample=1, verbosity=1),\n",
              "             iid='deprecated', n_jobs=None,\n",
              "             param_grid={'gamma': [0.5, 1, 1.5, 2, 5],\n",
              "                         'max_depth': array([0, 1, 2, 3, 4, 5]),\n",
              "                         'min_child_weight': [1, 5, 10],\n",
              "                         'n_estimators': [100, 200]},\n",
              "             pre_dispatch='2*n_jobs', refit=True, return_train_score=False,\n",
              "             scoring=None, verbose=0)"
            ]
          },
          "metadata": {},
          "execution_count": 35
        }
      ]
    },
    {
      "cell_type": "code",
      "metadata": {
        "colab": {
          "base_uri": "https://localhost:8080/"
        },
        "id": "2u4ZUL4KyaW7",
        "outputId": "b3fb9975-ad85-42cd-8a88-fe9072059455"
      },
      "source": [
        "grid_xgb.best_params_"
      ],
      "execution_count": 36,
      "outputs": [
        {
          "output_type": "execute_result",
          "data": {
            "text/plain": [
              "{'gamma': 0.5, 'max_depth': 3, 'min_child_weight': 1, 'n_estimators': 200}"
            ]
          },
          "metadata": {},
          "execution_count": 36
        }
      ]
    },
    {
      "cell_type": "code",
      "metadata": {
        "colab": {
          "base_uri": "https://localhost:8080/"
        },
        "id": "FoK4G_oBzktp",
        "outputId": "1edd9086-6645-4fdb-b5f9-0380240ddc33"
      },
      "source": [
        "# запустим классификатор с наилучшими гиперпараметрами\n",
        "model_xgb_best_params = XGBClassifier(gamma=0.5, max_depth=3, min_child_weight=1, n_estimators=200)\n",
        "model_xgb_best_params.fit(X_train, y_train)\n",
        "predicted_xgb_best_params = model_xgb_best_params.predict(x_valid)\n",
        "f1_score(y_valid, predicted_xgb_best_params)"
      ],
      "execution_count": 37,
      "outputs": [
        {
          "output_type": "execute_result",
          "data": {
            "text/plain": [
              "0.9903448275862068"
            ]
          },
          "metadata": {},
          "execution_count": 37
        }
      ]
    },
    {
      "cell_type": "markdown",
      "metadata": {
        "id": "RW_t6Joz-xOn"
      },
      "source": [
        "В результате применения GridSearchCV метрика F1 score улучшилась с 0.9779 до 0.9903."
      ]
    },
    {
      "cell_type": "markdown",
      "metadata": {
        "id": "nvggYTgy_1Mv"
      },
      "source": [
        "**2) Decision Tree**"
      ]
    },
    {
      "cell_type": "code",
      "metadata": {
        "colab": {
          "base_uri": "https://localhost:8080/"
        },
        "id": "aHd9ykAH_74_",
        "outputId": "4d4514fb-c147-4c79-8333-29c1d6ff6933"
      },
      "source": [
        "# задаём словарь из возможных значений гиперпараметров и запускаем поиск лучших значений\n",
        "params_grid_dt = {'criterion': ['gini', 'entropy'],\n",
        "                  'min_samples_split': [2, 3, 4],\n",
        "                  'max_depth': [2, 6, 8, 10]}\n",
        "\n",
        "grid_dt = GridSearchCV(DecisionTreeClassifier(), params_grid_dt)\n",
        "grid_dt.fit(X_train, y_train)"
      ],
      "execution_count": 38,
      "outputs": [
        {
          "output_type": "execute_result",
          "data": {
            "text/plain": [
              "GridSearchCV(cv=None, error_score=nan,\n",
              "             estimator=DecisionTreeClassifier(ccp_alpha=0.0, class_weight=None,\n",
              "                                              criterion='gini', max_depth=None,\n",
              "                                              max_features=None,\n",
              "                                              max_leaf_nodes=None,\n",
              "                                              min_impurity_decrease=0.0,\n",
              "                                              min_impurity_split=None,\n",
              "                                              min_samples_leaf=1,\n",
              "                                              min_samples_split=2,\n",
              "                                              min_weight_fraction_leaf=0.0,\n",
              "                                              presort='deprecated',\n",
              "                                              random_state=None,\n",
              "                                              splitter='best'),\n",
              "             iid='deprecated', n_jobs=None,\n",
              "             param_grid={'criterion': ['gini', 'entropy'],\n",
              "                         'max_depth': [2, 6, 8, 10],\n",
              "                         'min_samples_split': [2, 3, 4]},\n",
              "             pre_dispatch='2*n_jobs', refit=True, return_train_score=False,\n",
              "             scoring=None, verbose=0)"
            ]
          },
          "metadata": {},
          "execution_count": 38
        }
      ]
    },
    {
      "cell_type": "code",
      "metadata": {
        "colab": {
          "base_uri": "https://localhost:8080/"
        },
        "id": "82YqGhEG_8Bi",
        "outputId": "78e0ebc9-0da6-4ff4-8eb4-8bbc22b9e82b"
      },
      "source": [
        "grid_dt.best_params_"
      ],
      "execution_count": 39,
      "outputs": [
        {
          "output_type": "execute_result",
          "data": {
            "text/plain": [
              "{'criterion': 'entropy', 'max_depth': 10, 'min_samples_split': 3}"
            ]
          },
          "metadata": {},
          "execution_count": 39
        }
      ]
    },
    {
      "cell_type": "code",
      "metadata": {
        "colab": {
          "base_uri": "https://localhost:8080/"
        },
        "id": "hn9Rbf7n_8Hk",
        "outputId": "8b17f4a1-609e-483d-fa84-023ca874a5c8"
      },
      "source": [
        "# запустим классификатор с наилучшими гиперпараметрами\n",
        "model_dt_best_params = DecisionTreeClassifier(criterion='entropy', max_depth=10, min_samples_split=3)\n",
        "model_dt_best_params.fit(X_train, y_train)\n",
        "predicted_dt_best_params = model_dt_best_params.predict(x_valid)\n",
        "f1_score(y_valid, predicted_dt_best_params)"
      ],
      "execution_count": 40,
      "outputs": [
        {
          "output_type": "execute_result",
          "data": {
            "text/plain": [
              "0.9821182943603851"
            ]
          },
          "metadata": {},
          "execution_count": 40
        }
      ]
    },
    {
      "cell_type": "markdown",
      "metadata": {
        "id": "Q_uCRg02_8f2"
      },
      "source": [
        "В результате применения GridSearchCV метрика F1 score ухудшилась с 0.9876 до 0.9821."
      ]
    },
    {
      "cell_type": "markdown",
      "metadata": {
        "id": "HiM4U9kuy1mC"
      },
      "source": [
        "**3) Random Forest**"
      ]
    },
    {
      "cell_type": "code",
      "metadata": {
        "colab": {
          "base_uri": "https://localhost:8080/"
        },
        "id": "iTOpHuDRy2_3",
        "outputId": "a4bbfa3f-55bf-4dec-b9a8-1a9142613f0a"
      },
      "source": [
        "# задаём словарь из возможных значений гиперпараметров и запускаем поиск лучших значений\n",
        "params_grid_rf = {'max_depth': np.arange(6),\n",
        "                  'n_estimators': [200, 500, 1000],\n",
        "                  'max_features': ['auto', 'sqrt', 'log2']}\n",
        "\n",
        "grid_rf = GridSearchCV(RandomForestClassifier(), params_grid_rf)\n",
        "grid_rf.fit(X_train, y_train)"
      ],
      "execution_count": 41,
      "outputs": [
        {
          "output_type": "execute_result",
          "data": {
            "text/plain": [
              "GridSearchCV(cv=None, error_score=nan,\n",
              "             estimator=RandomForestClassifier(bootstrap=True, ccp_alpha=0.0,\n",
              "                                              class_weight=None,\n",
              "                                              criterion='gini', max_depth=None,\n",
              "                                              max_features='auto',\n",
              "                                              max_leaf_nodes=None,\n",
              "                                              max_samples=None,\n",
              "                                              min_impurity_decrease=0.0,\n",
              "                                              min_impurity_split=None,\n",
              "                                              min_samples_leaf=1,\n",
              "                                              min_samples_split=2,\n",
              "                                              min_weight_fraction_leaf=0.0,\n",
              "                                              n_estimators=100, n_jobs=None,\n",
              "                                              oob_score=False,\n",
              "                                              random_state=None, verbose=0,\n",
              "                                              warm_start=False),\n",
              "             iid='deprecated', n_jobs=None,\n",
              "             param_grid={'max_depth': array([0, 1, 2, 3, 4, 5]),\n",
              "                         'max_features': ['auto', 'sqrt', 'log2'],\n",
              "                         'n_estimators': [200, 500, 1000]},\n",
              "             pre_dispatch='2*n_jobs', refit=True, return_train_score=False,\n",
              "             scoring=None, verbose=0)"
            ]
          },
          "metadata": {},
          "execution_count": 41
        }
      ]
    },
    {
      "cell_type": "code",
      "metadata": {
        "colab": {
          "base_uri": "https://localhost:8080/"
        },
        "id": "rlO7lIeN099D",
        "outputId": "ae17ac37-588e-4662-f147-80011ad70d38"
      },
      "source": [
        "grid_rf.best_params_"
      ],
      "execution_count": 42,
      "outputs": [
        {
          "output_type": "execute_result",
          "data": {
            "text/plain": [
              "{'max_depth': 5, 'max_features': 'log2', 'n_estimators': 1000}"
            ]
          },
          "metadata": {},
          "execution_count": 42
        }
      ]
    },
    {
      "cell_type": "code",
      "metadata": {
        "colab": {
          "base_uri": "https://localhost:8080/"
        },
        "id": "cXqijGrky47W",
        "outputId": "b8dbbd88-4257-46d6-9e8f-b9aa84312366"
      },
      "source": [
        "# запустим классификатор с наилучшими гиперпараметрами\n",
        "model_rf_best_params = RandomForestClassifier(max_depth=5, max_features='log2', n_estimators=1000)\n",
        "model_rf_best_params.fit(X_train, y_train)\n",
        "predicted_rf_best_params = model_rf_best_params.predict(x_valid)\n",
        "f1_score(y_valid, predicted_rf_best_params)"
      ],
      "execution_count": 43,
      "outputs": [
        {
          "output_type": "execute_result",
          "data": {
            "text/plain": [
              "0.957004160887656"
            ]
          },
          "metadata": {},
          "execution_count": 43
        }
      ]
    },
    {
      "cell_type": "markdown",
      "metadata": {
        "id": "78uObq_SCX9r"
      },
      "source": [
        "В результате применения GridSearchCV метрика F1 score ухудшилась с 0.9930 до 0.9570."
      ]
    },
    {
      "cell_type": "markdown",
      "metadata": {
        "id": "W1Goi4Kdy5kJ"
      },
      "source": [
        "**4) CatBoost**"
      ]
    },
    {
      "cell_type": "code",
      "metadata": {
        "colab": {
          "base_uri": "https://localhost:8080/"
        },
        "id": "Lf6H5WoUy5-L",
        "outputId": "17d65ac1-9a57-4f0c-d02e-a5fb2891f035"
      },
      "source": [
        "# задаём словарь из возможных значений гиперпараметров и запускаем поиск лучших значений\n",
        "params_grid_cat = {'depth': [4, 6, 10],\n",
        "                   'loss_function': ['Logloss', 'CrossEntropy'],\n",
        "                   'iterations' : [10, 50, 100]}\n",
        "\n",
        "grid_cat = GridSearchCV(CatBoostClassifier(), params_grid_cat)\n",
        "grid_cat.fit(X_train, y_train, verbose=False)"
      ],
      "execution_count": 44,
      "outputs": [
        {
          "output_type": "execute_result",
          "data": {
            "text/plain": [
              "GridSearchCV(cv=None, error_score=nan,\n",
              "             estimator=<catboost.core.CatBoostClassifier object at 0x7fb20ffa8c10>,\n",
              "             iid='deprecated', n_jobs=None,\n",
              "             param_grid={'depth': [4, 6, 10], 'iterations': [10, 50, 100],\n",
              "                         'loss_function': ['Logloss', 'CrossEntropy']},\n",
              "             pre_dispatch='2*n_jobs', refit=True, return_train_score=False,\n",
              "             scoring=None, verbose=0)"
            ]
          },
          "metadata": {},
          "execution_count": 44
        }
      ]
    },
    {
      "cell_type": "code",
      "metadata": {
        "colab": {
          "base_uri": "https://localhost:8080/"
        },
        "id": "UYAPLC1dy6DO",
        "outputId": "63d8a8d9-40df-4bf4-a023-2fc97be287c4"
      },
      "source": [
        "grid_cat.best_params_"
      ],
      "execution_count": 45,
      "outputs": [
        {
          "output_type": "execute_result",
          "data": {
            "text/plain": [
              "{'depth': 10, 'iterations': 100, 'loss_function': 'Logloss'}"
            ]
          },
          "metadata": {},
          "execution_count": 45
        }
      ]
    },
    {
      "cell_type": "code",
      "metadata": {
        "colab": {
          "base_uri": "https://localhost:8080/",
          "height": 136,
          "referenced_widgets": [
            "1b96e2831ffe499bad60dddf5177b13a"
          ]
        },
        "id": "4F3kI9d41AOE",
        "outputId": "fb6d2c95-7850-41ad-f49b-cd786c21740b"
      },
      "source": [
        "# запустим классификатор с наилучшими гиперпараметрами\n",
        "model_cat_best_params = CatBoostClassifier(depth=10, iterations=100, loss_function='Logloss')\n",
        "model_cat_best_params.fit(X_train, y_train, verbose=25, plot=True)\n",
        "predicted_cat_best_params = model_cat_best_params.predict(x_valid)\n",
        "f1_score(y_valid, predicted_cat_best_params)"
      ],
      "execution_count": 46,
      "outputs": [
        {
          "output_type": "display_data",
          "data": {
            "application/vnd.jupyter.widget-view+json": {
              "model_id": "1b96e2831ffe499bad60dddf5177b13a",
              "version_minor": 0,
              "version_major": 2
            },
            "text/plain": [
              "MetricVisualizer(layout=Layout(align_self='stretch', height='500px'))"
            ]
          },
          "metadata": {}
        },
        {
          "output_type": "stream",
          "text": [
            "Learning rate set to 0.12129\n",
            "0:\tlearn: 0.6112045\ttotal: 35.8ms\tremaining: 3.54s\n",
            "25:\tlearn: 0.1338633\ttotal: 917ms\tremaining: 2.61s\n",
            "50:\tlearn: 0.0803855\ttotal: 1.79s\tremaining: 1.72s\n",
            "75:\tlearn: 0.0609696\ttotal: 2.68s\tremaining: 846ms\n",
            "99:\tlearn: 0.0485892\ttotal: 3.53s\tremaining: 0us\n"
          ],
          "name": "stdout"
        },
        {
          "output_type": "execute_result",
          "data": {
            "text/plain": [
              "0.9737931034482757"
            ]
          },
          "metadata": {},
          "execution_count": 46
        }
      ]
    },
    {
      "cell_type": "markdown",
      "metadata": {
        "id": "99xlBfn_EQYa"
      },
      "source": [
        "В результате применения GridSearchCV метрика F1 score ухудшилась с 0.9944 до 0.9737."
      ]
    },
    {
      "cell_type": "markdown",
      "metadata": {
        "id": "mIvHIiS6s31G"
      },
      "source": [
        "*i. Модель должна предсказывать, есть ли облачность на валидационной выборке. Для успешного прохождения необходимо достигнуть F1_score > 0.9.*"
      ]
    },
    {
      "cell_type": "code",
      "metadata": {
        "id": "P_xp3bS6s90H",
        "colab": {
          "base_uri": "https://localhost:8080/"
        },
        "outputId": "bcc169e3-1487-4ca8-9bed-0f884640ed91"
      },
      "source": [
        "print('Лучший классификатор - CatBoost, F1 score =', f1_score(y_valid, predicted_cat))"
      ],
      "execution_count": 48,
      "outputs": [
        {
          "output_type": "stream",
          "text": [
            "Лучший классификатор - CatBoost, F1 score = 0.9944598337950139\n"
          ],
          "name": "stdout"
        }
      ]
    },
    {
      "cell_type": "code",
      "metadata": {
        "colab": {
          "base_uri": "https://localhost:8080/",
          "height": 435
        },
        "id": "j2F_Rkxv4tkP",
        "outputId": "07899d4b-a830-40d5-ef55-08bd18398b05"
      },
      "source": [
        "# посмотрим основные метрики классификатора и матрицу ошибок\n",
        "print(classification_report(y_valid, predicted_cat))\n",
        "plot_confusion_matrix(model_cat, x_valid, y_valid, values_format='d')\n",
        "plt.show()"
      ],
      "execution_count": 50,
      "outputs": [
        {
          "output_type": "stream",
          "text": [
            "              precision    recall  f1-score   support\n",
            "\n",
            "           0       1.00      0.99      1.00       406\n",
            "           1       0.99      1.00      0.99       359\n",
            "\n",
            "    accuracy                           0.99       765\n",
            "   macro avg       0.99      1.00      0.99       765\n",
            "weighted avg       0.99      0.99      0.99       765\n",
            "\n"
          ],
          "name": "stdout"
        },
        {
          "output_type": "display_data",
          "data": {
            "image/png": "[encoded data removed]",
            "text/plain": [
              "<Figure size 432x288 with 2 Axes>"
            ]
          },
          "metadata": {
            "needs_background": "light"
          }
        }
      ]
    },
    {
      "cell_type": "markdown",
      "metadata": {
        "id": "8rwzPw9os-ML"
      },
      "source": [
        "*f. Результаты предсказаний необходимо проверить на тестовой выборке (импортируйте тестовую выборку , обратите внимание на поля, они должны быть идентичными, как в очищенной исходной выборке).*"
      ]
    },
    {
      "cell_type": "markdown",
      "metadata": {
        "id": "u10ou_Ys-zUj"
      },
      "source": [
        "Тестовая выборка была удалена из постановки задачи. Результирующей метрикой считаем F1 score на валидационной выборке."
      ]
    }
  ]
}
