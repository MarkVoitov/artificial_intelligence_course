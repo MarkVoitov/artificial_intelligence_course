{
  "nbformat": 4,
  "nbformat_minor": 0,
  "metadata": {
    "colab": {
      "provenance": [],
      "mount_file_id": "1oF3BY3nW8O4IQD35YdTGrgQ-gbq8y81u",
      "authorship_tag": "ABX9TyMN0HdRvLrah+/kZ1cug86k",
      "include_colab_link": true
    },
    "kernelspec": {
      "name": "python3",
      "display_name": "Python 3"
    },
    "language_info": {
      "name": "python"
    },
    "widgets": {
      "application/vnd.jupyter.widget-state+json": {
        "8b402aedc1804ce9990b8fba84eb77f8": {
          "model_module": "catboost-widget",
          "model_name": "CatboostWidgetModel",
          "model_module_version": "^1.0.0",
          "state": {
            "_dom_classes": [],
            "_model_module": "catboost-widget",
            "_model_module_version": "^1.0.0",
            "_model_name": "CatboostWidgetModel",
            "_view_count": null,
            "_view_module": "catboost-widget",
            "_view_module_version": "^1.0.0",
            "_view_name": "CatboostWidgetView",
            "data": {
              "catboost_info": {
                "path": "catboost_info",
                "name": "catboost_info",
                "content": {
                  "passed_iterations": 999,
                  "total_iterations": 1000,
                  "data": {
                    "iterations": [
                      {
                        "learn": [
                          1.600686773
                        ],
                        "iteration": 0,
                        "passed_time": 0.002722054761,
                        "remaining_time": 2.719332707
                      },
                      {
                        "learn": [
                          1.530549267
                        ],
                        "iteration": 1,
                        "passed_time": 0.00577850998,
                        "remaining_time": 2.88347648
                      },
                      {
                        "learn": [
                          1.463456168
                        ],
                        "iteration": 2,
                        "passed_time": 0.008315938533,
                        "remaining_time": 2.763663572
                      },
                      {
                        "learn": [
                          1.400178096
                        ],
                        "iteration": 3,
                        "passed_time": 0.01089148997,
                        "remaining_time": 2.711981002
                      },
                      {
                        "learn": [
                          1.341098936
                        ],
                        "iteration": 4,
                        "passed_time": 0.0134399522,
                        "remaining_time": 2.674550488
                      },
                      {
                        "learn": [
                          1.287301125
                        ],
                        "iteration": 5,
                        "passed_time": 0.01596658435,
                        "remaining_time": 2.645130807
                      },
                      {
                        "learn": [
                          1.232718794
                        ],
                        "iteration": 6,
                        "passed_time": 0.02207067929,
                        "remaining_time": 3.130883506
                      },
                      {
                        "learn": [
                          1.179113652
                        ],
                        "iteration": 7,
                        "passed_time": 0.02459964872,
                        "remaining_time": 3.050356441
                      },
                      {
                        "learn": [
                          1.129743787
                        ],
                        "iteration": 8,
                        "passed_time": 0.02739048922,
                        "remaining_time": 3.015997202
                      },
                      {
                        "learn": [
                          1.083822966
                        ],
                        "iteration": 9,
                        "passed_time": 0.02997359159,
                        "remaining_time": 2.967385568
                      },
                      {
                        "learn": [
                          1.037731277
                        ],
                        "iteration": 10,
                        "passed_time": 0.03250140829,
                        "remaining_time": 2.922172072
                      },
                      {
                        "learn": [
                          0.9960366421
                        ],
                        "iteration": 11,
                        "passed_time": 0.0351858029,
                        "remaining_time": 2.896964438
                      },
                      {
                        "learn": [
                          0.9555609542
                        ],
                        "iteration": 12,
                        "passed_time": 0.0377100723,
                        "remaining_time": 2.86306472
                      },
                      {
                        "learn": [
                          0.9180869657
                        ],
                        "iteration": 13,
                        "passed_time": 0.04019018244,
                        "remaining_time": 2.830537135
                      },
                      {
                        "learn": [
                          0.8806547417
                        ],
                        "iteration": 14,
                        "passed_time": 0.04269512359,
                        "remaining_time": 2.803646449
                      },
                      {
                        "learn": [
                          0.8466172861
                        ],
                        "iteration": 15,
                        "passed_time": 0.04528293871,
                        "remaining_time": 2.784900731
                      },
                      {
                        "learn": [
                          0.8149340766
                        ],
                        "iteration": 16,
                        "passed_time": 0.04777735527,
                        "remaining_time": 2.762655307
                      },
                      {
                        "learn": [
                          0.7843799524
                        ],
                        "iteration": 17,
                        "passed_time": 0.05028500915,
                        "remaining_time": 2.74332661
                      },
                      {
                        "learn": [
                          0.7548389097
                        ],
                        "iteration": 18,
                        "passed_time": 0.0529153199,
                        "remaining_time": 2.732101517
                      },
                      {
                        "learn": [
                          0.7235191536
                        ],
                        "iteration": 19,
                        "passed_time": 0.05557290804,
                        "remaining_time": 2.723072494
                      },
                      {
                        "learn": [
                          0.6977998448
                        ],
                        "iteration": 20,
                        "passed_time": 0.05828541185,
                        "remaining_time": 2.71721039
                      },
                      {
                        "learn": [
                          0.6704666606
                        ],
                        "iteration": 21,
                        "passed_time": 0.06077748022,
                        "remaining_time": 2.701835257
                      },
                      {
                        "learn": [
                          0.646873089
                        ],
                        "iteration": 22,
                        "passed_time": 0.06327208132,
                        "remaining_time": 2.687687976
                      },
                      {
                        "learn": [
                          0.6240791481
                        ],
                        "iteration": 23,
                        "passed_time": 0.06577102244,
                        "remaining_time": 2.674688246
                      },
                      {
                        "learn": [
                          0.6012188666
                        ],
                        "iteration": 24,
                        "passed_time": 0.07023426887,
                        "remaining_time": 2.739136486
                      },
                      {
                        "learn": [
                          0.5790330443
                        ],
                        "iteration": 25,
                        "passed_time": 0.07574169865,
                        "remaining_time": 2.837400557
                      },
                      {
                        "learn": [
                          0.559818844
                        ],
                        "iteration": 26,
                        "passed_time": 0.07833553834,
                        "remaining_time": 2.822980696
                      },
                      {
                        "learn": [
                          0.5413623425
                        ],
                        "iteration": 27,
                        "passed_time": 0.08083171854,
                        "remaining_time": 2.806015372
                      },
                      {
                        "learn": [
                          0.5224367416
                        ],
                        "iteration": 28,
                        "passed_time": 0.08330137682,
                        "remaining_time": 2.789159893
                      },
                      {
                        "learn": [
                          0.5056984981
                        ],
                        "iteration": 29,
                        "passed_time": 0.08578151604,
                        "remaining_time": 2.773602352
                      },
                      {
                        "learn": [
                          0.490268964
                        ],
                        "iteration": 30,
                        "passed_time": 0.08829244812,
                        "remaining_time": 2.75985104
                      },
                      {
                        "learn": [
                          0.4756690631
                        ],
                        "iteration": 31,
                        "passed_time": 0.09088933692,
                        "remaining_time": 2.749402442
                      },
                      {
                        "learn": [
                          0.4618614386
                        ],
                        "iteration": 32,
                        "passed_time": 0.09337909528,
                        "remaining_time": 2.736290459
                      },
                      {
                        "learn": [
                          0.4472552689
                        ],
                        "iteration": 33,
                        "passed_time": 0.09582930711,
                        "remaining_time": 2.722679726
                      },
                      {
                        "learn": [
                          0.4335769479
                        ],
                        "iteration": 34,
                        "passed_time": 0.09828773443,
                        "remaining_time": 2.709933249
                      },
                      {
                        "learn": [
                          0.4212739264
                        ],
                        "iteration": 35,
                        "passed_time": 0.1007646327,
                        "remaining_time": 2.698252943
                      },
                      {
                        "learn": [
                          0.4094832862
                        ],
                        "iteration": 36,
                        "passed_time": 0.1031957572,
                        "remaining_time": 2.685878762
                      },
                      {
                        "learn": [
                          0.3983265363
                        ],
                        "iteration": 37,
                        "passed_time": 0.1056785483,
                        "remaining_time": 2.67533588
                      },
                      {
                        "learn": [
                          0.3887971904
                        ],
                        "iteration": 38,
                        "passed_time": 0.1081697866,
                        "remaining_time": 2.665414486
                      },
                      {
                        "learn": [
                          0.3794320381
                        ],
                        "iteration": 39,
                        "passed_time": 0.1105742237,
                        "remaining_time": 2.65378137
                      },
                      {
                        "learn": [
                          0.3690178376
                        ],
                        "iteration": 40,
                        "passed_time": 0.1131016759,
                        "remaining_time": 2.645475785
                      },
                      {
                        "learn": [
                          0.3603727632
                        ],
                        "iteration": 41,
                        "passed_time": 0.1156014652,
                        "remaining_time": 2.636814373
                      },
                      {
                        "learn": [
                          0.351062724
                        ],
                        "iteration": 42,
                        "passed_time": 0.1179831686,
                        "remaining_time": 2.625811449
                      },
                      {
                        "learn": [
                          0.3432622099
                        ],
                        "iteration": 43,
                        "passed_time": 0.1206978951,
                        "remaining_time": 2.622436085
                      },
                      {
                        "learn": [
                          0.335447313
                        ],
                        "iteration": 44,
                        "passed_time": 0.1232557428,
                        "remaining_time": 2.615760765
                      },
                      {
                        "learn": [
                          0.3278100012
                        ],
                        "iteration": 45,
                        "passed_time": 0.1258002287,
                        "remaining_time": 2.608987352
                      },
                      {
                        "learn": [
                          0.3212967022
                        ],
                        "iteration": 46,
                        "passed_time": 0.1281991176,
                        "remaining_time": 2.599441682
                      },
                      {
                        "learn": [
                          0.3141304482
                        ],
                        "iteration": 47,
                        "passed_time": 0.1306664922,
                        "remaining_time": 2.591552096
                      },
                      {
                        "learn": [
                          0.3074104343
                        ],
                        "iteration": 48,
                        "passed_time": 0.1330820112,
                        "remaining_time": 2.582877401
                      },
                      {
                        "learn": [
                          0.3024481578
                        ],
                        "iteration": 49,
                        "passed_time": 0.1355096575,
                        "remaining_time": 2.574683492
                      },
                      {
                        "learn": [
                          0.2969452557
                        ],
                        "iteration": 50,
                        "passed_time": 0.1379960258,
                        "remaining_time": 2.567808402
                      },
                      {
                        "learn": [
                          0.2913332042
                        ],
                        "iteration": 51,
                        "passed_time": 0.1405069143,
                        "remaining_time": 2.561549129
                      },
                      {
                        "learn": [
                          0.2867875127
                        ],
                        "iteration": 52,
                        "passed_time": 0.1430081908,
                        "remaining_time": 2.555259561
                      },
                      {
                        "learn": [
                          0.2818318563
                        ],
                        "iteration": 53,
                        "passed_time": 0.1454557881,
                        "remaining_time": 2.548169918
                      },
                      {
                        "learn": [
                          0.2768297521
                        ],
                        "iteration": 54,
                        "passed_time": 0.1478846035,
                        "remaining_time": 2.540926369
                      },
                      {
                        "learn": [
                          0.2720428033
                        ],
                        "iteration": 55,
                        "passed_time": 0.1503602345,
                        "remaining_time": 2.534643953
                      },
                      {
                        "learn": [
                          0.2672531793
                        ],
                        "iteration": 56,
                        "passed_time": 0.1527592125,
                        "remaining_time": 2.527226972
                      },
                      {
                        "learn": [
                          0.2633445079
                        ],
                        "iteration": 57,
                        "passed_time": 0.1552683028,
                        "remaining_time": 2.5217714
                      },
                      {
                        "learn": [
                          0.2594211151
                        ],
                        "iteration": 58,
                        "passed_time": 0.1576987291,
                        "remaining_time": 2.515161086
                      },
                      {
                        "learn": [
                          0.2553939213
                        ],
                        "iteration": 59,
                        "passed_time": 0.1601735055,
                        "remaining_time": 2.50938492
                      },
                      {
                        "learn": [
                          0.2517094573
                        ],
                        "iteration": 60,
                        "passed_time": 0.1627631579,
                        "remaining_time": 2.505485333
                      },
                      {
                        "learn": [
                          0.2478042987
                        ],
                        "iteration": 61,
                        "passed_time": 0.1670133662,
                        "remaining_time": 2.526750605
                      },
                      {
                        "learn": [
                          0.2441170062
                        ],
                        "iteration": 62,
                        "passed_time": 0.171163965,
                        "remaining_time": 2.545724368
                      },
                      {
                        "learn": [
                          0.2409742278
                        ],
                        "iteration": 63,
                        "passed_time": 0.1736600007,
                        "remaining_time": 2.53977751
                      },
                      {
                        "learn": [
                          0.2380184802
                        ],
                        "iteration": 64,
                        "passed_time": 0.176292656,
                        "remaining_time": 2.535902051
                      },
                      {
                        "learn": [
                          0.2348826242
                        ],
                        "iteration": 65,
                        "passed_time": 0.178770777,
                        "remaining_time": 2.529877359
                      },
                      {
                        "learn": [
                          0.2325749457
                        ],
                        "iteration": 66,
                        "passed_time": 0.1815138073,
                        "remaining_time": 2.527647496
                      },
                      {
                        "learn": [
                          0.2296723991
                        ],
                        "iteration": 67,
                        "passed_time": 0.184054305,
                        "remaining_time": 2.52262665
                      },
                      {
                        "learn": [
                          0.2263850339
                        ],
                        "iteration": 68,
                        "passed_time": 0.1864994222,
                        "remaining_time": 2.516390755
                      },
                      {
                        "learn": [
                          0.2237996095
                        ],
                        "iteration": 69,
                        "passed_time": 0.1890486954,
                        "remaining_time": 2.511646953
                      },
                      {
                        "learn": [
                          0.2215866303
                        ],
                        "iteration": 70,
                        "passed_time": 0.1915383319,
                        "remaining_time": 2.506184653
                      },
                      {
                        "learn": [
                          0.219361332
                        ],
                        "iteration": 71,
                        "passed_time": 0.1940370312,
                        "remaining_time": 2.500921736
                      },
                      {
                        "learn": [
                          0.2170630364
                        ],
                        "iteration": 72,
                        "passed_time": 0.1967202513,
                        "remaining_time": 2.498077711
                      },
                      {
                        "learn": [
                          0.2146182711
                        ],
                        "iteration": 73,
                        "passed_time": 0.1991794622,
                        "remaining_time": 2.492434892
                      },
                      {
                        "learn": [
                          0.2124947972
                        ],
                        "iteration": 74,
                        "passed_time": 0.2016491087,
                        "remaining_time": 2.487005674
                      },
                      {
                        "learn": [
                          0.2101784595
                        ],
                        "iteration": 75,
                        "passed_time": 0.204139648,
                        "remaining_time": 2.481908351
                      },
                      {
                        "learn": [
                          0.2081605787
                        ],
                        "iteration": 76,
                        "passed_time": 0.2066463427,
                        "remaining_time": 2.477072394
                      },
                      {
                        "learn": [
                          0.2062989031
                        ],
                        "iteration": 77,
                        "passed_time": 0.2092833381,
                        "remaining_time": 2.473836381
                      },
                      {
                        "learn": [
                          0.2043072408
                        ],
                        "iteration": 78,
                        "passed_time": 0.2118185975,
                        "remaining_time": 2.469429472
                      },
                      {
                        "learn": [
                          0.2024467956
                        ],
                        "iteration": 79,
                        "passed_time": 0.2143154168,
                        "remaining_time": 2.464627293
                      },
                      {
                        "learn": [
                          0.2007057085
                        ],
                        "iteration": 80,
                        "passed_time": 0.2168007579,
                        "remaining_time": 2.459751809
                      },
                      {
                        "learn": [
                          0.1992330035
                        ],
                        "iteration": 81,
                        "passed_time": 0.2193178836,
                        "remaining_time": 2.455290453
                      },
                      {
                        "learn": [
                          0.1975238629
                        ],
                        "iteration": 82,
                        "passed_time": 0.2220608594,
                        "remaining_time": 2.453371181
                      },
                      {
                        "learn": [
                          0.1958168599
                        ],
                        "iteration": 83,
                        "passed_time": 0.2245563323,
                        "remaining_time": 2.448733338
                      },
                      {
                        "learn": [
                          0.1941115886
                        ],
                        "iteration": 84,
                        "passed_time": 0.2270212615,
                        "remaining_time": 2.443817109
                      },
                      {
                        "learn": [
                          0.1922964476
                        ],
                        "iteration": 85,
                        "passed_time": 0.2297303898,
                        "remaining_time": 2.441553213
                      },
                      {
                        "learn": [
                          0.1909654039
                        ],
                        "iteration": 86,
                        "passed_time": 0.2324043644,
                        "remaining_time": 2.438910169
                      },
                      {
                        "learn": [
                          0.1893516719
                        ],
                        "iteration": 87,
                        "passed_time": 0.2349225501,
                        "remaining_time": 2.434651883
                      },
                      {
                        "learn": [
                          0.1878278414
                        ],
                        "iteration": 88,
                        "passed_time": 0.2373944911,
                        "remaining_time": 2.429959342
                      },
                      {
                        "learn": [
                          0.1868513876
                        ],
                        "iteration": 89,
                        "passed_time": 0.2398666494,
                        "remaining_time": 2.425318344
                      },
                      {
                        "learn": [
                          0.1855211927
                        ],
                        "iteration": 90,
                        "passed_time": 0.2444512363,
                        "remaining_time": 2.441826086
                      },
                      {
                        "learn": [
                          0.1844306777
                        ],
                        "iteration": 91,
                        "passed_time": 0.2476704504,
                        "remaining_time": 2.444399663
                      },
                      {
                        "learn": [
                          0.1829312594
                        ],
                        "iteration": 92,
                        "passed_time": 0.2520607584,
                        "remaining_time": 2.458269977
                      },
                      {
                        "learn": [
                          0.1815683546
                        ],
                        "iteration": 93,
                        "passed_time": 0.2558427965,
                        "remaining_time": 2.465889082
                      },
                      {
                        "learn": [
                          0.1803616078
                        ],
                        "iteration": 94,
                        "passed_time": 0.258322783,
                        "remaining_time": 2.460864407
                      },
                      {
                        "learn": [
                          0.1789163382
                        ],
                        "iteration": 95,
                        "passed_time": 0.2607515202,
                        "remaining_time": 2.455410149
                      },
                      {
                        "learn": [
                          0.177224061
                        ],
                        "iteration": 96,
                        "passed_time": 0.2633612427,
                        "remaining_time": 2.451703115
                      },
                      {
                        "learn": [
                          0.1757809453
                        ],
                        "iteration": 97,
                        "passed_time": 0.2663688777,
                        "remaining_time": 2.451680895
                      },
                      {
                        "learn": [
                          0.1746799859
                        ],
                        "iteration": 98,
                        "passed_time": 0.2688813353,
                        "remaining_time": 2.447091748
                      },
                      {
                        "learn": [
                          0.1730769
                        ],
                        "iteration": 99,
                        "passed_time": 0.2713883046,
                        "remaining_time": 2.442494742
                      },
                      {
                        "learn": [
                          0.171506575
                        ],
                        "iteration": 100,
                        "passed_time": 0.2738631202,
                        "remaining_time": 2.437652921
                      },
                      {
                        "learn": [
                          0.1702336539
                        ],
                        "iteration": 101,
                        "passed_time": 0.2772079175,
                        "remaining_time": 2.440516764
                      },
                      {
                        "learn": [
                          0.1689466708
                        ],
                        "iteration": 102,
                        "passed_time": 0.279720235,
                        "remaining_time": 2.436010202
                      },
                      {
                        "learn": [
                          0.1679484672
                        ],
                        "iteration": 103,
                        "passed_time": 0.282182806,
                        "remaining_time": 2.431113406
                      },
                      {
                        "learn": [
                          0.1672887729
                        ],
                        "iteration": 104,
                        "passed_time": 0.2857001167,
                        "remaining_time": 2.435253376
                      },
                      {
                        "learn": [
                          0.1661730348
                        ],
                        "iteration": 105,
                        "passed_time": 0.2901056584,
                        "remaining_time": 2.446740175
                      },
                      {
                        "learn": [
                          0.1646949619
                        ],
                        "iteration": 106,
                        "passed_time": 0.2969628737,
                        "remaining_time": 2.478391086
                      },
                      {
                        "learn": [
                          0.1641734832
                        ],
                        "iteration": 107,
                        "passed_time": 0.2994714803,
                        "remaining_time": 2.473412597
                      },
                      {
                        "learn": [
                          0.1631564605
                        ],
                        "iteration": 108,
                        "passed_time": 0.3020761209,
                        "remaining_time": 2.469264438
                      },
                      {
                        "learn": [
                          0.1623566557
                        ],
                        "iteration": 109,
                        "passed_time": 0.304809443,
                        "remaining_time": 2.466185494
                      },
                      {
                        "learn": [
                          0.1610861335
                        ],
                        "iteration": 110,
                        "passed_time": 0.307305575,
                        "remaining_time": 2.461213119
                      },
                      {
                        "learn": [
                          0.16053798
                        ],
                        "iteration": 111,
                        "passed_time": 0.3098025343,
                        "remaining_time": 2.456291522
                      },
                      {
                        "learn": [
                          0.1594867247
                        ],
                        "iteration": 112,
                        "passed_time": 0.3123462738,
                        "remaining_time": 2.451780043
                      },
                      {
                        "learn": [
                          0.1582285138
                        ],
                        "iteration": 113,
                        "passed_time": 0.3148862388,
                        "remaining_time": 2.44727375
                      },
                      {
                        "learn": [
                          0.157702951
                        ],
                        "iteration": 114,
                        "passed_time": 0.3174607002,
                        "remaining_time": 2.443067128
                      },
                      {
                        "learn": [
                          0.1566210825
                        ],
                        "iteration": 115,
                        "passed_time": 0.3203047745,
                        "remaining_time": 2.440943282
                      },
                      {
                        "learn": [
                          0.1555249234
                        ],
                        "iteration": 116,
                        "passed_time": 0.3228911033,
                        "remaining_time": 2.436861916
                      },
                      {
                        "learn": [
                          0.1549029657
                        ],
                        "iteration": 117,
                        "passed_time": 0.3253695316,
                        "remaining_time": 2.43199938
                      },
                      {
                        "learn": [
                          0.1540071241
                        ],
                        "iteration": 118,
                        "passed_time": 0.3279507194,
                        "remaining_time": 2.427937679
                      },
                      {
                        "learn": [
                          0.1531149695
                        ],
                        "iteration": 119,
                        "passed_time": 0.3303979876,
                        "remaining_time": 2.422918576
                      },
                      {
                        "learn": [
                          0.152300496
                        ],
                        "iteration": 120,
                        "passed_time": 0.3328593749,
                        "remaining_time": 2.41804455
                      },
                      {
                        "learn": [
                          0.1512187882
                        ],
                        "iteration": 121,
                        "passed_time": 0.3352370883,
                        "remaining_time": 2.412607898
                      },
                      {
                        "learn": [
                          0.150728432
                        ],
                        "iteration": 122,
                        "passed_time": 0.3380765144,
                        "remaining_time": 2.410513034
                      },
                      {
                        "learn": [
                          0.1496938598
                        ],
                        "iteration": 123,
                        "passed_time": 0.3404899925,
                        "remaining_time": 2.405397044
                      },
                      {
                        "learn": [
                          0.1487953298
                        ],
                        "iteration": 124,
                        "passed_time": 0.3428668368,
                        "remaining_time": 2.400067857
                      },
                      {
                        "learn": [
                          0.1483356692
                        ],
                        "iteration": 125,
                        "passed_time": 0.3452332291,
                        "remaining_time": 2.394713034
                      },
                      {
                        "learn": [
                          0.1478511301
                        ],
                        "iteration": 126,
                        "passed_time": 0.3476514381,
                        "remaining_time": 2.38976146
                      },
                      {
                        "learn": [
                          0.1475585201
                        ],
                        "iteration": 127,
                        "passed_time": 0.3501053845,
                        "remaining_time": 2.385092932
                      },
                      {
                        "learn": [
                          0.1469361747
                        ],
                        "iteration": 128,
                        "passed_time": 0.3525323344,
                        "remaining_time": 2.38027646
                      },
                      {
                        "learn": [
                          0.1465695377
                        ],
                        "iteration": 129,
                        "passed_time": 0.3549788399,
                        "remaining_time": 2.375627621
                      },
                      {
                        "learn": [
                          0.1461058047
                        ],
                        "iteration": 130,
                        "passed_time": 0.3573423468,
                        "remaining_time": 2.370461827
                      },
                      {
                        "learn": [
                          0.1451719753
                        ],
                        "iteration": 131,
                        "passed_time": 0.3597788977,
                        "remaining_time": 2.365818812
                      },
                      {
                        "learn": [
                          0.1444831466
                        ],
                        "iteration": 132,
                        "passed_time": 0.3621932876,
                        "remaining_time": 2.361064514
                      },
                      {
                        "learn": [
                          0.1437749368
                        ],
                        "iteration": 133,
                        "passed_time": 0.3646679149,
                        "remaining_time": 2.356734435
                      },
                      {
                        "learn": [
                          0.1433154308
                        ],
                        "iteration": 134,
                        "passed_time": 0.367054682,
                        "remaining_time": 2.351868888
                      },
                      {
                        "learn": [
                          0.1428900862
                        ],
                        "iteration": 135,
                        "passed_time": 0.3694911465,
                        "remaining_time": 2.347355519
                      },
                      {
                        "learn": [
                          0.1419363685
                        ],
                        "iteration": 136,
                        "passed_time": 0.372078628,
                        "remaining_time": 2.343823766
                      },
                      {
                        "learn": [
                          0.1412145884
                        ],
                        "iteration": 137,
                        "passed_time": 0.3744397449,
                        "remaining_time": 2.33889174
                      },
                      {
                        "learn": [
                          0.1404790995
                        ],
                        "iteration": 138,
                        "passed_time": 0.3769009031,
                        "remaining_time": 2.334616386
                      },
                      {
                        "learn": [
                          0.1397323812
                        ],
                        "iteration": 139,
                        "passed_time": 0.3793226339,
                        "remaining_time": 2.330124751
                      },
                      {
                        "learn": [
                          0.1389219511
                        ],
                        "iteration": 140,
                        "passed_time": 0.3816984782,
                        "remaining_time": 2.325382927
                      },
                      {
                        "learn": [
                          0.1383728465
                        ],
                        "iteration": 141,
                        "passed_time": 0.3842233521,
                        "remaining_time": 2.321574902
                      },
                      {
                        "learn": [
                          0.1380848544
                        ],
                        "iteration": 142,
                        "passed_time": 0.3866533321,
                        "remaining_time": 2.317216123
                      },
                      {
                        "learn": [
                          0.137678303
                        ],
                        "iteration": 143,
                        "passed_time": 0.3890980439,
                        "remaining_time": 2.312971705
                      },
                      {
                        "learn": [
                          0.1371511973
                        ],
                        "iteration": 144,
                        "passed_time": 0.3914579408,
                        "remaining_time": 2.308251996
                      },
                      {
                        "learn": [
                          0.136065566
                        ],
                        "iteration": 145,
                        "passed_time": 0.3941347736,
                        "remaining_time": 2.30541847
                      },
                      {
                        "learn": [
                          0.1357245283
                        ],
                        "iteration": 146,
                        "passed_time": 0.3965459207,
                        "remaining_time": 2.301045376
                      },
                      {
                        "learn": [
                          0.1349397916
                        ],
                        "iteration": 147,
                        "passed_time": 0.3990556228,
                        "remaining_time": 2.297266153
                      },
                      {
                        "learn": [
                          0.1345946435
                        ],
                        "iteration": 148,
                        "passed_time": 0.4014350507,
                        "remaining_time": 2.29275992
                      },
                      {
                        "learn": [
                          0.1338383013
                        ],
                        "iteration": 149,
                        "passed_time": 0.4038154486,
                        "remaining_time": 2.288287542
                      },
                      {
                        "learn": [
                          0.1325779336
                        ],
                        "iteration": 150,
                        "passed_time": 0.4063188479,
                        "remaining_time": 2.284534449
                      },
                      {
                        "learn": [
                          0.1319711434
                        ],
                        "iteration": 151,
                        "passed_time": 0.4087479715,
                        "remaining_time": 2.28038342
                      },
                      {
                        "learn": [
                          0.1315024529
                        ],
                        "iteration": 152,
                        "passed_time": 0.4111748368,
                        "remaining_time": 2.276242397
                      },
                      {
                        "learn": [
                          0.1310011192
                        ],
                        "iteration": 153,
                        "passed_time": 0.4135969104,
                        "remaining_time": 2.272097313
                      },
                      {
                        "learn": [
                          0.1301322618
                        ],
                        "iteration": 154,
                        "passed_time": 0.4160272412,
                        "remaining_time": 2.268019476
                      },
                      {
                        "learn": [
                          0.1295604579
                        ],
                        "iteration": 155,
                        "passed_time": 0.4183963873,
                        "remaining_time": 2.263631736
                      },
                      {
                        "learn": [
                          0.1290940383
                        ],
                        "iteration": 156,
                        "passed_time": 0.420802558,
                        "remaining_time": 2.259468512
                      },
                      {
                        "learn": [
                          0.1282657504
                        ],
                        "iteration": 157,
                        "passed_time": 0.423330212,
                        "remaining_time": 2.255974927
                      },
                      {
                        "learn": [
                          0.1274522581
                        ],
                        "iteration": 158,
                        "passed_time": 0.4258101757,
                        "remaining_time": 2.252241244
                      },
                      {
                        "learn": [
                          0.1271917641
                        ],
                        "iteration": 159,
                        "passed_time": 0.4282789631,
                        "remaining_time": 2.248464556
                      },
                      {
                        "learn": [
                          0.1265269285
                        ],
                        "iteration": 160,
                        "passed_time": 0.4307021248,
                        "remaining_time": 2.244466352
                      },
                      {
                        "learn": [
                          0.1261314
                        ],
                        "iteration": 161,
                        "passed_time": 0.4332219279,
                        "remaining_time": 2.240987503
                      },
                      {
                        "learn": [
                          0.1257540627
                        ],
                        "iteration": 162,
                        "passed_time": 0.4356886461,
                        "remaining_time": 2.237247833
                      },
                      {
                        "learn": [
                          0.125297988
                        ],
                        "iteration": 163,
                        "passed_time": 0.4381285652,
                        "remaining_time": 2.233387076
                      },
                      {
                        "learn": [
                          0.1246827838
                        ],
                        "iteration": 164,
                        "passed_time": 0.4405185904,
                        "remaining_time": 2.229291048
                      },
                      {
                        "learn": [
                          0.1236535796
                        ],
                        "iteration": 165,
                        "passed_time": 0.4430425453,
                        "remaining_time": 2.22588845
                      },
                      {
                        "learn": [
                          0.1232653522
                        ],
                        "iteration": 166,
                        "passed_time": 0.4455259454,
                        "remaining_time": 2.222294087
                      },
                      {
                        "learn": [
                          0.1229615507
                        ],
                        "iteration": 167,
                        "passed_time": 0.4480236238,
                        "remaining_time": 2.218783661
                      },
                      {
                        "learn": [
                          0.1226590083
                        ],
                        "iteration": 168,
                        "passed_time": 0.450493663,
                        "remaining_time": 2.215149313
                      },
                      {
                        "learn": [
                          0.122194073
                        ],
                        "iteration": 169,
                        "passed_time": 0.452931622,
                        "remaining_time": 2.211372037
                      },
                      {
                        "learn": [
                          0.1218541999
                        ],
                        "iteration": 170,
                        "passed_time": 0.4553904803,
                        "remaining_time": 2.207711744
                      },
                      {
                        "learn": [
                          0.1215265342
                        ],
                        "iteration": 171,
                        "passed_time": 0.4577759291,
                        "remaining_time": 2.203712031
                      },
                      {
                        "learn": [
                          0.1210057433
                        ],
                        "iteration": 172,
                        "passed_time": 0.460161098,
                        "remaining_time": 2.199729642
                      },
                      {
                        "learn": [
                          0.120503389
                        ],
                        "iteration": 173,
                        "passed_time": 0.4625597968,
                        "remaining_time": 2.19582984
                      },
                      {
                        "learn": [
                          0.1197727662
                        ],
                        "iteration": 174,
                        "passed_time": 0.4649478557,
                        "remaining_time": 2.191897034
                      },
                      {
                        "learn": [
                          0.1193301479
                        ],
                        "iteration": 175,
                        "passed_time": 0.4673921411,
                        "remaining_time": 2.188245024
                      },
                      {
                        "learn": [
                          0.1183989035
                        ],
                        "iteration": 176,
                        "passed_time": 0.4718770313,
                        "remaining_time": 2.194094897
                      },
                      {
                        "learn": [
                          0.1176958196
                        ],
                        "iteration": 177,
                        "passed_time": 0.4755480154,
                        "remaining_time": 2.196070049
                      },
                      {
                        "learn": [
                          0.1169236665
                        ],
                        "iteration": 178,
                        "passed_time": 0.4780680366,
                        "remaining_time": 2.192703118
                      },
                      {
                        "learn": [
                          0.1164987366
                        ],
                        "iteration": 179,
                        "passed_time": 0.4805469104,
                        "remaining_time": 2.189158147
                      },
                      {
                        "learn": [
                          0.1160593938
                        ],
                        "iteration": 180,
                        "passed_time": 0.4828518125,
                        "remaining_time": 2.184837759
                      },
                      {
                        "learn": [
                          0.115852415
                        ],
                        "iteration": 181,
                        "passed_time": 0.4852017957,
                        "remaining_time": 2.180742137
                      },
                      {
                        "learn": [
                          0.1155592174
                        ],
                        "iteration": 182,
                        "passed_time": 0.4875664109,
                        "remaining_time": 2.176730916
                      },
                      {
                        "learn": [
                          0.1149149706
                        ],
                        "iteration": 183,
                        "passed_time": 0.4900228836,
                        "remaining_time": 2.173144962
                      },
                      {
                        "learn": [
                          0.1141066984
                        ],
                        "iteration": 184,
                        "passed_time": 0.4924217016,
                        "remaining_time": 2.169317226
                      },
                      {
                        "learn": [
                          0.1137911596
                        ],
                        "iteration": 185,
                        "passed_time": 0.4949144354,
                        "remaining_time": 2.165915863
                      },
                      {
                        "learn": [
                          0.1135097708
                        ],
                        "iteration": 186,
                        "passed_time": 0.4972909424,
                        "remaining_time": 2.16201891
                      },
                      {
                        "learn": [
                          0.1132668432
                        ],
                        "iteration": 187,
                        "passed_time": 0.4996083955,
                        "remaining_time": 2.15788307
                      },
                      {
                        "learn": [
                          0.1127901655
                        ],
                        "iteration": 188,
                        "passed_time": 0.5019762234,
                        "remaining_time": 2.153982631
                      },
                      {
                        "learn": [
                          0.1125218129
                        ],
                        "iteration": 189,
                        "passed_time": 0.5043865432,
                        "remaining_time": 2.150279474
                      },
                      {
                        "learn": [
                          0.1118514239
                        ],
                        "iteration": 190,
                        "passed_time": 0.506883498,
                        "remaining_time": 2.146956806
                      },
                      {
                        "learn": [
                          0.1111812843
                        ],
                        "iteration": 191,
                        "passed_time": 0.5093630927,
                        "remaining_time": 2.143569682
                      },
                      {
                        "learn": [
                          0.1109672056
                        ],
                        "iteration": 192,
                        "passed_time": 0.5118188836,
                        "remaining_time": 2.14009243
                      },
                      {
                        "learn": [
                          0.1106311639
                        ],
                        "iteration": 193,
                        "passed_time": 0.5147419528,
                        "remaining_time": 2.138567082
                      },
                      {
                        "learn": [
                          0.1098133795
                        ],
                        "iteration": 194,
                        "passed_time": 0.5178357182,
                        "remaining_time": 2.137732067
                      },
                      {
                        "learn": [
                          0.1094066189
                        ],
                        "iteration": 195,
                        "passed_time": 0.5202134661,
                        "remaining_time": 2.133936871
                      },
                      {
                        "learn": [
                          0.108880793
                        ],
                        "iteration": 196,
                        "passed_time": 0.5226580106,
                        "remaining_time": 2.130428338
                      },
                      {
                        "learn": [
                          0.1083707784
                        ],
                        "iteration": 197,
                        "passed_time": 0.5250244367,
                        "remaining_time": 2.126614132
                      },
                      {
                        "learn": [
                          0.1077019456
                        ],
                        "iteration": 198,
                        "passed_time": 0.5275467752,
                        "remaining_time": 2.123442045
                      },
                      {
                        "learn": [
                          0.107360798
                        ],
                        "iteration": 199,
                        "passed_time": 0.5299765951,
                        "remaining_time": 2.11990638
                      },
                      {
                        "learn": [
                          0.1069166914
                        ],
                        "iteration": 200,
                        "passed_time": 0.532452298,
                        "remaining_time": 2.11656411
                      },
                      {
                        "learn": [
                          0.1066723637
                        ],
                        "iteration": 201,
                        "passed_time": 0.5355394006,
                        "remaining_time": 2.115645751
                      },
                      {
                        "learn": [
                          0.1064556257
                        ],
                        "iteration": 202,
                        "passed_time": 0.5379308331,
                        "remaining_time": 2.111974749
                      },
                      {
                        "learn": [
                          0.1060888583
                        ],
                        "iteration": 203,
                        "passed_time": 0.5402528862,
                        "remaining_time": 2.108045576
                      },
                      {
                        "learn": [
                          0.1053994061
                        ],
                        "iteration": 204,
                        "passed_time": 0.5427319963,
                        "remaining_time": 2.104741156
                      },
                      {
                        "learn": [
                          0.104923713
                        ],
                        "iteration": 205,
                        "passed_time": 0.5451659417,
                        "remaining_time": 2.101270669
                      },
                      {
                        "learn": [
                          0.1047418558
                        ],
                        "iteration": 206,
                        "passed_time": 0.5475991062,
                        "remaining_time": 2.097807204
                      },
                      {
                        "learn": [
                          0.1045039688
                        ],
                        "iteration": 207,
                        "passed_time": 0.5502244779,
                        "remaining_time": 2.095085512
                      },
                      {
                        "learn": [
                          0.1037303053
                        ],
                        "iteration": 208,
                        "passed_time": 0.5527514309,
                        "remaining_time": 2.091992258
                      },
                      {
                        "learn": [
                          0.1034211142
                        ],
                        "iteration": 209,
                        "passed_time": 0.5552270701,
                        "remaining_time": 2.088711359
                      },
                      {
                        "learn": [
                          0.1032263129
                        ],
                        "iteration": 210,
                        "passed_time": 0.5576276354,
                        "remaining_time": 2.085157366
                      },
                      {
                        "learn": [
                          0.1024956976
                        ],
                        "iteration": 211,
                        "passed_time": 0.5601259383,
                        "remaining_time": 2.081977544
                      },
                      {
                        "learn": [
                          0.1021503548
                        ],
                        "iteration": 212,
                        "passed_time": 0.5625321754,
                        "remaining_time": 2.078463953
                      },
                      {
                        "learn": [
                          0.1018840486
                        ],
                        "iteration": 213,
                        "passed_time": 0.5649709709,
                        "remaining_time": 2.075080295
                      },
                      {
                        "learn": [
                          0.1013387804
                        ],
                        "iteration": 214,
                        "passed_time": 0.5675075476,
                        "remaining_time": 2.072062441
                      },
                      {
                        "learn": [
                          0.1006542205
                        ],
                        "iteration": 215,
                        "passed_time": 0.5701389502,
                        "remaining_time": 2.069393226
                      },
                      {
                        "learn": [
                          0.1003685133
                        ],
                        "iteration": 216,
                        "passed_time": 0.5725450545,
                        "remaining_time": 2.065911418
                      },
                      {
                        "learn": [
                          0.09986933089
                        ],
                        "iteration": 217,
                        "passed_time": 0.575056123,
                        "remaining_time": 2.062816001
                      },
                      {
                        "learn": [
                          0.09944923818
                        ],
                        "iteration": 218,
                        "passed_time": 0.5777335357,
                        "remaining_time": 2.060319139
                      },
                      {
                        "learn": [
                          0.09901731565
                        ],
                        "iteration": 219,
                        "passed_time": 0.5801518329,
                        "remaining_time": 2.056901953
                      },
                      {
                        "learn": [
                          0.09856274161
                        ],
                        "iteration": 220,
                        "passed_time": 0.5826715014,
                        "remaining_time": 2.053851129
                      },
                      {
                        "learn": [
                          0.09832050755
                        ],
                        "iteration": 221,
                        "passed_time": 0.5857277948,
                        "remaining_time": 2.052685695
                      },
                      {
                        "learn": [
                          0.097990192
                        ],
                        "iteration": 222,
                        "passed_time": 0.5882768979,
                        "remaining_time": 2.049736097
                      },
                      {
                        "learn": [
                          0.09759336879
                        ],
                        "iteration": 223,
                        "passed_time": 0.5910150846,
                        "remaining_time": 2.047445114
                      },
                      {
                        "learn": [
                          0.09716220721
                        ],
                        "iteration": 224,
                        "passed_time": 0.5935634059,
                        "remaining_time": 2.044496176
                      },
                      {
                        "learn": [
                          0.09700989687
                        ],
                        "iteration": 225,
                        "passed_time": 0.595981874,
                        "remaining_time": 2.041106064
                      },
                      {
                        "learn": [
                          0.09683389154
                        ],
                        "iteration": 226,
                        "passed_time": 0.5984617468,
                        "remaining_time": 2.037933614
                      },
                      {
                        "learn": [
                          0.09666092731
                        ],
                        "iteration": 227,
                        "passed_time": 0.6009601534,
                        "remaining_time": 2.034829993
                      },
                      {
                        "learn": [
                          0.09636719255
                        ],
                        "iteration": 228,
                        "passed_time": 0.60346748,
                        "remaining_time": 2.03176169
                      },
                      {
                        "learn": [
                          0.09604911934
                        ],
                        "iteration": 229,
                        "passed_time": 0.6058466706,
                        "remaining_time": 2.028269289
                      },
                      {
                        "learn": [
                          0.09586569699
                        ],
                        "iteration": 230,
                        "passed_time": 0.6082711078,
                        "remaining_time": 2.024937151
                      },
                      {
                        "learn": [
                          0.09544823391
                        ],
                        "iteration": 231,
                        "passed_time": 0.6107744944,
                        "remaining_time": 2.021874188
                      },
                      {
                        "learn": [
                          0.09519303435
                        ],
                        "iteration": 232,
                        "passed_time": 0.6132106316,
                        "remaining_time": 2.018594654
                      },
                      {
                        "learn": [
                          0.09489270474
                        ],
                        "iteration": 233,
                        "passed_time": 0.6156588517,
                        "remaining_time": 2.015361882
                      },
                      {
                        "learn": [
                          0.094760109
                        ],
                        "iteration": 234,
                        "passed_time": 0.6181292317,
                        "remaining_time": 2.012207925
                      },
                      {
                        "learn": [
                          0.09449413797
                        ],
                        "iteration": 235,
                        "passed_time": 0.6205230061,
                        "remaining_time": 2.008811765
                      },
                      {
                        "learn": [
                          0.09433071388
                        ],
                        "iteration": 236,
                        "passed_time": 0.6229797898,
                        "remaining_time": 2.005626918
                      },
                      {
                        "learn": [
                          0.0942358488
                        ],
                        "iteration": 237,
                        "passed_time": 0.6254681317,
                        "remaining_time": 2.002549229
                      },
                      {
                        "learn": [
                          0.09377862235
                        ],
                        "iteration": 238,
                        "passed_time": 0.6281293072,
                        "remaining_time": 2.00002679
                      },
                      {
                        "learn": [
                          0.09338051679
                        ],
                        "iteration": 239,
                        "passed_time": 0.6309094976,
                        "remaining_time": 1.997880076
                      },
                      {
                        "learn": [
                          0.09318134677
                        ],
                        "iteration": 240,
                        "passed_time": 0.6333632031,
                        "remaining_time": 1.99469988
                      },
                      {
                        "learn": [
                          0.0926911469
                        ],
                        "iteration": 241,
                        "passed_time": 0.6358995607,
                        "remaining_time": 1.991784575
                      },
                      {
                        "learn": [
                          0.09227558194
                        ],
                        "iteration": 242,
                        "passed_time": 0.6384472648,
                        "remaining_time": 1.988907734
                      },
                      {
                        "learn": [
                          0.09174188796
                        ],
                        "iteration": 243,
                        "passed_time": 0.6410152753,
                        "remaining_time": 1.986096509
                      },
                      {
                        "learn": [
                          0.0914294068
                        ],
                        "iteration": 244,
                        "passed_time": 0.644849961,
                        "remaining_time": 1.987190696
                      },
                      {
                        "learn": [
                          0.09125900221
                        ],
                        "iteration": 245,
                        "passed_time": 0.6492090415,
                        "remaining_time": 1.989852103
                      },
                      {
                        "learn": [
                          0.09113637699
                        ],
                        "iteration": 246,
                        "passed_time": 0.6542582458,
                        "remaining_time": 1.994560563
                      },
                      {
                        "learn": [
                          0.09091647439
                        ],
                        "iteration": 247,
                        "passed_time": 0.6567292259,
                        "remaining_time": 1.991372491
                      },
                      {
                        "learn": [
                          0.0906337468
                        ],
                        "iteration": 248,
                        "passed_time": 0.6592054496,
                        "remaining_time": 1.988205995
                      },
                      {
                        "learn": [
                          0.09042251467
                        ],
                        "iteration": 249,
                        "passed_time": 0.661653116,
                        "remaining_time": 1.984959348
                      },
                      {
                        "learn": [
                          0.08975364089
                        ],
                        "iteration": 250,
                        "passed_time": 0.6642341193,
                        "remaining_time": 1.982116954
                      },
                      {
                        "learn": [
                          0.08914476227
                        ],
                        "iteration": 251,
                        "passed_time": 0.6672048805,
                        "remaining_time": 1.980433534
                      },
                      {
                        "learn": [
                          0.08873644632
                        ],
                        "iteration": 252,
                        "passed_time": 0.6696610287,
                        "remaining_time": 1.977220508
                      },
                      {
                        "learn": [
                          0.08846429725
                        ],
                        "iteration": 253,
                        "passed_time": 0.6720941559,
                        "remaining_time": 1.973945828
                      },
                      {
                        "learn": [
                          0.0879069916
                        ],
                        "iteration": 254,
                        "passed_time": 0.6746810738,
                        "remaining_time": 1.971127059
                      },
                      {
                        "learn": [
                          0.08761585704
                        ],
                        "iteration": 255,
                        "passed_time": 0.6771986059,
                        "remaining_time": 1.968108448
                      },
                      {
                        "learn": [
                          0.08745534195
                        ],
                        "iteration": 256,
                        "passed_time": 0.6796647914,
                        "remaining_time": 1.964945292
                      },
                      {
                        "learn": [
                          0.08693479158
                        ],
                        "iteration": 257,
                        "passed_time": 0.6821833781,
                        "remaining_time": 1.961938242
                      },
                      {
                        "learn": [
                          0.08678333192
                        ],
                        "iteration": 258,
                        "passed_time": 0.6845735815,
                        "remaining_time": 1.95856766
                      },
                      {
                        "learn": [
                          0.08623313269
                        ],
                        "iteration": 259,
                        "passed_time": 0.687145702,
                        "remaining_time": 1.955722383
                      },
                      {
                        "learn": [
                          0.0860963301
                        ],
                        "iteration": 260,
                        "passed_time": 0.6896057221,
                        "remaining_time": 1.952561795
                      },
                      {
                        "learn": [
                          0.08557454956
                        ],
                        "iteration": 261,
                        "passed_time": 0.6920864049,
                        "remaining_time": 1.949464759
                      },
                      {
                        "learn": [
                          0.08524774234
                        ],
                        "iteration": 262,
                        "passed_time": 0.6945765969,
                        "remaining_time": 1.946399057
                      },
                      {
                        "learn": [
                          0.08512110593
                        ],
                        "iteration": 263,
                        "passed_time": 0.6973283282,
                        "remaining_time": 1.944066854
                      },
                      {
                        "learn": [
                          0.08496869084
                        ],
                        "iteration": 264,
                        "passed_time": 0.6997400835,
                        "remaining_time": 1.940788533
                      },
                      {
                        "learn": [
                          0.08450323512
                        ],
                        "iteration": 265,
                        "passed_time": 0.7022110681,
                        "remaining_time": 1.937680165
                      },
                      {
                        "learn": [
                          0.08405128059
                        ],
                        "iteration": 266,
                        "passed_time": 0.7047651031,
                        "remaining_time": 1.934804571
                      },
                      {
                        "learn": [
                          0.08366302737
                        ],
                        "iteration": 267,
                        "passed_time": 0.7074942079,
                        "remaining_time": 1.932409553
                      },
                      {
                        "learn": [
                          0.08356331445
                        ],
                        "iteration": 268,
                        "passed_time": 0.7100314283,
                        "remaining_time": 1.92949061
                      },
                      {
                        "learn": [
                          0.08327849193
                        ],
                        "iteration": 269,
                        "passed_time": 0.7125883005,
                        "remaining_time": 1.926627627
                      },
                      {
                        "learn": [
                          0.08306330296
                        ],
                        "iteration": 270,
                        "passed_time": 0.7151196372,
                        "remaining_time": 1.923698212
                      },
                      {
                        "learn": [
                          0.08278080246
                        ],
                        "iteration": 271,
                        "passed_time": 0.7176590685,
                        "remaining_time": 1.920793389
                      },
                      {
                        "learn": [
                          0.08247194545
                        ],
                        "iteration": 272,
                        "passed_time": 0.7201253068,
                        "remaining_time": 1.91769633
                      },
                      {
                        "learn": [
                          0.08211389499
                        ],
                        "iteration": 273,
                        "passed_time": 0.7225409767,
                        "remaining_time": 1.914469887
                      },
                      {
                        "learn": [
                          0.08195249962
                        ],
                        "iteration": 274,
                        "passed_time": 0.7250786934,
                        "remaining_time": 1.911571101
                      },
                      {
                        "learn": [
                          0.08184467517
                        ],
                        "iteration": 275,
                        "passed_time": 0.7289892294,
                        "remaining_time": 1.912276094
                      },
                      {
                        "learn": [
                          0.08155369369
                        ],
                        "iteration": 276,
                        "passed_time": 0.733284116,
                        "remaining_time": 1.91395096
                      },
                      {
                        "learn": [
                          0.08126789053
                        ],
                        "iteration": 277,
                        "passed_time": 0.7383423694,
                        "remaining_time": 1.917565434
                      },
                      {
                        "learn": [
                          0.08091978848
                        ],
                        "iteration": 278,
                        "passed_time": 0.7413865528,
                        "remaining_time": 1.91591292
                      },
                      {
                        "learn": [
                          0.08076981549
                        ],
                        "iteration": 279,
                        "passed_time": 0.7440190217,
                        "remaining_time": 1.91319177
                      },
                      {
                        "learn": [
                          0.08045346213
                        ],
                        "iteration": 280,
                        "passed_time": 0.7466109414,
                        "remaining_time": 1.910367498
                      },
                      {
                        "learn": [
                          0.08021231729
                        ],
                        "iteration": 281,
                        "passed_time": 0.749037184,
                        "remaining_time": 1.907123043
                      },
                      {
                        "learn": [
                          0.0797791054
                        ],
                        "iteration": 282,
                        "passed_time": 0.7518316264,
                        "remaining_time": 1.90481723
                      },
                      {
                        "learn": [
                          0.07952539593
                        ],
                        "iteration": 283,
                        "passed_time": 0.7545806503,
                        "remaining_time": 1.902393471
                      },
                      {
                        "learn": [
                          0.07943218644
                        ],
                        "iteration": 284,
                        "passed_time": 0.7572651304,
                        "remaining_time": 1.899805503
                      },
                      {
                        "learn": [
                          0.07922462296
                        ],
                        "iteration": 285,
                        "passed_time": 0.7632615513,
                        "remaining_time": 1.905485131
                      },
                      {
                        "learn": [
                          0.07905440357
                        ],
                        "iteration": 286,
                        "passed_time": 0.7691632236,
                        "remaining_time": 1.910848008
                      },
                      {
                        "learn": [
                          0.07896178175
                        ],
                        "iteration": 287,
                        "passed_time": 0.7761347357,
                        "remaining_time": 1.918777541
                      },
                      {
                        "learn": [
                          0.07883530193
                        ],
                        "iteration": 288,
                        "passed_time": 0.7799001238,
                        "remaining_time": 1.918716222
                      },
                      {
                        "learn": [
                          0.07852881222
                        ],
                        "iteration": 289,
                        "passed_time": 0.7834754802,
                        "remaining_time": 1.918164107
                      },
                      {
                        "learn": [
                          0.07814554623
                        ],
                        "iteration": 290,
                        "passed_time": 0.7902434652,
                        "remaining_time": 1.925369817
                      },
                      {
                        "learn": [
                          0.07798157291
                        ],
                        "iteration": 291,
                        "passed_time": 0.7958842928,
                        "remaining_time": 1.929746847
                      },
                      {
                        "learn": [
                          0.07787068349
                        ],
                        "iteration": 292,
                        "passed_time": 0.7996165853,
                        "remaining_time": 1.929450259
                      },
                      {
                        "learn": [
                          0.07751766056
                        ],
                        "iteration": 293,
                        "passed_time": 0.8028004683,
                        "remaining_time": 1.927813369
                      },
                      {
                        "learn": [
                          0.07716162715
                        ],
                        "iteration": 294,
                        "passed_time": 0.8061126509,
                        "remaining_time": 1.926472606
                      },
                      {
                        "learn": [
                          0.07707198105
                        ],
                        "iteration": 295,
                        "passed_time": 0.8086626514,
                        "remaining_time": 1.923305765
                      },
                      {
                        "learn": [
                          0.07682732954
                        ],
                        "iteration": 296,
                        "passed_time": 0.8111501761,
                        "remaining_time": 1.919995198
                      },
                      {
                        "learn": [
                          0.07663363824
                        ],
                        "iteration": 297,
                        "passed_time": 0.8138182952,
                        "remaining_time": 1.917115581
                      },
                      {
                        "learn": [
                          0.0762791662
                        ],
                        "iteration": 298,
                        "passed_time": 0.8163932102,
                        "remaining_time": 1.914018864
                      },
                      {
                        "learn": [
                          0.07614443832
                        ],
                        "iteration": 299,
                        "passed_time": 0.8191549133,
                        "remaining_time": 1.911361464
                      },
                      {
                        "learn": [
                          0.07607566367
                        ],
                        "iteration": 300,
                        "passed_time": 0.8217740404,
                        "remaining_time": 1.908372273
                      },
                      {
                        "learn": [
                          0.07589745261
                        ],
                        "iteration": 301,
                        "passed_time": 0.824666025,
                        "remaining_time": 1.906016177
                      },
                      {
                        "learn": [
                          0.07579278015
                        ],
                        "iteration": 302,
                        "passed_time": 0.8272897693,
                        "remaining_time": 1.903039502
                      },
                      {
                        "learn": [
                          0.07572899872
                        ],
                        "iteration": 303,
                        "passed_time": 0.8299090037,
                        "remaining_time": 1.900054824
                      },
                      {
                        "learn": [
                          0.07559361485
                        ],
                        "iteration": 304,
                        "passed_time": 0.8324090284,
                        "remaining_time": 1.896800901
                      },
                      {
                        "learn": [
                          0.07549931291
                        ],
                        "iteration": 305,
                        "passed_time": 0.8349438988,
                        "remaining_time": 1.893630934
                      },
                      {
                        "learn": [
                          0.07527653069
                        ],
                        "iteration": 306,
                        "passed_time": 0.8375553131,
                        "remaining_time": 1.890637889
                      },
                      {
                        "learn": [
                          0.07495202096
                        ],
                        "iteration": 307,
                        "passed_time": 0.8401760883,
                        "remaining_time": 1.887668354
                      },
                      {
                        "learn": [
                          0.07462060314
                        ],
                        "iteration": 308,
                        "passed_time": 0.8428058545,
                        "remaining_time": 1.884721183
                      },
                      {
                        "learn": [
                          0.07452693708
                        ],
                        "iteration": 309,
                        "passed_time": 0.8453449586,
                        "remaining_time": 1.881574263
                      },
                      {
                        "learn": [
                          0.07435636706
                        ],
                        "iteration": 310,
                        "passed_time": 0.847814785,
                        "remaining_time": 1.878277771
                      },
                      {
                        "learn": [
                          0.07424788114
                        ],
                        "iteration": 311,
                        "passed_time": 0.8502310785,
                        "remaining_time": 1.874868532
                      },
                      {
                        "learn": [
                          0.07402577756
                        ],
                        "iteration": 312,
                        "passed_time": 0.8527980808,
                        "remaining_time": 1.871796427
                      },
                      {
                        "learn": [
                          0.07394442758
                        ],
                        "iteration": 313,
                        "passed_time": 0.8552916428,
                        "remaining_time": 1.868567092
                      },
                      {
                        "learn": [
                          0.07374576369
                        ],
                        "iteration": 314,
                        "passed_time": 0.858013784,
                        "remaining_time": 1.865839498
                      },
                      {
                        "learn": [
                          0.0735450689
                        ],
                        "iteration": 315,
                        "passed_time": 0.8606281919,
                        "remaining_time": 1.862878745
                      },
                      {
                        "learn": [
                          0.07331994708
                        ],
                        "iteration": 316,
                        "passed_time": 0.8631140721,
                        "remaining_time": 1.859643253
                      },
                      {
                        "learn": [
                          0.073223315
                        ],
                        "iteration": 317,
                        "passed_time": 0.8659073471,
                        "remaining_time": 1.857071732
                      },
                      {
                        "learn": [
                          0.07301434625
                        ],
                        "iteration": 318,
                        "passed_time": 0.868514766,
                        "remaining_time": 1.854102055
                      },
                      {
                        "learn": [
                          0.07297063632
                        ],
                        "iteration": 319,
                        "passed_time": 0.8710260217,
                        "remaining_time": 1.850930296
                      },
                      {
                        "learn": [
                          0.07274882014
                        ],
                        "iteration": 320,
                        "passed_time": 0.8736251932,
                        "remaining_time": 1.847948617
                      },
                      {
                        "learn": [
                          0.07271897812
                        ],
                        "iteration": 321,
                        "passed_time": 0.8760272158,
                        "remaining_time": 1.8445542
                      },
                      {
                        "learn": [
                          0.07263291995
                        ],
                        "iteration": 322,
                        "passed_time": 0.8786421801,
                        "remaining_time": 1.841612247
                      },
                      {
                        "learn": [
                          0.07253342906
                        ],
                        "iteration": 323,
                        "passed_time": 0.8811560913,
                        "remaining_time": 1.838461474
                      },
                      {
                        "learn": [
                          0.07244214002
                        ],
                        "iteration": 324,
                        "passed_time": 0.8836001031,
                        "remaining_time": 1.835169445
                      },
                      {
                        "learn": [
                          0.07235667873
                        ],
                        "iteration": 325,
                        "passed_time": 0.8860287557,
                        "remaining_time": 1.831850863
                      },
                      {
                        "learn": [
                          0.07216332412
                        ],
                        "iteration": 326,
                        "passed_time": 0.888533806,
                        "remaining_time": 1.828694958
                      },
                      {
                        "learn": [
                          0.0718482891
                        ],
                        "iteration": 327,
                        "passed_time": 0.89107625,
                        "remaining_time": 1.825619634
                      },
                      {
                        "learn": [
                          0.07165694502
                        ],
                        "iteration": 328,
                        "passed_time": 0.8935404355,
                        "remaining_time": 1.82238794
                      },
                      {
                        "learn": [
                          0.07146151456
                        ],
                        "iteration": 329,
                        "passed_time": 0.8962874368,
                        "remaining_time": 1.819735099
                      },
                      {
                        "learn": [
                          0.07136359738
                        ],
                        "iteration": 330,
                        "passed_time": 0.8987857424,
                        "remaining_time": 1.816579038
                      },
                      {
                        "learn": [
                          0.07118302399
                        ],
                        "iteration": 331,
                        "passed_time": 0.9012484625,
                        "remaining_time": 1.81335534
                      },
                      {
                        "learn": [
                          0.07097819561
                        ],
                        "iteration": 332,
                        "passed_time": 0.9037762337,
                        "remaining_time": 1.81026651
                      },
                      {
                        "learn": [
                          0.07085383253
                        ],
                        "iteration": 333,
                        "passed_time": 0.9067272358,
                        "remaining_time": 1.808024967
                      },
                      {
                        "learn": [
                          0.07082662478
                        ],
                        "iteration": 334,
                        "passed_time": 0.9092090514,
                        "remaining_time": 1.804847818
                      },
                      {
                        "learn": [
                          0.07071025374
                        ],
                        "iteration": 335,
                        "passed_time": 0.911794551,
                        "remaining_time": 1.801879708
                      },
                      {
                        "learn": [
                          0.07059360703
                        ],
                        "iteration": 336,
                        "passed_time": 0.9143427278,
                        "remaining_time": 1.798840441
                      },
                      {
                        "learn": [
                          0.07041137671
                        ],
                        "iteration": 337,
                        "passed_time": 0.9167812069,
                        "remaining_time": 1.795589228
                      },
                      {
                        "learn": [
                          0.07025417685
                        ],
                        "iteration": 338,
                        "passed_time": 0.9194265104,
                        "remaining_time": 1.792746087
                      },
                      {
                        "learn": [
                          0.07015538315
                        ],
                        "iteration": 339,
                        "passed_time": 0.9230017532,
                        "remaining_time": 1.791709286
                      },
                      {
                        "learn": [
                          0.06992414639
                        ],
                        "iteration": 340,
                        "passed_time": 0.9256345022,
                        "remaining_time": 1.788836179
                      },
                      {
                        "learn": [
                          0.06982037276
                        ],
                        "iteration": 341,
                        "passed_time": 0.9280613012,
                        "remaining_time": 1.785568234
                      },
                      {
                        "learn": [
                          0.06968454512
                        ],
                        "iteration": 342,
                        "passed_time": 0.9306279353,
                        "remaining_time": 1.782573042
                      },
                      {
                        "learn": [
                          0.06961234058
                        ],
                        "iteration": 343,
                        "passed_time": 0.9362298427,
                        "remaining_time": 1.785368537
                      },
                      {
                        "learn": [
                          0.06953136007
                        ],
                        "iteration": 344,
                        "passed_time": 0.9392217913,
                        "remaining_time": 1.783160213
                      },
                      {
                        "learn": [
                          0.06939589934
                        ],
                        "iteration": 345,
                        "passed_time": 0.9424392999,
                        "remaining_time": 1.781373706
                      },
                      {
                        "learn": [
                          0.06929433048
                        ],
                        "iteration": 346,
                        "passed_time": 0.9459457888,
                        "remaining_time": 1.780122767
                      },
                      {
                        "learn": [
                          0.06905423374
                        ],
                        "iteration": 347,
                        "passed_time": 0.9550185268,
                        "remaining_time": 1.789287585
                      },
                      {
                        "learn": [
                          0.06878551538
                        ],
                        "iteration": 348,
                        "passed_time": 0.9671383681,
                        "remaining_time": 1.804031741
                      },
                      {
                        "learn": [
                          0.06869543566
                        ],
                        "iteration": 349,
                        "passed_time": 0.9765244929,
                        "remaining_time": 1.813545487
                      },
                      {
                        "learn": [
                          0.06865073686
                        ],
                        "iteration": 350,
                        "passed_time": 0.9849972711,
                        "remaining_time": 1.821262761
                      },
                      {
                        "learn": [
                          0.06839281064
                        ],
                        "iteration": 351,
                        "passed_time": 0.988126863,
                        "remaining_time": 1.819051725
                      },
                      {
                        "learn": [
                          0.06826570948
                        ],
                        "iteration": 352,
                        "passed_time": 0.9905739394,
                        "remaining_time": 1.815584529
                      },
                      {
                        "learn": [
                          0.0679963599
                        ],
                        "iteration": 353,
                        "passed_time": 0.9931350535,
                        "remaining_time": 1.812331199
                      },
                      {
                        "learn": [
                          0.06785444012
                        ],
                        "iteration": 354,
                        "passed_time": 0.9955920853,
                        "remaining_time": 1.808892662
                      },
                      {
                        "learn": [
                          0.06770388009
                        ],
                        "iteration": 355,
                        "passed_time": 0.9981022211,
                        "remaining_time": 1.805555703
                      },
                      {
                        "learn": [
                          0.06751989418
                        ],
                        "iteration": 356,
                        "passed_time": 1.000658849,
                        "remaining_time": 1.802307114
                      },
                      {
                        "learn": [
                          0.06750379436
                        ],
                        "iteration": 357,
                        "passed_time": 1.003050608,
                        "remaining_time": 1.798766732
                      },
                      {
                        "learn": [
                          0.06735451253
                        ],
                        "iteration": 358,
                        "passed_time": 1.005567258,
                        "remaining_time": 1.795455745
                      },
                      {
                        "learn": [
                          0.06726778546
                        ],
                        "iteration": 359,
                        "passed_time": 1.008055308,
                        "remaining_time": 1.792098326
                      },
                      {
                        "learn": [
                          0.06712409849
                        ],
                        "iteration": 360,
                        "passed_time": 1.010578108,
                        "remaining_time": 1.788807232
                      },
                      {
                        "learn": [
                          0.06696797682
                        ],
                        "iteration": 361,
                        "passed_time": 1.013044398,
                        "remaining_time": 1.785420791
                      },
                      {
                        "learn": [
                          0.06692366385
                        ],
                        "iteration": 362,
                        "passed_time": 1.015504909,
                        "remaining_time": 1.782029275
                      },
                      {
                        "learn": [
                          0.06688194817
                        ],
                        "iteration": 363,
                        "passed_time": 1.020790076,
                        "remaining_time": 1.783578264
                      },
                      {
                        "learn": [
                          0.06685570108
                        ],
                        "iteration": 364,
                        "passed_time": 1.02362808,
                        "remaining_time": 1.780832413
                      },
                      {
                        "learn": [
                          0.0665847841
                        ],
                        "iteration": 365,
                        "passed_time": 1.02610196,
                        "remaining_time": 1.777455308
                      },
                      {
                        "learn": [
                          0.06634539388
                        ],
                        "iteration": 366,
                        "passed_time": 1.028644243,
                        "remaining_time": 1.774201106
                      },
                      {
                        "learn": [
                          0.06628179444
                        ],
                        "iteration": 367,
                        "passed_time": 1.031070267,
                        "remaining_time": 1.77075111
                      },
                      {
                        "learn": [
                          0.06617336863
                        ],
                        "iteration": 368,
                        "passed_time": 1.033497518,
                        "remaining_time": 1.767308765
                      },
                      {
                        "learn": [
                          0.06603708186
                        ],
                        "iteration": 369,
                        "passed_time": 1.035961968,
                        "remaining_time": 1.763935242
                      },
                      {
                        "learn": [
                          0.06595746803
                        ],
                        "iteration": 370,
                        "passed_time": 1.038397878,
                        "remaining_time": 1.760518234
                      },
                      {
                        "learn": [
                          0.06585701619
                        ],
                        "iteration": 371,
                        "passed_time": 1.040861232,
                        "remaining_time": 1.757152833
                      },
                      {
                        "learn": [
                          0.06563956492
                        ],
                        "iteration": 372,
                        "passed_time": 1.045995749,
                        "remaining_time": 1.758282398
                      },
                      {
                        "learn": [
                          0.06539748358
                        ],
                        "iteration": 373,
                        "passed_time": 1.050541998,
                        "remaining_time": 1.758393826
                      },
                      {
                        "learn": [
                          0.06525894047
                        ],
                        "iteration": 374,
                        "passed_time": 1.053118372,
                        "remaining_time": 1.755197287
                      },
                      {
                        "learn": [
                          0.06517909719
                        ],
                        "iteration": 375,
                        "passed_time": 1.055521205,
                        "remaining_time": 1.751716042
                      },
                      {
                        "learn": [
                          0.06497755456
                        ],
                        "iteration": 376,
                        "passed_time": 1.057981944,
                        "remaining_time": 1.74833621
                      },
                      {
                        "learn": [
                          0.06467775341
                        ],
                        "iteration": 377,
                        "passed_time": 1.060559195,
                        "remaining_time": 1.74515296
                      },
                      {
                        "learn": [
                          0.06449898401
                        ],
                        "iteration": 378,
                        "passed_time": 1.063002623,
                        "remaining_time": 1.741753638
                      },
                      {
                        "learn": [
                          0.06436390414
                        ],
                        "iteration": 379,
                        "passed_time": 1.065398599,
                        "remaining_time": 1.738281924
                      },
                      {
                        "learn": [
                          0.06427118462
                        ],
                        "iteration": 380,
                        "passed_time": 1.067860308,
                        "remaining_time": 1.734922653
                      },
                      {
                        "learn": [
                          0.06411856086
                        ],
                        "iteration": 381,
                        "passed_time": 1.07025445,
                        "remaining_time": 1.731458769
                      },
                      {
                        "learn": [
                          0.06407967217
                        ],
                        "iteration": 382,
                        "passed_time": 1.072667829,
                        "remaining_time": 1.728031463
                      },
                      {
                        "learn": [
                          0.06401029399
                        ],
                        "iteration": 383,
                        "passed_time": 1.075077838,
                        "remaining_time": 1.724604032
                      },
                      {
                        "learn": [
                          0.06376625556
                        ],
                        "iteration": 384,
                        "passed_time": 1.0775931,
                        "remaining_time": 1.721350016
                      },
                      {
                        "learn": [
                          0.06354245681
                        ],
                        "iteration": 385,
                        "passed_time": 1.080181247,
                        "remaining_time": 1.718215767
                      },
                      {
                        "learn": [
                          0.06345718868
                        ],
                        "iteration": 386,
                        "passed_time": 1.082639226,
                        "remaining_time": 1.714878153
                      },
                      {
                        "learn": [
                          0.06327341975
                        ],
                        "iteration": 387,
                        "passed_time": 1.085157929,
                        "remaining_time": 1.711640857
                      },
                      {
                        "learn": [
                          0.06317718081
                        ],
                        "iteration": 388,
                        "passed_time": 1.087518131,
                        "remaining_time": 1.708158298
                      },
                      {
                        "learn": [
                          0.06309398029
                        ],
                        "iteration": 389,
                        "passed_time": 1.089878453,
                        "remaining_time": 1.704681684
                      },
                      {
                        "learn": [
                          0.06303649374
                        ],
                        "iteration": 390,
                        "passed_time": 1.092290781,
                        "remaining_time": 1.701291778
                      },
                      {
                        "learn": [
                          0.06302759414
                        ],
                        "iteration": 391,
                        "passed_time": 1.096840409,
                        "remaining_time": 1.701221859
                      },
                      {
                        "learn": [
                          0.06292116235
                        ],
                        "iteration": 392,
                        "passed_time": 1.099375159,
                        "remaining_time": 1.698017102
                      },
                      {
                        "learn": [
                          0.06268288946
                        ],
                        "iteration": 393,
                        "passed_time": 1.101880516,
                        "remaining_time": 1.69477054
                      },
                      {
                        "learn": [
                          0.06260358522
                        ],
                        "iteration": 394,
                        "passed_time": 1.104262627,
                        "remaining_time": 1.69133896
                      },
                      {
                        "learn": [
                          0.06251771043
                        ],
                        "iteration": 395,
                        "passed_time": 1.106709806,
                        "remaining_time": 1.688011926
                      },
                      {
                        "learn": [
                          0.06228547468
                        ],
                        "iteration": 396,
                        "passed_time": 1.109453451,
                        "remaining_time": 1.685139624
                      },
                      {
                        "learn": [
                          0.06212640529
                        ],
                        "iteration": 397,
                        "passed_time": 1.111988441,
                        "remaining_time": 1.681952366
                      },
                      {
                        "learn": [
                          0.06206064426
                        ],
                        "iteration": 398,
                        "passed_time": 1.114440757,
                        "remaining_time": 1.678643848
                      },
                      {
                        "learn": [
                          0.06186711698
                        ],
                        "iteration": 399,
                        "passed_time": 1.117003909,
                        "remaining_time": 1.675505863
                      },
                      {
                        "learn": [
                          0.06178857445
                        ],
                        "iteration": 400,
                        "passed_time": 1.119498528,
                        "remaining_time": 1.672268375
                      },
                      {
                        "learn": [
                          0.06158304565
                        ],
                        "iteration": 401,
                        "passed_time": 1.122854638,
                        "remaining_time": 1.670316104
                      },
                      {
                        "learn": [
                          0.06145774685
                        ],
                        "iteration": 402,
                        "passed_time": 1.125551986,
                        "remaining_time": 1.667380981
                      },
                      {
                        "learn": [
                          0.06139199043
                        ],
                        "iteration": 403,
                        "passed_time": 1.127953057,
                        "remaining_time": 1.664009956
                      },
                      {
                        "learn": [
                          0.0613189841
                        ],
                        "iteration": 404,
                        "passed_time": 1.130398506,
                        "remaining_time": 1.660708917
                      },
                      {
                        "learn": [
                          0.06116227266
                        ],
                        "iteration": 405,
                        "passed_time": 1.132875846,
                        "remaining_time": 1.657458751
                      },
                      {
                        "learn": [
                          0.06098865171
                        ],
                        "iteration": 406,
                        "passed_time": 1.135380133,
                        "remaining_time": 1.654251643
                      },
                      {
                        "learn": [
                          0.06090503483
                        ],
                        "iteration": 407,
                        "passed_time": 1.137769506,
                        "remaining_time": 1.650881245
                      },
                      {
                        "learn": [
                          0.0608790043
                        ],
                        "iteration": 408,
                        "passed_time": 1.140173161,
                        "remaining_time": 1.647536279
                      },
                      {
                        "learn": [
                          0.06069493285
                        ],
                        "iteration": 409,
                        "passed_time": 1.142640579,
                        "remaining_time": 1.644287663
                      },
                      {
                        "learn": [
                          0.06051758851
                        ],
                        "iteration": 410,
                        "passed_time": 1.14511131,
                        "remaining_time": 1.641047595
                      },
                      {
                        "learn": [
                          0.06035540655
                        ],
                        "iteration": 411,
                        "passed_time": 1.147710177,
                        "remaining_time": 1.637994136
                      },
                      {
                        "learn": [
                          0.06019891523
                        ],
                        "iteration": 412,
                        "passed_time": 1.150385292,
                        "remaining_time": 1.63505125
                      },
                      {
                        "learn": [
                          0.06018863102
                        ],
                        "iteration": 413,
                        "passed_time": 1.152769082,
                        "remaining_time": 1.6316973
                      },
                      {
                        "learn": [
                          0.06009613842
                        ],
                        "iteration": 414,
                        "passed_time": 1.155256332,
                        "remaining_time": 1.628493866
                      },
                      {
                        "learn": [
                          0.05997026916
                        ],
                        "iteration": 415,
                        "passed_time": 1.1578772,
                        "remaining_time": 1.625481453
                      },
                      {
                        "learn": [
                          0.05987969599
                        ],
                        "iteration": 416,
                        "passed_time": 1.160415283,
                        "remaining_time": 1.622355179
                      },
                      {
                        "learn": [
                          0.05973461787
                        ],
                        "iteration": 417,
                        "passed_time": 1.162850619,
                        "remaining_time": 1.619088661
                      },
                      {
                        "learn": [
                          0.05972470042
                        ],
                        "iteration": 418,
                        "passed_time": 1.165219359,
                        "remaining_time": 1.615733765
                      },
                      {
                        "learn": [
                          0.05961612463
                        ],
                        "iteration": 419,
                        "passed_time": 1.167727294,
                        "remaining_time": 1.612575787
                      },
                      {
                        "learn": [
                          0.0594492891
                        ],
                        "iteration": 420,
                        "passed_time": 1.170235968,
                        "remaining_time": 1.609421914
                      },
                      {
                        "learn": [
                          0.05939314142
                        ],
                        "iteration": 421,
                        "passed_time": 1.172708638,
                        "remaining_time": 1.606221784
                      },
                      {
                        "learn": [
                          0.05931678062
                        ],
                        "iteration": 422,
                        "passed_time": 1.175146663,
                        "remaining_time": 1.602977836
                      },
                      {
                        "learn": [
                          0.05918719298
                        ],
                        "iteration": 423,
                        "passed_time": 1.177575812,
                        "remaining_time": 1.599725631
                      },
                      {
                        "learn": [
                          0.05907845783
                        ],
                        "iteration": 424,
                        "passed_time": 1.180352058,
                        "remaining_time": 1.596946902
                      },
                      {
                        "learn": [
                          0.059059431
                        ],
                        "iteration": 425,
                        "passed_time": 1.18276358,
                        "remaining_time": 1.593676749
                      },
                      {
                        "learn": [
                          0.05892263572
                        ],
                        "iteration": 426,
                        "passed_time": 1.185289733,
                        "remaining_time": 1.590564443
                      },
                      {
                        "learn": [
                          0.05873658108
                        ],
                        "iteration": 427,
                        "passed_time": 1.187898102,
                        "remaining_time": 1.587564753
                      },
                      {
                        "learn": [
                          0.05867876752
                        ],
                        "iteration": 428,
                        "passed_time": 1.190402439,
                        "remaining_time": 1.584428421
                      },
                      {
                        "learn": [
                          0.05862266622
                        ],
                        "iteration": 429,
                        "passed_time": 1.19281429,
                        "remaining_time": 1.58117243
                      },
                      {
                        "learn": [
                          0.05856950726
                        ],
                        "iteration": 430,
                        "passed_time": 1.195306776,
                        "remaining_time": 1.578026811
                      },
                      {
                        "learn": [
                          0.05847616521
                        ],
                        "iteration": 431,
                        "passed_time": 1.197746691,
                        "remaining_time": 1.574815093
                      },
                      {
                        "learn": [
                          0.05830206105
                        ],
                        "iteration": 432,
                        "passed_time": 1.200270956,
                        "remaining_time": 1.571717396
                      },
                      {
                        "learn": [
                          0.05813124782
                        ],
                        "iteration": 433,
                        "passed_time": 1.202726537,
                        "remaining_time": 1.568532765
                      },
                      {
                        "learn": [
                          0.05800728884
                        ],
                        "iteration": 434,
                        "passed_time": 1.205194225,
                        "remaining_time": 1.565367211
                      },
                      {
                        "learn": [
                          0.05795559132
                        ],
                        "iteration": 435,
                        "passed_time": 1.207709838,
                        "remaining_time": 1.562266854
                      },
                      {
                        "learn": [
                          0.05774254177
                        ],
                        "iteration": 436,
                        "passed_time": 1.21026278,
                        "remaining_time": 1.559217266
                      },
                      {
                        "learn": [
                          0.05759776492
                        ],
                        "iteration": 437,
                        "passed_time": 1.212711634,
                        "remaining_time": 1.556036388
                      },
                      {
                        "learn": [
                          0.05752610411
                        ],
                        "iteration": 438,
                        "passed_time": 1.215143066,
                        "remaining_time": 1.552836584
                      },
                      {
                        "learn": [
                          0.05739332828
                        ],
                        "iteration": 439,
                        "passed_time": 1.217638138,
                        "remaining_time": 1.549721267
                      },
                      {
                        "learn": [
                          0.05734165865
                        ],
                        "iteration": 440,
                        "passed_time": 1.220083727,
                        "remaining_time": 1.54654604
                      },
                      {
                        "learn": [
                          0.0571909008
                        ],
                        "iteration": 441,
                        "passed_time": 1.22272214,
                        "remaining_time": 1.543617543
                      },
                      {
                        "learn": [
                          0.05707200738
                        ],
                        "iteration": 442,
                        "passed_time": 1.225130394,
                        "remaining_time": 1.54040097
                      },
                      {
                        "learn": [
                          0.05695116786
                        ],
                        "iteration": 443,
                        "passed_time": 1.227644407,
                        "remaining_time": 1.537320474
                      },
                      {
                        "learn": [
                          0.05688438519
                        ],
                        "iteration": 444,
                        "passed_time": 1.230727612,
                        "remaining_time": 1.534952415
                      },
                      {
                        "learn": [
                          0.05683631258
                        ],
                        "iteration": 445,
                        "passed_time": 1.233356729,
                        "remaining_time": 1.532017103
                      },
                      {
                        "learn": [
                          0.05677829893
                        ],
                        "iteration": 446,
                        "passed_time": 1.236075212,
                        "remaining_time": 1.529193718
                      },
                      {
                        "learn": [
                          0.05661242803
                        ],
                        "iteration": 447,
                        "passed_time": 1.23867432,
                        "remaining_time": 1.526223715
                      },
                      {
                        "learn": [
                          0.05655065478
                        ],
                        "iteration": 448,
                        "passed_time": 1.241335226,
                        "remaining_time": 1.523331202
                      },
                      {
                        "learn": [
                          0.05649631539
                        ],
                        "iteration": 449,
                        "passed_time": 1.243808083,
                        "remaining_time": 1.520209879
                      },
                      {
                        "learn": [
                          0.05641606146
                        ],
                        "iteration": 450,
                        "passed_time": 1.246282784,
                        "remaining_time": 1.517093677
                      },
                      {
                        "learn": [
                          0.05632729683
                        ],
                        "iteration": 451,
                        "passed_time": 1.249181288,
                        "remaining_time": 1.514494128
                      },
                      {
                        "learn": [
                          0.05620016902
                        ],
                        "iteration": 452,
                        "passed_time": 1.251689887,
                        "remaining_time": 1.511422446
                      },
                      {
                        "learn": [
                          0.0560244575
                        ],
                        "iteration": 453,
                        "passed_time": 1.254255792,
                        "remaining_time": 1.508422163
                      },
                      {
                        "learn": [
                          0.05597998007
                        ],
                        "iteration": 454,
                        "passed_time": 1.256593192,
                        "remaining_time": 1.505150087
                      },
                      {
                        "learn": [
                          0.05583140783
                        ],
                        "iteration": 455,
                        "passed_time": 1.26267856,
                        "remaining_time": 1.506353369
                      },
                      {
                        "learn": [
                          0.05577579767
                        ],
                        "iteration": 456,
                        "passed_time": 1.270010798,
                        "remaining_time": 1.509006265
                      },
                      {
                        "learn": [
                          0.0557412871
                        ],
                        "iteration": 457,
                        "passed_time": 1.272446166,
                        "remaining_time": 1.505820572
                      },
                      {
                        "learn": [
                          0.05560280833
                        ],
                        "iteration": 458,
                        "passed_time": 1.275014245,
                        "remaining_time": 1.502794567
                      },
                      {
                        "learn": [
                          0.05550944756
                        ],
                        "iteration": 459,
                        "passed_time": 1.277608279,
                        "remaining_time": 1.499801023
                      },
                      {
                        "learn": [
                          0.05548960867
                        ],
                        "iteration": 460,
                        "passed_time": 1.280037889,
                        "remaining_time": 1.496616968
                      },
                      {
                        "learn": [
                          0.05543899592
                        ],
                        "iteration": 461,
                        "passed_time": 1.282511423,
                        "remaining_time": 1.493487328
                      },
                      {
                        "learn": [
                          0.05531964237
                        ],
                        "iteration": 462,
                        "passed_time": 1.285045205,
                        "remaining_time": 1.490430399
                      },
                      {
                        "learn": [
                          0.05522686357
                        ],
                        "iteration": 463,
                        "passed_time": 1.28755555,
                        "remaining_time": 1.487348652
                      },
                      {
                        "learn": [
                          0.055130507
                        ],
                        "iteration": 464,
                        "passed_time": 1.290032543,
                        "remaining_time": 1.484230991
                      },
                      {
                        "learn": [
                          0.05508071538
                        ],
                        "iteration": 465,
                        "passed_time": 1.292483511,
                        "remaining_time": 1.481086256
                      },
                      {
                        "learn": [
                          0.05502486232
                        ],
                        "iteration": 466,
                        "passed_time": 1.294920963,
                        "remaining_time": 1.477929065
                      },
                      {
                        "learn": [
                          0.05497563929
                        ],
                        "iteration": 467,
                        "passed_time": 1.297346905,
                        "remaining_time": 1.474761866
                      },
                      {
                        "learn": [
                          0.0547964857
                        ],
                        "iteration": 468,
                        "passed_time": 1.29992973,
                        "remaining_time": 1.471775451
                      },
                      {
                        "learn": [
                          0.05469013085
                        ],
                        "iteration": 469,
                        "passed_time": 1.302391021,
                        "remaining_time": 1.468653705
                      },
                      {
                        "learn": [
                          0.05453194245
                        ],
                        "iteration": 470,
                        "passed_time": 1.304860959,
                        "remaining_time": 1.465544474
                      },
                      {
                        "learn": [
                          0.05443733212
                        ],
                        "iteration": 471,
                        "passed_time": 1.307280337,
                        "remaining_time": 1.462381394
                      },
                      {
                        "learn": [
                          0.05436521248
                        ],
                        "iteration": 472,
                        "passed_time": 1.309633659,
                        "remaining_time": 1.459147861
                      },
                      {
                        "learn": [
                          0.05430169416
                        ],
                        "iteration": 473,
                        "passed_time": 1.312084393,
                        "remaining_time": 1.456026141
                      },
                      {
                        "learn": [
                          0.05421419278
                        ],
                        "iteration": 474,
                        "passed_time": 1.316227176,
                        "remaining_time": 1.454777405
                      },
                      {
                        "learn": [
                          0.05411996406
                        ],
                        "iteration": 475,
                        "passed_time": 1.320894758,
                        "remaining_time": 1.45409423
                      },
                      {
                        "learn": [
                          0.05404365049
                        ],
                        "iteration": 476,
                        "passed_time": 1.323337897,
                        "remaining_time": 1.450955388
                      },
                      {
                        "learn": [
                          0.05392050215
                        ],
                        "iteration": 477,
                        "passed_time": 1.325917645,
                        "remaining_time": 1.447968642
                      },
                      {
                        "learn": [
                          0.05387644755
                        ],
                        "iteration": 478,
                        "passed_time": 1.328413736,
                        "remaining_time": 1.444892603
                      },
                      {
                        "learn": [
                          0.05375844825
                        ],
                        "iteration": 479,
                        "passed_time": 1.330885478,
                        "remaining_time": 1.441792601
                      },
                      {
                        "learn": [
                          0.05368547102
                        ],
                        "iteration": 480,
                        "passed_time": 1.333348412,
                        "remaining_time": 1.438685709
                      },
                      {
                        "learn": [
                          0.05362159114
                        ],
                        "iteration": 481,
                        "passed_time": 1.335779287,
                        "remaining_time": 1.435547034
                      },
                      {
                        "learn": [
                          0.05352178178
                        ],
                        "iteration": 482,
                        "passed_time": 1.338255362,
                        "remaining_time": 1.432459673
                      },
                      {
                        "learn": [
                          0.05347489365
                        ],
                        "iteration": 483,
                        "passed_time": 1.340716995,
                        "remaining_time": 1.429359441
                      },
                      {
                        "learn": [
                          0.05341435839
                        ],
                        "iteration": 484,
                        "passed_time": 1.343159826,
                        "remaining_time": 1.426241877
                      },
                      {
                        "learn": [
                          0.05337455581
                        ],
                        "iteration": 485,
                        "passed_time": 1.345616791,
                        "remaining_time": 1.423142039
                      },
                      {
                        "learn": [
                          0.0532365344
                        ],
                        "iteration": 486,
                        "passed_time": 1.348142305,
                        "remaining_time": 1.420117049
                      },
                      {
                        "learn": [
                          0.05314212701
                        ],
                        "iteration": 487,
                        "passed_time": 1.350673876,
                        "remaining_time": 1.41710046
                      },
                      {
                        "learn": [
                          0.05309019657
                        ],
                        "iteration": 488,
                        "passed_time": 1.353323285,
                        "remaining_time": 1.414208995
                      },
                      {
                        "learn": [
                          0.05296004044
                        ],
                        "iteration": 489,
                        "passed_time": 1.355897425,
                        "remaining_time": 1.411240177
                      },
                      {
                        "learn": [
                          0.05289877682
                        ],
                        "iteration": 490,
                        "passed_time": 1.358310952,
                        "remaining_time": 1.408106466
                      },
                      {
                        "learn": [
                          0.05275813006
                        ],
                        "iteration": 491,
                        "passed_time": 1.361052737,
                        "remaining_time": 1.405314615
                      },
                      {
                        "learn": [
                          0.05272701927
                        ],
                        "iteration": 492,
                        "passed_time": 1.363464606,
                        "remaining_time": 1.402183682
                      },
                      {
                        "learn": [
                          0.05268877233
                        ],
                        "iteration": 493,
                        "passed_time": 1.365875408,
                        "remaining_time": 1.399054567
                      },
                      {
                        "learn": [
                          0.05260965866
                        ],
                        "iteration": 494,
                        "passed_time": 1.368338971,
                        "remaining_time": 1.395982182
                      },
                      {
                        "learn": [
                          0.05257603705
                        ],
                        "iteration": 495,
                        "passed_time": 1.370656541,
                        "remaining_time": 1.392763905
                      },
                      {
                        "learn": [
                          0.05249466096
                        ],
                        "iteration": 496,
                        "passed_time": 1.37308576,
                        "remaining_time": 1.389662248
                      },
                      {
                        "learn": [
                          0.05245671443
                        ],
                        "iteration": 497,
                        "passed_time": 1.375423951,
                        "remaining_time": 1.386471533
                      },
                      {
                        "learn": [
                          0.05241916158
                        ],
                        "iteration": 498,
                        "passed_time": 1.377788154,
                        "remaining_time": 1.383310351
                      },
                      {
                        "learn": [
                          0.0523497513
                        ],
                        "iteration": 499,
                        "passed_time": 1.380521836,
                        "remaining_time": 1.380521836
                      },
                      {
                        "learn": [
                          0.05226436271
                        ],
                        "iteration": 500,
                        "passed_time": 1.38331809,
                        "remaining_time": 1.377795862
                      },
                      {
                        "learn": [
                          0.0522066104
                        ],
                        "iteration": 501,
                        "passed_time": 1.388170118,
                        "remaining_time": 1.377109002
                      },
                      {
                        "learn": [
                          0.05216518269
                        ],
                        "iteration": 502,
                        "passed_time": 1.391768415,
                        "remaining_time": 1.375166803
                      },
                      {
                        "learn": [
                          0.05212380668
                        ],
                        "iteration": 503,
                        "passed_time": 1.396459845,
                        "remaining_time": 1.374293815
                      },
                      {
                        "learn": [
                          0.05205312226
                        ],
                        "iteration": 504,
                        "passed_time": 1.400810733,
                        "remaining_time": 1.373071907
                      },
                      {
                        "learn": [
                          0.05201286251
                        ],
                        "iteration": 505,
                        "passed_time": 1.403391305,
                        "remaining_time": 1.370109298
                      },
                      {
                        "learn": [
                          0.05196727815
                        ],
                        "iteration": 506,
                        "passed_time": 1.405928041,
                        "remaining_time": 1.36710557
                      },
                      {
                        "learn": [
                          0.05180787851
                        ],
                        "iteration": 507,
                        "passed_time": 1.408572636,
                        "remaining_time": 1.364208143
                      },
                      {
                        "learn": [
                          0.05175816349
                        ],
                        "iteration": 508,
                        "passed_time": 1.411060308,
                        "remaining_time": 1.361160336
                      },
                      {
                        "learn": [
                          0.05165383919
                        ],
                        "iteration": 509,
                        "passed_time": 1.413557469,
                        "remaining_time": 1.358123843
                      },
                      {
                        "learn": [
                          0.05153523971
                        ],
                        "iteration": 510,
                        "passed_time": 1.416139581,
                        "remaining_time": 1.355170754
                      },
                      {
                        "learn": [
                          0.05148404554
                        ],
                        "iteration": 511,
                        "passed_time": 1.418642227,
                        "remaining_time": 1.352143373
                      },
                      {
                        "learn": [
                          0.05134935745
                        ],
                        "iteration": 512,
                        "passed_time": 1.421296047,
                        "remaining_time": 1.34926155
                      },
                      {
                        "learn": [
                          0.05125794539
                        ],
                        "iteration": 513,
                        "passed_time": 1.423798908,
                        "remaining_time": 1.346237878
                      },
                      {
                        "learn": [
                          0.05120129563
                        ],
                        "iteration": 514,
                        "passed_time": 1.426222347,
                        "remaining_time": 1.343141434
                      },
                      {
                        "learn": [
                          0.05116534713
                        ],
                        "iteration": 515,
                        "passed_time": 1.42867623,
                        "remaining_time": 1.340076154
                      },
                      {
                        "learn": [
                          0.05112556791
                        ],
                        "iteration": 516,
                        "passed_time": 1.431196892,
                        "remaining_time": 1.337075626
                      },
                      {
                        "learn": [
                          0.05096183675
                        ],
                        "iteration": 517,
                        "passed_time": 1.433746421,
                        "remaining_time": 1.334103812
                      },
                      {
                        "learn": [
                          0.05092219856
                        ],
                        "iteration": 518,
                        "passed_time": 1.436229355,
                        "remaining_time": 1.331071907
                      },
                      {
                        "learn": [
                          0.05088577332
                        ],
                        "iteration": 519,
                        "passed_time": 1.438711016,
                        "remaining_time": 1.328040938
                      },
                      {
                        "learn": [
                          0.05085998134
                        ],
                        "iteration": 520,
                        "passed_time": 1.441226519,
                        "remaining_time": 1.325043192
                      },
                      {
                        "learn": [
                          0.05075745271
                        ],
                        "iteration": 521,
                        "passed_time": 1.44375309,
                        "remaining_time": 1.322057427
                      },
                      {
                        "learn": [
                          0.05063597653
                        ],
                        "iteration": 522,
                        "passed_time": 1.447590349,
                        "remaining_time": 1.320268827
                      },
                      {
                        "learn": [
                          0.05055467216
                        ],
                        "iteration": 523,
                        "passed_time": 1.450128498,
                        "remaining_time": 1.3172923
                      },
                      {
                        "learn": [
                          0.05043935947
                        ],
                        "iteration": 524,
                        "passed_time": 1.452633853,
                        "remaining_time": 1.314287772
                      },
                      {
                        "learn": [
                          0.05040684505
                        ],
                        "iteration": 525,
                        "passed_time": 1.455040269,
                        "remaining_time": 1.311195983
                      },
                      {
                        "learn": [
                          0.05037576558
                        ],
                        "iteration": 526,
                        "passed_time": 1.457464693,
                        "remaining_time": 1.30812296
                      },
                      {
                        "learn": [
                          0.05028674124
                        ],
                        "iteration": 527,
                        "passed_time": 1.459933608,
                        "remaining_time": 1.305092164
                      },
                      {
                        "learn": [
                          0.05014889261
                        ],
                        "iteration": 528,
                        "passed_time": 1.462546903,
                        "remaining_time": 1.302192044
                      },
                      {
                        "learn": [
                          0.05006304382
                        ],
                        "iteration": 529,
                        "passed_time": 1.465044575,
                        "remaining_time": 1.299190472
                      },
                      {
                        "learn": [
                          0.0499731753
                        ],
                        "iteration": 530,
                        "passed_time": 1.467623035,
                        "remaining_time": 1.296262154
                      },
                      {
                        "learn": [
                          0.04993170324
                        ],
                        "iteration": 531,
                        "passed_time": 1.47011495,
                        "remaining_time": 1.293259016
                      },
                      {
                        "learn": [
                          0.04985262484
                        ],
                        "iteration": 532,
                        "passed_time": 1.47254274,
                        "remaining_time": 1.290201613
                      },
                      {
                        "learn": [
                          0.04978571309
                        ],
                        "iteration": 533,
                        "passed_time": 1.475000222,
                        "remaining_time": 1.287172478
                      },
                      {
                        "learn": [
                          0.04970109695
                        ],
                        "iteration": 534,
                        "passed_time": 1.477440519,
                        "remaining_time": 1.284130545
                      },
                      {
                        "learn": [
                          0.04963103135
                        ],
                        "iteration": 535,
                        "passed_time": 1.479938497,
                        "remaining_time": 1.281140788
                      },
                      {
                        "learn": [
                          0.04960461925
                        ],
                        "iteration": 536,
                        "passed_time": 1.482347281,
                        "remaining_time": 1.278075961
                      },
                      {
                        "learn": [
                          0.04953253829
                        ],
                        "iteration": 537,
                        "passed_time": 1.484817484,
                        "remaining_time": 1.275066315
                      },
                      {
                        "learn": [
                          0.04949107134
                        ],
                        "iteration": 538,
                        "passed_time": 1.488736424,
                        "remaining_time": 1.273297757
                      },
                      {
                        "learn": [
                          0.04941829232
                        ],
                        "iteration": 539,
                        "passed_time": 1.49128301,
                        "remaining_time": 1.270352194
                      },
                      {
                        "learn": [
                          0.04931934243
                        ],
                        "iteration": 540,
                        "passed_time": 1.4938201,
                        "remaining_time": 1.267400048
                      },
                      {
                        "learn": [
                          0.04924534183
                        ],
                        "iteration": 541,
                        "passed_time": 1.496368534,
                        "remaining_time": 1.264459019
                      },
                      {
                        "learn": [
                          0.04917259954
                        ],
                        "iteration": 542,
                        "passed_time": 1.498793854,
                        "remaining_time": 1.261415822
                      },
                      {
                        "learn": [
                          0.0490931539
                        ],
                        "iteration": 543,
                        "passed_time": 1.501263787,
                        "remaining_time": 1.258412292
                      },
                      {
                        "learn": [
                          0.04899488858
                        ],
                        "iteration": 544,
                        "passed_time": 1.503715879,
                        "remaining_time": 1.255395826
                      },
                      {
                        "learn": [
                          0.04891657256
                        ],
                        "iteration": 545,
                        "passed_time": 1.506226321,
                        "remaining_time": 1.252429945
                      },
                      {
                        "learn": [
                          0.04884929658
                        ],
                        "iteration": 546,
                        "passed_time": 1.508767785,
                        "remaining_time": 1.249491419
                      },
                      {
                        "learn": [
                          0.04878032762
                        ],
                        "iteration": 547,
                        "passed_time": 1.511254697,
                        "remaining_time": 1.246509349
                      },
                      {
                        "learn": [
                          0.04875723531
                        ],
                        "iteration": 548,
                        "passed_time": 1.513931742,
                        "remaining_time": 1.243685274
                      },
                      {
                        "learn": [
                          0.04871299917
                        ],
                        "iteration": 549,
                        "passed_time": 1.516739259,
                        "remaining_time": 1.240968485
                      },
                      {
                        "learn": [
                          0.04865599697
                        ],
                        "iteration": 550,
                        "passed_time": 1.519289382,
                        "remaining_time": 1.23804162
                      },
                      {
                        "learn": [
                          0.04862674585
                        ],
                        "iteration": 551,
                        "passed_time": 1.521749047,
                        "remaining_time": 1.235042705
                      },
                      {
                        "learn": [
                          0.04860628175
                        ],
                        "iteration": 552,
                        "passed_time": 1.52422337,
                        "remaining_time": 1.232057589
                      },
                      {
                        "learn": [
                          0.04856665259
                        ],
                        "iteration": 553,
                        "passed_time": 1.5266874,
                        "remaining_time": 1.229066029
                      },
                      {
                        "learn": [
                          0.04844376082
                        ],
                        "iteration": 554,
                        "passed_time": 1.529210549,
                        "remaining_time": 1.226123774
                      },
                      {
                        "learn": [
                          0.04835560889
                        ],
                        "iteration": 555,
                        "passed_time": 1.531685887,
                        "remaining_time": 1.223144845
                      },
                      {
                        "learn": [
                          0.04820142564
                        ],
                        "iteration": 556,
                        "passed_time": 1.53441987,
                        "remaining_time": 1.220373434
                      },
                      {
                        "learn": [
                          0.04813192134
                        ],
                        "iteration": 557,
                        "passed_time": 1.536882598,
                        "remaining_time": 1.217387291
                      },
                      {
                        "learn": [
                          0.04807029188
                        ],
                        "iteration": 558,
                        "passed_time": 1.539381021,
                        "remaining_time": 1.214431181
                      },
                      {
                        "learn": [
                          0.04796571123
                        ],
                        "iteration": 559,
                        "passed_time": 1.541874843,
                        "remaining_time": 1.211473091
                      },
                      {
                        "learn": [
                          0.04790318341
                        ],
                        "iteration": 560,
                        "passed_time": 1.544336642,
                        "remaining_time": 1.208491597
                      },
                      {
                        "learn": [
                          0.04787598575
                        ],
                        "iteration": 561,
                        "passed_time": 1.546709661,
                        "remaining_time": 1.205442761
                      },
                      {
                        "learn": [
                          0.04773430843
                        ],
                        "iteration": 562,
                        "passed_time": 1.549229042,
                        "remaining_time": 1.202509931
                      },
                      {
                        "learn": [
                          0.04770720718
                        ],
                        "iteration": 563,
                        "passed_time": 1.551608132,
                        "remaining_time": 1.199470116
                      },
                      {
                        "learn": [
                          0.04764285027
                        ],
                        "iteration": 564,
                        "passed_time": 1.554084792,
                        "remaining_time": 1.19650776
                      },
                      {
                        "learn": [
                          0.04752356302
                        ],
                        "iteration": 565,
                        "passed_time": 1.556773099,
                        "remaining_time": 1.193709408
                      },
                      {
                        "learn": [
                          0.04746897888
                        ],
                        "iteration": 566,
                        "passed_time": 1.559198071,
                        "remaining_time": 1.190710343
                      },
                      {
                        "learn": [
                          0.04743698641
                        ],
                        "iteration": 567,
                        "passed_time": 1.561614853,
                        "remaining_time": 1.187707071
                      },
                      {
                        "learn": [
                          0.04734329776
                        ],
                        "iteration": 568,
                        "passed_time": 1.5642808,
                        "remaining_time": 1.184894596
                      },
                      {
                        "learn": [
                          0.04729499144
                        ],
                        "iteration": 569,
                        "passed_time": 1.567139316,
                        "remaining_time": 1.182227905
                      },
                      {
                        "learn": [
                          0.04718123907
                        ],
                        "iteration": 570,
                        "passed_time": 1.569870426,
                        "remaining_time": 1.179464821
                      },
                      {
                        "learn": [
                          0.04713196828
                        ],
                        "iteration": 571,
                        "passed_time": 1.572800523,
                        "remaining_time": 1.176850741
                      },
                      {
                        "learn": [
                          0.04710983653
                        ],
                        "iteration": 572,
                        "passed_time": 1.575223475,
                        "remaining_time": 1.173857633
                      },
                      {
                        "learn": [
                          0.04705289416
                        ],
                        "iteration": 573,
                        "passed_time": 1.578923544,
                        "remaining_time": 1.171814338
                      },
                      {
                        "learn": [
                          0.04692504165
                        ],
                        "iteration": 574,
                        "passed_time": 1.583850372,
                        "remaining_time": 1.170672014
                      },
                      {
                        "learn": [
                          0.04685802548
                        ],
                        "iteration": 575,
                        "passed_time": 1.586406687,
                        "remaining_time": 1.167771589
                      },
                      {
                        "learn": [
                          0.04678266544
                        ],
                        "iteration": 576,
                        "passed_time": 1.588921421,
                        "remaining_time": 1.164841874
                      },
                      {
                        "learn": [
                          0.04669290167
                        ],
                        "iteration": 577,
                        "passed_time": 1.591395897,
                        "remaining_time": 1.161884201
                      },
                      {
                        "learn": [
                          0.04663324719
                        ],
                        "iteration": 578,
                        "passed_time": 1.59381538,
                        "remaining_time": 1.158888213
                      },
                      {
                        "learn": [
                          0.04658970528
                        ],
                        "iteration": 579,
                        "passed_time": 1.596297738,
                        "remaining_time": 1.155939741
                      },
                      {
                        "learn": [
                          0.04651978528
                        ],
                        "iteration": 580,
                        "passed_time": 1.598782323,
                        "remaining_time": 1.152994481
                      },
                      {
                        "learn": [
                          0.04646122584
                        ],
                        "iteration": 581,
                        "passed_time": 1.601528185,
                        "remaining_time": 1.150238456
                      },
                      {
                        "learn": [
                          0.04642520187
                        ],
                        "iteration": 582,
                        "passed_time": 1.604252219,
                        "remaining_time": 1.147466853
                      },
                      {
                        "learn": [
                          0.04635483709
                        ],
                        "iteration": 583,
                        "passed_time": 1.606772989,
                        "remaining_time": 1.144550622
                      },
                      {
                        "learn": [
                          0.04629476566
                        ],
                        "iteration": 584,
                        "passed_time": 1.609281634,
                        "remaining_time": 1.141627142
                      },
                      {
                        "learn": [
                          0.04623556468
                        ],
                        "iteration": 585,
                        "passed_time": 1.611765434,
                        "remaining_time": 1.138687525
                      },
                      {
                        "learn": [
                          0.04619592327
                        ],
                        "iteration": 586,
                        "passed_time": 1.614255089,
                        "remaining_time": 1.135753581
                      },
                      {
                        "learn": [
                          0.04615144414
                        ],
                        "iteration": 587,
                        "passed_time": 1.616714195,
                        "remaining_time": 1.132799742
                      },
                      {
                        "learn": [
                          0.04612434768
                        ],
                        "iteration": 588,
                        "passed_time": 1.619159095,
                        "remaining_time": 1.129837671
                      },
                      {
                        "learn": [
                          0.04610348335
                        ],
                        "iteration": 589,
                        "passed_time": 1.621481212,
                        "remaining_time": 1.126792028
                      },
                      {
                        "learn": [
                          0.04598674304
                        ],
                        "iteration": 590,
                        "passed_time": 1.624369654,
                        "remaining_time": 1.124140759
                      },
                      {
                        "learn": [
                          0.04596007568
                        ],
                        "iteration": 591,
                        "passed_time": 1.62676677,
                        "remaining_time": 1.121150071
                      },
                      {
                        "learn": [
                          0.04591597771
                        ],
                        "iteration": 592,
                        "passed_time": 1.629305006,
                        "remaining_time": 1.118258242
                      },
                      {
                        "learn": [
                          0.04583588963
                        ],
                        "iteration": 593,
                        "passed_time": 1.631871769,
                        "remaining_time": 1.115387101
                      },
                      {
                        "learn": [
                          0.04571253553
                        ],
                        "iteration": 594,
                        "passed_time": 1.634562223,
                        "remaining_time": 1.112601177
                      },
                      {
                        "learn": [
                          0.04565918516
                        ],
                        "iteration": 595,
                        "passed_time": 1.638998149,
                        "remaining_time": 1.110998745
                      },
                      {
                        "learn": [
                          0.04554379147
                        ],
                        "iteration": 596,
                        "passed_time": 1.643547792,
                        "remaining_time": 1.109463585
                      },
                      {
                        "learn": [
                          0.04547921382
                        ],
                        "iteration": 597,
                        "passed_time": 1.648824891,
                        "remaining_time": 1.108407368
                      },
                      {
                        "learn": [
                          0.04544109081
                        ],
                        "iteration": 598,
                        "passed_time": 1.651469635,
                        "remaining_time": 1.105574831
                      },
                      {
                        "learn": [
                          0.04541704009
                        ],
                        "iteration": 599,
                        "passed_time": 1.654012605,
                        "remaining_time": 1.10267507
                      },
                      {
                        "learn": [
                          0.04534574681
                        ],
                        "iteration": 600,
                        "passed_time": 1.656530223,
                        "remaining_time": 1.099759665
                      },
                      {
                        "learn": [
                          0.0452694656
                        ],
                        "iteration": 601,
                        "passed_time": 1.659467686,
                        "remaining_time": 1.097123154
                      },
                      {
                        "learn": [
                          0.04524596127
                        ],
                        "iteration": 602,
                        "passed_time": 1.661873127,
                        "remaining_time": 1.094135375
                      },
                      {
                        "learn": [
                          0.04513863253
                        ],
                        "iteration": 603,
                        "passed_time": 1.664514309,
                        "remaining_time": 1.091304084
                      },
                      {
                        "learn": [
                          0.04509330605
                        ],
                        "iteration": 604,
                        "passed_time": 1.667074331,
                        "remaining_time": 1.088420431
                      },
                      {
                        "learn": [
                          0.04506035735
                        ],
                        "iteration": 605,
                        "passed_time": 1.669547363,
                        "remaining_time": 1.085481289
                      },
                      {
                        "learn": [
                          0.04499506371
                        ],
                        "iteration": 606,
                        "passed_time": 1.672197418,
                        "remaining_time": 1.082658295
                      },
                      {
                        "learn": [
                          0.04493603181
                        ],
                        "iteration": 607,
                        "passed_time": 1.674844603,
                        "remaining_time": 1.079834021
                      },
                      {
                        "learn": [
                          0.04489977997
                        ],
                        "iteration": 608,
                        "passed_time": 1.677495744,
                        "remaining_time": 1.077012867
                      },
                      {
                        "learn": [
                          0.04485542015
                        ],
                        "iteration": 609,
                        "passed_time": 1.679977891,
                        "remaining_time": 1.074084225
                      },
                      {
                        "learn": [
                          0.04482640017
                        ],
                        "iteration": 610,
                        "passed_time": 1.682506845,
                        "remaining_time": 1.071186845
                      },
                      {
                        "learn": [
                          0.04476660711
                        ],
                        "iteration": 611,
                        "passed_time": 1.685038991,
                        "remaining_time": 1.068292694
                      },
                      {
                        "learn": [
                          0.04467461021
                        ],
                        "iteration": 612,
                        "passed_time": 1.687599837,
                        "remaining_time": 1.065417842
                      },
                      {
                        "learn": [
                          0.04461681796
                        ],
                        "iteration": 613,
                        "passed_time": 1.690160505,
                        "remaining_time": 1.062543901
                      },
                      {
                        "learn": [
                          0.04456676838
                        ],
                        "iteration": 614,
                        "passed_time": 1.692652281,
                        "remaining_time": 1.05962785
                      },
                      {
                        "learn": [
                          0.04448296701
                        ],
                        "iteration": 615,
                        "passed_time": 1.69521451,
                        "remaining_time": 1.056757097
                      },
                      {
                        "learn": [
                          0.04444999975
                        ],
                        "iteration": 616,
                        "passed_time": 1.697717961,
                        "remaining_time": 1.053850858
                      },
                      {
                        "learn": [
                          0.04440003831
                        ],
                        "iteration": 617,
                        "passed_time": 1.701365363,
                        "remaining_time": 1.051653024
                      },
                      {
                        "learn": [
                          0.04433678545
                        ],
                        "iteration": 618,
                        "passed_time": 1.704397265,
                        "remaining_time": 1.049071661
                      },
                      {
                        "learn": [
                          0.04428943583
                        ],
                        "iteration": 619,
                        "passed_time": 1.706887324,
                        "remaining_time": 1.046156747
                      },
                      {
                        "learn": [
                          0.04423758422
                        ],
                        "iteration": 620,
                        "passed_time": 1.709381157,
                        "remaining_time": 1.043245505
                      },
                      {
                        "learn": [
                          0.04418473665
                        ],
                        "iteration": 621,
                        "passed_time": 1.71183205,
                        "remaining_time": 1.040309509
                      },
                      {
                        "learn": [
                          0.04415545771
                        ],
                        "iteration": 622,
                        "passed_time": 1.714340657,
                        "remaining_time": 1.037409996
                      },
                      {
                        "learn": [
                          0.04413688801
                        ],
                        "iteration": 623,
                        "passed_time": 1.716635507,
                        "remaining_time": 1.034382934
                      },
                      {
                        "learn": [
                          0.04407478797
                        ],
                        "iteration": 624,
                        "passed_time": 1.719289017,
                        "remaining_time": 1.03157341
                      },
                      {
                        "learn": [
                          0.043976003
                        ],
                        "iteration": 625,
                        "passed_time": 1.721856615,
                        "remaining_time": 1.028713057
                      },
                      {
                        "learn": [
                          0.04391550809
                        ],
                        "iteration": 626,
                        "passed_time": 1.724259968,
                        "remaining_time": 1.02575593
                      },
                      {
                        "learn": [
                          0.04388868868
                        ],
                        "iteration": 627,
                        "passed_time": 1.726799184,
                        "remaining_time": 1.022881045
                      },
                      {
                        "learn": [
                          0.04385068271
                        ],
                        "iteration": 628,
                        "passed_time": 1.729327571,
                        "remaining_time": 1.020000841
                      },
                      {
                        "learn": [
                          0.04382164071
                        ],
                        "iteration": 629,
                        "passed_time": 1.731777877,
                        "remaining_time": 1.017075896
                      },
                      {
                        "learn": [
                          0.04379947947
                        ],
                        "iteration": 630,
                        "passed_time": 1.734220881,
                        "remaining_time": 1.014148186
                      },
                      {
                        "learn": [
                          0.04374366058
                        ],
                        "iteration": 631,
                        "passed_time": 1.737131691,
                        "remaining_time": 1.011494402
                      },
                      {
                        "learn": [
                          0.04370950378
                        ],
                        "iteration": 632,
                        "passed_time": 1.739810698,
                        "remaining_time": 1.008705413
                      },
                      {
                        "learn": [
                          0.04365227371
                        ],
                        "iteration": 633,
                        "passed_time": 1.742449565,
                        "remaining_time": 1.005893597
                      },
                      {
                        "learn": [
                          0.04362567168
                        ],
                        "iteration": 634,
                        "passed_time": 1.745062285,
                        "remaining_time": 1.003067298
                      },
                      {
                        "learn": [
                          0.0436005791
                        ],
                        "iteration": 635,
                        "passed_time": 1.747712086,
                        "remaining_time": 1.000262892
                      },
                      {
                        "learn": [
                          0.04351052693
                        ],
                        "iteration": 636,
                        "passed_time": 1.750581201,
                        "remaining_time": 0.9975839497
                      },
                      {
                        "learn": [
                          0.04341997847
                        ],
                        "iteration": 637,
                        "passed_time": 1.753575501,
                        "remaining_time": 0.9949754412
                      },
                      {
                        "learn": [
                          0.04332413452
                        ],
                        "iteration": 638,
                        "passed_time": 1.756224394,
                        "remaining_time": 0.9921705888
                      },
                      {
                        "learn": [
                          0.04327174794
                        ],
                        "iteration": 639,
                        "passed_time": 1.758718902,
                        "remaining_time": 0.9892793821
                      },
                      {
                        "learn": [
                          0.04322999569
                        ],
                        "iteration": 640,
                        "passed_time": 1.761271135,
                        "remaining_time": 0.9864217431
                      },
                      {
                        "learn": [
                          0.04317104818
                        ],
                        "iteration": 641,
                        "passed_time": 1.764036171,
                        "remaining_time": 0.9836837213
                      },
                      {
                        "learn": [
                          0.04312239455
                        ],
                        "iteration": 642,
                        "passed_time": 1.766652149,
                        "remaining_time": 0.9808628574
                      },
                      {
                        "learn": [
                          0.04307322553
                        ],
                        "iteration": 643,
                        "passed_time": 1.769119745,
                        "remaining_time": 0.9779606043
                      },
                      {
                        "learn": [
                          0.04301801407
                        ],
                        "iteration": 644,
                        "passed_time": 1.771651973,
                        "remaining_time": 0.9750952722
                      },
                      {
                        "learn": [
                          0.04300015031
                        ],
                        "iteration": 645,
                        "passed_time": 1.774012919,
                        "remaining_time": 0.9721371107
                      },
                      {
                        "learn": [
                          0.0429544169
                        ],
                        "iteration": 646,
                        "passed_time": 1.776574281,
                        "remaining_time": 0.9692901409
                      },
                      {
                        "learn": [
                          0.04289380746
                        ],
                        "iteration": 647,
                        "passed_time": 1.779284925,
                        "remaining_time": 0.9665251443
                      },
                      {
                        "learn": [
                          0.04286289783
                        ],
                        "iteration": 648,
                        "passed_time": 1.781760401,
                        "remaining_time": 0.9636331291
                      },
                      {
                        "learn": [
                          0.0428423311
                        ],
                        "iteration": 649,
                        "passed_time": 1.78422753,
                        "remaining_time": 0.9607379009
                      },
                      {
                        "learn": [
                          0.04279349571
                        ],
                        "iteration": 650,
                        "passed_time": 1.786921599,
                        "remaining_time": 0.9579656496
                      },
                      {
                        "learn": [
                          0.0427702431
                        ],
                        "iteration": 651,
                        "passed_time": 1.789983391,
                        "remaining_time": 0.9553899081
                      },
                      {
                        "learn": [
                          0.042691024
                        ],
                        "iteration": 652,
                        "passed_time": 1.792785239,
                        "remaining_time": 0.952674545
                      },
                      {
                        "learn": [
                          0.04263610042
                        ],
                        "iteration": 653,
                        "passed_time": 1.795307466,
                        "remaining_time": 0.9498109833
                      },
                      {
                        "learn": [
                          0.04261763661
                        ],
                        "iteration": 654,
                        "passed_time": 1.797981477,
                        "remaining_time": 0.9470284113
                      },
                      {
                        "learn": [
                          0.04252028124
                        ],
                        "iteration": 655,
                        "passed_time": 1.800635127,
                        "remaining_time": 0.9442354936
                      },
                      {
                        "learn": [
                          0.0425020391
                        ],
                        "iteration": 656,
                        "passed_time": 1.8030127,
                        "remaining_time": 0.9412988676
                      },
                      {
                        "learn": [
                          0.04243716322
                        ],
                        "iteration": 657,
                        "passed_time": 1.805503392,
                        "remaining_time": 0.9384227356
                      },
                      {
                        "learn": [
                          0.04240988385
                        ],
                        "iteration": 658,
                        "passed_time": 1.807939048,
                        "remaining_time": 0.935519295
                      },
                      {
                        "learn": [
                          0.04239036188
                        ],
                        "iteration": 659,
                        "passed_time": 1.810501322,
                        "remaining_time": 0.9326824993
                      },
                      {
                        "learn": [
                          0.0423183999
                        ],
                        "iteration": 660,
                        "passed_time": 1.813146853,
                        "remaining_time": 0.9298892333
                      },
                      {
                        "learn": [
                          0.04229088514
                        ],
                        "iteration": 661,
                        "passed_time": 1.815602378,
                        "remaining_time": 0.9269994013
                      },
                      {
                        "learn": [
                          0.04222191596
                        ],
                        "iteration": 662,
                        "passed_time": 1.818351588,
                        "remaining_time": 0.9242601586
                      },
                      {
                        "learn": [
                          0.04219963099
                        ],
                        "iteration": 663,
                        "passed_time": 1.820814407,
                        "remaining_time": 0.9213759651
                      },
                      {
                        "learn": [
                          0.04214361743
                        ],
                        "iteration": 664,
                        "passed_time": 1.823555983,
                        "remaining_time": 0.9186334651
                      },
                      {
                        "learn": [
                          0.04207366525
                        ],
                        "iteration": 665,
                        "passed_time": 1.826127617,
                        "remaining_time": 0.9158057419
                      },
                      {
                        "learn": [
                          0.04203593274
                        ],
                        "iteration": 666,
                        "passed_time": 1.828626055,
                        "remaining_time": 0.9129422431
                      },
                      {
                        "learn": [
                          0.04197718171
                        ],
                        "iteration": 667,
                        "passed_time": 1.831188055,
                        "remaining_time": 0.9101114285
                      },
                      {
                        "learn": [
                          0.04194287625
                        ],
                        "iteration": 668,
                        "passed_time": 1.833783741,
                        "remaining_time": 0.9072980841
                      },
                      {
                        "learn": [
                          0.04186290757
                        ],
                        "iteration": 669,
                        "passed_time": 1.836353837,
                        "remaining_time": 0.9044727854
                      },
                      {
                        "learn": [
                          0.04181212193
                        ],
                        "iteration": 670,
                        "passed_time": 1.83907408,
                        "remaining_time": 0.9017218663
                      },
                      {
                        "learn": [
                          0.04177561882
                        ],
                        "iteration": 671,
                        "passed_time": 1.841891808,
                        "remaining_time": 0.8990186205
                      },
                      {
                        "learn": [
                          0.04172651785
                        ],
                        "iteration": 672,
                        "passed_time": 1.844366453,
                        "remaining_time": 0.8961483362
                      },
                      {
                        "learn": [
                          0.04168045351
                        ],
                        "iteration": 673,
                        "passed_time": 1.846842454,
                        "remaining_time": 0.8932798815
                      },
                      {
                        "learn": [
                          0.04165427066
                        ],
                        "iteration": 674,
                        "passed_time": 1.8504513,
                        "remaining_time": 0.8909580334
                      },
                      {
                        "learn": [
                          0.04159578968
                        ],
                        "iteration": 675,
                        "passed_time": 1.855396352,
                        "remaining_time": 0.8892728078
                      },
                      {
                        "learn": [
                          0.04155338138
                        ],
                        "iteration": 676,
                        "passed_time": 1.857989368,
                        "remaining_time": 0.8864557842
                      },
                      {
                        "learn": [
                          0.04151078122
                        ],
                        "iteration": 677,
                        "passed_time": 1.860453076,
                        "remaining_time": 0.8835780097
                      },
                      {
                        "learn": [
                          0.04144345086
                        ],
                        "iteration": 678,
                        "passed_time": 1.863033109,
                        "remaining_time": 0.8807564476
                      },
                      {
                        "learn": [
                          0.04140621028
                        ],
                        "iteration": 679,
                        "passed_time": 1.86548363,
                        "remaining_time": 0.8778746493
                      },
                      {
                        "learn": [
                          0.04136106993
                        ],
                        "iteration": 680,
                        "passed_time": 1.868029229,
                        "remaining_time": 0.8750386551
                      },
                      {
                        "learn": [
                          0.04132577236
                        ],
                        "iteration": 681,
                        "passed_time": 1.870477414,
                        "remaining_time": 0.8721580903
                      },
                      {
                        "learn": [
                          0.04128314841
                        ],
                        "iteration": 682,
                        "passed_time": 1.872955178,
                        "remaining_time": 0.8692925206
                      },
                      {
                        "learn": [
                          0.04123353858
                        ],
                        "iteration": 683,
                        "passed_time": 1.87549794,
                        "remaining_time": 0.8664581125
                      },
                      {
                        "learn": [
                          0.04118687272
                        ],
                        "iteration": 684,
                        "passed_time": 1.878033862,
                        "remaining_time": 0.8636214109
                      },
                      {
                        "learn": [
                          0.04112236981
                        ],
                        "iteration": 685,
                        "passed_time": 1.880557601,
                        "remaining_time": 0.8607800099
                      },
                      {
                        "learn": [
                          0.0410808358
                        ],
                        "iteration": 686,
                        "passed_time": 1.883033537,
                        "remaining_time": 0.8579177541
                      },
                      {
                        "learn": [
                          0.04104713643
                        ],
                        "iteration": 687,
                        "passed_time": 1.885534325,
                        "remaining_time": 0.8550678917
                      },
                      {
                        "learn": [
                          0.04098650747
                        ],
                        "iteration": 688,
                        "passed_time": 1.889383875,
                        "remaining_time": 0.8528278447
                      },
                      {
                        "learn": [
                          0.04091538121
                        ],
                        "iteration": 689,
                        "passed_time": 1.891972546,
                        "remaining_time": 0.8500166512
                      },
                      {
                        "learn": [
                          0.04089303118
                        ],
                        "iteration": 690,
                        "passed_time": 1.894413483,
                        "remaining_time": 0.8471400382
                      },
                      {
                        "learn": [
                          0.04086536743
                        ],
                        "iteration": 691,
                        "passed_time": 1.896864881,
                        "remaining_time": 0.84426934
                      },
                      {
                        "learn": [
                          0.04084173005
                        ],
                        "iteration": 692,
                        "passed_time": 1.899459034,
                        "remaining_time": 0.841463093
                      },
                      {
                        "learn": [
                          0.04080636149
                        ],
                        "iteration": 693,
                        "passed_time": 1.902079945,
                        "remaining_time": 0.8386692552
                      },
                      {
                        "learn": [
                          0.04078952405
                        ],
                        "iteration": 694,
                        "passed_time": 1.904667427,
                        "remaining_time": 0.835861245
                      },
                      {
                        "learn": [
                          0.040768779
                        ],
                        "iteration": 695,
                        "passed_time": 1.907203515,
                        "remaining_time": 0.8330314202
                      },
                      {
                        "learn": [
                          0.04070053956
                        ],
                        "iteration": 696,
                        "passed_time": 1.909759985,
                        "remaining_time": 0.8302112992
                      },
                      {
                        "learn": [
                          0.04062657785
                        ],
                        "iteration": 697,
                        "passed_time": 1.913639456,
                        "remaining_time": 0.8279643494
                      },
                      {
                        "learn": [
                          0.04058376413
                        ],
                        "iteration": 698,
                        "passed_time": 1.917430092,
                        "remaining_time": 0.8256744745
                      },
                      {
                        "learn": [
                          0.04055338675
                        ],
                        "iteration": 699,
                        "passed_time": 1.921420384,
                        "remaining_time": 0.8234658788
                      },
                      {
                        "learn": [
                          0.04050519555
                        ],
                        "iteration": 700,
                        "passed_time": 1.925623906,
                        "remaining_time": 0.8213431498
                      },
                      {
                        "learn": [
                          0.04044489918
                        ],
                        "iteration": 701,
                        "passed_time": 1.931968338,
                        "remaining_time": 0.8201233115
                      },
                      {
                        "learn": [
                          0.04038694866
                        ],
                        "iteration": 702,
                        "passed_time": 1.960750204,
                        "remaining_time": 0.8283681514
                      },
                      {
                        "learn": [
                          0.04034736926
                        ],
                        "iteration": 703,
                        "passed_time": 1.968692984,
                        "remaining_time": 0.8277459138
                      },
                      {
                        "learn": [
                          0.04030138466
                        ],
                        "iteration": 704,
                        "passed_time": 1.975886342,
                        "remaining_time": 0.8267893203
                      },
                      {
                        "learn": [
                          0.0402614441
                        ],
                        "iteration": 705,
                        "passed_time": 1.986186368,
                        "remaining_time": 0.827108771
                      },
                      {
                        "learn": [
                          0.04020441929
                        ],
                        "iteration": 706,
                        "passed_time": 1.992392187,
                        "remaining_time": 0.8257014295
                      },
                      {
                        "learn": [
                          0.04018223737
                        ],
                        "iteration": 707,
                        "passed_time": 1.995266646,
                        "remaining_time": 0.822906583
                      },
                      {
                        "learn": [
                          0.04011392905
                        ],
                        "iteration": 708,
                        "passed_time": 1.997840435,
                        "remaining_time": 0.8199881053
                      },
                      {
                        "learn": [
                          0.04006799886
                        ],
                        "iteration": 709,
                        "passed_time": 2.000458132,
                        "remaining_time": 0.8170885329
                      },
                      {
                        "learn": [
                          0.04002683377
                        ],
                        "iteration": 710,
                        "passed_time": 2.002947444,
                        "remaining_time": 0.8141375688
                      },
                      {
                        "learn": [
                          0.03998462133
                        ],
                        "iteration": 711,
                        "passed_time": 2.005492304,
                        "remaining_time": 0.81121037
                      },
                      {
                        "learn": [
                          0.03995349923
                        ],
                        "iteration": 712,
                        "passed_time": 2.007937472,
                        "remaining_time": 0.8082441156
                      },
                      {
                        "learn": [
                          0.03993092612
                        ],
                        "iteration": 713,
                        "passed_time": 2.010322482,
                        "remaining_time": 0.8052552237
                      },
                      {
                        "learn": [
                          0.03985503078
                        ],
                        "iteration": 714,
                        "passed_time": 2.012838502,
                        "remaining_time": 0.802320242
                      },
                      {
                        "learn": [
                          0.03980902243
                        ],
                        "iteration": 715,
                        "passed_time": 2.016333403,
                        "remaining_time": 0.7997747019
                      },
                      {
                        "learn": [
                          0.03978694937
                        ],
                        "iteration": 716,
                        "passed_time": 2.021146726,
                        "remaining_time": 0.7977468946
                      },
                      {
                        "learn": [
                          0.03974808723
                        ],
                        "iteration": 717,
                        "passed_time": 2.025024369,
                        "remaining_time": 0.795343833
                      },
                      {
                        "learn": [
                          0.03969303053
                        ],
                        "iteration": 718,
                        "passed_time": 2.028125833,
                        "remaining_time": 0.7926333226
                      },
                      {
                        "learn": [
                          0.03965619749
                        ],
                        "iteration": 719,
                        "passed_time": 2.030621291,
                        "remaining_time": 0.7896860576
                      },
                      {
                        "learn": [
                          0.03962557551
                        ],
                        "iteration": 720,
                        "passed_time": 2.033024948,
                        "remaining_time": 0.7867045222
                      },
                      {
                        "learn": [
                          0.03958670081
                        ],
                        "iteration": 721,
                        "passed_time": 2.035469168,
                        "remaining_time": 0.783740206
                      },
                      {
                        "learn": [
                          0.03954698152
                        ],
                        "iteration": 722,
                        "passed_time": 2.037879462,
                        "remaining_time": 0.7807643307
                      },
                      {
                        "learn": [
                          0.03951126502
                        ],
                        "iteration": 723,
                        "passed_time": 2.040437255,
                        "remaining_time": 0.7778462463
                      },
                      {
                        "learn": [
                          0.03947218101
                        ],
                        "iteration": 724,
                        "passed_time": 2.042892983,
                        "remaining_time": 0.7748904418
                      },
                      {
                        "learn": [
                          0.03945923031
                        ],
                        "iteration": 725,
                        "passed_time": 2.045205267,
                        "remaining_time": 0.7718818776
                      },
                      {
                        "learn": [
                          0.03940517543
                        ],
                        "iteration": 726,
                        "passed_time": 2.047742944,
                        "remaining_time": 0.7689598674
                      },
                      {
                        "learn": [
                          0.03938252624
                        ],
                        "iteration": 727,
                        "passed_time": 2.050217742,
                        "remaining_time": 0.7660154201
                      },
                      {
                        "learn": [
                          0.03933254841
                        ],
                        "iteration": 728,
                        "passed_time": 2.052679352,
                        "remaining_time": 0.7630673586
                      },
                      {
                        "learn": [
                          0.03930264465
                        ],
                        "iteration": 729,
                        "passed_time": 2.05508209,
                        "remaining_time": 0.7600988552
                      },
                      {
                        "learn": [
                          0.03923860684
                        ],
                        "iteration": 730,
                        "passed_time": 2.057564417,
                        "remaining_time": 0.7571611878
                      },
                      {
                        "learn": [
                          0.03919644532
                        ],
                        "iteration": 731,
                        "passed_time": 2.060019314,
                        "remaining_time": 0.7542147215
                      },
                      {
                        "learn": [
                          0.03916279289
                        ],
                        "iteration": 732,
                        "passed_time": 2.062480525,
                        "remaining_time": 0.7512718965
                      },
                      {
                        "learn": [
                          0.03913418078
                        ],
                        "iteration": 733,
                        "passed_time": 2.064925441,
                        "remaining_time": 0.7483244787
                      },
                      {
                        "learn": [
                          0.03910675343
                        ],
                        "iteration": 734,
                        "passed_time": 2.067861087,
                        "remaining_time": 0.7455553578
                      },
                      {
                        "learn": [
                          0.03905811721
                        ],
                        "iteration": 735,
                        "passed_time": 2.070249913,
                        "remaining_time": 0.7425896427
                      },
                      {
                        "learn": [
                          0.03902194154
                        ],
                        "iteration": 736,
                        "passed_time": 2.07272346,
                        "remaining_time": 0.739655726
                      },
                      {
                        "learn": [
                          0.03900502474
                        ],
                        "iteration": 737,
                        "passed_time": 2.075114543,
                        "remaining_time": 0.7366937808
                      },
                      {
                        "learn": [
                          0.03897813105
                        ],
                        "iteration": 738,
                        "passed_time": 2.077588777,
                        "remaining_time": 0.7337627479
                      },
                      {
                        "learn": [
                          0.03892672948
                        ],
                        "iteration": 739,
                        "passed_time": 2.080095573,
                        "remaining_time": 0.7308443906
                      },
                      {
                        "learn": [
                          0.0389003242
                        ],
                        "iteration": 740,
                        "passed_time": 2.082492888,
                        "remaining_time": 0.7278888773
                      },
                      {
                        "learn": [
                          0.03885880719
                        ],
                        "iteration": 741,
                        "passed_time": 2.084958206,
                        "remaining_time": 0.7249585136
                      },
                      {
                        "learn": [
                          0.03883858819
                        ],
                        "iteration": 742,
                        "passed_time": 2.087394273,
                        "remaining_time": 0.7220192842
                      },
                      {
                        "learn": [
                          0.03882330268
                        ],
                        "iteration": 743,
                        "passed_time": 2.08974422,
                        "remaining_time": 0.7190517746
                      },
                      {
                        "learn": [
                          0.03878453503
                        ],
                        "iteration": 744,
                        "passed_time": 2.092223484,
                        "remaining_time": 0.7161301857
                      },
                      {
                        "learn": [
                          0.03876473668
                        ],
                        "iteration": 745,
                        "passed_time": 2.094613095,
                        "remaining_time": 0.7131792576
                      },
                      {
                        "learn": [
                          0.038725263
                        ],
                        "iteration": 746,
                        "passed_time": 2.097149712,
                        "remaining_time": 0.7102796213
                      },
                      {
                        "learn": [
                          0.03866347726
                        ],
                        "iteration": 747,
                        "passed_time": 2.099929844,
                        "remaining_time": 0.7074629957
                      },
                      {
                        "learn": [
                          0.03861896848
                        ],
                        "iteration": 748,
                        "passed_time": 2.102794971,
                        "remaining_time": 0.7046749504
                      },
                      {
                        "learn": [
                          0.03857304119
                        ],
                        "iteration": 749,
                        "passed_time": 2.105370517,
                        "remaining_time": 0.7017901725
                      },
                      {
                        "learn": [
                          0.0385573179
                        ],
                        "iteration": 750,
                        "passed_time": 2.107731563,
                        "remaining_time": 0.6988350989
                      },
                      {
                        "learn": [
                          0.03853248432
                        ],
                        "iteration": 751,
                        "passed_time": 2.110717774,
                        "remaining_time": 0.6960877765
                      },
                      {
                        "learn": [
                          0.03849679101
                        ],
                        "iteration": 752,
                        "passed_time": 2.113196141,
                        "remaining_time": 0.6931732362
                      },
                      {
                        "learn": [
                          0.03845132317
                        ],
                        "iteration": 753,
                        "passed_time": 2.115701199,
                        "remaining_time": 0.6902685608
                      },
                      {
                        "learn": [
                          0.03840242916
                        ],
                        "iteration": 754,
                        "passed_time": 2.118192893,
                        "remaining_time": 0.6873606078
                      },
                      {
                        "learn": [
                          0.03837733488
                        ],
                        "iteration": 755,
                        "passed_time": 2.120739075,
                        "remaining_time": 0.6844713416
                      },
                      {
                        "learn": [
                          0.03834921306
                        ],
                        "iteration": 756,
                        "passed_time": 2.125133345,
                        "remaining_time": 0.6821762255
                      },
                      {
                        "learn": [
                          0.03832274393
                        ],
                        "iteration": 757,
                        "passed_time": 2.130720991,
                        "remaining_time": 0.6802565697
                      },
                      {
                        "learn": [
                          0.03826759381
                        ],
                        "iteration": 758,
                        "passed_time": 2.133824007,
                        "remaining_time": 0.6775383212
                      },
                      {
                        "learn": [
                          0.03824564955
                        ],
                        "iteration": 759,
                        "passed_time": 2.136499016,
                        "remaining_time": 0.6746838996
                      },
                      {
                        "learn": [
                          0.03818542172
                        ],
                        "iteration": 760,
                        "passed_time": 2.139469369,
                        "remaining_time": 0.671922706
                      },
                      {
                        "learn": [
                          0.03812448303
                        ],
                        "iteration": 761,
                        "passed_time": 2.14216559,
                        "remaining_time": 0.6690753416
                      },
                      {
                        "learn": [
                          0.03809284465
                        ],
                        "iteration": 762,
                        "passed_time": 2.144676012,
                        "remaining_time": 0.6661706615
                      },
                      {
                        "learn": [
                          0.03804904222
                        ],
                        "iteration": 763,
                        "passed_time": 2.147205757,
                        "remaining_time": 0.6632729827
                      },
                      {
                        "learn": [
                          0.03803757236
                        ],
                        "iteration": 764,
                        "passed_time": 2.149760884,
                        "remaining_time": 0.6603840625
                      },
                      {
                        "learn": [
                          0.03798764322
                        ],
                        "iteration": 765,
                        "passed_time": 2.152390252,
                        "remaining_time": 0.6575186933
                      },
                      {
                        "learn": [
                          0.037953689
                        ],
                        "iteration": 766,
                        "passed_time": 2.154921444,
                        "remaining_time": 0.6546241155
                      },
                      {
                        "learn": [
                          0.03793789353
                        ],
                        "iteration": 767,
                        "passed_time": 2.157488199,
                        "remaining_time": 0.6517412269
                      },
                      {
                        "learn": [
                          0.03788043674
                        ],
                        "iteration": 768,
                        "passed_time": 2.160165012,
                        "remaining_time": 0.6488922208
                      },
                      {
                        "learn": [
                          0.03783128517
                        ],
                        "iteration": 769,
                        "passed_time": 2.162700372,
                        "remaining_time": 0.6460014097
                      },
                      {
                        "learn": [
                          0.03778324937
                        ],
                        "iteration": 770,
                        "passed_time": 2.165252188,
                        "remaining_time": 0.6431164085
                      },
                      {
                        "learn": [
                          0.0377385285
                        ],
                        "iteration": 771,
                        "passed_time": 2.167972446,
                        "remaining_time": 0.6402820177
                      },
                      {
                        "learn": [
                          0.03770551029
                        ],
                        "iteration": 772,
                        "passed_time": 2.170546697,
                        "remaining_time": 0.6374050457
                      },
                      {
                        "learn": [
                          0.03768997041
                        ],
                        "iteration": 773,
                        "passed_time": 2.172979903,
                        "remaining_time": 0.6344876719
                      },
                      {
                        "learn": [
                          0.03765453528
                        ],
                        "iteration": 774,
                        "passed_time": 2.177079504,
                        "remaining_time": 0.6320553399
                      },
                      {
                        "learn": [
                          0.03761834704
                        ],
                        "iteration": 775,
                        "passed_time": 2.18162849,
                        "remaining_time": 0.6297484301
                      },
                      {
                        "learn": [
                          0.03759014872
                        ],
                        "iteration": 776,
                        "passed_time": 2.190152603,
                        "remaining_time": 0.6285766158
                      },
                      {
                        "learn": [
                          0.03754959639
                        ],
                        "iteration": 777,
                        "passed_time": 2.192695479,
                        "remaining_time": 0.6256791726
                      },
                      {
                        "learn": [
                          0.03752558786
                        ],
                        "iteration": 778,
                        "passed_time": 2.195842025,
                        "remaining_time": 0.6229538994
                      },
                      {
                        "learn": [
                          0.03748487225
                        ],
                        "iteration": 779,
                        "passed_time": 2.198450004,
                        "remaining_time": 0.6200756422
                      },
                      {
                        "learn": [
                          0.03747385421
                        ],
                        "iteration": 780,
                        "passed_time": 2.200954144,
                        "remaining_time": 0.6171689598
                      },
                      {
                        "learn": [
                          0.03744145158
                        ],
                        "iteration": 781,
                        "passed_time": 2.203454771,
                        "remaining_time": 0.6142623275
                      },
                      {
                        "learn": [
                          0.03738119564
                        ],
                        "iteration": 782,
                        "passed_time": 2.206054932,
                        "remaining_time": 0.6113843169
                      },
                      {
                        "learn": [
                          0.03736641419
                        ],
                        "iteration": 783,
                        "passed_time": 2.208583532,
                        "remaining_time": 0.6084872996
                      },
                      {
                        "learn": [
                          0.03732483431
                        ],
                        "iteration": 784,
                        "passed_time": 2.21111471,
                        "remaining_time": 0.6055919268
                      },
                      {
                        "learn": [
                          0.03729879442
                        ],
                        "iteration": 785,
                        "passed_time": 2.213613532,
                        "remaining_time": 0.6026886717
                      },
                      {
                        "learn": [
                          0.03727496376
                        ],
                        "iteration": 786,
                        "passed_time": 2.216298465,
                        "remaining_time": 0.5998368146
                      },
                      {
                        "learn": [
                          0.0372442631
                        ],
                        "iteration": 787,
                        "passed_time": 2.21877695,
                        "remaining_time": 0.5969298393
                      },
                      {
                        "learn": [
                          0.03720427587
                        ],
                        "iteration": 788,
                        "passed_time": 2.221576656,
                        "remaining_time": 0.5941098535
                      },
                      {
                        "learn": [
                          0.03716388244
                        ],
                        "iteration": 789,
                        "passed_time": 2.224258419,
                        "remaining_time": 0.591258567
                      },
                      {
                        "learn": [
                          0.03715246355
                        ],
                        "iteration": 790,
                        "passed_time": 2.22659526,
                        "remaining_time": 0.5883165731
                      },
                      {
                        "learn": [
                          0.03711570704
                        ],
                        "iteration": 791,
                        "passed_time": 2.229022035,
                        "remaining_time": 0.5853997265
                      },
                      {
                        "learn": [
                          0.03708929557
                        ],
                        "iteration": 792,
                        "passed_time": 2.23157718,
                        "remaining_time": 0.5825176244
                      },
                      {
                        "learn": [
                          0.03706169632
                        ],
                        "iteration": 793,
                        "passed_time": 2.234118018,
                        "remaining_time": 0.5796326344
                      },
                      {
                        "learn": [
                          0.03703177382
                        ],
                        "iteration": 794,
                        "passed_time": 2.236658721,
                        "remaining_time": 0.5767484753
                      },
                      {
                        "learn": [
                          0.03698463636
                        ],
                        "iteration": 795,
                        "passed_time": 2.239224479,
                        "remaining_time": 0.5738716001
                      },
                      {
                        "learn": [
                          0.03693832688
                        ],
                        "iteration": 796,
                        "passed_time": 2.24176352,
                        "remaining_time": 0.5709887009
                      },
                      {
                        "learn": [
                          0.03688567812
                        ],
                        "iteration": 797,
                        "passed_time": 2.244349723,
                        "remaining_time": 0.5681186015
                      },
                      {
                        "learn": [
                          0.03685396867
                        ],
                        "iteration": 798,
                        "passed_time": 2.246785804,
                        "remaining_time": 0.5652114474
                      },
                      {
                        "learn": [
                          0.03681105107
                        ],
                        "iteration": 799,
                        "passed_time": 2.249306907,
                        "remaining_time": 0.5623267266
                      },
                      {
                        "learn": [
                          0.03678679441
                        ],
                        "iteration": 800,
                        "passed_time": 2.251936925,
                        "remaining_time": 0.5594699725
                      },
                      {
                        "learn": [
                          0.03675107695
                        ],
                        "iteration": 801,
                        "passed_time": 2.255229636,
                        "remaining_time": 0.5567773915
                      },
                      {
                        "learn": [
                          0.03670926648
                        ],
                        "iteration": 802,
                        "passed_time": 2.257739535,
                        "remaining_time": 0.5538912682
                      },
                      {
                        "learn": [
                          0.03669227622
                        ],
                        "iteration": 803,
                        "passed_time": 2.260251465,
                        "remaining_time": 0.551006576
                      },
                      {
                        "learn": [
                          0.03665335674
                        ],
                        "iteration": 804,
                        "passed_time": 2.262741259,
                        "remaining_time": 0.5481174478
                      },
                      {
                        "learn": [
                          0.03662584621
                        ],
                        "iteration": 805,
                        "passed_time": 2.265223092,
                        "remaining_time": 0.5452273943
                      },
                      {
                        "learn": [
                          0.03659688145
                        ],
                        "iteration": 806,
                        "passed_time": 2.267835252,
                        "remaining_time": 0.5423695213
                      },
                      {
                        "learn": [
                          0.03656536467
                        ],
                        "iteration": 807,
                        "passed_time": 2.270340832,
                        "remaining_time": 0.5394869303
                      },
                      {
                        "learn": [
                          0.0365313338
                        ],
                        "iteration": 808,
                        "passed_time": 2.272820253,
                        "remaining_time": 0.5365990955
                      },
                      {
                        "learn": [
                          0.03651565747
                        ],
                        "iteration": 809,
                        "passed_time": 2.27521014,
                        "remaining_time": 0.5336912673
                      },
                      {
                        "learn": [
                          0.03645417788
                        ],
                        "iteration": 810,
                        "passed_time": 2.277795383,
                        "remaining_time": 0.5308302434
                      },
                      {
                        "learn": [
                          0.03638912748
                        ],
                        "iteration": 811,
                        "passed_time": 2.280334011,
                        "remaining_time": 0.5279591059
                      },
                      {
                        "learn": [
                          0.03637865315
                        ],
                        "iteration": 812,
                        "passed_time": 2.282736404,
                        "remaining_time": 0.5250574509
                      },
                      {
                        "learn": [
                          0.03634049154
                        ],
                        "iteration": 813,
                        "passed_time": 2.285266189,
                        "remaining_time": 0.5221861316
                      },
                      {
                        "learn": [
                          0.03632066546
                        ],
                        "iteration": 814,
                        "passed_time": 2.28778646,
                        "remaining_time": 0.519313491
                      },
                      {
                        "learn": [
                          0.03629912646
                        ],
                        "iteration": 815,
                        "passed_time": 2.290215941,
                        "remaining_time": 0.5164212416
                      },
                      {
                        "learn": [
                          0.0362476036
                        ],
                        "iteration": 816,
                        "passed_time": 2.2927529,
                        "remaining_time": 0.5135541993
                      },
                      {
                        "learn": [
                          0.03619492043
                        ],
                        "iteration": 817,
                        "passed_time": 2.295274467,
                        "remaining_time": 0.5106845391
                      },
                      {
                        "learn": [
                          0.03617978826
                        ],
                        "iteration": 818,
                        "passed_time": 2.297647522,
                        "remaining_time": 0.5077829079
                      },
                      {
                        "learn": [
                          0.03616237408
                        ],
                        "iteration": 819,
                        "passed_time": 2.300153916,
                        "remaining_time": 0.5049118353
                      },
                      {
                        "learn": [
                          0.03614574318
                        ],
                        "iteration": 820,
                        "passed_time": 2.302662837,
                        "remaining_time": 0.5020422021
                      },
                      {
                        "learn": [
                          0.0361307115
                        ],
                        "iteration": 821,
                        "passed_time": 2.305144036,
                        "remaining_time": 0.4991674432
                      },
                      {
                        "learn": [
                          0.0360979271
                        ],
                        "iteration": 822,
                        "passed_time": 2.307612139,
                        "remaining_time": 0.4962908246
                      },
                      {
                        "learn": [
                          0.03606576804
                        ],
                        "iteration": 823,
                        "passed_time": 2.310106026,
                        "remaining_time": 0.4934207046
                      },
                      {
                        "learn": [
                          0.0360285683
                        ],
                        "iteration": 824,
                        "passed_time": 2.312492135,
                        "remaining_time": 0.4905286347
                      },
                      {
                        "learn": [
                          0.03600705669
                        ],
                        "iteration": 825,
                        "passed_time": 2.315011462,
                        "remaining_time": 0.4876658528
                      },
                      {
                        "learn": [
                          0.03596578576
                        ],
                        "iteration": 826,
                        "passed_time": 2.318914179,
                        "remaining_time": 0.4850932926
                      },
                      {
                        "learn": [
                          0.03591941254
                        ],
                        "iteration": 827,
                        "passed_time": 2.322922894,
                        "remaining_time": 0.4825395383
                      },
                      {
                        "learn": [
                          0.03589748588
                        ],
                        "iteration": 828,
                        "passed_time": 2.325447711,
                        "remaining_time": 0.4796761865
                      },
                      {
                        "learn": [
                          0.03584884497
                        ],
                        "iteration": 829,
                        "passed_time": 2.32800022,
                        "remaining_time": 0.4768193222
                      },
                      {
                        "learn": [
                          0.03581596598
                        ],
                        "iteration": 830,
                        "passed_time": 2.330512808,
                        "remaining_time": 0.4739550718
                      },
                      {
                        "learn": [
                          0.03578243959
                        ],
                        "iteration": 831,
                        "passed_time": 2.333041876,
                        "remaining_time": 0.4710949942
                      },
                      {
                        "learn": [
                          0.03572707157
                        ],
                        "iteration": 832,
                        "passed_time": 2.335644656,
                        "remaining_time": 0.4682504892
                      },
                      {
                        "learn": [
                          0.03571269993
                        ],
                        "iteration": 833,
                        "passed_time": 2.338072068,
                        "remaining_time": 0.4653716587
                      },
                      {
                        "learn": [
                          0.03569719478
                        ],
                        "iteration": 834,
                        "passed_time": 2.340511621,
                        "remaining_time": 0.4624963084
                      },
                      {
                        "learn": [
                          0.03567774108
                        ],
                        "iteration": 835,
                        "passed_time": 2.343112517,
                        "remaining_time": 0.4596536517
                      },
                      {
                        "learn": [
                          0.03565948519
                        ],
                        "iteration": 836,
                        "passed_time": 2.345626807,
                        "remaining_time": 0.4567947067
                      },
                      {
                        "learn": [
                          0.03561075287
                        ],
                        "iteration": 837,
                        "passed_time": 2.348207856,
                        "remaining_time": 0.4539494901
                      },
                      {
                        "learn": [
                          0.03558222232
                        ],
                        "iteration": 838,
                        "passed_time": 2.350664224,
                        "remaining_time": 0.4510809775
                      },
                      {
                        "learn": [
                          0.03554650552
                        ],
                        "iteration": 839,
                        "passed_time": 2.353161883,
                        "remaining_time": 0.448221311
                      },
                      {
                        "learn": [
                          0.03552323032
                        ],
                        "iteration": 840,
                        "passed_time": 2.355603673,
                        "remaining_time": 0.4453519429
                      },
                      {
                        "learn": [
                          0.03549032523
                        ],
                        "iteration": 841,
                        "passed_time": 2.358070417,
                        "remaining_time": 0.4424882729
                      },
                      {
                        "learn": [
                          0.03546130507
                        ],
                        "iteration": 842,
                        "passed_time": 2.360829345,
                        "remaining_time": 0.4396799611
                      },
                      {
                        "learn": [
                          0.03544552499
                        ],
                        "iteration": 843,
                        "passed_time": 2.363230378,
                        "remaining_time": 0.4368056148
                      },
                      {
                        "learn": [
                          0.03541222265
                        ],
                        "iteration": 844,
                        "passed_time": 2.366169152,
                        "remaining_time": 0.4340310279
                      },
                      {
                        "learn": [
                          0.03537278462
                        ],
                        "iteration": 845,
                        "passed_time": 2.368916803,
                        "remaining_time": 0.431221262
                      },
                      {
                        "learn": [
                          0.03534948056
                        ],
                        "iteration": 846,
                        "passed_time": 2.371472636,
                        "remaining_time": 0.4283769933
                      },
                      {
                        "learn": [
                          0.03531692455
                        ],
                        "iteration": 847,
                        "passed_time": 2.373989165,
                        "remaining_time": 0.4255263598
                      },
                      {
                        "learn": [
                          0.03527962353
                        ],
                        "iteration": 848,
                        "passed_time": 2.376505646,
                        "remaining_time": 0.4226765047
                      },
                      {
                        "learn": [
                          0.03524863638
                        ],
                        "iteration": 849,
                        "passed_time": 2.378988532,
                        "remaining_time": 0.4198215056
                      },
                      {
                        "learn": [
                          0.03522061001
                        ],
                        "iteration": 850,
                        "passed_time": 2.38150151,
                        "remaining_time": 0.4169726497
                      },
                      {
                        "learn": [
                          0.03518654508
                        ],
                        "iteration": 851,
                        "passed_time": 2.38454821,
                        "remaining_time": 0.4142172947
                      },
                      {
                        "learn": [
                          0.03516819823
                        ],
                        "iteration": 852,
                        "passed_time": 2.387062572,
                        "remaining_time": 0.4113695171
                      },
                      {
                        "learn": [
                          0.03512972288
                        ],
                        "iteration": 853,
                        "passed_time": 2.389601026,
                        "remaining_time": 0.4085266392
                      },
                      {
                        "learn": [
                          0.03509404217
                        ],
                        "iteration": 854,
                        "passed_time": 2.392080202,
                        "remaining_time": 0.4056744202
                      },
                      {
                        "learn": [
                          0.03505917505
                        ],
                        "iteration": 855,
                        "passed_time": 2.394576996,
                        "remaining_time": 0.4028260367
                      },
                      {
                        "learn": [
                          0.0350273031
                        ],
                        "iteration": 856,
                        "passed_time": 2.397051612,
                        "remaining_time": 0.3999747731
                      },
                      {
                        "learn": [
                          0.0350081038
                        ],
                        "iteration": 857,
                        "passed_time": 2.39951476,
                        "remaining_time": 0.3971224895
                      },
                      {
                        "learn": [
                          0.03494939518
                        ],
                        "iteration": 858,
                        "passed_time": 2.402070066,
                        "remaining_time": 0.3942862391
                      },
                      {
                        "learn": [
                          0.03493648545
                        ],
                        "iteration": 859,
                        "passed_time": 2.404441046,
                        "remaining_time": 0.3914206354
                      },
                      {
                        "learn": [
                          0.03490125846
                        ],
                        "iteration": 860,
                        "passed_time": 2.40697602,
                        "remaining_time": 0.388582656
                      },
                      {
                        "learn": [
                          0.03487550689
                        ],
                        "iteration": 861,
                        "passed_time": 2.409473028,
                        "remaining_time": 0.3857393015
                      },
                      {
                        "learn": [
                          0.0348424573
                        ],
                        "iteration": 862,
                        "passed_time": 2.411958142,
                        "remaining_time": 0.3828948615
                      },
                      {
                        "learn": [
                          0.03481995242
                        ],
                        "iteration": 863,
                        "passed_time": 2.414395049,
                        "remaining_time": 0.380043665
                      },
                      {
                        "learn": [
                          0.03477669237
                        ],
                        "iteration": 864,
                        "passed_time": 2.416833589,
                        "remaining_time": 0.3771936816
                      },
                      {
                        "learn": [
                          0.0347368608
                        ],
                        "iteration": 865,
                        "passed_time": 2.419426893,
                        "remaining_time": 0.3743685954
                      },
                      {
                        "learn": [
                          0.03469226553
                        ],
                        "iteration": 866,
                        "passed_time": 2.421986955,
                        "remaining_time": 0.3715389447
                      },
                      {
                        "learn": [
                          0.03467183228
                        ],
                        "iteration": 867,
                        "passed_time": 2.424459146,
                        "remaining_time": 0.3686965522
                      },
                      {
                        "learn": [
                          0.03464716641
                        ],
                        "iteration": 868,
                        "passed_time": 2.426958854,
                        "remaining_time": 0.3658591599
                      },
                      {
                        "learn": [
                          0.03462513044
                        ],
                        "iteration": 869,
                        "passed_time": 2.42934469,
                        "remaining_time": 0.3630055283
                      },
                      {
                        "learn": [
                          0.03458991227
                        ],
                        "iteration": 870,
                        "passed_time": 2.431817443,
                        "remaining_time": 0.3601658441
                      },
                      {
                        "learn": [
                          0.03455773845
                        ],
                        "iteration": 871,
                        "passed_time": 2.434285097,
                        "remaining_time": 0.3573262528
                      },
                      {
                        "learn": [
                          0.03451882855
                        ],
                        "iteration": 872,
                        "passed_time": 2.436722833,
                        "remaining_time": 0.3544831612
                      },
                      {
                        "learn": [
                          0.03450128408
                        ],
                        "iteration": 873,
                        "passed_time": 2.444932897,
                        "remaining_time": 0.3524731636
                      },
                      {
                        "learn": [
                          0.03446930929
                        ],
                        "iteration": 874,
                        "passed_time": 2.450984714,
                        "remaining_time": 0.3501406735
                      },
                      {
                        "learn": [
                          0.03445502595
                        ],
                        "iteration": 875,
                        "passed_time": 2.459712,
                        "remaining_time": 0.348178411
                      },
                      {
                        "learn": [
                          0.03443587933
                        ],
                        "iteration": 876,
                        "passed_time": 2.470735272,
                        "remaining_time": 0.3465227348
                      },
                      {
                        "learn": [
                          0.03441872216
                        ],
                        "iteration": 877,
                        "passed_time": 2.473335929,
                        "remaining_time": 0.3436753796
                      },
                      {
                        "learn": [
                          0.03438755995
                        ],
                        "iteration": 878,
                        "passed_time": 2.475882712,
                        "remaining_time": 0.3408211696
                      },
                      {
                        "learn": [
                          0.03436603552
                        ],
                        "iteration": 879,
                        "passed_time": 2.478374067,
                        "remaining_time": 0.3379601001
                      },
                      {
                        "learn": [
                          0.03433914474
                        ],
                        "iteration": 880,
                        "passed_time": 2.480923978,
                        "remaining_time": 0.3351077791
                      },
                      {
                        "learn": [
                          0.03430658932
                        ],
                        "iteration": 881,
                        "passed_time": 2.483362763,
                        "remaining_time": 0.3322412767
                      },
                      {
                        "learn": [
                          0.0342961359
                        ],
                        "iteration": 882,
                        "passed_time": 2.485783487,
                        "remaining_time": 0.3293733499
                      },
                      {
                        "learn": [
                          0.03425829554
                        ],
                        "iteration": 883,
                        "passed_time": 2.488264565,
                        "remaining_time": 0.3265143547
                      },
                      {
                        "learn": [
                          0.03424015727
                        ],
                        "iteration": 884,
                        "passed_time": 2.490679108,
                        "remaining_time": 0.3236475677
                      },
                      {
                        "learn": [
                          0.03422372488
                        ],
                        "iteration": 885,
                        "passed_time": 2.493067047,
                        "remaining_time": 0.3207783786
                      },
                      {
                        "learn": [
                          0.03420426081
                        ],
                        "iteration": 886,
                        "passed_time": 2.495429042,
                        "remaining_time": 0.3179069693
                      },
                      {
                        "learn": [
                          0.03418245085
                        ],
                        "iteration": 887,
                        "passed_time": 2.497918864,
                        "remaining_time": 0.3150528298
                      },
                      {
                        "learn": [
                          0.03414278153
                        ],
                        "iteration": 888,
                        "passed_time": 2.500456668,
                        "remaining_time": 0.3122055008
                      },
                      {
                        "learn": [
                          0.03411184025
                        ],
                        "iteration": 889,
                        "passed_time": 2.502925362,
                        "remaining_time": 0.3093503257
                      },
                      {
                        "learn": [
                          0.03407487629
                        ],
                        "iteration": 890,
                        "passed_time": 2.505494927,
                        "remaining_time": 0.3065083581
                      },
                      {
                        "learn": [
                          0.03406270366
                        ],
                        "iteration": 891,
                        "passed_time": 2.507977026,
                        "remaining_time": 0.3036564113
                      },
                      {
                        "learn": [
                          0.03404748696
                        ],
                        "iteration": 892,
                        "passed_time": 2.510427811,
                        "remaining_time": 0.3008015406
                      },
                      {
                        "learn": [
                          0.03401539863
                        ],
                        "iteration": 893,
                        "passed_time": 2.513113797,
                        "remaining_time": 0.2979754613
                      },
                      {
                        "learn": [
                          0.03399759769
                        ],
                        "iteration": 894,
                        "passed_time": 2.515634784,
                        "remaining_time": 0.2951303378
                      },
                      {
                        "learn": [
                          0.03397435917
                        ],
                        "iteration": 895,
                        "passed_time": 2.518106066,
                        "remaining_time": 0.2922801684
                      },
                      {
                        "learn": [
                          0.03393642539
                        ],
                        "iteration": 896,
                        "passed_time": 2.520617851,
                        "remaining_time": 0.2894354946
                      },
                      {
                        "learn": [
                          0.03391783399
                        ],
                        "iteration": 897,
                        "passed_time": 2.523025966,
                        "remaining_time": 0.2865797868
                      },
                      {
                        "learn": [
                          0.03387415556
                        ],
                        "iteration": 898,
                        "passed_time": 2.525525109,
                        "remaining_time": 0.2837353015
                      },
                      {
                        "learn": [
                          0.03384733825
                        ],
                        "iteration": 899,
                        "passed_time": 2.527993253,
                        "remaining_time": 0.2808881392
                      },
                      {
                        "learn": [
                          0.03380656035
                        ],
                        "iteration": 900,
                        "passed_time": 2.5307264,
                        "remaining_time": 0.2780709363
                      },
                      {
                        "learn": [
                          0.03377852901
                        ],
                        "iteration": 901,
                        "passed_time": 2.533801067,
                        "remaining_time": 0.275291025
                      },
                      {
                        "learn": [
                          0.03375258229
                        ],
                        "iteration": 902,
                        "passed_time": 2.536246477,
                        "remaining_time": 0.2724428663
                      },
                      {
                        "learn": [
                          0.0337230049
                        ],
                        "iteration": 903,
                        "passed_time": 2.538759912,
                        "remaining_time": 0.2696028225
                      },
                      {
                        "learn": [
                          0.0336931557
                        ],
                        "iteration": 904,
                        "passed_time": 2.541285589,
                        "remaining_time": 0.2667647856
                      },
                      {
                        "learn": [
                          0.0336633456
                        ],
                        "iteration": 905,
                        "passed_time": 2.543744742,
                        "remaining_time": 0.2639205361
                      },
                      {
                        "learn": [
                          0.03364561552
                        ],
                        "iteration": 906,
                        "passed_time": 2.546252346,
                        "remaining_time": 0.2610821038
                      },
                      {
                        "learn": [
                          0.03363150833
                        ],
                        "iteration": 907,
                        "passed_time": 2.54874683,
                        "remaining_time": 0.2582430709
                      },
                      {
                        "learn": [
                          0.03356819427
                        ],
                        "iteration": 908,
                        "passed_time": 2.551577962,
                        "remaining_time": 0.2554384978
                      },
                      {
                        "learn": [
                          0.033540245
                        ],
                        "iteration": 909,
                        "passed_time": 2.554133632,
                        "remaining_time": 0.252606623
                      },
                      {
                        "learn": [
                          0.03351347823
                        ],
                        "iteration": 910,
                        "passed_time": 2.556687851,
                        "remaining_time": 0.2497752127
                      },
                      {
                        "learn": [
                          0.03345804944
                        ],
                        "iteration": 911,
                        "passed_time": 2.559399268,
                        "remaining_time": 0.2469595784
                      },
                      {
                        "learn": [
                          0.03341642495
                        ],
                        "iteration": 912,
                        "passed_time": 2.56221073,
                        "remaining_time": 0.2441537059
                      },
                      {
                        "learn": [
                          0.03340770357
                        ],
                        "iteration": 913,
                        "passed_time": 2.564660594,
                        "remaining_time": 0.2413137976
                      },
                      {
                        "learn": [
                          0.03335213498
                        ],
                        "iteration": 914,
                        "passed_time": 2.567236355,
                        "remaining_time": 0.2384864374
                      },
                      {
                        "learn": [
                          0.03331390674
                        ],
                        "iteration": 915,
                        "passed_time": 2.56984412,
                        "remaining_time": 0.2356625612
                      },
                      {
                        "learn": [
                          0.03330425595
                        ],
                        "iteration": 916,
                        "passed_time": 2.572187695,
                        "remaining_time": 0.232815244
                      },
                      {
                        "learn": [
                          0.03326864024
                        ],
                        "iteration": 917,
                        "passed_time": 2.574710208,
                        "remaining_time": 0.2299850077
                      },
                      {
                        "learn": [
                          0.03323998453
                        ],
                        "iteration": 918,
                        "passed_time": 2.577296234,
                        "remaining_time": 0.2271610392
                      },
                      {
                        "learn": [
                          0.03321617089
                        ],
                        "iteration": 919,
                        "passed_time": 2.579717241,
                        "remaining_time": 0.2243232383
                      },
                      {
                        "learn": [
                          0.03319649702
                        ],
                        "iteration": 920,
                        "passed_time": 2.58221704,
                        "remaining_time": 0.2214931011
                      },
                      {
                        "learn": [
                          0.03316493321
                        ],
                        "iteration": 921,
                        "passed_time": 2.584715927,
                        "remaining_time": 0.2186636034
                      },
                      {
                        "learn": [
                          0.03314720147
                        ],
                        "iteration": 922,
                        "passed_time": 2.588058197,
                        "remaining_time": 0.2159051801
                      },
                      {
                        "learn": [
                          0.03312367953
                        ],
                        "iteration": 923,
                        "passed_time": 2.594121422,
                        "remaining_time": 0.2133692945
                      },
                      {
                        "learn": [
                          0.0330995485
                        ],
                        "iteration": 924,
                        "passed_time": 2.602455948,
                        "remaining_time": 0.2110099417
                      },
                      {
                        "learn": [
                          0.0330497176
                        ],
                        "iteration": 925,
                        "passed_time": 2.605853201,
                        "remaining_time": 0.2082431284
                      },
                      {
                        "learn": [
                          0.03303584586
                        ],
                        "iteration": 926,
                        "passed_time": 2.60886142,
                        "remaining_time": 0.2054443189
                      },
                      {
                        "learn": [
                          0.03302689868
                        ],
                        "iteration": 927,
                        "passed_time": 2.611332013,
                        "remaining_time": 0.2026033459
                      },
                      {
                        "learn": [
                          0.03300698728
                        ],
                        "iteration": 928,
                        "passed_time": 2.613882587,
                        "remaining_time": 0.1997692828
                      },
                      {
                        "learn": [
                          0.0329801341
                        ],
                        "iteration": 929,
                        "passed_time": 2.616426618,
                        "remaining_time": 0.1969353368
                      },
                      {
                        "learn": [
                          0.03296770913
                        ],
                        "iteration": 930,
                        "passed_time": 2.618957071,
                        "remaining_time": 0.1941010074
                      },
                      {
                        "learn": [
                          0.03294613726
                        ],
                        "iteration": 931,
                        "passed_time": 2.62149302,
                        "remaining_time": 0.1912677311
                      },
                      {
                        "learn": [
                          0.03290883556
                        ],
                        "iteration": 932,
                        "passed_time": 2.624052415,
                        "remaining_time": 0.1884367758
                      },
                      {
                        "learn": [
                          0.03288554313
                        ],
                        "iteration": 933,
                        "passed_time": 2.626524772,
                        "remaining_time": 0.1856002515
                      },
                      {
                        "learn": [
                          0.03285402169
                        ],
                        "iteration": 934,
                        "passed_time": 2.629033721,
                        "remaining_time": 0.1827670501
                      },
                      {
                        "learn": [
                          0.03283657661
                        ],
                        "iteration": 935,
                        "passed_time": 2.631503478,
                        "remaining_time": 0.1799318617
                      },
                      {
                        "learn": [
                          0.03281624591
                        ],
                        "iteration": 936,
                        "passed_time": 2.633990725,
                        "remaining_time": 0.1770986293
                      },
                      {
                        "learn": [
                          0.03279233311
                        ],
                        "iteration": 937,
                        "passed_time": 2.636495812,
                        "remaining_time": 0.1742673138
                      },
                      {
                        "learn": [
                          0.03277679949
                        ],
                        "iteration": 938,
                        "passed_time": 2.638904616,
                        "remaining_time": 0.1714304383
                      },
                      {
                        "learn": [
                          0.0327538927
                        ],
                        "iteration": 939,
                        "passed_time": 2.641379877,
                        "remaining_time": 0.1685987156
                      },
                      {
                        "learn": [
                          0.03272594843
                        ],
                        "iteration": 940,
                        "passed_time": 2.643883845,
                        "remaining_time": 0.1657695503
                      },
                      {
                        "learn": [
                          0.03269655094
                        ],
                        "iteration": 941,
                        "passed_time": 2.646389629,
                        "remaining_time": 0.1629411874
                      },
                      {
                        "learn": [
                          0.03266808243
                        ],
                        "iteration": 942,
                        "passed_time": 2.648919579,
                        "remaining_time": 0.1601149692
                      },
                      {
                        "learn": [
                          0.03264919137
                        ],
                        "iteration": 943,
                        "passed_time": 2.651369178,
                        "remaining_time": 0.1572846123
                      },
                      {
                        "learn": [
                          0.03259827836
                        ],
                        "iteration": 944,
                        "passed_time": 2.653924877,
                        "remaining_time": 0.1544612363
                      },
                      {
                        "learn": [
                          0.03258387006
                        ],
                        "iteration": 945,
                        "passed_time": 2.656431523,
                        "remaining_time": 0.1516356261
                      },
                      {
                        "learn": [
                          0.03257133308
                        ],
                        "iteration": 946,
                        "passed_time": 2.658844465,
                        "remaining_time": 0.1488054452
                      },
                      {
                        "learn": [
                          0.03255032948
                        ],
                        "iteration": 947,
                        "passed_time": 2.661332441,
                        "remaining_time": 0.1459802604
                      },
                      {
                        "learn": [
                          0.03252847537
                        ],
                        "iteration": 948,
                        "passed_time": 2.663812796,
                        "remaining_time": 0.1431553768
                      },
                      {
                        "learn": [
                          0.03250754467
                        ],
                        "iteration": 949,
                        "passed_time": 2.668429794,
                        "remaining_time": 0.1404436734
                      },
                      {
                        "learn": [
                          0.03248182983
                        ],
                        "iteration": 950,
                        "passed_time": 2.673678765,
                        "remaining_time": 0.1377605252
                      },
                      {
                        "learn": [
                          0.03245445021
                        ],
                        "iteration": 951,
                        "passed_time": 2.678240459,
                        "remaining_time": 0.1350373341
                      },
                      {
                        "learn": [
                          0.03243201675
                        ],
                        "iteration": 952,
                        "passed_time": 2.682290232,
                        "remaining_time": 0.1322850377
                      },
                      {
                        "learn": [
                          0.03241704825
                        ],
                        "iteration": 953,
                        "passed_time": 2.686062157,
                        "remaining_time": 0.1295166239
                      },
                      {
                        "learn": [
                          0.03239307054
                        ],
                        "iteration": 954,
                        "passed_time": 2.690086125,
                        "remaining_time": 0.126757985
                      },
                      {
                        "learn": [
                          0.03237566668
                        ],
                        "iteration": 955,
                        "passed_time": 2.692555865,
                        "remaining_time": 0.1239251654
                      },
                      {
                        "learn": [
                          0.03234150172
                        ],
                        "iteration": 956,
                        "passed_time": 2.695074263,
                        "remaining_time": 0.1210952908
                      },
                      {
                        "learn": [
                          0.03232475244
                        ],
                        "iteration": 957,
                        "passed_time": 2.697488782,
                        "remaining_time": 0.1182615124
                      },
                      {
                        "learn": [
                          0.03230949409
                        ],
                        "iteration": 958,
                        "passed_time": 2.69990979,
                        "remaining_time": 0.1154288857
                      },
                      {
                        "learn": [
                          0.03229715403
                        ],
                        "iteration": 959,
                        "passed_time": 2.702296284,
                        "remaining_time": 0.1125956785
                      },
                      {
                        "learn": [
                          0.03228687338
                        ],
                        "iteration": 960,
                        "passed_time": 2.704687895,
                        "remaining_time": 0.1097636086
                      },
                      {
                        "learn": [
                          0.03226300311
                        ],
                        "iteration": 961,
                        "passed_time": 2.707506459,
                        "remaining_time": 0.1069493196
                      },
                      {
                        "learn": [
                          0.03221945303
                        ],
                        "iteration": 962,
                        "passed_time": 2.710154436,
                        "remaining_time": 0.1041284674
                      },
                      {
                        "learn": [
                          0.03219942823
                        ],
                        "iteration": 963,
                        "passed_time": 2.712629714,
                        "remaining_time": 0.1013015246
                      },
                      {
                        "learn": [
                          0.03217094791
                        ],
                        "iteration": 964,
                        "passed_time": 2.715230598,
                        "remaining_time": 0.09847986625
                      },
                      {
                        "learn": [
                          0.03215405898
                        ],
                        "iteration": 965,
                        "passed_time": 2.717750157,
                        "remaining_time": 0.09565580261
                      },
                      {
                        "learn": [
                          0.03212960998
                        ],
                        "iteration": 966,
                        "passed_time": 2.720212357,
                        "remaining_time": 0.09283041134
                      },
                      {
                        "learn": [
                          0.03210496154
                        ],
                        "iteration": 967,
                        "passed_time": 2.722685549,
                        "remaining_time": 0.09000613384
                      },
                      {
                        "learn": [
                          0.03207872857
                        ],
                        "iteration": 968,
                        "passed_time": 2.726352299,
                        "remaining_time": 0.08722076498
                      },
                      {
                        "learn": [
                          0.03205885678
                        ],
                        "iteration": 969,
                        "passed_time": 2.731563197,
                        "remaining_time": 0.08448133598
                      },
                      {
                        "learn": [
                          0.032032821
                        ],
                        "iteration": 970,
                        "passed_time": 2.734144131,
                        "remaining_time": 0.08165826961
                      },
                      {
                        "learn": [
                          0.03199241228
                        ],
                        "iteration": 971,
                        "passed_time": 2.736746324,
                        "remaining_time": 0.07883631387
                      },
                      {
                        "learn": [
                          0.03198209422
                        ],
                        "iteration": 972,
                        "passed_time": 2.739076051,
                        "remaining_time": 0.0760072491
                      },
                      {
                        "learn": [
                          0.03196159249
                        ],
                        "iteration": 973,
                        "passed_time": 2.741699513,
                        "remaining_time": 0.07318705064
                      },
                      {
                        "learn": [
                          0.03194237488
                        ],
                        "iteration": 974,
                        "passed_time": 2.744409688,
                        "remaining_time": 0.07036947919
                      },
                      {
                        "learn": [
                          0.03191692423
                        ],
                        "iteration": 975,
                        "passed_time": 2.746948629,
                        "remaining_time": 0.0675479171
                      },
                      {
                        "learn": [
                          0.03187762915
                        ],
                        "iteration": 976,
                        "passed_time": 2.74956048,
                        "remaining_time": 0.06472864999
                      },
                      {
                        "learn": [
                          0.03186311627
                        ],
                        "iteration": 977,
                        "passed_time": 2.752051676,
                        "remaining_time": 0.06190709291
                      },
                      {
                        "learn": [
                          0.03183371798
                        ],
                        "iteration": 978,
                        "passed_time": 2.754599794,
                        "remaining_time": 0.05908743175
                      },
                      {
                        "learn": [
                          0.03180609913
                        ],
                        "iteration": 979,
                        "passed_time": 2.757201645,
                        "remaining_time": 0.05626942133
                      },
                      {
                        "learn": [
                          0.03178375391
                        ],
                        "iteration": 980,
                        "passed_time": 2.760279629,
                        "remaining_time": 0.05346107335
                      },
                      {
                        "learn": [
                          0.0317648459
                        ],
                        "iteration": 981,
                        "passed_time": 2.76274414,
                        "remaining_time": 0.05064093127
                      },
                      {
                        "learn": [
                          0.03175694323
                        ],
                        "iteration": 982,
                        "passed_time": 2.765103805,
                        "remaining_time": 0.04781969957
                      },
                      {
                        "learn": [
                          0.03174802448
                        ],
                        "iteration": 983,
                        "passed_time": 2.767501772,
                        "remaining_time": 0.04500002881
                      },
                      {
                        "learn": [
                          0.03172420977
                        ],
                        "iteration": 984,
                        "passed_time": 2.769994246,
                        "remaining_time": 0.0421826535
                      },
                      {
                        "learn": [
                          0.03169224483
                        ],
                        "iteration": 985,
                        "passed_time": 2.772520449,
                        "remaining_time": 0.03936641611
                      },
                      {
                        "learn": [
                          0.03166581428
                        ],
                        "iteration": 986,
                        "passed_time": 2.775002318,
                        "remaining_time": 0.0365501825
                      },
                      {
                        "learn": [
                          0.03162160873
                        ],
                        "iteration": 987,
                        "passed_time": 2.777611718,
                        "remaining_time": 0.03373617472
                      },
                      {
                        "learn": [
                          0.0316055975
                        ],
                        "iteration": 988,
                        "passed_time": 2.779949764,
                        "remaining_time": 0.0309195626
                      },
                      {
                        "learn": [
                          0.03157410256
                        ],
                        "iteration": 989,
                        "passed_time": 2.782415689,
                        "remaining_time": 0.02810520898
                      },
                      {
                        "learn": [
                          0.03154447658
                        ],
                        "iteration": 990,
                        "passed_time": 2.784873777,
                        "remaining_time": 0.02529148738
                      },
                      {
                        "learn": [
                          0.03151973943
                        ],
                        "iteration": 991,
                        "passed_time": 2.787351528,
                        "remaining_time": 0.02247864136
                      },
                      {
                        "learn": [
                          0.03150261352
                        ],
                        "iteration": 992,
                        "passed_time": 2.789817931,
                        "remaining_time": 0.01966639025
                      },
                      {
                        "learn": [
                          0.03147244712
                        ],
                        "iteration": 993,
                        "passed_time": 2.792372318,
                        "remaining_time": 0.0168553661
                      },
                      {
                        "learn": [
                          0.03144945872
                        ],
                        "iteration": 994,
                        "passed_time": 2.795423989,
                        "remaining_time": 0.01404735673
                      },
                      {
                        "learn": [
                          0.03142401696
                        ],
                        "iteration": 995,
                        "passed_time": 2.798022426,
                        "remaining_time": 0.01123703785
                      },
                      {
                        "learn": [
                          0.03140210554
                        ],
                        "iteration": 996,
                        "passed_time": 2.800608896,
                        "remaining_time": 0.008427108012
                      },
                      {
                        "learn": [
                          0.03137564181
                        ],
                        "iteration": 997,
                        "passed_time": 2.80347514,
                        "remaining_time": 0.005618186653
                      },
                      {
                        "learn": [
                          0.03135130408
                        ],
                        "iteration": 998,
                        "passed_time": 2.806087168,
                        "remaining_time": 0.002808896064
                      },
                      {
                        "learn": [
                          0.03132794907
                        ],
                        "iteration": 999,
                        "passed_time": 2.808724799,
                        "remaining_time": 0
                      }
                    ],
                    "meta": {
                      "test_sets": [],
                      "test_metrics": [],
                      "learn_metrics": [
                        {
                          "best_value": "Min",
                          "name": "RMSE"
                        }
                      ],
                      "launch_mode": "Train",
                      "parameters": "",
                      "iteration_count": 1000,
                      "learn_sets": [
                        "learn"
                      ],
                      "name": "experiment"
                    }
                  }
                }
              }
            },
            "layout": "IPY_MODEL_acc0610f4d9f4cc8a0e1a90911c6456d"
          }
        }
      }
    }
  },
  "cells": [
    {
      "cell_type": "markdown",
      "metadata": {
        "id": "view-in-github",
        "colab_type": "text"
      },
      "source": [
        "<a href=\"https://colab.research.google.com/github/MarkVoitov/artificial_intelligence_course/blob/main/digital_depot.ipynb\" target=\"_parent\"><img src=\"https://colab.research.google.com/assets/colab-badge.svg\" alt=\"Open In Colab\"/></a>"
      ]
    },
    {
      "cell_type": "markdown",
      "metadata": {
        "id": "A6y81lGsGIRG"
      },
      "source": [
        "**Описание тех. процесса**\n",
        "\n",
        "Локомотив заходит в депо на осмотр колес примерно 1 раз в месяц. При каждом заходе локомотива в депо на ремонт мастера снимают геометрические параметры колесных пар. На основании проведенных замеров принимается решение о том, безопасно ли дальше эксплуатировать колесо, или нужно провести ремонт (обточить колесо или поменять его).\n",
        "\n",
        "На рисунке изображены основные геометрические параметры колеса, которые проверяются в депо.\n",
        "\n",
        "![wheel_parameters.png](data:image/png;base64,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)\n",
        "\n",
        "Параметры износа колеса среди прочего зависят от геометрии колеса. В качестве учебной модели необходимо предсказать значение толщины гребня на 10 дней в будущее на основании данных о геометрии колеса с предыдущего замера."
      ]
    },
    {
      "cell_type": "markdown",
      "metadata": {
        "id": "u5gWqQz5IKwT"
      },
      "source": [
        "Данные находятся в файлах:\n",
        "\n",
        "1) measurements.csv - исходные данные для обучения и тестирования модели. Каждая строчка представляет собой 1 замер параметров одного колеса.\n",
        "\n",
        "• wheel_id - уникальный идентификатор замера;\n",
        "\n",
        "• date - дата текущего замера;\n",
        "\n",
        "• flange_height – высота гребня;\n",
        "\n",
        "• flange_width - толщина гребня;\n",
        "\n",
        "• qr - крутизна гребня;\n",
        "\n",
        "• tread_wear - прокат;\n",
        "\n",
        "• rim_thickness - толщина бандажа;\n",
        "\n",
        "• wheel_diameter - диаметр;\n",
        "\n",
        "2) features_test.csv – выборка для решения кейса. Также содержит замеры колес как в исходных данных. Необходимо на основе данных замеров предсказать параметр «толщина гребня» этих колес на дату через 10 дней после замера (содержат предыдущие замеры с приставкой “previous_”, например, previous_flange_width)."
      ]
    },
    {
      "cell_type": "markdown",
      "metadata": {
        "id": "mY_HZ76fKo0O"
      },
      "source": [
        "***1. Подготовка данных***"
      ]
    },
    {
      "cell_type": "markdown",
      "metadata": {
        "id": "AU3hHxlfKxI8"
      },
      "source": [
        "*1. Откройте данные и изучите их.*"
      ]
    },
    {
      "cell_type": "code",
      "metadata": {
        "id": "ZVGL98yAKObS"
      },
      "source": [
        "import matplotlib.pyplot as plt\n",
        "import numpy as np\n",
        "import pandas as pd\n",
        "import seaborn as sns\n",
        "import warnings\n",
        "\n",
        "from sklearn.metrics import mean_absolute_error, r2_score\n",
        "from sklearn.model_selection import train_test_split, GridSearchCV, KFold\n",
        "from sklearn.pipeline import make_pipeline\n",
        "from sklearn.preprocessing import PolynomialFeatures\n",
        "\n",
        "from catboost import CatBoostRegressor\n",
        "from sklearn.ensemble import RandomForestRegressor\n",
        "from sklearn.linear_model import LinearRegression, Ridge, Lasso\n",
        "from xgboost import XGBRegressor\n",
        "\n",
        "warnings.filterwarnings('ignore')"
      ],
      "execution_count": 1,
      "outputs": []
    },
    {
      "cell_type": "code",
      "metadata": {
        "colab": {
          "base_uri": "https://localhost:8080/",
          "height": 424
        },
        "id": "HyYQstv1N3X_",
        "outputId": "9fab4bfe-0079-43de-d6f6-725ca8a55b65"
      },
      "source": [
        "df = pd.read_csv('/content/drive/MyDrive/Colab_notebooks/artificial_intelligence_course/02_digital_depot/measurements.csv')\n",
        "df"
      ],
      "execution_count": 2,
      "outputs": [
        {
          "output_type": "execute_result",
          "data": {
            "text/plain": [
              "       wheel_id  flange_height  flange_width     qr  tread_wear  \\\n",
              "0          1331          32.27         30.08  10.52        2.27   \n",
              "1          8608          31.34         31.71  10.42        1.34   \n",
              "2          8609          31.30         30.85   8.36        1.30   \n",
              "3          8612          31.24         28.07   8.74        1.24   \n",
              "4          8613          30.42         29.37  10.13        0.42   \n",
              "...         ...            ...           ...    ...         ...   \n",
              "32807      9753          30.11         30.67   7.47        0.11   \n",
              "32808      9749          30.66         30.73   8.35        0.66   \n",
              "32809      9748          30.59         30.95   8.76        0.59   \n",
              "32810      9746          30.85         31.98   9.91        0.85   \n",
              "32811      9747          30.81         32.35   9.83        0.81   \n",
              "\n",
              "       rim_thickness  wheel_diameter  date  \n",
              "0              75.25         1220.50    61  \n",
              "1              57.23         1184.46    61  \n",
              "2              56.35         1182.70    61  \n",
              "3              73.01         1216.03    61  \n",
              "4              72.05         1214.11    61  \n",
              "...              ...             ...   ...  \n",
              "32807          92.02         1251.00   212  \n",
              "32808          93.00         1255.00   212  \n",
              "32809          92.46         1254.00   212  \n",
              "32810          92.16         1254.00   212  \n",
              "32811          91.47         1253.00   212  \n",
              "\n",
              "[32812 rows x 8 columns]"
            ],
            "text/html": [
              "\n",
              "  <div id=\"df-c3c759d3-f2bb-46ea-86f5-9813fd75c9f1\">\n",
              "    <div class=\"colab-df-container\">\n",
              "      <div>\n",
              "<style scoped>\n",
              "    .dataframe tbody tr th:only-of-type {\n",
              "        vertical-align: middle;\n",
              "    }\n",
              "\n",
              "    .dataframe tbody tr th {\n",
              "        vertical-align: top;\n",
              "    }\n",
              "\n",
              "    .dataframe thead th {\n",
              "        text-align: right;\n",
              "    }\n",
              "</style>\n",
              "<table border=\"1\" class=\"dataframe\">\n",
              "  <thead>\n",
              "    <tr style=\"text-align: right;\">\n",
              "      <th></th>\n",
              "      <th>wheel_id</th>\n",
              "      <th>flange_height</th>\n",
              "      <th>flange_width</th>\n",
              "      <th>qr</th>\n",
              "      <th>tread_wear</th>\n",
              "      <th>rim_thickness</th>\n",
              "      <th>wheel_diameter</th>\n",
              "      <th>date</th>\n",
              "    </tr>\n",
              "  </thead>\n",
              "  <tbody>\n",
              "    <tr>\n",
              "      <th>0</th>\n",
              "      <td>1331</td>\n",
              "      <td>32.27</td>\n",
              "      <td>30.08</td>\n",
              "      <td>10.52</td>\n",
              "      <td>2.27</td>\n",
              "      <td>75.25</td>\n",
              "      <td>1220.50</td>\n",
              "      <td>61</td>\n",
              "    </tr>\n",
              "    <tr>\n",
              "      <th>1</th>\n",
              "      <td>8608</td>\n",
              "      <td>31.34</td>\n",
              "      <td>31.71</td>\n",
              "      <td>10.42</td>\n",
              "      <td>1.34</td>\n",
              "      <td>57.23</td>\n",
              "      <td>1184.46</td>\n",
              "      <td>61</td>\n",
              "    </tr>\n",
              "    <tr>\n",
              "      <th>2</th>\n",
              "      <td>8609</td>\n",
              "      <td>31.30</td>\n",
              "      <td>30.85</td>\n",
              "      <td>8.36</td>\n",
              "      <td>1.30</td>\n",
              "      <td>56.35</td>\n",
              "      <td>1182.70</td>\n",
              "      <td>61</td>\n",
              "    </tr>\n",
              "    <tr>\n",
              "      <th>3</th>\n",
              "      <td>8612</td>\n",
              "      <td>31.24</td>\n",
              "      <td>28.07</td>\n",
              "      <td>8.74</td>\n",
              "      <td>1.24</td>\n",
              "      <td>73.01</td>\n",
              "      <td>1216.03</td>\n",
              "      <td>61</td>\n",
              "    </tr>\n",
              "    <tr>\n",
              "      <th>4</th>\n",
              "      <td>8613</td>\n",
              "      <td>30.42</td>\n",
              "      <td>29.37</td>\n",
              "      <td>10.13</td>\n",
              "      <td>0.42</td>\n",
              "      <td>72.05</td>\n",
              "      <td>1214.11</td>\n",
              "      <td>61</td>\n",
              "    </tr>\n",
              "    <tr>\n",
              "      <th>...</th>\n",
              "      <td>...</td>\n",
              "      <td>...</td>\n",
              "      <td>...</td>\n",
              "      <td>...</td>\n",
              "      <td>...</td>\n",
              "      <td>...</td>\n",
              "      <td>...</td>\n",
              "      <td>...</td>\n",
              "    </tr>\n",
              "    <tr>\n",
              "      <th>32807</th>\n",
              "      <td>9753</td>\n",
              "      <td>30.11</td>\n",
              "      <td>30.67</td>\n",
              "      <td>7.47</td>\n",
              "      <td>0.11</td>\n",
              "      <td>92.02</td>\n",
              "      <td>1251.00</td>\n",
              "      <td>212</td>\n",
              "    </tr>\n",
              "    <tr>\n",
              "      <th>32808</th>\n",
              "      <td>9749</td>\n",
              "      <td>30.66</td>\n",
              "      <td>30.73</td>\n",
              "      <td>8.35</td>\n",
              "      <td>0.66</td>\n",
              "      <td>93.00</td>\n",
              "      <td>1255.00</td>\n",
              "      <td>212</td>\n",
              "    </tr>\n",
              "    <tr>\n",
              "      <th>32809</th>\n",
              "      <td>9748</td>\n",
              "      <td>30.59</td>\n",
              "      <td>30.95</td>\n",
              "      <td>8.76</td>\n",
              "      <td>0.59</td>\n",
              "      <td>92.46</td>\n",
              "      <td>1254.00</td>\n",
              "      <td>212</td>\n",
              "    </tr>\n",
              "    <tr>\n",
              "      <th>32810</th>\n",
              "      <td>9746</td>\n",
              "      <td>30.85</td>\n",
              "      <td>31.98</td>\n",
              "      <td>9.91</td>\n",
              "      <td>0.85</td>\n",
              "      <td>92.16</td>\n",
              "      <td>1254.00</td>\n",
              "      <td>212</td>\n",
              "    </tr>\n",
              "    <tr>\n",
              "      <th>32811</th>\n",
              "      <td>9747</td>\n",
              "      <td>30.81</td>\n",
              "      <td>32.35</td>\n",
              "      <td>9.83</td>\n",
              "      <td>0.81</td>\n",
              "      <td>91.47</td>\n",
              "      <td>1253.00</td>\n",
              "      <td>212</td>\n",
              "    </tr>\n",
              "  </tbody>\n",
              "</table>\n",
              "<p>32812 rows × 8 columns</p>\n",
              "</div>\n",
              "      <button class=\"colab-df-convert\" onclick=\"convertToInteractive('df-c3c759d3-f2bb-46ea-86f5-9813fd75c9f1')\"\n",
              "              title=\"Convert this dataframe to an interactive table.\"\n",
              "              style=\"display:none;\">\n",
              "        \n",
              "  <svg xmlns=\"http://www.w3.org/2000/svg\" height=\"24px\"viewBox=\"0 0 24 24\"\n",
              "       width=\"24px\">\n",
              "    <path d=\"M0 0h24v24H0V0z\" fill=\"none\"/>\n",
              "    <path d=\"M18.56 5.44l.94 2.06.94-2.06 2.06-.94-2.06-.94-.94-2.06-.94 2.06-2.06.94zm-11 1L8.5 8.5l.94-2.06 2.06-.94-2.06-.94L8.5 2.5l-.94 2.06-2.06.94zm10 10l.94 2.06.94-2.06 2.06-.94-2.06-.94-.94-2.06-.94 2.06-2.06.94z\"/><path d=\"M17.41 7.96l-1.37-1.37c-.4-.4-.92-.59-1.43-.59-.52 0-1.04.2-1.43.59L10.3 9.45l-7.72 7.72c-.78.78-.78 2.05 0 2.83L4 21.41c.39.39.9.59 1.41.59.51 0 1.02-.2 1.41-.59l7.78-7.78 2.81-2.81c.8-.78.8-2.07 0-2.86zM5.41 20L4 18.59l7.72-7.72 1.47 1.35L5.41 20z\"/>\n",
              "  </svg>\n",
              "      </button>\n",
              "      \n",
              "  <style>\n",
              "    .colab-df-container {\n",
              "      display:flex;\n",
              "      flex-wrap:wrap;\n",
              "      gap: 12px;\n",
              "    }\n",
              "\n",
              "    .colab-df-convert {\n",
              "      background-color: #E8F0FE;\n",
              "      border: none;\n",
              "      border-radius: 50%;\n",
              "      cursor: pointer;\n",
              "      display: none;\n",
              "      fill: #1967D2;\n",
              "      height: 32px;\n",
              "      padding: 0 0 0 0;\n",
              "      width: 32px;\n",
              "    }\n",
              "\n",
              "    .colab-df-convert:hover {\n",
              "      background-color: #E2EBFA;\n",
              "      box-shadow: 0px 1px 2px rgba(60, 64, 67, 0.3), 0px 1px 3px 1px rgba(60, 64, 67, 0.15);\n",
              "      fill: #174EA6;\n",
              "    }\n",
              "\n",
              "    [theme=dark] .colab-df-convert {\n",
              "      background-color: #3B4455;\n",
              "      fill: #D2E3FC;\n",
              "    }\n",
              "\n",
              "    [theme=dark] .colab-df-convert:hover {\n",
              "      background-color: #434B5C;\n",
              "      box-shadow: 0px 1px 3px 1px rgba(0, 0, 0, 0.15);\n",
              "      filter: drop-shadow(0px 1px 2px rgba(0, 0, 0, 0.3));\n",
              "      fill: #FFFFFF;\n",
              "    }\n",
              "  </style>\n",
              "\n",
              "      <script>\n",
              "        const buttonEl =\n",
              "          document.querySelector('#df-c3c759d3-f2bb-46ea-86f5-9813fd75c9f1 button.colab-df-convert');\n",
              "        buttonEl.style.display =\n",
              "          google.colab.kernel.accessAllowed ? 'block' : 'none';\n",
              "\n",
              "        async function convertToInteractive(key) {\n",
              "          const element = document.querySelector('#df-c3c759d3-f2bb-46ea-86f5-9813fd75c9f1');\n",
              "          const dataTable =\n",
              "            await google.colab.kernel.invokeFunction('convertToInteractive',\n",
              "                                                     [key], {});\n",
              "          if (!dataTable) return;\n",
              "\n",
              "          const docLinkHtml = 'Like what you see? Visit the ' +\n",
              "            '<a target=\"_blank\" href=https://colab.research.google.com/notebooks/data_table.ipynb>data table notebook</a>'\n",
              "            + ' to learn more about interactive tables.';\n",
              "          element.innerHTML = '';\n",
              "          dataTable['output_type'] = 'display_data';\n",
              "          await google.colab.output.renderOutput(dataTable, element);\n",
              "          const docLink = document.createElement('div');\n",
              "          docLink.innerHTML = docLinkHtml;\n",
              "          element.appendChild(docLink);\n",
              "        }\n",
              "      </script>\n",
              "    </div>\n",
              "  </div>\n",
              "  "
            ]
          },
          "metadata": {},
          "execution_count": 2
        }
      ]
    },
    {
      "cell_type": "code",
      "metadata": {
        "colab": {
          "base_uri": "https://localhost:8080/"
        },
        "id": "tv8GJiaVOVJA",
        "outputId": "060655d3-1da9-4877-8ff5-a24b3c6f78ab"
      },
      "source": [
        "# размерность датасета (n_samples, n_features)\n",
        "df.shape"
      ],
      "execution_count": 3,
      "outputs": [
        {
          "output_type": "execute_result",
          "data": {
            "text/plain": [
              "(32812, 8)"
            ]
          },
          "metadata": {},
          "execution_count": 3
        }
      ]
    },
    {
      "cell_type": "code",
      "metadata": {
        "colab": {
          "base_uri": "https://localhost:8080/"
        },
        "id": "N42UnC9gPd_W",
        "outputId": "cde60a69-26d3-450f-b829-cbada8831f1a"
      },
      "source": [
        "df.info()"
      ],
      "execution_count": 4,
      "outputs": [
        {
          "output_type": "stream",
          "name": "stdout",
          "text": [
            "<class 'pandas.core.frame.DataFrame'>\n",
            "RangeIndex: 32812 entries, 0 to 32811\n",
            "Data columns (total 8 columns):\n",
            " #   Column          Non-Null Count  Dtype  \n",
            "---  ------          --------------  -----  \n",
            " 0   wheel_id        32812 non-null  int64  \n",
            " 1   flange_height   32812 non-null  float64\n",
            " 2   flange_width    32812 non-null  float64\n",
            " 3   qr              32812 non-null  float64\n",
            " 4   tread_wear      32812 non-null  float64\n",
            " 5   rim_thickness   32812 non-null  float64\n",
            " 6   wheel_diameter  32812 non-null  float64\n",
            " 7   date            32812 non-null  int64  \n",
            "dtypes: float64(6), int64(2)\n",
            "memory usage: 2.0 MB\n"
          ]
        }
      ]
    },
    {
      "cell_type": "code",
      "metadata": {
        "colab": {
          "base_uri": "https://localhost:8080/",
          "height": 300
        },
        "id": "Asr5_Cb7O1XB",
        "outputId": "7516d630-dcf2-4ce9-b650-746a2a41ba29"
      },
      "source": [
        "# описательная статистика количественных признаков\n",
        "df.describe()"
      ],
      "execution_count": 5,
      "outputs": [
        {
          "output_type": "execute_result",
          "data": {
            "text/plain": [
              "           wheel_id  flange_height  flange_width            qr    tread_wear  \\\n",
              "count  32812.000000   32812.000000  32812.000000  32812.000000  32812.000000   \n",
              "mean    6357.836158      32.216903     29.307854      9.252663      2.148423   \n",
              "std     3820.649237       2.595155      1.744670      2.150288      2.468641   \n",
              "min        0.000000      -1.190000     -2.160000   -296.740000    -31.920000   \n",
              "25%     3010.750000      30.870000     28.100000      8.480000      0.800000   \n",
              "50%     6247.500000      32.300000     29.310000      9.230000      2.050000   \n",
              "75%     9004.250000      33.430000     30.520000      9.990000      3.250000   \n",
              "max    14575.000000     334.220000     60.750000     88.510000    302.230000   \n",
              "\n",
              "       rim_thickness  wheel_diameter          date  \n",
              "count   32812.000000    3.281200e+04  32812.000000  \n",
              "mean       81.063637    1.366525e+03    146.497714  \n",
              "std        12.477192    6.669433e+04     32.713383  \n",
              "min      -278.560000    0.000000e+00     61.000000  \n",
              "25%        74.997500    1.195105e+03    125.000000  \n",
              "50%        84.860000    1.229100e+03    144.000000  \n",
              "75%        88.992500    1.242260e+03    172.000000  \n",
              "max       293.120000    1.208121e+07    212.000000  "
            ],
            "text/html": [
              "\n",
              "  <div id=\"df-c4b0c9e8-9635-4b19-9499-202d5ea14365\">\n",
              "    <div class=\"colab-df-container\">\n",
              "      <div>\n",
              "<style scoped>\n",
              "    .dataframe tbody tr th:only-of-type {\n",
              "        vertical-align: middle;\n",
              "    }\n",
              "\n",
              "    .dataframe tbody tr th {\n",
              "        vertical-align: top;\n",
              "    }\n",
              "\n",
              "    .dataframe thead th {\n",
              "        text-align: right;\n",
              "    }\n",
              "</style>\n",
              "<table border=\"1\" class=\"dataframe\">\n",
              "  <thead>\n",
              "    <tr style=\"text-align: right;\">\n",
              "      <th></th>\n",
              "      <th>wheel_id</th>\n",
              "      <th>flange_height</th>\n",
              "      <th>flange_width</th>\n",
              "      <th>qr</th>\n",
              "      <th>tread_wear</th>\n",
              "      <th>rim_thickness</th>\n",
              "      <th>wheel_diameter</th>\n",
              "      <th>date</th>\n",
              "    </tr>\n",
              "  </thead>\n",
              "  <tbody>\n",
              "    <tr>\n",
              "      <th>count</th>\n",
              "      <td>32812.000000</td>\n",
              "      <td>32812.000000</td>\n",
              "      <td>32812.000000</td>\n",
              "      <td>32812.000000</td>\n",
              "      <td>32812.000000</td>\n",
              "      <td>32812.000000</td>\n",
              "      <td>3.281200e+04</td>\n",
              "      <td>32812.000000</td>\n",
              "    </tr>\n",
              "    <tr>\n",
              "      <th>mean</th>\n",
              "      <td>6357.836158</td>\n",
              "      <td>32.216903</td>\n",
              "      <td>29.307854</td>\n",
              "      <td>9.252663</td>\n",
              "      <td>2.148423</td>\n",
              "      <td>81.063637</td>\n",
              "      <td>1.366525e+03</td>\n",
              "      <td>146.497714</td>\n",
              "    </tr>\n",
              "    <tr>\n",
              "      <th>std</th>\n",
              "      <td>3820.649237</td>\n",
              "      <td>2.595155</td>\n",
              "      <td>1.744670</td>\n",
              "      <td>2.150288</td>\n",
              "      <td>2.468641</td>\n",
              "      <td>12.477192</td>\n",
              "      <td>6.669433e+04</td>\n",
              "      <td>32.713383</td>\n",
              "    </tr>\n",
              "    <tr>\n",
              "      <th>min</th>\n",
              "      <td>0.000000</td>\n",
              "      <td>-1.190000</td>\n",
              "      <td>-2.160000</td>\n",
              "      <td>-296.740000</td>\n",
              "      <td>-31.920000</td>\n",
              "      <td>-278.560000</td>\n",
              "      <td>0.000000e+00</td>\n",
              "      <td>61.000000</td>\n",
              "    </tr>\n",
              "    <tr>\n",
              "      <th>25%</th>\n",
              "      <td>3010.750000</td>\n",
              "      <td>30.870000</td>\n",
              "      <td>28.100000</td>\n",
              "      <td>8.480000</td>\n",
              "      <td>0.800000</td>\n",
              "      <td>74.997500</td>\n",
              "      <td>1.195105e+03</td>\n",
              "      <td>125.000000</td>\n",
              "    </tr>\n",
              "    <tr>\n",
              "      <th>50%</th>\n",
              "      <td>6247.500000</td>\n",
              "      <td>32.300000</td>\n",
              "      <td>29.310000</td>\n",
              "      <td>9.230000</td>\n",
              "      <td>2.050000</td>\n",
              "      <td>84.860000</td>\n",
              "      <td>1.229100e+03</td>\n",
              "      <td>144.000000</td>\n",
              "    </tr>\n",
              "    <tr>\n",
              "      <th>75%</th>\n",
              "      <td>9004.250000</td>\n",
              "      <td>33.430000</td>\n",
              "      <td>30.520000</td>\n",
              "      <td>9.990000</td>\n",
              "      <td>3.250000</td>\n",
              "      <td>88.992500</td>\n",
              "      <td>1.242260e+03</td>\n",
              "      <td>172.000000</td>\n",
              "    </tr>\n",
              "    <tr>\n",
              "      <th>max</th>\n",
              "      <td>14575.000000</td>\n",
              "      <td>334.220000</td>\n",
              "      <td>60.750000</td>\n",
              "      <td>88.510000</td>\n",
              "      <td>302.230000</td>\n",
              "      <td>293.120000</td>\n",
              "      <td>1.208121e+07</td>\n",
              "      <td>212.000000</td>\n",
              "    </tr>\n",
              "  </tbody>\n",
              "</table>\n",
              "</div>\n",
              "      <button class=\"colab-df-convert\" onclick=\"convertToInteractive('df-c4b0c9e8-9635-4b19-9499-202d5ea14365')\"\n",
              "              title=\"Convert this dataframe to an interactive table.\"\n",
              "              style=\"display:none;\">\n",
              "        \n",
              "  <svg xmlns=\"http://www.w3.org/2000/svg\" height=\"24px\"viewBox=\"0 0 24 24\"\n",
              "       width=\"24px\">\n",
              "    <path d=\"M0 0h24v24H0V0z\" fill=\"none\"/>\n",
              "    <path d=\"M18.56 5.44l.94 2.06.94-2.06 2.06-.94-2.06-.94-.94-2.06-.94 2.06-2.06.94zm-11 1L8.5 8.5l.94-2.06 2.06-.94-2.06-.94L8.5 2.5l-.94 2.06-2.06.94zm10 10l.94 2.06.94-2.06 2.06-.94-2.06-.94-.94-2.06-.94 2.06-2.06.94z\"/><path d=\"M17.41 7.96l-1.37-1.37c-.4-.4-.92-.59-1.43-.59-.52 0-1.04.2-1.43.59L10.3 9.45l-7.72 7.72c-.78.78-.78 2.05 0 2.83L4 21.41c.39.39.9.59 1.41.59.51 0 1.02-.2 1.41-.59l7.78-7.78 2.81-2.81c.8-.78.8-2.07 0-2.86zM5.41 20L4 18.59l7.72-7.72 1.47 1.35L5.41 20z\"/>\n",
              "  </svg>\n",
              "      </button>\n",
              "      \n",
              "  <style>\n",
              "    .colab-df-container {\n",
              "      display:flex;\n",
              "      flex-wrap:wrap;\n",
              "      gap: 12px;\n",
              "    }\n",
              "\n",
              "    .colab-df-convert {\n",
              "      background-color: #E8F0FE;\n",
              "      border: none;\n",
              "      border-radius: 50%;\n",
              "      cursor: pointer;\n",
              "      display: none;\n",
              "      fill: #1967D2;\n",
              "      height: 32px;\n",
              "      padding: 0 0 0 0;\n",
              "      width: 32px;\n",
              "    }\n",
              "\n",
              "    .colab-df-convert:hover {\n",
              "      background-color: #E2EBFA;\n",
              "      box-shadow: 0px 1px 2px rgba(60, 64, 67, 0.3), 0px 1px 3px 1px rgba(60, 64, 67, 0.15);\n",
              "      fill: #174EA6;\n",
              "    }\n",
              "\n",
              "    [theme=dark] .colab-df-convert {\n",
              "      background-color: #3B4455;\n",
              "      fill: #D2E3FC;\n",
              "    }\n",
              "\n",
              "    [theme=dark] .colab-df-convert:hover {\n",
              "      background-color: #434B5C;\n",
              "      box-shadow: 0px 1px 3px 1px rgba(0, 0, 0, 0.15);\n",
              "      filter: drop-shadow(0px 1px 2px rgba(0, 0, 0, 0.3));\n",
              "      fill: #FFFFFF;\n",
              "    }\n",
              "  </style>\n",
              "\n",
              "      <script>\n",
              "        const buttonEl =\n",
              "          document.querySelector('#df-c4b0c9e8-9635-4b19-9499-202d5ea14365 button.colab-df-convert');\n",
              "        buttonEl.style.display =\n",
              "          google.colab.kernel.accessAllowed ? 'block' : 'none';\n",
              "\n",
              "        async function convertToInteractive(key) {\n",
              "          const element = document.querySelector('#df-c4b0c9e8-9635-4b19-9499-202d5ea14365');\n",
              "          const dataTable =\n",
              "            await google.colab.kernel.invokeFunction('convertToInteractive',\n",
              "                                                     [key], {});\n",
              "          if (!dataTable) return;\n",
              "\n",
              "          const docLinkHtml = 'Like what you see? Visit the ' +\n",
              "            '<a target=\"_blank\" href=https://colab.research.google.com/notebooks/data_table.ipynb>data table notebook</a>'\n",
              "            + ' to learn more about interactive tables.';\n",
              "          element.innerHTML = '';\n",
              "          dataTable['output_type'] = 'display_data';\n",
              "          await google.colab.output.renderOutput(dataTable, element);\n",
              "          const docLink = document.createElement('div');\n",
              "          docLink.innerHTML = docLinkHtml;\n",
              "          element.appendChild(docLink);\n",
              "        }\n",
              "      </script>\n",
              "    </div>\n",
              "  </div>\n",
              "  "
            ]
          },
          "metadata": {},
          "execution_count": 5
        }
      ]
    },
    {
      "cell_type": "markdown",
      "metadata": {
        "id": "O9vxO2_3tZXV"
      },
      "source": [
        "*2. Выстроите цепочку замеров по одним и тем же колесам. Для каждого текущего замера найдите предыдущий замер этого же колеса и его параметры (важно - предыдущие замеры необходимо добавить в соответствующие столбцы с приставкой “previous_”).*"
      ]
    },
    {
      "cell_type": "markdown",
      "source": [
        "Отсортируем датасет сначала по wheel_id, затем по date. Таким образом выстроим цепочку замеров по одним и тем же колёсам по датам."
      ],
      "metadata": {
        "id": "l1BjmIjq_e9f"
      }
    },
    {
      "cell_type": "code",
      "metadata": {
        "id": "QjrRpFfnh8-u"
      },
      "source": [
        "df = df.sort_values(by=['wheel_id', 'date']).reset_index(drop=True)"
      ],
      "execution_count": 6,
      "outputs": []
    },
    {
      "cell_type": "markdown",
      "source": [
        "В начале удалим строки - полные дубликаты.\n",
        "\n",
        "Также удалим строки, которые присутствуют в датасете только один раз, у них нет предыдущего замера.\n",
        "\n"
      ],
      "metadata": {
        "id": "mzoLcGeD_2Cz"
      }
    },
    {
      "cell_type": "code",
      "source": [
        "df = df.drop_duplicates(ignore_index=True)"
      ],
      "metadata": {
        "id": "RG7bzBnHEANa"
      },
      "execution_count": 7,
      "outputs": []
    },
    {
      "cell_type": "code",
      "source": [
        "wheel_id_without_previous = df[df['wheel_id'].isin(df['wheel_id'].value_counts()[df['wheel_id'].value_counts()==1].index)].wheel_id\n",
        "len(wheel_id_without_previous)"
      ],
      "metadata": {
        "id": "Vy49jnAzEAQg",
        "colab": {
          "base_uri": "https://localhost:8080/"
        },
        "outputId": "a857e0fb-3277-4a7f-9210-ddcee690c86e"
      },
      "execution_count": 8,
      "outputs": [
        {
          "output_type": "execute_result",
          "data": {
            "text/plain": [
              "9804"
            ]
          },
          "metadata": {},
          "execution_count": 8
        }
      ]
    },
    {
      "cell_type": "code",
      "source": [
        "df = df[~df['wheel_id'].isin(wheel_id_without_previous)].reset_index(drop=True)"
      ],
      "metadata": {
        "id": "IALob4sp7HGl"
      },
      "execution_count": 9,
      "outputs": []
    },
    {
      "cell_type": "markdown",
      "source": [
        "Добавим новые столбцы, а также столбец date_diff - количество дней между замерами в цепочках."
      ],
      "metadata": {
        "id": "Fs4PduqCILRV"
      }
    },
    {
      "cell_type": "code",
      "source": [
        "df[['previous_flange_height', 'previous_flange_width', 'previous_qr', 'previous_tread_wear', 'previous_rim_thickness', 'previous_wheel_diameter', 'date_diff']] = np.nan\n",
        "\n",
        "try:\n",
        "  for i in range(len(df)):\n",
        "    if df['wheel_id'][i] == df['wheel_id'][i+1]:\n",
        "      df['previous_flange_height'][i+1] = df['flange_height'][i]\n",
        "      df['previous_flange_width'][i+1] = df['flange_width'][i]\n",
        "      df['previous_qr'][i+1] = df['qr'][i]\n",
        "      df['previous_tread_wear'][i+1] = df['tread_wear'][i]\n",
        "      df['previous_rim_thickness'][i+1] = df['rim_thickness'][i]\n",
        "      df['previous_wheel_diameter'][i+1] = df['wheel_diameter'][i]\n",
        "      df['date_diff'][i+1] = df['date'][i+1] - df['date'][i]\n",
        "except KeyError:\n",
        "  pass\n",
        "\n",
        "df = df.reindex(columns=[\n",
        "    'wheel_id', 'date', 'date_diff', 'previous_flange_height', 'flange_height', 'previous_flange_width', 'flange_width', 'previous_qr', 'qr', 'previous_tread_wear', 'tread_wear',\n",
        "    'previous_rim_thickness', 'rim_thickness', 'previous_wheel_diameter', 'wheel_diameter'])\n",
        "\n",
        "df"
      ],
      "metadata": {
        "colab": {
          "base_uri": "https://localhost:8080/",
          "height": 488
        },
        "id": "KnftGhObG_bn",
        "outputId": "cfd93260-f370-495f-a834-84d909ac32d5"
      },
      "execution_count": 10,
      "outputs": [
        {
          "output_type": "execute_result",
          "data": {
            "text/plain": [
              "       wheel_id  date  date_diff  previous_flange_height  flange_height  \\\n",
              "0           288   151        NaN                     NaN          30.34   \n",
              "1           288   151        0.0                   30.34          30.34   \n",
              "2           289   151        NaN                     NaN          30.53   \n",
              "3           289   151        0.0                   30.53          30.53   \n",
              "4           290   151        NaN                     NaN          30.32   \n",
              "...         ...   ...        ...                     ...            ...   \n",
              "18341     14562   121        2.0                   34.03          33.85   \n",
              "18342     14562   170       49.0                   33.85          34.11   \n",
              "18343     14563   119        NaN                     NaN          34.73   \n",
              "18344     14563   121        2.0                   34.73          33.08   \n",
              "18345     14563   170       49.0                   33.08          34.65   \n",
              "\n",
              "       previous_flange_width  flange_width  previous_qr     qr  \\\n",
              "0                        NaN         28.07          NaN   6.91   \n",
              "1                      28.07         28.07         6.91   6.91   \n",
              "2                        NaN         26.96          NaN   7.20   \n",
              "3                      26.96         26.96         7.20   7.20   \n",
              "4                        NaN         28.47          NaN   7.42   \n",
              "...                      ...           ...          ...    ...   \n",
              "18341                  31.63         31.91        10.35  10.60   \n",
              "18342                  31.91         31.33        10.60   9.79   \n",
              "18343                    NaN         30.51          NaN   9.81   \n",
              "18344                  30.51         31.17         9.81   9.56   \n",
              "18345                  31.17         28.96         9.56   9.94   \n",
              "\n",
              "       previous_tread_wear  tread_wear  previous_rim_thickness  rim_thickness  \\\n",
              "0                      NaN        0.34                     NaN          84.30   \n",
              "1                     0.34        0.34                   84.30          84.30   \n",
              "2                      NaN        0.53                     NaN          86.05   \n",
              "3                     0.53        0.53                   86.05          86.05   \n",
              "4                      NaN        0.32                     NaN          88.52   \n",
              "...                    ...         ...                     ...            ...   \n",
              "18341                 2.04        1.86                   60.90          60.96   \n",
              "18342                 1.86        2.12                   60.96          60.06   \n",
              "18343                  NaN        2.74                     NaN          62.08   \n",
              "18344                 2.74        1.09                   62.08          60.32   \n",
              "18345                 1.09        2.66                   60.32          59.31   \n",
              "\n",
              "       previous_wheel_diameter  wheel_diameter  \n",
              "0                          NaN         1234.00  \n",
              "1                      1234.00         1230.00  \n",
              "2                          NaN         1235.00  \n",
              "3                      1235.00         1232.00  \n",
              "4                          NaN         1227.00  \n",
              "...                        ...             ...  \n",
              "18341                  1191.79         1191.93  \n",
              "18342                  1191.93         1186.00  \n",
              "18343                      NaN         1194.16  \n",
              "18344                  1194.16         1190.63  \n",
              "18345                  1190.63         1183.00  \n",
              "\n",
              "[18346 rows x 15 columns]"
            ],
            "text/html": [
              "\n",
              "  <div id=\"df-77922ff6-2ad7-4ae8-a600-5e24efce877d\">\n",
              "    <div class=\"colab-df-container\">\n",
              "      <div>\n",
              "<style scoped>\n",
              "    .dataframe tbody tr th:only-of-type {\n",
              "        vertical-align: middle;\n",
              "    }\n",
              "\n",
              "    .dataframe tbody tr th {\n",
              "        vertical-align: top;\n",
              "    }\n",
              "\n",
              "    .dataframe thead th {\n",
              "        text-align: right;\n",
              "    }\n",
              "</style>\n",
              "<table border=\"1\" class=\"dataframe\">\n",
              "  <thead>\n",
              "    <tr style=\"text-align: right;\">\n",
              "      <th></th>\n",
              "      <th>wheel_id</th>\n",
              "      <th>date</th>\n",
              "      <th>date_diff</th>\n",
              "      <th>previous_flange_height</th>\n",
              "      <th>flange_height</th>\n",
              "      <th>previous_flange_width</th>\n",
              "      <th>flange_width</th>\n",
              "      <th>previous_qr</th>\n",
              "      <th>qr</th>\n",
              "      <th>previous_tread_wear</th>\n",
              "      <th>tread_wear</th>\n",
              "      <th>previous_rim_thickness</th>\n",
              "      <th>rim_thickness</th>\n",
              "      <th>previous_wheel_diameter</th>\n",
              "      <th>wheel_diameter</th>\n",
              "    </tr>\n",
              "  </thead>\n",
              "  <tbody>\n",
              "    <tr>\n",
              "      <th>0</th>\n",
              "      <td>288</td>\n",
              "      <td>151</td>\n",
              "      <td>NaN</td>\n",
              "      <td>NaN</td>\n",
              "      <td>30.34</td>\n",
              "      <td>NaN</td>\n",
              "      <td>28.07</td>\n",
              "      <td>NaN</td>\n",
              "      <td>6.91</td>\n",
              "      <td>NaN</td>\n",
              "      <td>0.34</td>\n",
              "      <td>NaN</td>\n",
              "      <td>84.30</td>\n",
              "      <td>NaN</td>\n",
              "      <td>1234.00</td>\n",
              "    </tr>\n",
              "    <tr>\n",
              "      <th>1</th>\n",
              "      <td>288</td>\n",
              "      <td>151</td>\n",
              "      <td>0.0</td>\n",
              "      <td>30.34</td>\n",
              "      <td>30.34</td>\n",
              "      <td>28.07</td>\n",
              "      <td>28.07</td>\n",
              "      <td>6.91</td>\n",
              "      <td>6.91</td>\n",
              "      <td>0.34</td>\n",
              "      <td>0.34</td>\n",
              "      <td>84.30</td>\n",
              "      <td>84.30</td>\n",
              "      <td>1234.00</td>\n",
              "      <td>1230.00</td>\n",
              "    </tr>\n",
              "    <tr>\n",
              "      <th>2</th>\n",
              "      <td>289</td>\n",
              "      <td>151</td>\n",
              "      <td>NaN</td>\n",
              "      <td>NaN</td>\n",
              "      <td>30.53</td>\n",
              "      <td>NaN</td>\n",
              "      <td>26.96</td>\n",
              "      <td>NaN</td>\n",
              "      <td>7.20</td>\n",
              "      <td>NaN</td>\n",
              "      <td>0.53</td>\n",
              "      <td>NaN</td>\n",
              "      <td>86.05</td>\n",
              "      <td>NaN</td>\n",
              "      <td>1235.00</td>\n",
              "    </tr>\n",
              "    <tr>\n",
              "      <th>3</th>\n",
              "      <td>289</td>\n",
              "      <td>151</td>\n",
              "      <td>0.0</td>\n",
              "      <td>30.53</td>\n",
              "      <td>30.53</td>\n",
              "      <td>26.96</td>\n",
              "      <td>26.96</td>\n",
              "      <td>7.20</td>\n",
              "      <td>7.20</td>\n",
              "      <td>0.53</td>\n",
              "      <td>0.53</td>\n",
              "      <td>86.05</td>\n",
              "      <td>86.05</td>\n",
              "      <td>1235.00</td>\n",
              "      <td>1232.00</td>\n",
              "    </tr>\n",
              "    <tr>\n",
              "      <th>4</th>\n",
              "      <td>290</td>\n",
              "      <td>151</td>\n",
              "      <td>NaN</td>\n",
              "      <td>NaN</td>\n",
              "      <td>30.32</td>\n",
              "      <td>NaN</td>\n",
              "      <td>28.47</td>\n",
              "      <td>NaN</td>\n",
              "      <td>7.42</td>\n",
              "      <td>NaN</td>\n",
              "      <td>0.32</td>\n",
              "      <td>NaN</td>\n",
              "      <td>88.52</td>\n",
              "      <td>NaN</td>\n",
              "      <td>1227.00</td>\n",
              "    </tr>\n",
              "    <tr>\n",
              "      <th>...</th>\n",
              "      <td>...</td>\n",
              "      <td>...</td>\n",
              "      <td>...</td>\n",
              "      <td>...</td>\n",
              "      <td>...</td>\n",
              "      <td>...</td>\n",
              "      <td>...</td>\n",
              "      <td>...</td>\n",
              "      <td>...</td>\n",
              "      <td>...</td>\n",
              "      <td>...</td>\n",
              "      <td>...</td>\n",
              "      <td>...</td>\n",
              "      <td>...</td>\n",
              "      <td>...</td>\n",
              "    </tr>\n",
              "    <tr>\n",
              "      <th>18341</th>\n",
              "      <td>14562</td>\n",
              "      <td>121</td>\n",
              "      <td>2.0</td>\n",
              "      <td>34.03</td>\n",
              "      <td>33.85</td>\n",
              "      <td>31.63</td>\n",
              "      <td>31.91</td>\n",
              "      <td>10.35</td>\n",
              "      <td>10.60</td>\n",
              "      <td>2.04</td>\n",
              "      <td>1.86</td>\n",
              "      <td>60.90</td>\n",
              "      <td>60.96</td>\n",
              "      <td>1191.79</td>\n",
              "      <td>1191.93</td>\n",
              "    </tr>\n",
              "    <tr>\n",
              "      <th>18342</th>\n",
              "      <td>14562</td>\n",
              "      <td>170</td>\n",
              "      <td>49.0</td>\n",
              "      <td>33.85</td>\n",
              "      <td>34.11</td>\n",
              "      <td>31.91</td>\n",
              "      <td>31.33</td>\n",
              "      <td>10.60</td>\n",
              "      <td>9.79</td>\n",
              "      <td>1.86</td>\n",
              "      <td>2.12</td>\n",
              "      <td>60.96</td>\n",
              "      <td>60.06</td>\n",
              "      <td>1191.93</td>\n",
              "      <td>1186.00</td>\n",
              "    </tr>\n",
              "    <tr>\n",
              "      <th>18343</th>\n",
              "      <td>14563</td>\n",
              "      <td>119</td>\n",
              "      <td>NaN</td>\n",
              "      <td>NaN</td>\n",
              "      <td>34.73</td>\n",
              "      <td>NaN</td>\n",
              "      <td>30.51</td>\n",
              "      <td>NaN</td>\n",
              "      <td>9.81</td>\n",
              "      <td>NaN</td>\n",
              "      <td>2.74</td>\n",
              "      <td>NaN</td>\n",
              "      <td>62.08</td>\n",
              "      <td>NaN</td>\n",
              "      <td>1194.16</td>\n",
              "    </tr>\n",
              "    <tr>\n",
              "      <th>18344</th>\n",
              "      <td>14563</td>\n",
              "      <td>121</td>\n",
              "      <td>2.0</td>\n",
              "      <td>34.73</td>\n",
              "      <td>33.08</td>\n",
              "      <td>30.51</td>\n",
              "      <td>31.17</td>\n",
              "      <td>9.81</td>\n",
              "      <td>9.56</td>\n",
              "      <td>2.74</td>\n",
              "      <td>1.09</td>\n",
              "      <td>62.08</td>\n",
              "      <td>60.32</td>\n",
              "      <td>1194.16</td>\n",
              "      <td>1190.63</td>\n",
              "    </tr>\n",
              "    <tr>\n",
              "      <th>18345</th>\n",
              "      <td>14563</td>\n",
              "      <td>170</td>\n",
              "      <td>49.0</td>\n",
              "      <td>33.08</td>\n",
              "      <td>34.65</td>\n",
              "      <td>31.17</td>\n",
              "      <td>28.96</td>\n",
              "      <td>9.56</td>\n",
              "      <td>9.94</td>\n",
              "      <td>1.09</td>\n",
              "      <td>2.66</td>\n",
              "      <td>60.32</td>\n",
              "      <td>59.31</td>\n",
              "      <td>1190.63</td>\n",
              "      <td>1183.00</td>\n",
              "    </tr>\n",
              "  </tbody>\n",
              "</table>\n",
              "<p>18346 rows × 15 columns</p>\n",
              "</div>\n",
              "      <button class=\"colab-df-convert\" onclick=\"convertToInteractive('df-77922ff6-2ad7-4ae8-a600-5e24efce877d')\"\n",
              "              title=\"Convert this dataframe to an interactive table.\"\n",
              "              style=\"display:none;\">\n",
              "        \n",
              "  <svg xmlns=\"http://www.w3.org/2000/svg\" height=\"24px\"viewBox=\"0 0 24 24\"\n",
              "       width=\"24px\">\n",
              "    <path d=\"M0 0h24v24H0V0z\" fill=\"none\"/>\n",
              "    <path d=\"M18.56 5.44l.94 2.06.94-2.06 2.06-.94-2.06-.94-.94-2.06-.94 2.06-2.06.94zm-11 1L8.5 8.5l.94-2.06 2.06-.94-2.06-.94L8.5 2.5l-.94 2.06-2.06.94zm10 10l.94 2.06.94-2.06 2.06-.94-2.06-.94-.94-2.06-.94 2.06-2.06.94z\"/><path d=\"M17.41 7.96l-1.37-1.37c-.4-.4-.92-.59-1.43-.59-.52 0-1.04.2-1.43.59L10.3 9.45l-7.72 7.72c-.78.78-.78 2.05 0 2.83L4 21.41c.39.39.9.59 1.41.59.51 0 1.02-.2 1.41-.59l7.78-7.78 2.81-2.81c.8-.78.8-2.07 0-2.86zM5.41 20L4 18.59l7.72-7.72 1.47 1.35L5.41 20z\"/>\n",
              "  </svg>\n",
              "      </button>\n",
              "      \n",
              "  <style>\n",
              "    .colab-df-container {\n",
              "      display:flex;\n",
              "      flex-wrap:wrap;\n",
              "      gap: 12px;\n",
              "    }\n",
              "\n",
              "    .colab-df-convert {\n",
              "      background-color: #E8F0FE;\n",
              "      border: none;\n",
              "      border-radius: 50%;\n",
              "      cursor: pointer;\n",
              "      display: none;\n",
              "      fill: #1967D2;\n",
              "      height: 32px;\n",
              "      padding: 0 0 0 0;\n",
              "      width: 32px;\n",
              "    }\n",
              "\n",
              "    .colab-df-convert:hover {\n",
              "      background-color: #E2EBFA;\n",
              "      box-shadow: 0px 1px 2px rgba(60, 64, 67, 0.3), 0px 1px 3px 1px rgba(60, 64, 67, 0.15);\n",
              "      fill: #174EA6;\n",
              "    }\n",
              "\n",
              "    [theme=dark] .colab-df-convert {\n",
              "      background-color: #3B4455;\n",
              "      fill: #D2E3FC;\n",
              "    }\n",
              "\n",
              "    [theme=dark] .colab-df-convert:hover {\n",
              "      background-color: #434B5C;\n",
              "      box-shadow: 0px 1px 3px 1px rgba(0, 0, 0, 0.15);\n",
              "      filter: drop-shadow(0px 1px 2px rgba(0, 0, 0, 0.3));\n",
              "      fill: #FFFFFF;\n",
              "    }\n",
              "  </style>\n",
              "\n",
              "      <script>\n",
              "        const buttonEl =\n",
              "          document.querySelector('#df-77922ff6-2ad7-4ae8-a600-5e24efce877d button.colab-df-convert');\n",
              "        buttonEl.style.display =\n",
              "          google.colab.kernel.accessAllowed ? 'block' : 'none';\n",
              "\n",
              "        async function convertToInteractive(key) {\n",
              "          const element = document.querySelector('#df-77922ff6-2ad7-4ae8-a600-5e24efce877d');\n",
              "          const dataTable =\n",
              "            await google.colab.kernel.invokeFunction('convertToInteractive',\n",
              "                                                     [key], {});\n",
              "          if (!dataTable) return;\n",
              "\n",
              "          const docLinkHtml = 'Like what you see? Visit the ' +\n",
              "            '<a target=\"_blank\" href=https://colab.research.google.com/notebooks/data_table.ipynb>data table notebook</a>'\n",
              "            + ' to learn more about interactive tables.';\n",
              "          element.innerHTML = '';\n",
              "          dataTable['output_type'] = 'display_data';\n",
              "          await google.colab.output.renderOutput(dataTable, element);\n",
              "          const docLink = document.createElement('div');\n",
              "          docLink.innerHTML = docLinkHtml;\n",
              "          element.appendChild(docLink);\n",
              "        }\n",
              "      </script>\n",
              "    </div>\n",
              "  </div>\n",
              "  "
            ]
          },
          "metadata": {},
          "execution_count": 10
        }
      ]
    },
    {
      "cell_type": "markdown",
      "source": [
        "*3. Проведите предобработку данных (уберите пустые значения в датафрейме у которых нет предыдущего замера)*"
      ],
      "metadata": {
        "id": "0mSujRrMaSo2"
      }
    },
    {
      "cell_type": "code",
      "source": [
        "df = df.dropna().reset_index(drop=True)\n",
        "df['date_diff'] = df['date_diff'].astype('int')\n",
        "\n",
        "df"
      ],
      "metadata": {
        "id": "en_k4JjcL862",
        "colab": {
          "base_uri": "https://localhost:8080/",
          "height": 488
        },
        "outputId": "955ba5aa-6d95-48cd-a67d-f5ff62e56ead"
      },
      "execution_count": 11,
      "outputs": [
        {
          "output_type": "execute_result",
          "data": {
            "text/plain": [
              "       wheel_id  date  date_diff  previous_flange_height  flange_height  \\\n",
              "0           288   151          0                   30.34          30.34   \n",
              "1           289   151          0                   30.53          30.53   \n",
              "2           290   151          0                   30.32          30.32   \n",
              "3           291   151          0                   29.75          29.75   \n",
              "4           292   151          0                   30.32          30.32   \n",
              "...         ...   ...        ...                     ...            ...   \n",
              "13569     14561   170         51                   35.11          33.11   \n",
              "13570     14562   121          2                   34.03          33.85   \n",
              "13571     14562   170         49                   33.85          34.11   \n",
              "13572     14563   121          2                   34.73          33.08   \n",
              "13573     14563   170         49                   33.08          34.65   \n",
              "\n",
              "       previous_flange_width  flange_width  previous_qr     qr  \\\n",
              "0                      28.07         28.07         6.91   6.91   \n",
              "1                      26.96         26.96         7.20   7.20   \n",
              "2                      28.47         28.47         7.42   7.42   \n",
              "3                      27.07         27.07         6.53   6.53   \n",
              "4                      27.35         27.35         7.27   7.27   \n",
              "...                      ...           ...          ...    ...   \n",
              "13569                  29.21         28.08        10.53   8.69   \n",
              "13570                  31.63         31.91        10.35  10.60   \n",
              "13571                  31.91         31.33        10.60   9.79   \n",
              "13572                  30.51         31.17         9.81   9.56   \n",
              "13573                  31.17         28.96         9.56   9.94   \n",
              "\n",
              "       previous_tread_wear  tread_wear  previous_rim_thickness  rim_thickness  \\\n",
              "0                     0.34        0.34                   84.30          84.30   \n",
              "1                     0.53        0.53                   86.05          86.05   \n",
              "2                     0.32        0.32                   88.52          88.52   \n",
              "3                    -0.25       -0.25                   88.09          88.09   \n",
              "4                     0.32        0.32                   91.38          91.38   \n",
              "...                    ...         ...                     ...            ...   \n",
              "13569                 3.12        1.12                   59.99          57.31   \n",
              "13570                 2.04        1.86                   60.90          60.96   \n",
              "13571                 1.86        2.12                   60.96          60.06   \n",
              "13572                 2.74        1.09                   62.08          60.32   \n",
              "13573                 1.09        2.66                   60.32          59.31   \n",
              "\n",
              "       previous_wheel_diameter  wheel_diameter  \n",
              "0                      1234.00         1230.00  \n",
              "1                      1235.00         1232.00  \n",
              "2                      1227.00         1236.00  \n",
              "3                      1228.00         1236.00  \n",
              "4                      1240.00         1238.00  \n",
              "...                        ...             ...  \n",
              "13569                  1189.98         1181.00  \n",
              "13570                  1191.79         1191.93  \n",
              "13571                  1191.93         1186.00  \n",
              "13572                  1194.16         1190.63  \n",
              "13573                  1190.63         1183.00  \n",
              "\n",
              "[13574 rows x 15 columns]"
            ],
            "text/html": [
              "\n",
              "  <div id=\"df-b0855ca1-1515-42f6-a21c-f49da0ee0ca9\">\n",
              "    <div class=\"colab-df-container\">\n",
              "      <div>\n",
              "<style scoped>\n",
              "    .dataframe tbody tr th:only-of-type {\n",
              "        vertical-align: middle;\n",
              "    }\n",
              "\n",
              "    .dataframe tbody tr th {\n",
              "        vertical-align: top;\n",
              "    }\n",
              "\n",
              "    .dataframe thead th {\n",
              "        text-align: right;\n",
              "    }\n",
              "</style>\n",
              "<table border=\"1\" class=\"dataframe\">\n",
              "  <thead>\n",
              "    <tr style=\"text-align: right;\">\n",
              "      <th></th>\n",
              "      <th>wheel_id</th>\n",
              "      <th>date</th>\n",
              "      <th>date_diff</th>\n",
              "      <th>previous_flange_height</th>\n",
              "      <th>flange_height</th>\n",
              "      <th>previous_flange_width</th>\n",
              "      <th>flange_width</th>\n",
              "      <th>previous_qr</th>\n",
              "      <th>qr</th>\n",
              "      <th>previous_tread_wear</th>\n",
              "      <th>tread_wear</th>\n",
              "      <th>previous_rim_thickness</th>\n",
              "      <th>rim_thickness</th>\n",
              "      <th>previous_wheel_diameter</th>\n",
              "      <th>wheel_diameter</th>\n",
              "    </tr>\n",
              "  </thead>\n",
              "  <tbody>\n",
              "    <tr>\n",
              "      <th>0</th>\n",
              "      <td>288</td>\n",
              "      <td>151</td>\n",
              "      <td>0</td>\n",
              "      <td>30.34</td>\n",
              "      <td>30.34</td>\n",
              "      <td>28.07</td>\n",
              "      <td>28.07</td>\n",
              "      <td>6.91</td>\n",
              "      <td>6.91</td>\n",
              "      <td>0.34</td>\n",
              "      <td>0.34</td>\n",
              "      <td>84.30</td>\n",
              "      <td>84.30</td>\n",
              "      <td>1234.00</td>\n",
              "      <td>1230.00</td>\n",
              "    </tr>\n",
              "    <tr>\n",
              "      <th>1</th>\n",
              "      <td>289</td>\n",
              "      <td>151</td>\n",
              "      <td>0</td>\n",
              "      <td>30.53</td>\n",
              "      <td>30.53</td>\n",
              "      <td>26.96</td>\n",
              "      <td>26.96</td>\n",
              "      <td>7.20</td>\n",
              "      <td>7.20</td>\n",
              "      <td>0.53</td>\n",
              "      <td>0.53</td>\n",
              "      <td>86.05</td>\n",
              "      <td>86.05</td>\n",
              "      <td>1235.00</td>\n",
              "      <td>1232.00</td>\n",
              "    </tr>\n",
              "    <tr>\n",
              "      <th>2</th>\n",
              "      <td>290</td>\n",
              "      <td>151</td>\n",
              "      <td>0</td>\n",
              "      <td>30.32</td>\n",
              "      <td>30.32</td>\n",
              "      <td>28.47</td>\n",
              "      <td>28.47</td>\n",
              "      <td>7.42</td>\n",
              "      <td>7.42</td>\n",
              "      <td>0.32</td>\n",
              "      <td>0.32</td>\n",
              "      <td>88.52</td>\n",
              "      <td>88.52</td>\n",
              "      <td>1227.00</td>\n",
              "      <td>1236.00</td>\n",
              "    </tr>\n",
              "    <tr>\n",
              "      <th>3</th>\n",
              "      <td>291</td>\n",
              "      <td>151</td>\n",
              "      <td>0</td>\n",
              "      <td>29.75</td>\n",
              "      <td>29.75</td>\n",
              "      <td>27.07</td>\n",
              "      <td>27.07</td>\n",
              "      <td>6.53</td>\n",
              "      <td>6.53</td>\n",
              "      <td>-0.25</td>\n",
              "      <td>-0.25</td>\n",
              "      <td>88.09</td>\n",
              "      <td>88.09</td>\n",
              "      <td>1228.00</td>\n",
              "      <td>1236.00</td>\n",
              "    </tr>\n",
              "    <tr>\n",
              "      <th>4</th>\n",
              "      <td>292</td>\n",
              "      <td>151</td>\n",
              "      <td>0</td>\n",
              "      <td>30.32</td>\n",
              "      <td>30.32</td>\n",
              "      <td>27.35</td>\n",
              "      <td>27.35</td>\n",
              "      <td>7.27</td>\n",
              "      <td>7.27</td>\n",
              "      <td>0.32</td>\n",
              "      <td>0.32</td>\n",
              "      <td>91.38</td>\n",
              "      <td>91.38</td>\n",
              "      <td>1240.00</td>\n",
              "      <td>1238.00</td>\n",
              "    </tr>\n",
              "    <tr>\n",
              "      <th>...</th>\n",
              "      <td>...</td>\n",
              "      <td>...</td>\n",
              "      <td>...</td>\n",
              "      <td>...</td>\n",
              "      <td>...</td>\n",
              "      <td>...</td>\n",
              "      <td>...</td>\n",
              "      <td>...</td>\n",
              "      <td>...</td>\n",
              "      <td>...</td>\n",
              "      <td>...</td>\n",
              "      <td>...</td>\n",
              "      <td>...</td>\n",
              "      <td>...</td>\n",
              "      <td>...</td>\n",
              "    </tr>\n",
              "    <tr>\n",
              "      <th>13569</th>\n",
              "      <td>14561</td>\n",
              "      <td>170</td>\n",
              "      <td>51</td>\n",
              "      <td>35.11</td>\n",
              "      <td>33.11</td>\n",
              "      <td>29.21</td>\n",
              "      <td>28.08</td>\n",
              "      <td>10.53</td>\n",
              "      <td>8.69</td>\n",
              "      <td>3.12</td>\n",
              "      <td>1.12</td>\n",
              "      <td>59.99</td>\n",
              "      <td>57.31</td>\n",
              "      <td>1189.98</td>\n",
              "      <td>1181.00</td>\n",
              "    </tr>\n",
              "    <tr>\n",
              "      <th>13570</th>\n",
              "      <td>14562</td>\n",
              "      <td>121</td>\n",
              "      <td>2</td>\n",
              "      <td>34.03</td>\n",
              "      <td>33.85</td>\n",
              "      <td>31.63</td>\n",
              "      <td>31.91</td>\n",
              "      <td>10.35</td>\n",
              "      <td>10.60</td>\n",
              "      <td>2.04</td>\n",
              "      <td>1.86</td>\n",
              "      <td>60.90</td>\n",
              "      <td>60.96</td>\n",
              "      <td>1191.79</td>\n",
              "      <td>1191.93</td>\n",
              "    </tr>\n",
              "    <tr>\n",
              "      <th>13571</th>\n",
              "      <td>14562</td>\n",
              "      <td>170</td>\n",
              "      <td>49</td>\n",
              "      <td>33.85</td>\n",
              "      <td>34.11</td>\n",
              "      <td>31.91</td>\n",
              "      <td>31.33</td>\n",
              "      <td>10.60</td>\n",
              "      <td>9.79</td>\n",
              "      <td>1.86</td>\n",
              "      <td>2.12</td>\n",
              "      <td>60.96</td>\n",
              "      <td>60.06</td>\n",
              "      <td>1191.93</td>\n",
              "      <td>1186.00</td>\n",
              "    </tr>\n",
              "    <tr>\n",
              "      <th>13572</th>\n",
              "      <td>14563</td>\n",
              "      <td>121</td>\n",
              "      <td>2</td>\n",
              "      <td>34.73</td>\n",
              "      <td>33.08</td>\n",
              "      <td>30.51</td>\n",
              "      <td>31.17</td>\n",
              "      <td>9.81</td>\n",
              "      <td>9.56</td>\n",
              "      <td>2.74</td>\n",
              "      <td>1.09</td>\n",
              "      <td>62.08</td>\n",
              "      <td>60.32</td>\n",
              "      <td>1194.16</td>\n",
              "      <td>1190.63</td>\n",
              "    </tr>\n",
              "    <tr>\n",
              "      <th>13573</th>\n",
              "      <td>14563</td>\n",
              "      <td>170</td>\n",
              "      <td>49</td>\n",
              "      <td>33.08</td>\n",
              "      <td>34.65</td>\n",
              "      <td>31.17</td>\n",
              "      <td>28.96</td>\n",
              "      <td>9.56</td>\n",
              "      <td>9.94</td>\n",
              "      <td>1.09</td>\n",
              "      <td>2.66</td>\n",
              "      <td>60.32</td>\n",
              "      <td>59.31</td>\n",
              "      <td>1190.63</td>\n",
              "      <td>1183.00</td>\n",
              "    </tr>\n",
              "  </tbody>\n",
              "</table>\n",
              "<p>13574 rows × 15 columns</p>\n",
              "</div>\n",
              "      <button class=\"colab-df-convert\" onclick=\"convertToInteractive('df-b0855ca1-1515-42f6-a21c-f49da0ee0ca9')\"\n",
              "              title=\"Convert this dataframe to an interactive table.\"\n",
              "              style=\"display:none;\">\n",
              "        \n",
              "  <svg xmlns=\"http://www.w3.org/2000/svg\" height=\"24px\"viewBox=\"0 0 24 24\"\n",
              "       width=\"24px\">\n",
              "    <path d=\"M0 0h24v24H0V0z\" fill=\"none\"/>\n",
              "    <path d=\"M18.56 5.44l.94 2.06.94-2.06 2.06-.94-2.06-.94-.94-2.06-.94 2.06-2.06.94zm-11 1L8.5 8.5l.94-2.06 2.06-.94-2.06-.94L8.5 2.5l-.94 2.06-2.06.94zm10 10l.94 2.06.94-2.06 2.06-.94-2.06-.94-.94-2.06-.94 2.06-2.06.94z\"/><path d=\"M17.41 7.96l-1.37-1.37c-.4-.4-.92-.59-1.43-.59-.52 0-1.04.2-1.43.59L10.3 9.45l-7.72 7.72c-.78.78-.78 2.05 0 2.83L4 21.41c.39.39.9.59 1.41.59.51 0 1.02-.2 1.41-.59l7.78-7.78 2.81-2.81c.8-.78.8-2.07 0-2.86zM5.41 20L4 18.59l7.72-7.72 1.47 1.35L5.41 20z\"/>\n",
              "  </svg>\n",
              "      </button>\n",
              "      \n",
              "  <style>\n",
              "    .colab-df-container {\n",
              "      display:flex;\n",
              "      flex-wrap:wrap;\n",
              "      gap: 12px;\n",
              "    }\n",
              "\n",
              "    .colab-df-convert {\n",
              "      background-color: #E8F0FE;\n",
              "      border: none;\n",
              "      border-radius: 50%;\n",
              "      cursor: pointer;\n",
              "      display: none;\n",
              "      fill: #1967D2;\n",
              "      height: 32px;\n",
              "      padding: 0 0 0 0;\n",
              "      width: 32px;\n",
              "    }\n",
              "\n",
              "    .colab-df-convert:hover {\n",
              "      background-color: #E2EBFA;\n",
              "      box-shadow: 0px 1px 2px rgba(60, 64, 67, 0.3), 0px 1px 3px 1px rgba(60, 64, 67, 0.15);\n",
              "      fill: #174EA6;\n",
              "    }\n",
              "\n",
              "    [theme=dark] .colab-df-convert {\n",
              "      background-color: #3B4455;\n",
              "      fill: #D2E3FC;\n",
              "    }\n",
              "\n",
              "    [theme=dark] .colab-df-convert:hover {\n",
              "      background-color: #434B5C;\n",
              "      box-shadow: 0px 1px 3px 1px rgba(0, 0, 0, 0.15);\n",
              "      filter: drop-shadow(0px 1px 2px rgba(0, 0, 0, 0.3));\n",
              "      fill: #FFFFFF;\n",
              "    }\n",
              "  </style>\n",
              "\n",
              "      <script>\n",
              "        const buttonEl =\n",
              "          document.querySelector('#df-b0855ca1-1515-42f6-a21c-f49da0ee0ca9 button.colab-df-convert');\n",
              "        buttonEl.style.display =\n",
              "          google.colab.kernel.accessAllowed ? 'block' : 'none';\n",
              "\n",
              "        async function convertToInteractive(key) {\n",
              "          const element = document.querySelector('#df-b0855ca1-1515-42f6-a21c-f49da0ee0ca9');\n",
              "          const dataTable =\n",
              "            await google.colab.kernel.invokeFunction('convertToInteractive',\n",
              "                                                     [key], {});\n",
              "          if (!dataTable) return;\n",
              "\n",
              "          const docLinkHtml = 'Like what you see? Visit the ' +\n",
              "            '<a target=\"_blank\" href=https://colab.research.google.com/notebooks/data_table.ipynb>data table notebook</a>'\n",
              "            + ' to learn more about interactive tables.';\n",
              "          element.innerHTML = '';\n",
              "          dataTable['output_type'] = 'display_data';\n",
              "          await google.colab.output.renderOutput(dataTable, element);\n",
              "          const docLink = document.createElement('div');\n",
              "          docLink.innerHTML = docLinkHtml;\n",
              "          element.appendChild(docLink);\n",
              "        }\n",
              "      </script>\n",
              "    </div>\n",
              "  </div>\n",
              "  "
            ]
          },
          "metadata": {},
          "execution_count": 11
        }
      ]
    },
    {
      "cell_type": "markdown",
      "source": [
        "***2. Проанализируйте данные***"
      ],
      "metadata": {
        "id": "CWokJ1FPZKSX"
      }
    },
    {
      "cell_type": "markdown",
      "source": [
        "*1. В ходе нормального износа локомотивного колеса проходит стачивание металла и, исходя из этого, толщина гребня не может увеличиваться между замерами, поэтому отфильтруйте и оставьте только те замеры, где толщина гребня меньше предыдущей (для цели кейса по остальным параметрам можно не проводить фильтрацию). Фундаментальная причины, почему в данных встречается что, толщина гребня растет – обточки колес, погрешности измерений, незадокументированные перекатки колес локотива.*"
      ],
      "metadata": {
        "id": "-cEdusInZOc1"
      }
    },
    {
      "cell_type": "code",
      "source": [
        "df = df[(df['flange_width'] < df['previous_flange_width']) & (df['flange_width'] > 0)].reset_index(drop=True)"
      ],
      "metadata": {
        "id": "JP6ZQ2gIMasM"
      },
      "execution_count": 12,
      "outputs": []
    },
    {
      "cell_type": "markdown",
      "source": [
        "*2. Рассчитайте количество дней между замерами в цепочках, оставьте только те замеры, входящие в диапазон от 10 до 50 дней (в среднем локомотив заходит в депо 1 раз в месяц).*\n",
        "\n",
        "*1) Если между замерами прошло 10 дней и меньше, то высока доли погрешности измерений в депо*\n",
        "\n",
        "*2) Если между замерами прошло 50 дней и больше, то, вероятно, в исходных данных был пропущен промежуточный замер*"
      ],
      "metadata": {
        "id": "fb8xXz3OcsDG"
      }
    },
    {
      "cell_type": "markdown",
      "source": [
        "Используем ранее рассчитанный столбец date_diff. Заполнение этого столбца значениями на более раннем этапе позволяет сейчас оставить больше данных для последующего моделирования."
      ],
      "metadata": {
        "id": "PL9KVBQzJJfC"
      }
    },
    {
      "cell_type": "code",
      "source": [
        "df = df[(df['date_diff'] > 10) & (df['date_diff'] < 50)].reset_index(drop=True)"
      ],
      "metadata": {
        "id": "lySZ6TqGchzc"
      },
      "execution_count": 13,
      "outputs": []
    },
    {
      "cell_type": "markdown",
      "source": [
        "*3. Посчитайте изменение толщины гребня за 1 день, рассчитайте каким будет значение толщины гребня через 10 дней - это и будет нашим целевым показателем.*"
      ],
      "metadata": {
        "id": "8iY_1liTNU6v"
      }
    },
    {
      "cell_type": "code",
      "source": [
        "df['following_flange_width'] = round(df['flange_width'] - ((df['previous_flange_width'] - df['flange_width']) / df['date_diff'] * 10), 2)\n",
        "df"
      ],
      "metadata": {
        "colab": {
          "base_uri": "https://localhost:8080/",
          "height": 488
        },
        "id": "JOXDiKlcKYU6",
        "outputId": "0279bd3a-75bd-4a0e-eea7-4c59911197d9"
      },
      "execution_count": 14,
      "outputs": [
        {
          "output_type": "execute_result",
          "data": {
            "text/plain": [
              "      wheel_id  date  date_diff  previous_flange_height  flange_height  \\\n",
              "0          961   110         38                   36.24          32.25   \n",
              "1          964   110         38                   35.70          31.82   \n",
              "2          965   110         38                   35.54          31.98   \n",
              "3          969   110         38                   34.92          30.45   \n",
              "4          972   110         38                   35.56          32.11   \n",
              "...        ...   ...        ...                     ...            ...   \n",
              "5336     14555   170         49                   33.61          34.10   \n",
              "5337     14556   170         49                   33.92          34.51   \n",
              "5338     14557   170         49                   32.93          33.40   \n",
              "5339     14562   170         49                   33.85          34.11   \n",
              "5340     14563   170         49                   33.08          34.65   \n",
              "\n",
              "      previous_flange_width  flange_width  previous_qr     qr  \\\n",
              "0                     30.87         29.60        11.88   9.92   \n",
              "1                     32.19         29.19        11.26  11.17   \n",
              "2                     32.23         29.38        11.70  11.02   \n",
              "3                     30.57         28.92        11.03   9.67   \n",
              "4                     30.64         29.31        11.49  11.58   \n",
              "...                     ...           ...          ...    ...   \n",
              "5336                  32.79         31.95         9.96   9.38   \n",
              "5337                  30.04         28.70         9.74  10.31   \n",
              "5338                  32.26         30.70        10.51   9.44   \n",
              "5339                  31.91         31.33        10.60   9.79   \n",
              "5340                  31.17         28.96         9.56   9.94   \n",
              "\n",
              "      previous_tread_wear  tread_wear  previous_rim_thickness  rim_thickness  \\\n",
              "0                    4.25        2.25                   77.60          49.38   \n",
              "1                    3.71        1.82                   71.24          50.02   \n",
              "2                    3.55        1.98                   70.04          49.41   \n",
              "3                    2.93        0.45                   77.37          52.73   \n",
              "4                    3.57        2.11                    0.00          55.03   \n",
              "...                   ...         ...                     ...            ...   \n",
              "5336                 1.62        2.11                   62.89          63.45   \n",
              "5337                 1.93        2.52                   61.47          61.41   \n",
              "5338                 0.94        1.41                   61.52          59.52   \n",
              "5339                 1.86        2.12                   60.96          60.06   \n",
              "5340                 1.09        2.66                   60.32          59.31   \n",
              "\n",
              "      previous_wheel_diameter  wheel_diameter  following_flange_width  \n",
              "0                     1225.21         1168.75                   29.27  \n",
              "1                     1212.48         1170.03                   28.40  \n",
              "2                     1210.08         1168.81                   28.63  \n",
              "3                     1224.74         1175.47                   28.49  \n",
              "4                        0.00         1180.06                   28.96  \n",
              "...                       ...             ...                     ...  \n",
              "5336                  1195.78         1193.00                   31.78  \n",
              "5337                  1192.93         1186.00                   28.43  \n",
              "5338                  1193.04         1183.60                   30.38  \n",
              "5339                  1191.93         1186.00                   31.21  \n",
              "5340                  1190.63         1183.00                   28.51  \n",
              "\n",
              "[5341 rows x 16 columns]"
            ],
            "text/html": [
              "\n",
              "  <div id=\"df-3ed8e4e4-2d9a-42c7-917f-938f30358088\">\n",
              "    <div class=\"colab-df-container\">\n",
              "      <div>\n",
              "<style scoped>\n",
              "    .dataframe tbody tr th:only-of-type {\n",
              "        vertical-align: middle;\n",
              "    }\n",
              "\n",
              "    .dataframe tbody tr th {\n",
              "        vertical-align: top;\n",
              "    }\n",
              "\n",
              "    .dataframe thead th {\n",
              "        text-align: right;\n",
              "    }\n",
              "</style>\n",
              "<table border=\"1\" class=\"dataframe\">\n",
              "  <thead>\n",
              "    <tr style=\"text-align: right;\">\n",
              "      <th></th>\n",
              "      <th>wheel_id</th>\n",
              "      <th>date</th>\n",
              "      <th>date_diff</th>\n",
              "      <th>previous_flange_height</th>\n",
              "      <th>flange_height</th>\n",
              "      <th>previous_flange_width</th>\n",
              "      <th>flange_width</th>\n",
              "      <th>previous_qr</th>\n",
              "      <th>qr</th>\n",
              "      <th>previous_tread_wear</th>\n",
              "      <th>tread_wear</th>\n",
              "      <th>previous_rim_thickness</th>\n",
              "      <th>rim_thickness</th>\n",
              "      <th>previous_wheel_diameter</th>\n",
              "      <th>wheel_diameter</th>\n",
              "      <th>following_flange_width</th>\n",
              "    </tr>\n",
              "  </thead>\n",
              "  <tbody>\n",
              "    <tr>\n",
              "      <th>0</th>\n",
              "      <td>961</td>\n",
              "      <td>110</td>\n",
              "      <td>38</td>\n",
              "      <td>36.24</td>\n",
              "      <td>32.25</td>\n",
              "      <td>30.87</td>\n",
              "      <td>29.60</td>\n",
              "      <td>11.88</td>\n",
              "      <td>9.92</td>\n",
              "      <td>4.25</td>\n",
              "      <td>2.25</td>\n",
              "      <td>77.60</td>\n",
              "      <td>49.38</td>\n",
              "      <td>1225.21</td>\n",
              "      <td>1168.75</td>\n",
              "      <td>29.27</td>\n",
              "    </tr>\n",
              "    <tr>\n",
              "      <th>1</th>\n",
              "      <td>964</td>\n",
              "      <td>110</td>\n",
              "      <td>38</td>\n",
              "      <td>35.70</td>\n",
              "      <td>31.82</td>\n",
              "      <td>32.19</td>\n",
              "      <td>29.19</td>\n",
              "      <td>11.26</td>\n",
              "      <td>11.17</td>\n",
              "      <td>3.71</td>\n",
              "      <td>1.82</td>\n",
              "      <td>71.24</td>\n",
              "      <td>50.02</td>\n",
              "      <td>1212.48</td>\n",
              "      <td>1170.03</td>\n",
              "      <td>28.40</td>\n",
              "    </tr>\n",
              "    <tr>\n",
              "      <th>2</th>\n",
              "      <td>965</td>\n",
              "      <td>110</td>\n",
              "      <td>38</td>\n",
              "      <td>35.54</td>\n",
              "      <td>31.98</td>\n",
              "      <td>32.23</td>\n",
              "      <td>29.38</td>\n",
              "      <td>11.70</td>\n",
              "      <td>11.02</td>\n",
              "      <td>3.55</td>\n",
              "      <td>1.98</td>\n",
              "      <td>70.04</td>\n",
              "      <td>49.41</td>\n",
              "      <td>1210.08</td>\n",
              "      <td>1168.81</td>\n",
              "      <td>28.63</td>\n",
              "    </tr>\n",
              "    <tr>\n",
              "      <th>3</th>\n",
              "      <td>969</td>\n",
              "      <td>110</td>\n",
              "      <td>38</td>\n",
              "      <td>34.92</td>\n",
              "      <td>30.45</td>\n",
              "      <td>30.57</td>\n",
              "      <td>28.92</td>\n",
              "      <td>11.03</td>\n",
              "      <td>9.67</td>\n",
              "      <td>2.93</td>\n",
              "      <td>0.45</td>\n",
              "      <td>77.37</td>\n",
              "      <td>52.73</td>\n",
              "      <td>1224.74</td>\n",
              "      <td>1175.47</td>\n",
              "      <td>28.49</td>\n",
              "    </tr>\n",
              "    <tr>\n",
              "      <th>4</th>\n",
              "      <td>972</td>\n",
              "      <td>110</td>\n",
              "      <td>38</td>\n",
              "      <td>35.56</td>\n",
              "      <td>32.11</td>\n",
              "      <td>30.64</td>\n",
              "      <td>29.31</td>\n",
              "      <td>11.49</td>\n",
              "      <td>11.58</td>\n",
              "      <td>3.57</td>\n",
              "      <td>2.11</td>\n",
              "      <td>0.00</td>\n",
              "      <td>55.03</td>\n",
              "      <td>0.00</td>\n",
              "      <td>1180.06</td>\n",
              "      <td>28.96</td>\n",
              "    </tr>\n",
              "    <tr>\n",
              "      <th>...</th>\n",
              "      <td>...</td>\n",
              "      <td>...</td>\n",
              "      <td>...</td>\n",
              "      <td>...</td>\n",
              "      <td>...</td>\n",
              "      <td>...</td>\n",
              "      <td>...</td>\n",
              "      <td>...</td>\n",
              "      <td>...</td>\n",
              "      <td>...</td>\n",
              "      <td>...</td>\n",
              "      <td>...</td>\n",
              "      <td>...</td>\n",
              "      <td>...</td>\n",
              "      <td>...</td>\n",
              "      <td>...</td>\n",
              "    </tr>\n",
              "    <tr>\n",
              "      <th>5336</th>\n",
              "      <td>14555</td>\n",
              "      <td>170</td>\n",
              "      <td>49</td>\n",
              "      <td>33.61</td>\n",
              "      <td>34.10</td>\n",
              "      <td>32.79</td>\n",
              "      <td>31.95</td>\n",
              "      <td>9.96</td>\n",
              "      <td>9.38</td>\n",
              "      <td>1.62</td>\n",
              "      <td>2.11</td>\n",
              "      <td>62.89</td>\n",
              "      <td>63.45</td>\n",
              "      <td>1195.78</td>\n",
              "      <td>1193.00</td>\n",
              "      <td>31.78</td>\n",
              "    </tr>\n",
              "    <tr>\n",
              "      <th>5337</th>\n",
              "      <td>14556</td>\n",
              "      <td>170</td>\n",
              "      <td>49</td>\n",
              "      <td>33.92</td>\n",
              "      <td>34.51</td>\n",
              "      <td>30.04</td>\n",
              "      <td>28.70</td>\n",
              "      <td>9.74</td>\n",
              "      <td>10.31</td>\n",
              "      <td>1.93</td>\n",
              "      <td>2.52</td>\n",
              "      <td>61.47</td>\n",
              "      <td>61.41</td>\n",
              "      <td>1192.93</td>\n",
              "      <td>1186.00</td>\n",
              "      <td>28.43</td>\n",
              "    </tr>\n",
              "    <tr>\n",
              "      <th>5338</th>\n",
              "      <td>14557</td>\n",
              "      <td>170</td>\n",
              "      <td>49</td>\n",
              "      <td>32.93</td>\n",
              "      <td>33.40</td>\n",
              "      <td>32.26</td>\n",
              "      <td>30.70</td>\n",
              "      <td>10.51</td>\n",
              "      <td>9.44</td>\n",
              "      <td>0.94</td>\n",
              "      <td>1.41</td>\n",
              "      <td>61.52</td>\n",
              "      <td>59.52</td>\n",
              "      <td>1193.04</td>\n",
              "      <td>1183.60</td>\n",
              "      <td>30.38</td>\n",
              "    </tr>\n",
              "    <tr>\n",
              "      <th>5339</th>\n",
              "      <td>14562</td>\n",
              "      <td>170</td>\n",
              "      <td>49</td>\n",
              "      <td>33.85</td>\n",
              "      <td>34.11</td>\n",
              "      <td>31.91</td>\n",
              "      <td>31.33</td>\n",
              "      <td>10.60</td>\n",
              "      <td>9.79</td>\n",
              "      <td>1.86</td>\n",
              "      <td>2.12</td>\n",
              "      <td>60.96</td>\n",
              "      <td>60.06</td>\n",
              "      <td>1191.93</td>\n",
              "      <td>1186.00</td>\n",
              "      <td>31.21</td>\n",
              "    </tr>\n",
              "    <tr>\n",
              "      <th>5340</th>\n",
              "      <td>14563</td>\n",
              "      <td>170</td>\n",
              "      <td>49</td>\n",
              "      <td>33.08</td>\n",
              "      <td>34.65</td>\n",
              "      <td>31.17</td>\n",
              "      <td>28.96</td>\n",
              "      <td>9.56</td>\n",
              "      <td>9.94</td>\n",
              "      <td>1.09</td>\n",
              "      <td>2.66</td>\n",
              "      <td>60.32</td>\n",
              "      <td>59.31</td>\n",
              "      <td>1190.63</td>\n",
              "      <td>1183.00</td>\n",
              "      <td>28.51</td>\n",
              "    </tr>\n",
              "  </tbody>\n",
              "</table>\n",
              "<p>5341 rows × 16 columns</p>\n",
              "</div>\n",
              "      <button class=\"colab-df-convert\" onclick=\"convertToInteractive('df-3ed8e4e4-2d9a-42c7-917f-938f30358088')\"\n",
              "              title=\"Convert this dataframe to an interactive table.\"\n",
              "              style=\"display:none;\">\n",
              "        \n",
              "  <svg xmlns=\"http://www.w3.org/2000/svg\" height=\"24px\"viewBox=\"0 0 24 24\"\n",
              "       width=\"24px\">\n",
              "    <path d=\"M0 0h24v24H0V0z\" fill=\"none\"/>\n",
              "    <path d=\"M18.56 5.44l.94 2.06.94-2.06 2.06-.94-2.06-.94-.94-2.06-.94 2.06-2.06.94zm-11 1L8.5 8.5l.94-2.06 2.06-.94-2.06-.94L8.5 2.5l-.94 2.06-2.06.94zm10 10l.94 2.06.94-2.06 2.06-.94-2.06-.94-.94-2.06-.94 2.06-2.06.94z\"/><path d=\"M17.41 7.96l-1.37-1.37c-.4-.4-.92-.59-1.43-.59-.52 0-1.04.2-1.43.59L10.3 9.45l-7.72 7.72c-.78.78-.78 2.05 0 2.83L4 21.41c.39.39.9.59 1.41.59.51 0 1.02-.2 1.41-.59l7.78-7.78 2.81-2.81c.8-.78.8-2.07 0-2.86zM5.41 20L4 18.59l7.72-7.72 1.47 1.35L5.41 20z\"/>\n",
              "  </svg>\n",
              "      </button>\n",
              "      \n",
              "  <style>\n",
              "    .colab-df-container {\n",
              "      display:flex;\n",
              "      flex-wrap:wrap;\n",
              "      gap: 12px;\n",
              "    }\n",
              "\n",
              "    .colab-df-convert {\n",
              "      background-color: #E8F0FE;\n",
              "      border: none;\n",
              "      border-radius: 50%;\n",
              "      cursor: pointer;\n",
              "      display: none;\n",
              "      fill: #1967D2;\n",
              "      height: 32px;\n",
              "      padding: 0 0 0 0;\n",
              "      width: 32px;\n",
              "    }\n",
              "\n",
              "    .colab-df-convert:hover {\n",
              "      background-color: #E2EBFA;\n",
              "      box-shadow: 0px 1px 2px rgba(60, 64, 67, 0.3), 0px 1px 3px 1px rgba(60, 64, 67, 0.15);\n",
              "      fill: #174EA6;\n",
              "    }\n",
              "\n",
              "    [theme=dark] .colab-df-convert {\n",
              "      background-color: #3B4455;\n",
              "      fill: #D2E3FC;\n",
              "    }\n",
              "\n",
              "    [theme=dark] .colab-df-convert:hover {\n",
              "      background-color: #434B5C;\n",
              "      box-shadow: 0px 1px 3px 1px rgba(0, 0, 0, 0.15);\n",
              "      filter: drop-shadow(0px 1px 2px rgba(0, 0, 0, 0.3));\n",
              "      fill: #FFFFFF;\n",
              "    }\n",
              "  </style>\n",
              "\n",
              "      <script>\n",
              "        const buttonEl =\n",
              "          document.querySelector('#df-3ed8e4e4-2d9a-42c7-917f-938f30358088 button.colab-df-convert');\n",
              "        buttonEl.style.display =\n",
              "          google.colab.kernel.accessAllowed ? 'block' : 'none';\n",
              "\n",
              "        async function convertToInteractive(key) {\n",
              "          const element = document.querySelector('#df-3ed8e4e4-2d9a-42c7-917f-938f30358088');\n",
              "          const dataTable =\n",
              "            await google.colab.kernel.invokeFunction('convertToInteractive',\n",
              "                                                     [key], {});\n",
              "          if (!dataTable) return;\n",
              "\n",
              "          const docLinkHtml = 'Like what you see? Visit the ' +\n",
              "            '<a target=\"_blank\" href=https://colab.research.google.com/notebooks/data_table.ipynb>data table notebook</a>'\n",
              "            + ' to learn more about interactive tables.';\n",
              "          element.innerHTML = '';\n",
              "          dataTable['output_type'] = 'display_data';\n",
              "          await google.colab.output.renderOutput(dataTable, element);\n",
              "          const docLink = document.createElement('div');\n",
              "          docLink.innerHTML = docLinkHtml;\n",
              "          element.appendChild(docLink);\n",
              "        }\n",
              "      </script>\n",
              "    </div>\n",
              "  </div>\n",
              "  "
            ]
          },
          "metadata": {},
          "execution_count": 14
        }
      ]
    },
    {
      "cell_type": "code",
      "source": [
        "# посмотрим распределение таргета\n",
        "plt.figure(figsize=(10, 8))\n",
        "sns.histplot(data=df, x='following_flange_width')\n",
        "plt.xlabel('Толщина гребня через 10 дней')\n",
        "plt.show()"
      ],
      "metadata": {
        "colab": {
          "base_uri": "https://localhost:8080/",
          "height": 497
        },
        "id": "e4cK0g0JcqW7",
        "outputId": "d2114fd9-1be7-4282-f949-077995918be8"
      },
      "execution_count": 15,
      "outputs": [
        {
          "output_type": "display_data",
          "data": {
            "text/plain": [
              "<Figure size 720x576 with 1 Axes>"
            ],
            "image/png": "[encoded data removed]"
          },
          "metadata": {
            "needs_background": "light"
          }
        }
      ]
    },
    {
      "cell_type": "markdown",
      "source": [
        "**4. Постройте модель**"
      ],
      "metadata": {
        "id": "U8jAWUDcfgUv"
      }
    },
    {
      "cell_type": "markdown",
      "source": [
        "*1. Разбейте выборку на обучающую и валидационную.*"
      ],
      "metadata": {
        "id": "kAop0aEZflsn"
      }
    },
    {
      "cell_type": "code",
      "source": [
        "# удалим столбцы с датами и айди колёс\n",
        "df = df.drop(['wheel_id', 'date'], axis=1)\n",
        "df.head()"
      ],
      "metadata": {
        "colab": {
          "base_uri": "https://localhost:8080/",
          "height": 270
        },
        "id": "BIB_vsNOflFe",
        "outputId": "4e6caf1a-ccc1-4617-cc1e-0638f2cd7b11"
      },
      "execution_count": 16,
      "outputs": [
        {
          "output_type": "execute_result",
          "data": {
            "text/plain": [
              "   date_diff  previous_flange_height  flange_height  previous_flange_width  \\\n",
              "0         38                   36.24          32.25                  30.87   \n",
              "1         38                   35.70          31.82                  32.19   \n",
              "2         38                   35.54          31.98                  32.23   \n",
              "3         38                   34.92          30.45                  30.57   \n",
              "4         38                   35.56          32.11                  30.64   \n",
              "\n",
              "   flange_width  previous_qr     qr  previous_tread_wear  tread_wear  \\\n",
              "0         29.60        11.88   9.92                 4.25        2.25   \n",
              "1         29.19        11.26  11.17                 3.71        1.82   \n",
              "2         29.38        11.70  11.02                 3.55        1.98   \n",
              "3         28.92        11.03   9.67                 2.93        0.45   \n",
              "4         29.31        11.49  11.58                 3.57        2.11   \n",
              "\n",
              "   previous_rim_thickness  rim_thickness  previous_wheel_diameter  \\\n",
              "0                   77.60          49.38                  1225.21   \n",
              "1                   71.24          50.02                  1212.48   \n",
              "2                   70.04          49.41                  1210.08   \n",
              "3                   77.37          52.73                  1224.74   \n",
              "4                    0.00          55.03                     0.00   \n",
              "\n",
              "   wheel_diameter  following_flange_width  \n",
              "0         1168.75                   29.27  \n",
              "1         1170.03                   28.40  \n",
              "2         1168.81                   28.63  \n",
              "3         1175.47                   28.49  \n",
              "4         1180.06                   28.96  "
            ],
            "text/html": [
              "\n",
              "  <div id=\"df-8ed8c3e0-0ce9-4725-91e9-a3ccea0f36a7\">\n",
              "    <div class=\"colab-df-container\">\n",
              "      <div>\n",
              "<style scoped>\n",
              "    .dataframe tbody tr th:only-of-type {\n",
              "        vertical-align: middle;\n",
              "    }\n",
              "\n",
              "    .dataframe tbody tr th {\n",
              "        vertical-align: top;\n",
              "    }\n",
              "\n",
              "    .dataframe thead th {\n",
              "        text-align: right;\n",
              "    }\n",
              "</style>\n",
              "<table border=\"1\" class=\"dataframe\">\n",
              "  <thead>\n",
              "    <tr style=\"text-align: right;\">\n",
              "      <th></th>\n",
              "      <th>date_diff</th>\n",
              "      <th>previous_flange_height</th>\n",
              "      <th>flange_height</th>\n",
              "      <th>previous_flange_width</th>\n",
              "      <th>flange_width</th>\n",
              "      <th>previous_qr</th>\n",
              "      <th>qr</th>\n",
              "      <th>previous_tread_wear</th>\n",
              "      <th>tread_wear</th>\n",
              "      <th>previous_rim_thickness</th>\n",
              "      <th>rim_thickness</th>\n",
              "      <th>previous_wheel_diameter</th>\n",
              "      <th>wheel_diameter</th>\n",
              "      <th>following_flange_width</th>\n",
              "    </tr>\n",
              "  </thead>\n",
              "  <tbody>\n",
              "    <tr>\n",
              "      <th>0</th>\n",
              "      <td>38</td>\n",
              "      <td>36.24</td>\n",
              "      <td>32.25</td>\n",
              "      <td>30.87</td>\n",
              "      <td>29.60</td>\n",
              "      <td>11.88</td>\n",
              "      <td>9.92</td>\n",
              "      <td>4.25</td>\n",
              "      <td>2.25</td>\n",
              "      <td>77.60</td>\n",
              "      <td>49.38</td>\n",
              "      <td>1225.21</td>\n",
              "      <td>1168.75</td>\n",
              "      <td>29.27</td>\n",
              "    </tr>\n",
              "    <tr>\n",
              "      <th>1</th>\n",
              "      <td>38</td>\n",
              "      <td>35.70</td>\n",
              "      <td>31.82</td>\n",
              "      <td>32.19</td>\n",
              "      <td>29.19</td>\n",
              "      <td>11.26</td>\n",
              "      <td>11.17</td>\n",
              "      <td>3.71</td>\n",
              "      <td>1.82</td>\n",
              "      <td>71.24</td>\n",
              "      <td>50.02</td>\n",
              "      <td>1212.48</td>\n",
              "      <td>1170.03</td>\n",
              "      <td>28.40</td>\n",
              "    </tr>\n",
              "    <tr>\n",
              "      <th>2</th>\n",
              "      <td>38</td>\n",
              "      <td>35.54</td>\n",
              "      <td>31.98</td>\n",
              "      <td>32.23</td>\n",
              "      <td>29.38</td>\n",
              "      <td>11.70</td>\n",
              "      <td>11.02</td>\n",
              "      <td>3.55</td>\n",
              "      <td>1.98</td>\n",
              "      <td>70.04</td>\n",
              "      <td>49.41</td>\n",
              "      <td>1210.08</td>\n",
              "      <td>1168.81</td>\n",
              "      <td>28.63</td>\n",
              "    </tr>\n",
              "    <tr>\n",
              "      <th>3</th>\n",
              "      <td>38</td>\n",
              "      <td>34.92</td>\n",
              "      <td>30.45</td>\n",
              "      <td>30.57</td>\n",
              "      <td>28.92</td>\n",
              "      <td>11.03</td>\n",
              "      <td>9.67</td>\n",
              "      <td>2.93</td>\n",
              "      <td>0.45</td>\n",
              "      <td>77.37</td>\n",
              "      <td>52.73</td>\n",
              "      <td>1224.74</td>\n",
              "      <td>1175.47</td>\n",
              "      <td>28.49</td>\n",
              "    </tr>\n",
              "    <tr>\n",
              "      <th>4</th>\n",
              "      <td>38</td>\n",
              "      <td>35.56</td>\n",
              "      <td>32.11</td>\n",
              "      <td>30.64</td>\n",
              "      <td>29.31</td>\n",
              "      <td>11.49</td>\n",
              "      <td>11.58</td>\n",
              "      <td>3.57</td>\n",
              "      <td>2.11</td>\n",
              "      <td>0.00</td>\n",
              "      <td>55.03</td>\n",
              "      <td>0.00</td>\n",
              "      <td>1180.06</td>\n",
              "      <td>28.96</td>\n",
              "    </tr>\n",
              "  </tbody>\n",
              "</table>\n",
              "</div>\n",
              "      <button class=\"colab-df-convert\" onclick=\"convertToInteractive('df-8ed8c3e0-0ce9-4725-91e9-a3ccea0f36a7')\"\n",
              "              title=\"Convert this dataframe to an interactive table.\"\n",
              "              style=\"display:none;\">\n",
              "        \n",
              "  <svg xmlns=\"http://www.w3.org/2000/svg\" height=\"24px\"viewBox=\"0 0 24 24\"\n",
              "       width=\"24px\">\n",
              "    <path d=\"M0 0h24v24H0V0z\" fill=\"none\"/>\n",
              "    <path d=\"M18.56 5.44l.94 2.06.94-2.06 2.06-.94-2.06-.94-.94-2.06-.94 2.06-2.06.94zm-11 1L8.5 8.5l.94-2.06 2.06-.94-2.06-.94L8.5 2.5l-.94 2.06-2.06.94zm10 10l.94 2.06.94-2.06 2.06-.94-2.06-.94-.94-2.06-.94 2.06-2.06.94z\"/><path d=\"M17.41 7.96l-1.37-1.37c-.4-.4-.92-.59-1.43-.59-.52 0-1.04.2-1.43.59L10.3 9.45l-7.72 7.72c-.78.78-.78 2.05 0 2.83L4 21.41c.39.39.9.59 1.41.59.51 0 1.02-.2 1.41-.59l7.78-7.78 2.81-2.81c.8-.78.8-2.07 0-2.86zM5.41 20L4 18.59l7.72-7.72 1.47 1.35L5.41 20z\"/>\n",
              "  </svg>\n",
              "      </button>\n",
              "      \n",
              "  <style>\n",
              "    .colab-df-container {\n",
              "      display:flex;\n",
              "      flex-wrap:wrap;\n",
              "      gap: 12px;\n",
              "    }\n",
              "\n",
              "    .colab-df-convert {\n",
              "      background-color: #E8F0FE;\n",
              "      border: none;\n",
              "      border-radius: 50%;\n",
              "      cursor: pointer;\n",
              "      display: none;\n",
              "      fill: #1967D2;\n",
              "      height: 32px;\n",
              "      padding: 0 0 0 0;\n",
              "      width: 32px;\n",
              "    }\n",
              "\n",
              "    .colab-df-convert:hover {\n",
              "      background-color: #E2EBFA;\n",
              "      box-shadow: 0px 1px 2px rgba(60, 64, 67, 0.3), 0px 1px 3px 1px rgba(60, 64, 67, 0.15);\n",
              "      fill: #174EA6;\n",
              "    }\n",
              "\n",
              "    [theme=dark] .colab-df-convert {\n",
              "      background-color: #3B4455;\n",
              "      fill: #D2E3FC;\n",
              "    }\n",
              "\n",
              "    [theme=dark] .colab-df-convert:hover {\n",
              "      background-color: #434B5C;\n",
              "      box-shadow: 0px 1px 3px 1px rgba(0, 0, 0, 0.15);\n",
              "      filter: drop-shadow(0px 1px 2px rgba(0, 0, 0, 0.3));\n",
              "      fill: #FFFFFF;\n",
              "    }\n",
              "  </style>\n",
              "\n",
              "      <script>\n",
              "        const buttonEl =\n",
              "          document.querySelector('#df-8ed8c3e0-0ce9-4725-91e9-a3ccea0f36a7 button.colab-df-convert');\n",
              "        buttonEl.style.display =\n",
              "          google.colab.kernel.accessAllowed ? 'block' : 'none';\n",
              "\n",
              "        async function convertToInteractive(key) {\n",
              "          const element = document.querySelector('#df-8ed8c3e0-0ce9-4725-91e9-a3ccea0f36a7');\n",
              "          const dataTable =\n",
              "            await google.colab.kernel.invokeFunction('convertToInteractive',\n",
              "                                                     [key], {});\n",
              "          if (!dataTable) return;\n",
              "\n",
              "          const docLinkHtml = 'Like what you see? Visit the ' +\n",
              "            '<a target=\"_blank\" href=https://colab.research.google.com/notebooks/data_table.ipynb>data table notebook</a>'\n",
              "            + ' to learn more about interactive tables.';\n",
              "          element.innerHTML = '';\n",
              "          dataTable['output_type'] = 'display_data';\n",
              "          await google.colab.output.renderOutput(dataTable, element);\n",
              "          const docLink = document.createElement('div');\n",
              "          docLink.innerHTML = docLinkHtml;\n",
              "          element.appendChild(docLink);\n",
              "        }\n",
              "      </script>\n",
              "    </div>\n",
              "  </div>\n",
              "  "
            ]
          },
          "metadata": {},
          "execution_count": 16
        }
      ]
    },
    {
      "cell_type": "code",
      "source": [
        "X_train, x_valid, y_train, y_valid = train_test_split(df.iloc[:, :-1], df['following_flange_width'], train_size=0.75)"
      ],
      "metadata": {
        "id": "ZP2Ca9Tf64lp"
      },
      "execution_count": 17,
      "outputs": []
    },
    {
      "cell_type": "markdown",
      "source": [
        "*2. Обучите различные модели (не менее 2) и оцените. Если потребуется, подберите лучшие гиперпараметры на валидационной выборке.*"
      ],
      "metadata": {
        "id": "mTtVM2Uk_q6y"
      }
    },
    {
      "cell_type": "markdown",
      "source": [
        "1. Linear regression / Polynomial features / Ridge / Lasso"
      ],
      "metadata": {
        "id": "Sr28ks7WAmTs"
      }
    },
    {
      "cell_type": "code",
      "source": [
        "# простая линейная регрессия\n",
        "lr = LinearRegression()\n",
        "lr.fit(X_train, y_train)\n",
        "pred_lr = lr.predict(x_valid)\n",
        "print('MAE:', round(mean_absolute_error(pred_lr, y_valid), 2))\n",
        "print('R2:', round(r2_score(pred_lr, y_valid), 2))"
      ],
      "metadata": {
        "colab": {
          "base_uri": "https://localhost:8080/"
        },
        "id": "ySrKLjJN_FtN",
        "outputId": "8ba54dfd-f065-4c3e-d1d4-47a7684d0add"
      },
      "execution_count": 18,
      "outputs": [
        {
          "output_type": "stream",
          "name": "stdout",
          "text": [
            "MAE: 0.06\n",
            "R2: 1.0\n"
          ]
        }
      ]
    },
    {
      "cell_type": "code",
      "source": [
        "# LinearRegression + PolynomialFeatures(2)\n",
        "poly = PolynomialFeatures()\n",
        "X_train_transformed = poly.fit_transform(X_train)\n",
        "x_valid_transformed = poly.fit_transform(x_valid)\n",
        "\n",
        "lr_transformed = LinearRegression()\n",
        "lr_transformed.fit(X_train_transformed, y_train)\n",
        "pred_lr_transformed = lr_transformed.predict(x_valid_transformed)\n",
        "print('MAE:', round(mean_absolute_error(pred_lr_transformed, y_valid), 2))\n",
        "print('R2:', round(r2_score(pred_lr_transformed, y_valid), 2))"
      ],
      "metadata": {
        "colab": {
          "base_uri": "https://localhost:8080/"
        },
        "id": "SQ4sw3-QC2qn",
        "outputId": "e49a2095-155c-48c7-aa30-60df047daa0a"
      },
      "execution_count": 19,
      "outputs": [
        {
          "output_type": "stream",
          "name": "stdout",
          "text": [
            "MAE: 0.03\n",
            "R2: 1.0\n"
          ]
        }
      ]
    },
    {
      "cell_type": "code",
      "source": [
        "# Ridge grid search\n",
        "ridge = Ridge()\n",
        "params_grid_ridge = {'alpha': [0.1, 0.5, 0.9]}\n",
        "\n",
        "grid_ridge = GridSearchCV(ridge,\n",
        "                          params_grid_ridge,\n",
        "                          cv=KFold(shuffle=True, random_state=0),\n",
        "                          scoring='neg_mean_absolute_percentage_error')\n",
        "grid_ridge.fit(X_train, y_train)\n",
        "print('Best params:', grid_ridge.best_params_)\n",
        "\n",
        "ridge = Ridge(alpha=grid_ridge.best_params_['alpha'])\n",
        "ridge.fit(X_train, y_train)\n",
        "pred_ridge = ridge.predict(x_valid)\n",
        "print('MAE:', round(mean_absolute_error(pred_ridge, y_valid), 2))\n",
        "print('R2:', round(r2_score(pred_ridge, y_valid), 2))"
      ],
      "metadata": {
        "colab": {
          "base_uri": "https://localhost:8080/"
        },
        "id": "yXog8FWAEiBS",
        "outputId": "3159e323-52f9-4987-aade-48e049fbea0a"
      },
      "execution_count": 20,
      "outputs": [
        {
          "output_type": "stream",
          "name": "stdout",
          "text": [
            "Best params: {'alpha': 0.9}\n",
            "MAE: 0.06\n",
            "R2: 1.0\n"
          ]
        }
      ]
    },
    {
      "cell_type": "code",
      "source": [
        "# Lasso\n",
        "lasso = Lasso()\n",
        "lasso.fit(X_train, y_train)\n",
        "pred_lasso = lasso.predict(x_valid)\n",
        "print('MAE:', round(mean_absolute_error(pred_lasso, y_valid), 2))\n",
        "print('R2:', round(r2_score(pred_lasso, y_valid), 2))"
      ],
      "metadata": {
        "colab": {
          "base_uri": "https://localhost:8080/"
        },
        "id": "lozYydYyHGbP",
        "outputId": "b8278a30-81da-45f6-c06c-a91ab5fb7197"
      },
      "execution_count": 21,
      "outputs": [
        {
          "output_type": "stream",
          "name": "stdout",
          "text": [
            "MAE: 0.56\n",
            "R2: 0.53\n"
          ]
        }
      ]
    },
    {
      "cell_type": "markdown",
      "source": [
        "2. Random forest"
      ],
      "metadata": {
        "id": "JxhU5bwHH86d"
      }
    },
    {
      "cell_type": "code",
      "source": [
        "params_grid_rf = {'max_depth': np.arange(1, 6),\n",
        "                  'n_estimators': [200, 500, 1000]\n",
        "                  }\n",
        "\n",
        "grid_rf = GridSearchCV(RandomForestRegressor(),\n",
        "                       params_grid_rf,\n",
        "                       cv=KFold(shuffle=True, random_state=0),\n",
        "                       scoring='neg_mean_absolute_percentage_error'\n",
        "                       )\n",
        "grid_rf.fit(X_train, y_train)\n",
        "print('Best params:', grid_rf.best_params_)\n",
        "\n",
        "rf = RandomForestRegressor(max_depth=grid_rf.best_params_['max_depth'],\n",
        "                           n_estimators=grid_rf.best_params_['n_estimators']\n",
        "                           )\n",
        "rf.fit(X_train, y_train)\n",
        "pred_rf = rf.predict(x_valid)\n",
        "print('MAE:', round(mean_absolute_error(pred_rf, y_valid), 2))\n",
        "print('R2:', round(r2_score(pred_rf, y_valid), 2))"
      ],
      "metadata": {
        "colab": {
          "base_uri": "https://localhost:8080/"
        },
        "id": "6nK0kNk9H2D-",
        "outputId": "4c3825cf-bb1a-4847-fe82-4cb980cf784f"
      },
      "execution_count": 22,
      "outputs": [
        {
          "output_type": "stream",
          "name": "stdout",
          "text": [
            "Best params: {'max_depth': 5, 'n_estimators': 500}\n",
            "MAE: 0.14\n",
            "R2: 0.99\n"
          ]
        }
      ]
    },
    {
      "cell_type": "markdown",
      "source": [
        "3. XGBoost"
      ],
      "metadata": {
        "id": "pwSVJVXbJWBP"
      }
    },
    {
      "cell_type": "code",
      "source": [
        "params_grid_xgb = {'max_depth': np.arange(1, 6),\n",
        "                   'n_estimators': [200, 500, 1000]\n",
        "                   }\n",
        "\n",
        "grid_xgb = GridSearchCV(XGBRegressor(objective='reg:squarederror'),\n",
        "                        params_grid_xgb,\n",
        "                        cv=KFold(shuffle=True, random_state=0),\n",
        "                        scoring='neg_mean_absolute_percentage_error')\n",
        "grid_xgb.fit(X_train, y_train)\n",
        "print('Best params:', grid_xgb.best_params_)\n",
        "\n",
        "xgb = XGBRegressor(max_depth=grid_xgb.best_params_['max_depth'],\n",
        "                   n_estimators=grid_xgb.best_params_['n_estimators']\n",
        "                   )\n",
        "xgb.fit(X_train, y_train)\n",
        "pred_xgb = xgb.predict(x_valid)\n",
        "print('MAE:', round(mean_absolute_error(pred_xgb, y_valid), 2))\n",
        "print('R2:', round(r2_score(pred_xgb, y_valid), 2))"
      ],
      "metadata": {
        "colab": {
          "base_uri": "https://localhost:8080/"
        },
        "id": "-28ptHoAJA9c",
        "outputId": "13ed1b7f-d82b-4549-a291-799d7cd79557"
      },
      "execution_count": 23,
      "outputs": [
        {
          "output_type": "stream",
          "name": "stdout",
          "text": [
            "Best params: {'max_depth': 4, 'n_estimators': 1000}\n",
            "[11:51:05] WARNING: /workspace/src/objective/regression_obj.cu:152: reg:linear is now deprecated in favor of reg:squarederror.\n",
            "MAE: 0.03\n",
            "R2: 1.0\n"
          ]
        }
      ]
    },
    {
      "cell_type": "markdown",
      "source": [
        "4. CatBoost"
      ],
      "metadata": {
        "id": "fe9pawOqKU8W"
      }
    },
    {
      "cell_type": "code",
      "source": [
        "params_grid_cb = {'depth': np.arange(1, 6),\n",
        "                   'iterations' : [200, 500, 1000]\n",
        "                   }\n",
        "\n",
        "grid_cb = GridSearchCV(CatBoostRegressor(),\n",
        "                        params_grid_cb,\n",
        "                        cv=KFold(shuffle=True, random_state=0),\n",
        "                        scoring='neg_mean_absolute_percentage_error'\n",
        "                        )\n",
        "grid_cb.fit(X_train, y_train, verbose=False)\n",
        "print('Best params:', grid_cb.best_params_)\n",
        "\n",
        "cb = CatBoostRegressor(depth=grid_cb.best_params_['depth'],\n",
        "                        iterations=grid_cb.best_params_['iterations']\n",
        "                        )\n",
        "cb.fit(X_train, y_train, verbose=50, plot=True)\n",
        "pred_cb = cb.predict(x_valid)\n",
        "print('MAE:', round(mean_absolute_error(pred_cb, y_valid), 2))\n",
        "print('R2:', round(r2_score(pred_cb, y_valid), 2))"
      ],
      "metadata": {
        "colab": {
          "base_uri": "https://localhost:8080/",
          "height": 451,
          "referenced_widgets": [
            "8b402aedc1804ce9990b8fba84eb77f8"
          ]
        },
        "id": "yLvEeNCLKBtV",
        "outputId": "e35371db-9ca8-4453-f2f6-d2df89d7a96c"
      },
      "execution_count": 24,
      "outputs": [
        {
          "output_type": "stream",
          "name": "stdout",
          "text": [
            "Best params: {'depth': 5, 'iterations': 1000}\n"
          ]
        },
        {
          "output_type": "display_data",
          "data": {
            "text/plain": [
              "MetricVisualizer(layout=Layout(align_self='stretch', height='500px'))"
            ],
            "application/vnd.jupyter.widget-view+json": {
              "version_major": 2,
              "version_minor": 0,
              "model_id": "8b402aedc1804ce9990b8fba84eb77f8"
            }
          },
          "metadata": {}
        },
        {
          "output_type": "stream",
          "name": "stdout",
          "text": [
            "Learning rate set to 0.050979\n",
            "0:\tlearn: 1.6006868\ttotal: 2.72ms\tremaining: 2.72s\n",
            "50:\tlearn: 0.2969453\ttotal: 138ms\tremaining: 2.57s\n",
            "100:\tlearn: 0.1715066\ttotal: 274ms\tremaining: 2.44s\n",
            "150:\tlearn: 0.1325779\ttotal: 406ms\tremaining: 2.28s\n",
            "200:\tlearn: 0.1069167\ttotal: 532ms\tremaining: 2.12s\n",
            "250:\tlearn: 0.0897536\ttotal: 664ms\tremaining: 1.98s\n",
            "300:\tlearn: 0.0760757\ttotal: 822ms\tremaining: 1.91s\n",
            "350:\tlearn: 0.0686507\ttotal: 985ms\tremaining: 1.82s\n",
            "400:\tlearn: 0.0617886\ttotal: 1.12s\tremaining: 1.67s\n",
            "450:\tlearn: 0.0564161\ttotal: 1.25s\tremaining: 1.52s\n",
            "500:\tlearn: 0.0522644\ttotal: 1.38s\tremaining: 1.38s\n",
            "550:\tlearn: 0.0486560\ttotal: 1.52s\tremaining: 1.24s\n",
            "600:\tlearn: 0.0453457\ttotal: 1.66s\tremaining: 1.1s\n",
            "650:\tlearn: 0.0427935\ttotal: 1.79s\tremaining: 958ms\n",
            "700:\tlearn: 0.0405052\ttotal: 1.93s\tremaining: 821ms\n",
            "750:\tlearn: 0.0385573\ttotal: 2.11s\tremaining: 699ms\n",
            "800:\tlearn: 0.0367868\ttotal: 2.25s\tremaining: 559ms\n",
            "850:\tlearn: 0.0352206\ttotal: 2.38s\tremaining: 417ms\n",
            "900:\tlearn: 0.0338066\ttotal: 2.53s\tremaining: 278ms\n",
            "950:\tlearn: 0.0324818\ttotal: 2.67s\tremaining: 138ms\n",
            "999:\tlearn: 0.0313279\ttotal: 2.81s\tremaining: 0us\n",
            "MAE: 0.04\n",
            "R2: 1.0\n"
          ]
        }
      ]
    },
    {
      "cell_type": "markdown",
      "source": [
        "3. Рассчитайте r2 и абсолютную ошибку для каждой модели, выберите модель с наименьшей ошибкой."
      ],
      "metadata": {
        "id": "gzFnrM1lTB4l"
      }
    },
    {
      "cell_type": "code",
      "source": [
        "metrics_df = pd.DataFrame(\n",
        "    columns=[\n",
        "        'LR',\n",
        "        'LR + PolyFeatures',\n",
        "        'Ridge',\n",
        "        'Lasso',\n",
        "        'Random forest',\n",
        "        'XGBoost',\n",
        "        'CatBoost'],\n",
        "    index=['MAE', 'R2']\n",
        ")\n",
        "\n",
        "metrics_df.loc['MAE'] = [\n",
        "    round(mean_absolute_error(pred_lr, y_valid), 2),\n",
        "    round(mean_absolute_error(pred_lr_transformed, y_valid), 2),\n",
        "    round(mean_absolute_error(pred_ridge, y_valid), 2),\n",
        "    round(mean_absolute_error(pred_lasso, y_valid), 2),\n",
        "    round(mean_absolute_error(pred_rf, y_valid), 2),\n",
        "    round(mean_absolute_error(pred_xgb, y_valid), 2),\n",
        "    round(mean_absolute_error(pred_cb, y_valid), 2)\n",
        "]\n",
        "\n",
        "metrics_df.loc['R2'] = [\n",
        "    round(r2_score(pred_lr, y_valid), 2),\n",
        "    round(r2_score(pred_lr_transformed, y_valid), 2),\n",
        "    round(r2_score(pred_ridge, y_valid), 2),\n",
        "    round(r2_score(pred_lasso, y_valid), 2),\n",
        "    round(r2_score(pred_rf, y_valid), 2),\n",
        "    round(r2_score(pred_xgb, y_valid), 2),\n",
        "    round(r2_score(pred_cb, y_valid), 2)\n",
        "]\n",
        "\n",
        "metrics_df"
      ],
      "metadata": {
        "colab": {
          "base_uri": "https://localhost:8080/",
          "height": 112
        },
        "id": "RuaPVOqqTEQq",
        "outputId": "1f846761-bb46-4516-ce5a-f3b67a6c364a"
      },
      "execution_count": 25,
      "outputs": [
        {
          "output_type": "execute_result",
          "data": {
            "text/plain": [
              "       LR LR + PolyFeatures Ridge Lasso Random forest XGBoost CatBoost\n",
              "MAE  0.06              0.03  0.06  0.56          0.14    0.03     0.04\n",
              "R2    1.0               1.0   1.0  0.53          0.99     1.0      1.0"
            ],
            "text/html": [
              "\n",
              "  <div id=\"df-5f01dea3-3b50-4a3d-a1b1-7bcfbed69d3d\">\n",
              "    <div class=\"colab-df-container\">\n",
              "      <div>\n",
              "<style scoped>\n",
              "    .dataframe tbody tr th:only-of-type {\n",
              "        vertical-align: middle;\n",
              "    }\n",
              "\n",
              "    .dataframe tbody tr th {\n",
              "        vertical-align: top;\n",
              "    }\n",
              "\n",
              "    .dataframe thead th {\n",
              "        text-align: right;\n",
              "    }\n",
              "</style>\n",
              "<table border=\"1\" class=\"dataframe\">\n",
              "  <thead>\n",
              "    <tr style=\"text-align: right;\">\n",
              "      <th></th>\n",
              "      <th>LR</th>\n",
              "      <th>LR + PolyFeatures</th>\n",
              "      <th>Ridge</th>\n",
              "      <th>Lasso</th>\n",
              "      <th>Random forest</th>\n",
              "      <th>XGBoost</th>\n",
              "      <th>CatBoost</th>\n",
              "    </tr>\n",
              "  </thead>\n",
              "  <tbody>\n",
              "    <tr>\n",
              "      <th>MAE</th>\n",
              "      <td>0.06</td>\n",
              "      <td>0.03</td>\n",
              "      <td>0.06</td>\n",
              "      <td>0.56</td>\n",
              "      <td>0.14</td>\n",
              "      <td>0.03</td>\n",
              "      <td>0.04</td>\n",
              "    </tr>\n",
              "    <tr>\n",
              "      <th>R2</th>\n",
              "      <td>1.0</td>\n",
              "      <td>1.0</td>\n",
              "      <td>1.0</td>\n",
              "      <td>0.53</td>\n",
              "      <td>0.99</td>\n",
              "      <td>1.0</td>\n",
              "      <td>1.0</td>\n",
              "    </tr>\n",
              "  </tbody>\n",
              "</table>\n",
              "</div>\n",
              "      <button class=\"colab-df-convert\" onclick=\"convertToInteractive('df-5f01dea3-3b50-4a3d-a1b1-7bcfbed69d3d')\"\n",
              "              title=\"Convert this dataframe to an interactive table.\"\n",
              "              style=\"display:none;\">\n",
              "        \n",
              "  <svg xmlns=\"http://www.w3.org/2000/svg\" height=\"24px\"viewBox=\"0 0 24 24\"\n",
              "       width=\"24px\">\n",
              "    <path d=\"M0 0h24v24H0V0z\" fill=\"none\"/>\n",
              "    <path d=\"M18.56 5.44l.94 2.06.94-2.06 2.06-.94-2.06-.94-.94-2.06-.94 2.06-2.06.94zm-11 1L8.5 8.5l.94-2.06 2.06-.94-2.06-.94L8.5 2.5l-.94 2.06-2.06.94zm10 10l.94 2.06.94-2.06 2.06-.94-2.06-.94-.94-2.06-.94 2.06-2.06.94z\"/><path d=\"M17.41 7.96l-1.37-1.37c-.4-.4-.92-.59-1.43-.59-.52 0-1.04.2-1.43.59L10.3 9.45l-7.72 7.72c-.78.78-.78 2.05 0 2.83L4 21.41c.39.39.9.59 1.41.59.51 0 1.02-.2 1.41-.59l7.78-7.78 2.81-2.81c.8-.78.8-2.07 0-2.86zM5.41 20L4 18.59l7.72-7.72 1.47 1.35L5.41 20z\"/>\n",
              "  </svg>\n",
              "      </button>\n",
              "      \n",
              "  <style>\n",
              "    .colab-df-container {\n",
              "      display:flex;\n",
              "      flex-wrap:wrap;\n",
              "      gap: 12px;\n",
              "    }\n",
              "\n",
              "    .colab-df-convert {\n",
              "      background-color: #E8F0FE;\n",
              "      border: none;\n",
              "      border-radius: 50%;\n",
              "      cursor: pointer;\n",
              "      display: none;\n",
              "      fill: #1967D2;\n",
              "      height: 32px;\n",
              "      padding: 0 0 0 0;\n",
              "      width: 32px;\n",
              "    }\n",
              "\n",
              "    .colab-df-convert:hover {\n",
              "      background-color: #E2EBFA;\n",
              "      box-shadow: 0px 1px 2px rgba(60, 64, 67, 0.3), 0px 1px 3px 1px rgba(60, 64, 67, 0.15);\n",
              "      fill: #174EA6;\n",
              "    }\n",
              "\n",
              "    [theme=dark] .colab-df-convert {\n",
              "      background-color: #3B4455;\n",
              "      fill: #D2E3FC;\n",
              "    }\n",
              "\n",
              "    [theme=dark] .colab-df-convert:hover {\n",
              "      background-color: #434B5C;\n",
              "      box-shadow: 0px 1px 3px 1px rgba(0, 0, 0, 0.15);\n",
              "      filter: drop-shadow(0px 1px 2px rgba(0, 0, 0, 0.3));\n",
              "      fill: #FFFFFF;\n",
              "    }\n",
              "  </style>\n",
              "\n",
              "      <script>\n",
              "        const buttonEl =\n",
              "          document.querySelector('#df-5f01dea3-3b50-4a3d-a1b1-7bcfbed69d3d button.colab-df-convert');\n",
              "        buttonEl.style.display =\n",
              "          google.colab.kernel.accessAllowed ? 'block' : 'none';\n",
              "\n",
              "        async function convertToInteractive(key) {\n",
              "          const element = document.querySelector('#df-5f01dea3-3b50-4a3d-a1b1-7bcfbed69d3d');\n",
              "          const dataTable =\n",
              "            await google.colab.kernel.invokeFunction('convertToInteractive',\n",
              "                                                     [key], {});\n",
              "          if (!dataTable) return;\n",
              "\n",
              "          const docLinkHtml = 'Like what you see? Visit the ' +\n",
              "            '<a target=\"_blank\" href=https://colab.research.google.com/notebooks/data_table.ipynb>data table notebook</a>'\n",
              "            + ' to learn more about interactive tables.';\n",
              "          element.innerHTML = '';\n",
              "          dataTable['output_type'] = 'display_data';\n",
              "          await google.colab.output.renderOutput(dataTable, element);\n",
              "          const docLink = document.createElement('div');\n",
              "          docLink.innerHTML = docLinkHtml;\n",
              "          element.appendChild(docLink);\n",
              "        }\n",
              "      </script>\n",
              "    </div>\n",
              "  </div>\n",
              "  "
            ]
          },
          "metadata": {},
          "execution_count": 25
        }
      ]
    },
    {
      "cell_type": "markdown",
      "source": [
        "Метрика MAE показывает среднюю абсолютную ошибку в единицах измерения таргета (для толщины гребня колеса локомотива это, скорее всего, миллиметры) и для идеальной модели должна стремится к 0.\n",
        "\n",
        "Метрика R2 (коэффициент детерминации) показывает долю объясняемой моделью дисперсии и для идеальной модели должна стремится к 1.\n",
        "\n",
        "Почти все использованные алгоритмы, кроме линейной модели Лассо, показали высокие результаты.\n",
        "\n",
        "Наилучшей моделью является модель градиентного бустинга XGBoost с гиперпараметрами max_depth: 4 и n_estimators: 1000."
      ],
      "metadata": {
        "id": "b4agF3umUJ_N"
      }
    },
    {
      "cell_type": "markdown",
      "source": [
        "*4. Сделайте прогноз (толщины гребня через 10 дней) для колес и замеров, которые находятся в тестовой выборке (features_test.csv).*"
      ],
      "metadata": {
        "id": "c8RZ8f-SWcs6"
      }
    },
    {
      "cell_type": "code",
      "source": [
        "x_test = pd.read_csv('/content/drive/MyDrive/Colab_notebooks/artificial_intelligence_course/02_digital_depot/features_test.csv')\n",
        "x_test"
      ],
      "metadata": {
        "colab": {
          "base_uri": "https://localhost:8080/",
          "height": 424
        },
        "id": "JpR9kIAET8pa",
        "outputId": "5ae9ef2b-eda2-49a1-8376-2e52370301ba"
      },
      "execution_count": 26,
      "outputs": [
        {
          "output_type": "execute_result",
          "data": {
            "text/plain": [
              "     previous_flange_width  previous_flange_height  previous_rim_thickness  \\\n",
              "0                    29.57                   31.68                   88.73   \n",
              "1                    31.29                   34.42                   85.96   \n",
              "2                    30.64                   33.60                   66.04   \n",
              "3                    29.46                   33.35                    0.00   \n",
              "4                    28.68                   30.80                   69.42   \n",
              "..                     ...                     ...                     ...   \n",
              "663                  28.15                   32.38                   74.39   \n",
              "664                  28.12                   31.21                   68.06   \n",
              "665                  29.22                   35.33                   87.44   \n",
              "666                  28.47                   30.34                   70.60   \n",
              "667                  32.04                   35.13                   80.25   \n",
              "\n",
              "     previous_wheel_diameter  \n",
              "0                       0.00  \n",
              "1                    1241.92  \n",
              "2                    1202.08  \n",
              "3                       0.00  \n",
              "4                       0.00  \n",
              "..                       ...  \n",
              "663                  1218.77  \n",
              "664                  1196.00  \n",
              "665                  1244.89  \n",
              "666                     0.00  \n",
              "667                  1230.50  \n",
              "\n",
              "[668 rows x 4 columns]"
            ],
            "text/html": [
              "\n",
              "  <div id=\"df-d3109dfd-7fef-4308-b352-134539ff2f33\">\n",
              "    <div class=\"colab-df-container\">\n",
              "      <div>\n",
              "<style scoped>\n",
              "    .dataframe tbody tr th:only-of-type {\n",
              "        vertical-align: middle;\n",
              "    }\n",
              "\n",
              "    .dataframe tbody tr th {\n",
              "        vertical-align: top;\n",
              "    }\n",
              "\n",
              "    .dataframe thead th {\n",
              "        text-align: right;\n",
              "    }\n",
              "</style>\n",
              "<table border=\"1\" class=\"dataframe\">\n",
              "  <thead>\n",
              "    <tr style=\"text-align: right;\">\n",
              "      <th></th>\n",
              "      <th>previous_flange_width</th>\n",
              "      <th>previous_flange_height</th>\n",
              "      <th>previous_rim_thickness</th>\n",
              "      <th>previous_wheel_diameter</th>\n",
              "    </tr>\n",
              "  </thead>\n",
              "  <tbody>\n",
              "    <tr>\n",
              "      <th>0</th>\n",
              "      <td>29.57</td>\n",
              "      <td>31.68</td>\n",
              "      <td>88.73</td>\n",
              "      <td>0.00</td>\n",
              "    </tr>\n",
              "    <tr>\n",
              "      <th>1</th>\n",
              "      <td>31.29</td>\n",
              "      <td>34.42</td>\n",
              "      <td>85.96</td>\n",
              "      <td>1241.92</td>\n",
              "    </tr>\n",
              "    <tr>\n",
              "      <th>2</th>\n",
              "      <td>30.64</td>\n",
              "      <td>33.60</td>\n",
              "      <td>66.04</td>\n",
              "      <td>1202.08</td>\n",
              "    </tr>\n",
              "    <tr>\n",
              "      <th>3</th>\n",
              "      <td>29.46</td>\n",
              "      <td>33.35</td>\n",
              "      <td>0.00</td>\n",
              "      <td>0.00</td>\n",
              "    </tr>\n",
              "    <tr>\n",
              "      <th>4</th>\n",
              "      <td>28.68</td>\n",
              "      <td>30.80</td>\n",
              "      <td>69.42</td>\n",
              "      <td>0.00</td>\n",
              "    </tr>\n",
              "    <tr>\n",
              "      <th>...</th>\n",
              "      <td>...</td>\n",
              "      <td>...</td>\n",
              "      <td>...</td>\n",
              "      <td>...</td>\n",
              "    </tr>\n",
              "    <tr>\n",
              "      <th>663</th>\n",
              "      <td>28.15</td>\n",
              "      <td>32.38</td>\n",
              "      <td>74.39</td>\n",
              "      <td>1218.77</td>\n",
              "    </tr>\n",
              "    <tr>\n",
              "      <th>664</th>\n",
              "      <td>28.12</td>\n",
              "      <td>31.21</td>\n",
              "      <td>68.06</td>\n",
              "      <td>1196.00</td>\n",
              "    </tr>\n",
              "    <tr>\n",
              "      <th>665</th>\n",
              "      <td>29.22</td>\n",
              "      <td>35.33</td>\n",
              "      <td>87.44</td>\n",
              "      <td>1244.89</td>\n",
              "    </tr>\n",
              "    <tr>\n",
              "      <th>666</th>\n",
              "      <td>28.47</td>\n",
              "      <td>30.34</td>\n",
              "      <td>70.60</td>\n",
              "      <td>0.00</td>\n",
              "    </tr>\n",
              "    <tr>\n",
              "      <th>667</th>\n",
              "      <td>32.04</td>\n",
              "      <td>35.13</td>\n",
              "      <td>80.25</td>\n",
              "      <td>1230.50</td>\n",
              "    </tr>\n",
              "  </tbody>\n",
              "</table>\n",
              "<p>668 rows × 4 columns</p>\n",
              "</div>\n",
              "      <button class=\"colab-df-convert\" onclick=\"convertToInteractive('df-d3109dfd-7fef-4308-b352-134539ff2f33')\"\n",
              "              title=\"Convert this dataframe to an interactive table.\"\n",
              "              style=\"display:none;\">\n",
              "        \n",
              "  <svg xmlns=\"http://www.w3.org/2000/svg\" height=\"24px\"viewBox=\"0 0 24 24\"\n",
              "       width=\"24px\">\n",
              "    <path d=\"M0 0h24v24H0V0z\" fill=\"none\"/>\n",
              "    <path d=\"M18.56 5.44l.94 2.06.94-2.06 2.06-.94-2.06-.94-.94-2.06-.94 2.06-2.06.94zm-11 1L8.5 8.5l.94-2.06 2.06-.94-2.06-.94L8.5 2.5l-.94 2.06-2.06.94zm10 10l.94 2.06.94-2.06 2.06-.94-2.06-.94-.94-2.06-.94 2.06-2.06.94z\"/><path d=\"M17.41 7.96l-1.37-1.37c-.4-.4-.92-.59-1.43-.59-.52 0-1.04.2-1.43.59L10.3 9.45l-7.72 7.72c-.78.78-.78 2.05 0 2.83L4 21.41c.39.39.9.59 1.41.59.51 0 1.02-.2 1.41-.59l7.78-7.78 2.81-2.81c.8-.78.8-2.07 0-2.86zM5.41 20L4 18.59l7.72-7.72 1.47 1.35L5.41 20z\"/>\n",
              "  </svg>\n",
              "      </button>\n",
              "      \n",
              "  <style>\n",
              "    .colab-df-container {\n",
              "      display:flex;\n",
              "      flex-wrap:wrap;\n",
              "      gap: 12px;\n",
              "    }\n",
              "\n",
              "    .colab-df-convert {\n",
              "      background-color: #E8F0FE;\n",
              "      border: none;\n",
              "      border-radius: 50%;\n",
              "      cursor: pointer;\n",
              "      display: none;\n",
              "      fill: #1967D2;\n",
              "      height: 32px;\n",
              "      padding: 0 0 0 0;\n",
              "      width: 32px;\n",
              "    }\n",
              "\n",
              "    .colab-df-convert:hover {\n",
              "      background-color: #E2EBFA;\n",
              "      box-shadow: 0px 1px 2px rgba(60, 64, 67, 0.3), 0px 1px 3px 1px rgba(60, 64, 67, 0.15);\n",
              "      fill: #174EA6;\n",
              "    }\n",
              "\n",
              "    [theme=dark] .colab-df-convert {\n",
              "      background-color: #3B4455;\n",
              "      fill: #D2E3FC;\n",
              "    }\n",
              "\n",
              "    [theme=dark] .colab-df-convert:hover {\n",
              "      background-color: #434B5C;\n",
              "      box-shadow: 0px 1px 3px 1px rgba(0, 0, 0, 0.15);\n",
              "      filter: drop-shadow(0px 1px 2px rgba(0, 0, 0, 0.3));\n",
              "      fill: #FFFFFF;\n",
              "    }\n",
              "  </style>\n",
              "\n",
              "      <script>\n",
              "        const buttonEl =\n",
              "          document.querySelector('#df-d3109dfd-7fef-4308-b352-134539ff2f33 button.colab-df-convert');\n",
              "        buttonEl.style.display =\n",
              "          google.colab.kernel.accessAllowed ? 'block' : 'none';\n",
              "\n",
              "        async function convertToInteractive(key) {\n",
              "          const element = document.querySelector('#df-d3109dfd-7fef-4308-b352-134539ff2f33');\n",
              "          const dataTable =\n",
              "            await google.colab.kernel.invokeFunction('convertToInteractive',\n",
              "                                                     [key], {});\n",
              "          if (!dataTable) return;\n",
              "\n",
              "          const docLinkHtml = 'Like what you see? Visit the ' +\n",
              "            '<a target=\"_blank\" href=https://colab.research.google.com/notebooks/data_table.ipynb>data table notebook</a>'\n",
              "            + ' to learn more about interactive tables.';\n",
              "          element.innerHTML = '';\n",
              "          dataTable['output_type'] = 'display_data';\n",
              "          await google.colab.output.renderOutput(dataTable, element);\n",
              "          const docLink = document.createElement('div');\n",
              "          docLink.innerHTML = docLinkHtml;\n",
              "          element.appendChild(docLink);\n",
              "        }\n",
              "      </script>\n",
              "    </div>\n",
              "  </div>\n",
              "  "
            ]
          },
          "metadata": {},
          "execution_count": 26
        }
      ]
    },
    {
      "cell_type": "markdown",
      "source": [
        "По неизвестной причине тестовая выборка \"features_test.csv\" включает в себя только 4 признака (при обучении и валидации модели было использовано 13):\n",
        "*   previous_flange_width,\n",
        "*   previous_flange_height,\n",
        "*   previous_rim_thickness,\n",
        "*   previous_wheel_diameter\n",
        "\n",
        "Таким образом, поскольку для корректной работы модели состав признаков обучающей и валидационной выборки должен совпадать с признаками тестовой выборки, осуществить прогноз для тестовой выборки невозможно."
      ],
      "metadata": {
        "id": "gqzlvaGaX5bB"
      }
    },
    {
      "cell_type": "code",
      "source": [
        "y_pred = xgb.predict(x_test)"
      ],
      "metadata": {
        "colab": {
          "base_uri": "https://localhost:8080/",
          "height": 345
        },
        "id": "1D5YxADzX0qf",
        "outputId": "86287f79-f96b-4958-89d9-e1bc54e61c64"
      },
      "execution_count": 27,
      "outputs": [
        {
          "output_type": "error",
          "ename": "ValueError",
          "evalue": "ignored",
          "traceback": [
            "\u001b[0;31m---------------------------------------------------------------------------\u001b[0m",
            "\u001b[0;31mValueError\u001b[0m                                Traceback (most recent call last)",
            "\u001b[0;32m<ipython-input-27-42a41ccd3358>\u001b[0m in \u001b[0;36m<module>\u001b[0;34m\u001b[0m\n\u001b[0;32m----> 1\u001b[0;31m \u001b[0my_pred\u001b[0m \u001b[0;34m=\u001b[0m \u001b[0mxgb\u001b[0m\u001b[0;34m.\u001b[0m\u001b[0mpredict\u001b[0m\u001b[0;34m(\u001b[0m\u001b[0mx_test\u001b[0m\u001b[0;34m)\u001b[0m\u001b[0;34m\u001b[0m\u001b[0;34m\u001b[0m\u001b[0m\n\u001b[0m",
            "\u001b[0;32m/usr/local/lib/python3.8/dist-packages/xgboost/sklearn.py\u001b[0m in \u001b[0;36mpredict\u001b[0;34m(self, data, output_margin, ntree_limit, validate_features)\u001b[0m\n\u001b[1;32m    451\u001b[0m         \u001b[0;32mif\u001b[0m \u001b[0mntree_limit\u001b[0m \u001b[0;32mis\u001b[0m \u001b[0;32mNone\u001b[0m\u001b[0;34m:\u001b[0m\u001b[0;34m\u001b[0m\u001b[0;34m\u001b[0m\u001b[0m\n\u001b[1;32m    452\u001b[0m             \u001b[0mntree_limit\u001b[0m \u001b[0;34m=\u001b[0m \u001b[0mgetattr\u001b[0m\u001b[0;34m(\u001b[0m\u001b[0mself\u001b[0m\u001b[0;34m,\u001b[0m \u001b[0;34m\"best_ntree_limit\"\u001b[0m\u001b[0;34m,\u001b[0m \u001b[0;36m0\u001b[0m\u001b[0;34m)\u001b[0m\u001b[0;34m\u001b[0m\u001b[0;34m\u001b[0m\u001b[0m\n\u001b[0;32m--> 453\u001b[0;31m         return self.get_booster().predict(test_dmatrix,\n\u001b[0m\u001b[1;32m    454\u001b[0m                                           \u001b[0moutput_margin\u001b[0m\u001b[0;34m=\u001b[0m\u001b[0moutput_margin\u001b[0m\u001b[0;34m,\u001b[0m\u001b[0;34m\u001b[0m\u001b[0;34m\u001b[0m\u001b[0m\n\u001b[1;32m    455\u001b[0m                                           \u001b[0mntree_limit\u001b[0m\u001b[0;34m=\u001b[0m\u001b[0mntree_limit\u001b[0m\u001b[0;34m,\u001b[0m\u001b[0;34m\u001b[0m\u001b[0;34m\u001b[0m\u001b[0m\n",
            "\u001b[0;32m/usr/local/lib/python3.8/dist-packages/xgboost/core.py\u001b[0m in \u001b[0;36mpredict\u001b[0;34m(self, data, output_margin, ntree_limit, pred_leaf, pred_contribs, approx_contribs, pred_interactions, validate_features)\u001b[0m\n\u001b[1;32m   1282\u001b[0m \u001b[0;34m\u001b[0m\u001b[0m\n\u001b[1;32m   1283\u001b[0m         \u001b[0;32mif\u001b[0m \u001b[0mvalidate_features\u001b[0m\u001b[0;34m:\u001b[0m\u001b[0;34m\u001b[0m\u001b[0;34m\u001b[0m\u001b[0m\n\u001b[0;32m-> 1284\u001b[0;31m             \u001b[0mself\u001b[0m\u001b[0;34m.\u001b[0m\u001b[0m_validate_features\u001b[0m\u001b[0;34m(\u001b[0m\u001b[0mdata\u001b[0m\u001b[0;34m)\u001b[0m\u001b[0;34m\u001b[0m\u001b[0;34m\u001b[0m\u001b[0m\n\u001b[0m\u001b[1;32m   1285\u001b[0m \u001b[0;34m\u001b[0m\u001b[0m\n\u001b[1;32m   1286\u001b[0m         \u001b[0mlength\u001b[0m \u001b[0;34m=\u001b[0m \u001b[0mc_bst_ulong\u001b[0m\u001b[0;34m(\u001b[0m\u001b[0;34m)\u001b[0m\u001b[0;34m\u001b[0m\u001b[0;34m\u001b[0m\u001b[0m\n",
            "\u001b[0;32m/usr/local/lib/python3.8/dist-packages/xgboost/core.py\u001b[0m in \u001b[0;36m_validate_features\u001b[0;34m(self, data)\u001b[0m\n\u001b[1;32m   1687\u001b[0m                             ', '.join(str(s) for s in my_missing))\n\u001b[1;32m   1688\u001b[0m \u001b[0;34m\u001b[0m\u001b[0m\n\u001b[0;32m-> 1689\u001b[0;31m                 raise ValueError(msg.format(self.feature_names,\n\u001b[0m\u001b[1;32m   1690\u001b[0m                                             data.feature_names))\n\u001b[1;32m   1691\u001b[0m \u001b[0;34m\u001b[0m\u001b[0m\n",
            "\u001b[0;31mValueError\u001b[0m: feature_names mismatch: ['date_diff', 'previous_flange_height', 'flange_height', 'previous_flange_width', 'flange_width', 'previous_qr', 'qr', 'previous_tread_wear', 'tread_wear', 'previous_rim_thickness', 'rim_thickness', 'previous_wheel_diameter', 'wheel_diameter'] ['previous_flange_width', 'previous_flange_height', 'previous_rim_thickness', 'previous_wheel_diameter']\nexpected date_diff, wheel_diameter, tread_wear, rim_thickness, flange_width, previous_tread_wear, flange_height, qr, previous_qr in input data"
          ]
        }
      ]
    },
    {
      "cell_type": "markdown",
      "source": [
        "**4. Проверка**"
      ],
      "metadata": {
        "id": "kkNoUCE4Y71o"
      }
    },
    {
      "cell_type": "markdown",
      "source": [
        "*1. Абсолютная ошибка должна быть менее 0.3.*"
      ],
      "metadata": {
        "id": "p3ArFy_dY-vG"
      }
    },
    {
      "cell_type": "code",
      "source": [
        "print('XGBoost MAE:', round(mean_absolute_error(pred_xgb, y_valid), 2))"
      ],
      "metadata": {
        "colab": {
          "base_uri": "https://localhost:8080/"
        },
        "id": "fDTlonZbY2PA",
        "outputId": "df7cc6c6-009a-422b-dc4a-d5e918ea2ff7"
      },
      "execution_count": 28,
      "outputs": [
        {
          "output_type": "stream",
          "name": "stdout",
          "text": [
            "XGBoost MAE: 0.03\n"
          ]
        }
      ]
    }
  ]
}